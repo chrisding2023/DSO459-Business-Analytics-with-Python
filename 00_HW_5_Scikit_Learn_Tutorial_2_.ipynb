{
 "cells": [
  {
   "cell_type": "markdown",
   "id": "916e70d0",
   "metadata": {
    "id": "916e70d0",
    "toc": true
   },
   "source": [
    "<h1>Table of Contents<span class=\"tocSkip\"></span></h1>\n",
    "<div class=\"toc\"><ul class=\"toc-item\"><li><span><a href=\"#Instructions\" data-toc-modified-id=\"Instructions-1\"><span class=\"toc-item-num\">1&nbsp;&nbsp;</span>Instructions</a></span></li><li><span><a href=\"#Before-You-Begin\" data-toc-modified-id=\"Before-You-Begin-2\"><span class=\"toc-item-num\">2&nbsp;&nbsp;</span>Before You Begin</a></span></li><li><span><a href=\"#Imports\" data-toc-modified-id=\"Imports-3\"><span class=\"toc-item-num\">3&nbsp;&nbsp;</span>Imports</a></span></li><li><span><a href=\"#General-Outline-for-Machine-Learning-Prediction-Model\" data-toc-modified-id=\"General-Outline-for-Machine-Learning-Prediction-Model-4\"><span class=\"toc-item-num\">4&nbsp;&nbsp;</span>General Outline for Machine Learning Prediction Model</a></span></li><li><span><a href=\"#Scikit-Learn\" data-toc-modified-id=\"Scikit-Learn-5\"><span class=\"toc-item-num\">5&nbsp;&nbsp;</span>Scikit-Learn</a></span></li><li><span><a href=\"#The-Only-Math-We-Should-Know\" data-toc-modified-id=\"The-Only-Math-We-Should-Know-6\"><span class=\"toc-item-num\">6&nbsp;&nbsp;</span>The Only Math We Should Know</a></span></li><li><span><a href=\"#Data-Modeling\" data-toc-modified-id=\"Data-Modeling-7\"><span class=\"toc-item-num\">7&nbsp;&nbsp;</span>Data Modeling</a></span><ul class=\"toc-item\"><li><span><a href=\"#Estimator-API\" data-toc-modified-id=\"Estimator-API-7.1\"><span class=\"toc-item-num\">7.1&nbsp;&nbsp;</span>Estimator API</a></span><ul class=\"toc-item\"><li><span><a href=\"#Import\" data-toc-modified-id=\"Import-7.1.1\"><span class=\"toc-item-num\">7.1.1&nbsp;&nbsp;</span>Import</a></span></li><li><span><a href=\"#Instantiate\" data-toc-modified-id=\"Instantiate-7.1.2\"><span class=\"toc-item-num\">7.1.2&nbsp;&nbsp;</span>Instantiate</a></span></li><li><span><a href=\"#Fit\" data-toc-modified-id=\"Fit-7.1.3\"><span class=\"toc-item-num\">7.1.3&nbsp;&nbsp;</span>Fit</a></span></li><li><span><a href=\"#Predict\" data-toc-modified-id=\"Predict-7.1.4\"><span class=\"toc-item-num\">7.1.4&nbsp;&nbsp;</span>Predict</a></span></li></ul></li><li><span><a href=\"#Important-Questions-to-Answer\" data-toc-modified-id=\"Important-Questions-to-Answer-7.2\"><span class=\"toc-item-num\">7.2&nbsp;&nbsp;</span>Important Questions to Answer</a></span></li></ul></li></ul></div>"
   ]
  },
  {
   "cell_type": "markdown",
   "id": "b9999457",
   "metadata": {
    "id": "b9999457"
   },
   "source": [
    "<h1>Instructions</h1>\n",
    "<br>\n",
    "<font size=\"+1\">\n",
    "    <ul>\n",
    "        <li>Repeat the exercise from in class using <b>different</b> simulated data.</li>\n",
    "        <br>\n",
    "        <li>If desired, extend what we did in class with more exploration and different model classes.</li>\n",
    "        <br>\n",
    "        <li>Completing the notebook similar to the in-class notebook using <b>different simulated data</b> will give you full credit, but I encourage you to invest some time into self-learning (a highly important skill to your future careers) and try some different things on this simple exercise.</li>\n",
    "        <br>\n",
    "        <li style=\"color:blue\"><b>You are expected to understand everything in this notebook because is a guide for all advanced machine learning projects.</b></li>\n",
    "        <br>\n",
    "        <li style=\"color:red\">Submit the <i>.ipynb</i> file on TurnItIn on Blackboard by the deadline. Be sure to refresh the page and double check your submission actually went through.</li>\n",
    "            <br>\n",
    "            <ul style=\"color:red\">\n",
    "            <li>Do your best to make sure that I will be able to run it.</li>\n",
    "        <br>\n",
    "        <li>For example, read in the CSV files from the current directory. I.e., do not write the full path of the file in your code. That will allow me to run your notebook in any directory on my own PC.</li>\n",
    "        <br>\n",
    "        <li>Please use markdown cells to help me understand what you are doing. (I know it may be obvious, but I want to see that you know how to use markdown.)</li>\n",
    "        <br>\n",
    "        <li><b>Some of the questions may be vague, you can either ask me for clarification, or clearly explain your interpretation to the question and your solution to your interpretation</b>. Remember, an important part of being a data scientist is communication and soft skills, so take this as an opportunity to exercise those skills.</li>\n",
    "        <br>\n",
    "            </ul>\n",
    "        </ul>\n",
    "        <br>\n",
    "        <hr style=\"border: 10px solid black\">\n",
    "        <br>\n",
    "        <li><b>Grading</b></li>\n",
    "        <br>\n",
    "        <li>There are four possible scores you can get from submitting this assignment on time (submitting a blank file or one without any apparent effort does not count). Note that the rubric is designed to incentivize you to go for $100%$ mastery of the material, as the little details matter in programming.</li>\n",
    "        <br>\n",
    "        <ul>\n",
    "            <li>Grade of $5$ out of $5$ - perfect submission with no significant errors</li>\n",
    "            <br>\n",
    "            <li>Grade of $4$ out of $5$ - near perfect submission with one or more significant errors</li>\n",
    "            <br>\n",
    "            <li>Grade of $2$ out of $5$ - apparent effort but far from perfect</li>\n",
    "            <br>\n",
    "            <li>Grade of $0$ out of $5$ - no submission or no apparent effort</li>\n",
    "            <br>\n",
    "        </ul>\n",
    "    </ul>\n",
    "</font>\n",
    "    </ul>\n",
    "</font>"
   ]
  },
  {
   "cell_type": "markdown",
   "id": "0fb4a4c0",
   "metadata": {
    "id": "0fb4a4c0"
   },
   "source": [
    "<hr style=\"border: 20px solid black\">"
   ]
  },
  {
   "cell_type": "markdown",
   "id": "4a57d36f",
   "metadata": {
    "id": "4a57d36f"
   },
   "source": [
    "<h1>Before You Begin</h1>\n",
    "<br>\n",
    "<font size=\"+1\">\n",
    "    <ul>\n",
    "        <li>Please read: <b>01_Statistical_Learning_From_a_Regression_Perspective.ipynb</b></li>\n",
    "        <br>\n",
    "        <li>Please read: <b>02_Intro_to_SciKitLearn.ipynb</b></li>\n",
    "        <br>\n",
    "    </ul>\n",
    "</font>"
   ]
  },
  {
   "cell_type": "markdown",
   "id": "53e2370d",
   "metadata": {
    "id": "53e2370d"
   },
   "source": [
    "<hr style=\"border: 20px solid black\">"
   ]
  },
  {
   "cell_type": "markdown",
   "id": "9e3bd4d6",
   "metadata": {
    "id": "9e3bd4d6"
   },
   "source": [
    "<h1>Imports</h1>"
   ]
  },
  {
   "cell_type": "code",
   "execution_count": 1,
   "id": "528b2e2d",
   "metadata": {
    "id": "528b2e2d"
   },
   "outputs": [],
   "source": [
    "import os\n",
    "import os.path\n",
    "import time"
   ]
  },
  {
   "cell_type": "code",
   "execution_count": 2,
   "id": "bbfdf05c",
   "metadata": {
    "id": "bbfdf05c"
   },
   "outputs": [],
   "source": [
    "import numpy as np\n",
    "import pandas as pd\n",
    "import seaborn as sns\n",
    "import matplotlib.pyplot as plt\n",
    "plt.style.use('ggplot')"
   ]
  },
  {
   "cell_type": "code",
   "execution_count": 3,
   "id": "40fa6df3",
   "metadata": {
    "id": "40fa6df3"
   },
   "outputs": [],
   "source": [
    "import statsmodels.api as sm"
   ]
  },
  {
   "cell_type": "markdown",
   "id": "d20bf708",
   "metadata": {
    "id": "d20bf708"
   },
   "source": [
    "<hr style=\"border: 20px solid black\">"
   ]
  },
  {
   "cell_type": "markdown",
   "id": "ae63ddeb",
   "metadata": {
    "id": "ae63ddeb"
   },
   "source": [
    "<h1>General Outline for Machine Learning Prediction Model</h1>\n",
    "\n",
    "![Outline_for_Machine_Learning_Predictive_Modeling.png](attachment:Outline_for_Machine_Learning_Predictive_Modeling.png)\n",
    "\n",
    "<br>\n",
    "<font size=\"+1\">\n",
    "In other words,<br>\n",
    "<ol>\n",
    "    <li>Analyzing the joint relationship\n",
    "    $$\n",
    "    (\\mathbf{X}, Y).\n",
    "    $$</li>\n",
    "    <br>\n",
    "    <li>Transforming the data\n",
    "    $$\n",
    "    \\tilde{\\mathbf{X}} = T(\\mathbf{X}).\n",
    "    $$\n",
    "    </li>\n",
    "    <br>\n",
    "    <li>Split the data\n",
    "    $$\n",
    "    \\{(X_i, Y_i)\\} = \\{(X_i^{train}, Y_i^{train})\\} \\cup \\{(X_i^{test}, Y_i^{test})\\}.\n",
    "    $$</li>\n",
    "    <br>\n",
    "    <li>Choose a simple baseline prediction model\n",
    "    $$\n",
    "    Y = b(X).\n",
    "    $$</li>\n",
    "    <br>\n",
    "    <li>Perform model selection</li>\n",
    "    <br>\n",
    "        <ol style=\"color:red\">\n",
    "            <li>Model the outputs as a parametric function of the inputs \n",
    "            $$\n",
    "            \\widehat{Y} = f_{\\mathbf{\\lambda}}(\\mathbf{X}; \\mathbf{\\beta}) \\approx Y.\n",
    "            $$</li>\n",
    "            <br>\n",
    "            <li>Split the training data again to choose the hyperparameters\n",
    "            $$\n",
    "            \\{(X_i^{train}, Y_i^{train})\\} = \\{(X_i^{sub-train}, Y_i^{sub-train})\\} \\cup \\{(X_i^{validation}, Y_i^{validation})\\}\n",
    "            $$</li>\n",
    "            <br>\n",
    "            <li>Estimate the model by calling <i style=\"color:red\">model.fit($X^{sub-train}, Y^{sub-train}$)</i>, which will solve the very difficult optimization problem of\n",
    "            $$\n",
    "            \\widehat{\\beta}^*(\\lambda) = \\arg\\min_{\\beta} \\mathbb{E}_{(\\mathbf{X},Y)} \\left[\\mathcal{L}\\left(Y_{sub-train},f_{\\mathbf{\\lambda}}(\\mathbf{X}_{sub-train}; \\mathbf{\\beta})\\right) \\right].\n",
    "            $$</li></ol>\n",
    "            <br>\n",
    "    <li>We finally have our estimated/fitted/trained model with an \"optimal\" set of parameters and hyperparameters\n",
    "    $$\n",
    "    \\widehat{y}(\\mathbf{x}) = f_{\\widehat{\\lambda}^*}(\\mathbf{x};\\widehat{\\beta}^*),\n",
    "    $$ which we use to make predictions/forecasts on the test set\n",
    "    $$\n",
    "    \\{(\\mathbf{x}_i^{test}, \\widehat{y}_i^{test})\\}.\n",
    "    $$</li>\n",
    "    <br>\n",
    "    <li>Lastly we estimate the out-of-sample (generalization) error which is supposed to tell us how well our model predicts on unseen data\n",
    "    $$\n",
    "     \\varepsilon_{OOS} := \\mathbb{E}\\left[error(Y, \\widehat{Y})\\right] \\approx  \\frac{1}{n_{test}}\\sum_{i=1}^{n_{test}} error\\left(Y^{test}_i,\\widehat{y}(\\mathbf{X}_i^{test})\\right) =: \\widehat{\\varepsilon}^{CV}_{OOS}.\n",
    "    $$\n",
    "    </li>\n",
    "    <br>\n",
    "</ol>\n",
    "<br>\n",
    "<br>\n",
    "Note the statistical methodology of cross-validation can be used to estimate both the out-of-sample (generalization) error, as well as to estimate the optimal hyperparameter configuration. \n",
    "<br>\n",
    "<br>\n",
    "</font>"
   ]
  },
  {
   "cell_type": "markdown",
   "id": "036ef323",
   "metadata": {
    "id": "036ef323"
   },
   "source": [
    "<font size=\"+2\" style=\"color:orange\">\n",
    "    IGNORE UNLESS INTERESTED IN MORE GRANULAR DETAILS!\n",
    "</font>\n",
    "<br>\n",
    "<font size=\"+1\" style=\"color:orange\">\n",
    "We are analyzing samples from a population over some time period.\n",
    "<br>\n",
    "<ol>\n",
    "    <li>Problem formulation and exploration: Must answer what we're trying to predict and with what data, i.e. what are $(\\mathbf{X}, Y)$ and what is the relation $Y = f_{\\mathbf{\\lambda}}(\\mathbf{X}; \\mathbf{\\beta})$. Further, perform some preliminary exploratory data analysis (EDA) with some basic correlations and summary statistics motivating further analysis. That is, analyzing the joint relationship\n",
    "    $$\n",
    "    (\\mathbf{X}, Y).\n",
    "    $$</li>\n",
    "    <br>\n",
    "    <li>Data preparation, cleaning, and formatting. This step transforms the data \n",
    "    $$\n",
    "    \\tilde{\\mathbf{X}} = T(\\mathbf{X})\n",
    "    $$\n",
    "    for some transformation function $T$ which does feature extraction. (which could be a discretization/binning function)\n",
    "    </li>\n",
    "    <br>\n",
    "    <li>Determine estimation (train) set and out-of-sample (test) set. That is, what is the the outer-fold cross-validation scheme?\n",
    "    $$\n",
    "    \\{(X_i, Y_i)\\} = \\{(X_i^{train}, Y_i^{train})\\} \\cup \\{(X_i^{test}, Y_i^{test})\\}\n",
    "    $$</li>\n",
    "    <br>\n",
    "    <li>Establish a baseline model to compare against our model.\n",
    "    $$\n",
    "    Y = b(X),\n",
    "    $$ $b$ for baseline model. This should be simple and intuitive.</li>\n",
    "    <br>\n",
    "    <li>Determine an optimization algorithm to do the estimation of the model parameters and hyperparameters, this step requires the specification of a loss function to minimize to find the optimal model parameters as well as the deciding on a method for the inner-fold cross-validation which determines the optimal set of hyperparameters. That is,</li>\n",
    "    <br>\n",
    "        <ol>\n",
    "            <li>We model the outputs as a parametric function of the inputs \n",
    "            $$\n",
    "            Y = f_{\\mathbf{\\lambda}}(\\mathbf{X}; \\mathbf{\\beta}),\n",
    "            $$ where the model parameters (or coefficients) $\\mathbf{\\beta}$ are supposed to capture the effect of the inputs on the outputs, for very complex and nonlinear models these effects can be very difficult to interpret beyond achieving a prediction. The model's hyperparameters $\\mathbf{\\lambda}$ are meant to capture the structure of the model rather than the effect of the variables, though these are non-trivially linked. </li>\n",
    "            <br>\n",
    "            <li> Before we estimate the model parameters, we first have to estimate the model's hyperparameters. To do this we somehow split the training set into a sub-training set and a validation set\n",
    "            $$\n",
    "            \\{(X_i^{train}, Y_i^{train})\\} = \\{(X_i^{sub-train}, Y_i^{sub-train})\\} \\cup \\{(X_i^{validation}, Y_i^{validation})\\}\n",
    "            $$ which makes up the inner-fold of the nested cross-validation scheme.</li>\n",
    "            <br>\n",
    "            <li>To estimate the model's hyperparameters we minimze the error over  validation set and we estimate the model's parameters for a given hyperparameter configuration over the sub-train data set. First solve\n",
    "            $$\n",
    "            \\hat{\\beta}^*(\\lambda) = \\arg\\min_{\\beta} \\mathbb{E}_{(\\mathbf{X},Y)} \\left[\\mathcal{L}\\left(Y_{sub-train},f_{\\mathbf{\\lambda}}(\\mathbf{X}_{sub-train}; \\mathbf{\\beta})\\right) \\right].\n",
    "            $$ Next we estimate the error over the validation set and choose the hyperparameter configuration that minimizes the validation error\n",
    "            $$\n",
    "            \\hat{\\lambda}^* = \\arg\\min_{\\lambda} \\hat{\\varepsilon}^{CV}(\\lambda) = \\arg\\min_{\\lambda} \\frac{1}{n}\\sum_{i=1}^n \\mathcal{L}\\left(Y^{validation}_i,f_{\\mathbf{\\lambda}}(\\mathbf{X}^{validation}_i; \\mathbf{\\hat{\\beta}^*(\\lambda)})\\right) \n",
    "            $$ where we are estimating the expected loss over the validation set using empirical risk minimization and $n$ is the number of observations in the validation set.</li></ol>\n",
    "            <br>\n",
    "            <li>Now that we have our optimal hyperparameter configuration, we need to estimate the model's parameters by solving \n",
    "            $$\n",
    "            \\hat{\\beta}^*(\\lambda^*) = \\arg\\min_{\\lambda} \\frac{1}{n_{train}}\\sum_{i=1}^{n_{train}} \\mathcal{L}\\left(Y^{train}_i,f_{\\mathbf{\\lambda^*}}(\\mathbf{X}^{train}_i; \\mathbf{\\hat{\\beta}})\\right)  \\approx \\arg\\min_{\\beta} \\mathbb{E}_{(\\mathbf{X},Y)} \\left[\\mathcal{L}(Y_{train}, f_{\\mathbf{\\lambda^*}}(\\mathbf{X}_{train}; \\mathbf{\\beta})) \\right],\n",
    "            $$ which we solve for over the training set data.</li>\n",
    "    <br>\n",
    "    <li>We finally have our estimated/fitted/trained model with an \"optimal\" set of parameters and hyperparameters\n",
    "    $$\n",
    "    \\hat{y}(\\mathbf{x}) = f_{\\hat{\\lambda}^*}(\\mathbf{x};\\hat{\\beta}^*),\n",
    "    $$ which we use to make predictions/forecasts on the test set\n",
    "    $$\n",
    "    \\{(\\mathbf{x}_i^{test}, \\hat{y}_i^{test})\\}.\n",
    "    $$</li>\n",
    "    <br>\n",
    "    <li>Lastly we estimate the out-of-sample (generalization) error which is supposed to tell us how well our model predicts on unseen data\n",
    "    $$\n",
    "     \\varepsilon_{OOS} := \\mathbb{E}\\left[error(Y, \\hat{Y})\\right] \\approx  \\frac{1}{n_{test}}\\sum_{i=1}^{n_{test}} error\\left(Y^{test}_i,\\hat{y}(\\mathbf{X}_i^{test})\\right) =: \\hat{\\varepsilon}^{CV}_{OOS}.\n",
    "    $$\n",
    "    </li>\n",
    "    <br>\n",
    "</ol>\n",
    "<br>\n",
    "<br>\n",
    "Note the statistical methodology of cross-validation can be used to estimate both the out-of-sample (generalization) error, as well as to estimate the optimal hyperparameter configuration. \n",
    "<br>\n",
    "<br>\n",
    "<b>Also note most classical finance problems deal with panel data, while most classical machine learning problems deal with iid cross-section data. This means we have to be a little more careful when framing these problems.</b>\n",
    "</font>"
   ]
  },
  {
   "cell_type": "markdown",
   "id": "d6f65823",
   "metadata": {
    "id": "d6f65823"
   },
   "source": [
    "<hr style=\"border: 20px solid black\">"
   ]
  },
  {
   "cell_type": "markdown",
   "id": "d107cdce",
   "metadata": {
    "id": "d107cdce"
   },
   "source": [
    "<h1>Scikit-Learn</h1>\n",
    "\n",
    "<img src=\"https://scikit-learn.org/stable/_static/ml_map.png\">\n",
    "\n",
    "<br>\n",
    "<font size=\"+1\">\n",
    "<ul>\n",
    "    <li>SciPy Toolkit = <a href=\"https://www.scipy.org/scikits.html\">Scikit</a> refers to a collection of extensions of SciPy, of which the most famous and influential is Scikit-Learn. </li>\n",
    "    <br>\n",
    "    <li>The SciPy toolkit is a separately-developed and distributed third-party extension to SciPy.</li>\n",
    "    <br>\n",
    "    <li>The scikit-learn project started as scikits.learn, during a Google Summer of Code project by David Cournapeau.</li>\n",
    "    <br>\n",
    "    <li>The original codebase was later rewritten by other developers.</li>\n",
    "    <br>\n",
    "    <li>In 2010 Fabian Pedregosa, Gael Varoquaux, Alexandre Gramfort and Vincent Michel, all from the French Institute for Research in Computer Science and Automation in Rocquencourt, France, took leadership of the project and made the first public release on February the 1st 2010.</li>\n",
    "    <br>\n",
    "    <li>Of the various scikits, scikit-learn as well as scikit-image were described as \"well-maintained and popular\" in November 2012.</li>\n",
    "    <br>\n",
    "    <li>Scikit-learn is one of the most popular machine learning libraries on GitHub.</li>\n",
    "    <br>\n",
    "    <li>Scikit-learn is largely written in Python, and uses NumPy extensively for high-performance linear algebra and array operations.</li>\n",
    "    <br>\n",
    "    <li>Furthermore, some core algorithms are written in Cython to improve performance.</li>\n",
    "    <br>\n",
    "    <li>Support vector machines are implemented by a Cython wrapper around LIBSVM.</li>\n",
    "    <br>\n",
    "    <li>Logistic regression and linear support vector machines by a similar wrapper around LIBLINEAR.</li>\n",
    "    <br>\n",
    "    <li> In such cases, extending these methods with Python may not be possible.</li>\n",
    "    <br>\n",
    "    <li>Scikit-learn integrates well with many other Python libraries, such as Matplotlib and plotly for plotting, NumPy for array vectorization, Pandas dataframes, SciPy, and many more.</li>\n",
    "</ul>\n",
    "</font>\n",
    "\n"
   ]
  },
  {
   "cell_type": "markdown",
   "id": "cdd5d7b6",
   "metadata": {
    "id": "cdd5d7b6"
   },
   "source": [
    "<hr style=\"border: 20px solid black\">"
   ]
  },
  {
   "cell_type": "markdown",
   "id": "ad9e7a31",
   "metadata": {
    "id": "ad9e7a31"
   },
   "source": [
    "<h1 style=\"color:blue\">The Only Math We Should Know</h1>\n",
    "<br>\n",
    "<br>"
   ]
  },
  {
   "cell_type": "markdown",
   "id": "15c867bb",
   "metadata": {
    "id": "15c867bb"
   },
   "source": [
    "![ML_model_blackbox-2.png](attachment:ML_model_blackbox-2.png)"
   ]
  },
  {
   "cell_type": "markdown",
   "id": "9b4a7976",
   "metadata": {
    "id": "9b4a7976"
   },
   "source": [
    "<font size=\"+2\" style=\"color:blue\">\n",
    "The final product of the machine learning process is \n",
    "<br>\n",
    "$$\n",
    "y = f_{\\hat{\\lambda}}(X; \\hat{\\beta}) + \\hat{\\varepsilon}\n",
    "$$\n",
    "<br>\n",
    "At this point we have\n",
    "<br>\n",
    "$$\n",
    "? = ?_{?}(?; ?) + ?\n",
    "$$\n",
    "</font>"
   ]
  },
  {
   "cell_type": "markdown",
   "id": "5cd2477a",
   "metadata": {
    "id": "5cd2477a"
   },
   "source": [
    "<hr style=\"border: 20px solid black\">"
   ]
  },
  {
   "cell_type": "markdown",
   "id": "3402a7ca",
   "metadata": {
    "id": "3402a7ca"
   },
   "source": [
    "<h1>Data Modeling</h1>\n",
    "<br>\n",
    "<font size=\"+1\">\n",
    "    <ul>\n",
    "        <li>Before we use the Scikit-Learn codebase, it is imperative we answer the following question.</li>\n",
    "<br>\n",
    "        <ul>\n",
    "<li style=\"color:red\"><b>What are we trying to predict ($Y$), and what variables ($X$) are related to our target?</b></li>\n",
    "        <br>\n",
    "            <li style=\"color:blue\">This step typically relies on <b>Pandas</b>.</li>\n",
    "            <br>\n",
    "        </ul>\n",
    "        <li>For the purpose of getting comfortable with Scikit-Learn's API, we will use simulated data.</li>\n",
    "        <br>\n",
    "    </ul>\n",
    "</font>"
   ]
  },
  {
   "cell_type": "code",
   "execution_count": 6,
   "id": "fb3223a8",
   "metadata": {
    "id": "fb3223a8"
   },
   "outputs": [
    {
     "data": {
      "text/plain": [
       "Generator(PCG64) at 0x145BE4D8820"
      ]
     },
     "execution_count": 6,
     "metadata": {},
     "output_type": "execute_result"
    }
   ],
   "source": [
    "# Set the random seed for reproducible results\n",
    "rng = np.random.default_rng(seed=42)\n",
    "rng"
   ]
  },
  {
   "cell_type": "markdown",
   "id": "0d548bc7",
   "metadata": {
    "id": "0d548bc7"
   },
   "source": [
    "<font size=\"+1\">\n",
    "    <ul>\n",
    "        <li>Simulate </li>\n",
    "        <br>\n",
    "        <ul>\n",
    "            <li style=\"color:blue\">\n",
    "                $$\n",
    "                y = 3 - 4X + \\varepsilon,\n",
    "                $$</li>\n",
    "            <br>\n",
    "            <li>where $\\varepsilon \\sim Normal[0,1]$, and $X$ is simulated uniform data between $[0,10]$.</li>\n",
    "            <br>\n",
    "        </ul>\n",
    "    </ul>\n",
    "</font>"
   ]
  },
  {
   "cell_type": "code",
   "execution_count": 7,
   "id": "78ede008",
   "metadata": {
    "id": "78ede008"
   },
   "outputs": [],
   "source": [
    "# Generate some simple, synthetic data.\n",
    "X = rng.uniform(low=0,\n",
    "               high=10,\n",
    "               size=200)\n",
    "noise = rng.normal(loc=0,\n",
    "                  scale=1,\n",
    "                  size=200)\n",
    "Y = 3 - 4*X + noise"
   ]
  },
  {
   "cell_type": "markdown",
   "id": "82e958d8",
   "metadata": {
    "id": "82e958d8"
   },
   "source": [
    "<font size=\"+1\">\n",
    "    <ul>\n",
    "        <li>Put the data in a data frame and explore!</li>\n",
    "        <br>\n",
    "    </ul>\n",
    "</font>"
   ]
  },
  {
   "cell_type": "code",
   "execution_count": 8,
   "id": "2dbd44b7",
   "metadata": {
    "id": "2dbd44b7",
    "scrolled": false
   },
   "outputs": [
    {
     "data": {
      "text/html": [
       "<div>\n",
       "<style scoped>\n",
       "    .dataframe tbody tr th:only-of-type {\n",
       "        vertical-align: middle;\n",
       "    }\n",
       "\n",
       "    .dataframe tbody tr th {\n",
       "        vertical-align: top;\n",
       "    }\n",
       "\n",
       "    .dataframe thead th {\n",
       "        text-align: right;\n",
       "    }\n",
       "</style>\n",
       "<table border=\"1\" class=\"dataframe\">\n",
       "  <thead>\n",
       "    <tr style=\"text-align: right;\">\n",
       "      <th></th>\n",
       "      <th>X</th>\n",
       "      <th>Y</th>\n",
       "      <th>Noise</th>\n",
       "    </tr>\n",
       "  </thead>\n",
       "  <tbody>\n",
       "    <tr>\n",
       "      <th>0</th>\n",
       "      <td>7.739560</td>\n",
       "      <td>-27.314915</td>\n",
       "      <td>0.643327</td>\n",
       "    </tr>\n",
       "    <tr>\n",
       "      <th>1</th>\n",
       "      <td>4.388784</td>\n",
       "      <td>-14.949743</td>\n",
       "      <td>-0.394605</td>\n",
       "    </tr>\n",
       "    <tr>\n",
       "      <th>2</th>\n",
       "      <td>8.585979</td>\n",
       "      <td>-31.349039</td>\n",
       "      <td>-0.005122</td>\n",
       "    </tr>\n",
       "    <tr>\n",
       "      <th>3</th>\n",
       "      <td>6.973680</td>\n",
       "      <td>-25.058164</td>\n",
       "      <td>-0.163443</td>\n",
       "    </tr>\n",
       "    <tr>\n",
       "      <th>4</th>\n",
       "      <td>0.941773</td>\n",
       "      <td>-0.429519</td>\n",
       "      <td>0.337575</td>\n",
       "    </tr>\n",
       "    <tr>\n",
       "      <th>...</th>\n",
       "      <td>...</td>\n",
       "      <td>...</td>\n",
       "      <td>...</td>\n",
       "    </tr>\n",
       "    <tr>\n",
       "      <th>195</th>\n",
       "      <td>1.792683</td>\n",
       "      <td>-4.116379</td>\n",
       "      <td>0.054354</td>\n",
       "    </tr>\n",
       "    <tr>\n",
       "      <th>196</th>\n",
       "      <td>5.993828</td>\n",
       "      <td>-21.447088</td>\n",
       "      <td>-0.471776</td>\n",
       "    </tr>\n",
       "    <tr>\n",
       "      <th>197</th>\n",
       "      <td>8.745620</td>\n",
       "      <td>-31.523096</td>\n",
       "      <td>0.459386</td>\n",
       "    </tr>\n",
       "    <tr>\n",
       "      <th>198</th>\n",
       "      <td>1.964347</td>\n",
       "      <td>-4.155433</td>\n",
       "      <td>0.701954</td>\n",
       "    </tr>\n",
       "    <tr>\n",
       "      <th>199</th>\n",
       "      <td>3.103237</td>\n",
       "      <td>-9.274705</td>\n",
       "      <td>0.138241</td>\n",
       "    </tr>\n",
       "  </tbody>\n",
       "</table>\n",
       "<p>200 rows × 3 columns</p>\n",
       "</div>"
      ],
      "text/plain": [
       "            X          Y     Noise\n",
       "0    7.739560 -27.314915  0.643327\n",
       "1    4.388784 -14.949743 -0.394605\n",
       "2    8.585979 -31.349039 -0.005122\n",
       "3    6.973680 -25.058164 -0.163443\n",
       "4    0.941773  -0.429519  0.337575\n",
       "..        ...        ...       ...\n",
       "195  1.792683  -4.116379  0.054354\n",
       "196  5.993828 -21.447088 -0.471776\n",
       "197  8.745620 -31.523096  0.459386\n",
       "198  1.964347  -4.155433  0.701954\n",
       "199  3.103237  -9.274705  0.138241\n",
       "\n",
       "[200 rows x 3 columns]"
      ]
     },
     "execution_count": 8,
     "metadata": {},
     "output_type": "execute_result"
    }
   ],
   "source": [
    "data = pd.DataFrame({\"X\":X,\n",
    "                    \"Y\":Y,\n",
    "                    \"Noise\":noise})\n",
    "data"
   ]
  },
  {
   "cell_type": "code",
   "execution_count": 9,
   "id": "ffbd5e93",
   "metadata": {
    "id": "ffbd5e93"
   },
   "outputs": [
    {
     "data": {
      "text/html": [
       "<div>\n",
       "<style scoped>\n",
       "    .dataframe tbody tr th:only-of-type {\n",
       "        vertical-align: middle;\n",
       "    }\n",
       "\n",
       "    .dataframe tbody tr th {\n",
       "        vertical-align: top;\n",
       "    }\n",
       "\n",
       "    .dataframe thead th {\n",
       "        text-align: right;\n",
       "    }\n",
       "</style>\n",
       "<table border=\"1\" class=\"dataframe\">\n",
       "  <thead>\n",
       "    <tr style=\"text-align: right;\">\n",
       "      <th></th>\n",
       "      <th>count</th>\n",
       "      <th>mean</th>\n",
       "      <th>std</th>\n",
       "      <th>min</th>\n",
       "      <th>25%</th>\n",
       "      <th>50%</th>\n",
       "      <th>75%</th>\n",
       "      <th>max</th>\n",
       "    </tr>\n",
       "  </thead>\n",
       "  <tbody>\n",
       "    <tr>\n",
       "      <th>X</th>\n",
       "      <td>200.0</td>\n",
       "      <td>4.938696</td>\n",
       "      <td>2.823116</td>\n",
       "      <td>0.073623</td>\n",
       "      <td>2.522165</td>\n",
       "      <td>4.790042</td>\n",
       "      <td>7.472442</td>\n",
       "      <td>9.923756</td>\n",
       "    </tr>\n",
       "    <tr>\n",
       "      <th>Y</th>\n",
       "      <td>200.0</td>\n",
       "      <td>-16.738377</td>\n",
       "      <td>11.151326</td>\n",
       "      <td>-36.041299</td>\n",
       "      <td>-25.715890</td>\n",
       "      <td>-16.791825</td>\n",
       "      <td>-7.298971</td>\n",
       "      <td>4.542423</td>\n",
       "    </tr>\n",
       "    <tr>\n",
       "      <th>Noise</th>\n",
       "      <td>200.0</td>\n",
       "      <td>0.016405</td>\n",
       "      <td>1.017569</td>\n",
       "      <td>-2.566658</td>\n",
       "      <td>-0.677341</td>\n",
       "      <td>0.052811</td>\n",
       "      <td>0.638982</td>\n",
       "      <td>2.905067</td>\n",
       "    </tr>\n",
       "  </tbody>\n",
       "</table>\n",
       "</div>"
      ],
      "text/plain": [
       "       count       mean        std        min        25%        50%       75%  \\\n",
       "X      200.0   4.938696   2.823116   0.073623   2.522165   4.790042  7.472442   \n",
       "Y      200.0 -16.738377  11.151326 -36.041299 -25.715890 -16.791825 -7.298971   \n",
       "Noise  200.0   0.016405   1.017569  -2.566658  -0.677341   0.052811  0.638982   \n",
       "\n",
       "            max  \n",
       "X      9.923756  \n",
       "Y      4.542423  \n",
       "Noise  2.905067  "
      ]
     },
     "execution_count": 9,
     "metadata": {},
     "output_type": "execute_result"
    }
   ],
   "source": [
    "data.describe().T"
   ]
  },
  {
   "cell_type": "code",
   "execution_count": 10,
   "id": "59618d66",
   "metadata": {
    "id": "59618d66"
   },
   "outputs": [
    {
     "data": {
      "text/plain": [
       "Text(0.5, 1.0, 'Frequency Histogram of Predictor')"
      ]
     },
     "execution_count": 10,
     "metadata": {},
     "output_type": "execute_result"
    },
    {
     "data": {
      "image/png": "[encoded data removed]",
      "text/plain": [
       "<Figure size 1152x576 with 1 Axes>"
      ]
     },
     "metadata": {},
     "output_type": "display_data"
    }
   ],
   "source": [
    "data.loc[:, 'X'].hist(bins=10, figsize=(16,8))\n",
    "\n",
    "plt.xlabel('X')\n",
    "plt.ylabel('Frequency')\n",
    "plt.title('Frequency Histogram of Predictor')"
   ]
  },
  {
   "cell_type": "code",
   "execution_count": null,
   "id": "f3125495",
   "metadata": {
    "id": "f3125495"
   },
   "outputs": [],
   "source": [
    "## If density=True, each bin will display the bin's raw count\n",
    "## divided by the total number of counts and the bin width (density = counts / (sum(counts) * np.diff(bins))),\n",
    "## so that the area under the histogram sums (integrates) to 1\n"
   ]
  },
  {
   "cell_type": "code",
   "execution_count": 11,
   "id": "443c3a15",
   "metadata": {
    "id": "443c3a15"
   },
   "outputs": [
    {
     "data": {
      "text/plain": [
       "Text(0.5, 1.0, 'Relative Frequency (Probability) Histogram of Predictor')"
      ]
     },
     "execution_count": 11,
     "metadata": {},
     "output_type": "execute_result"
    },
    {
     "data": {
      "image/png": "[encoded data removed]",
      "text/plain": [
       "<Figure size 1152x576 with 1 Axes>"
      ]
     },
     "metadata": {},
     "output_type": "display_data"
    }
   ],
   "source": [
    "data.loc[:, 'X'].hist(bins=10, density=True, figsize=(16,8))\n",
    "\n",
    "plt.xlabel('X')\n",
    "plt.ylabel('Relative Frequency (Probability)')\n",
    "plt.title('Relative Frequency (Probability) Histogram of Predictor')"
   ]
  },
  {
   "cell_type": "code",
   "execution_count": 12,
   "id": "8b41da2d",
   "metadata": {
    "id": "8b41da2d"
   },
   "outputs": [
    {
     "data": {
      "text/plain": [
       "Text(0.5, 1.0, 'Frequency Histogram of Target')"
      ]
     },
     "execution_count": 12,
     "metadata": {},
     "output_type": "execute_result"
    },
    {
     "data": {
      "image/png": "[encoded data removed]",
      "text/plain": [
       "<Figure size 1152x576 with 1 Axes>"
      ]
     },
     "metadata": {},
     "output_type": "display_data"
    }
   ],
   "source": [
    "data.loc[:, 'Y'].hist(bins=10, figsize=(16,8))\n",
    "\n",
    "plt.xlabel('Y')\n",
    "plt.ylabel('Frequency')\n",
    "plt.title('Frequency Histogram of Target')"
   ]
  },
  {
   "cell_type": "code",
   "execution_count": 13,
   "id": "eb658c49",
   "metadata": {
    "id": "eb658c49"
   },
   "outputs": [
    {
     "data": {
      "text/html": [
       "<div>\n",
       "<style scoped>\n",
       "    .dataframe tbody tr th:only-of-type {\n",
       "        vertical-align: middle;\n",
       "    }\n",
       "\n",
       "    .dataframe tbody tr th {\n",
       "        vertical-align: top;\n",
       "    }\n",
       "\n",
       "    .dataframe thead th {\n",
       "        text-align: right;\n",
       "    }\n",
       "</style>\n",
       "<table border=\"1\" class=\"dataframe\">\n",
       "  <thead>\n",
       "    <tr style=\"text-align: right;\">\n",
       "      <th></th>\n",
       "      <th>X</th>\n",
       "      <th>Y</th>\n",
       "      <th>Noise</th>\n",
       "    </tr>\n",
       "  </thead>\n",
       "  <tbody>\n",
       "    <tr>\n",
       "      <th>X</th>\n",
       "      <td>1.000000</td>\n",
       "      <td>-0.995968</td>\n",
       "      <td>0.182889</td>\n",
       "    </tr>\n",
       "    <tr>\n",
       "      <th>Y</th>\n",
       "      <td>-0.995968</td>\n",
       "      <td>1.000000</td>\n",
       "      <td>-0.093953</td>\n",
       "    </tr>\n",
       "    <tr>\n",
       "      <th>Noise</th>\n",
       "      <td>0.182889</td>\n",
       "      <td>-0.093953</td>\n",
       "      <td>1.000000</td>\n",
       "    </tr>\n",
       "  </tbody>\n",
       "</table>\n",
       "</div>"
      ],
      "text/plain": [
       "              X         Y     Noise\n",
       "X      1.000000 -0.995968  0.182889\n",
       "Y     -0.995968  1.000000 -0.093953\n",
       "Noise  0.182889 -0.093953  1.000000"
      ]
     },
     "execution_count": 13,
     "metadata": {},
     "output_type": "execute_result"
    }
   ],
   "source": [
    "data.corr()"
   ]
  },
  {
   "cell_type": "code",
   "execution_count": 14,
   "id": "bbe1a199",
   "metadata": {
    "id": "bbe1a199"
   },
   "outputs": [
    {
     "data": {
      "text/plain": [
       "<matplotlib.legend.Legend at 0x145c3ac5700>"
      ]
     },
     "execution_count": 14,
     "metadata": {},
     "output_type": "execute_result"
    },
    {
     "data": {
      "image/png": "[encoded data removed]",
      "text/plain": [
       "<Figure size 1152x576 with 1 Axes>"
      ]
     },
     "metadata": {},
     "output_type": "display_data"
    }
   ],
   "source": [
    "plt.figure(figsize=(16,8))\n",
    "# Plot of y = -3 + 4x + noise\n",
    "plt.scatter(X, Y, label='(x, y)')\n",
    "\n",
    "plt.xlabel('X')\n",
    "plt.ylabel('Y')\n",
    "plt.title('Relationship Between Simulated Data X and Y (Scatterplot)')\n",
    "plt.legend()"
   ]
  },
  {
   "cell_type": "code",
   "execution_count": 15,
   "id": "c7b3f1f6",
   "metadata": {
    "id": "c7b3f1f6"
   },
   "outputs": [
    {
     "data": {
      "text/plain": [
       "<matplotlib.legend.Legend at 0x145c3b4cf70>"
      ]
     },
     "execution_count": 15,
     "metadata": {},
     "output_type": "execute_result"
    },
    {
     "data": {
      "image/png": "[encoded data removed]",
      "text/plain": [
       "<Figure size 1152x576 with 1 Axes>"
      ]
     },
     "metadata": {},
     "output_type": "display_data"
    }
   ],
   "source": [
    "plt.figure(figsize=(16,8))\n",
    "# Plot of noise = y - (3 - 4x) and y\n",
    "plt.scatter(data.loc[:, 'Noise'], data.loc[:, 'Y'],\n",
    "            label='(Noise, y)')\n",
    "\n",
    "plt.xlabel('Noise = y - (3 + 4x)')\n",
    "plt.ylabel('Y')\n",
    "plt.title('Relationship Between Simulated Data Noise and Y (Scatterplot)')\n",
    "plt.legend()"
   ]
  },
  {
   "cell_type": "markdown",
   "id": "a508b247",
   "metadata": {
    "id": "a508b247"
   },
   "source": [
    "<font size=\"+2\" style=\"color:blue\">\n",
    "<left>\n",
    "This is akin to choosing an $(X,y)$ in the model\n",
    "<br>\n",
    "<br>    \n",
    "<br>    \n",
    "$$\n",
    "y = ?_{?}(X; ?) + ?\n",
    "$$\n",
    "</left>\n",
    "</font>"
   ]
  },
  {
   "cell_type": "markdown",
   "id": "51719672",
   "metadata": {
    "id": "51719672"
   },
   "source": [
    "<hr style=\"border: 20px solid black\">"
   ]
  },
  {
   "cell_type": "markdown",
   "id": "c1c601ba",
   "metadata": {
    "id": "c1c601ba"
   },
   "source": [
    "<h2>Estimator API</h2>\n",
    "<br>\n",
    "<font size=\"+1\">\n",
    "    <ul>\n",
    "<li>Every machine learning algorithm in Scikit-Learn is implimented via the <a href=\"https://scikit-learn.org/stable/developers/develop.html\">Estimator API</a>.</li>\n",
    "<br>\n",
    "        <li>Scikit-Learn API follows the general pattern of</li>\n",
    "        <br>\n",
    "<ol style=\"color:dodgerblue\">\n",
    "    <li>Import</li>\n",
    "    <br>\n",
    "    <li>Instantiate</li>\n",
    "    <br>\n",
    "    <li>Fit</li>\n",
    "    <br>\n",
    "    <li>Predict</li>\n",
    "    <br>\n",
    "</ol>\n",
    "<br>\n",
    "        <li>Scikit-Learn is a very principled codebase, that has developed objects with great care and foresight.</li>\n",
    "<br>\n",
    "<li>All objects in the codebase share a <i>common interface</i> drawn from a limited set of methods, with consistent documentation.</li>\n",
    "<br>\n",
    "<li>Only algorithms are represented by Python classes, all data sets are represented as Numpy arrays, Pandas DataFrames, or SciPy sparse matrices.</li>\n",
    "        <br>\n",
    "    </ul>\n",
    "</font>"
   ]
  },
  {
   "cell_type": "markdown",
   "id": "01ac1f2f",
   "metadata": {
    "id": "01ac1f2f"
   },
   "source": [
    "<h3>Import</h3>\n",
    "<br>\n",
    "<font size=\"+1\">\n",
    "    <ul>\n",
    "        <li>Choose a class of models by importing the appropriate estimator class from Scikit-Learn.</li>\n",
    "        <br>\n",
    "        <li>Every class of models is represented by a Python class.</li>\n",
    "        <br>\n",
    "        <li>To see all of the different classes of models in the <i>linear_model</i> module, see <a href=\"https://scikit-learn.org/stable/modules/classes.html#module-sklearn.linear_model\">here</a>.</li>\n",
    "    </ul>\n",
    "</font>"
   ]
  },
  {
   "cell_type": "code",
   "execution_count": 16,
   "id": "d5294128",
   "metadata": {
    "id": "d5294128"
   },
   "outputs": [],
   "source": [
    "from sklearn.linear_model import LinearRegression"
   ]
  },
  {
   "cell_type": "code",
   "execution_count": null,
   "id": "1de823d4",
   "metadata": {
    "id": "1de823d4"
   },
   "outputs": [],
   "source": [
    "# View source code in Python\n",
    "# LinearRegression?? "
   ]
  },
  {
   "cell_type": "code",
   "execution_count": 17,
   "id": "e918408b",
   "metadata": {
    "id": "e918408b"
   },
   "outputs": [
    {
     "data": {
      "text/plain": [
       "sklearn.linear_model._base.LinearRegression"
      ]
     },
     "execution_count": 17,
     "metadata": {},
     "output_type": "execute_result"
    }
   ],
   "source": [
    "LinearRegression"
   ]
  },
  {
   "cell_type": "code",
   "execution_count": 18,
   "id": "ba573baf",
   "metadata": {
    "id": "ba573baf"
   },
   "outputs": [
    {
     "data": {
      "text/plain": [
       "abc.ABCMeta"
      ]
     },
     "execution_count": 18,
     "metadata": {},
     "output_type": "execute_result"
    }
   ],
   "source": [
    "# Abstract Base Class\n",
    "\n",
    "type(LinearRegression)"
   ]
  },
  {
   "cell_type": "markdown",
   "id": "aa1399c5",
   "metadata": {
    "id": "aa1399c5"
   },
   "source": [
    "<font size=\"+2\" style=\"color:blue\">\n",
    "This is akin to choosing an $f$ in the model\n",
    "<br>\n",
    "<br>\n",
    "<br>\n",
    "$$\n",
    "y = f_{?}(X; ?) + ?\n",
    "$$\n",
    "</font>"
   ]
  },
  {
   "cell_type": "markdown",
   "id": "df888d78",
   "metadata": {
    "id": "df888d78"
   },
   "source": [
    "<h3>Instantiate</h3>\n",
    "<br>\n",
    "<font size=\"+1\">\n",
    "    <ul>\n",
    "        <li>Once we've decided on our model <i>class</i>, we still have choices to make within the model class.</li>\n",
    "        <br>\n",
    "        <li>We might need to answer the following:</li>\n",
    "        <br>\n",
    "        <ol>\n",
    "            <li>Would we like to fit an intercept?</li>\n",
    "            <br>\n",
    "            <li>Would we like the model to be normalized?</li>\n",
    "            <br>\n",
    "            <li>Would we like to preprocess our features to add more flexibility?</li>\n",
    "            <br>\n",
    "            <li>What degree of regularization would we like to use in our model?</li>\n",
    "            <br>\n",
    "            <li>How many model components would we like to use?</li>\n",
    "            <br>\n",
    "        </ol>\n",
    "        <br>\n",
    "        <li>Often, these choices are represented as hyperparameters.</li>\n",
    "        <br>\n",
    "        <li style=\"color:red\"><b>Hyperparameters are parameters or specifications that must be set before the model is fit to data.</b></li>\n",
    "        <br>\n",
    "        <li>Choose model hyperparameters by instantiating (loading an instance or example of this class) the model with desired values.</li>\n",
    "        <br>\n",
    "        <li>There are ways to choose hyperparameters quantitatively.</li>\n",
    "        <br>\n",
    "    </ul>\n",
    "</font>"
   ]
  },
  {
   "cell_type": "markdown",
   "id": "baa3558d",
   "metadata": {
    "id": "baa3558d"
   },
   "source": [
    "<font size=\"+1\" style=\"color:orange\">\n",
    "    <b>A Remark on Normalization</b>\n",
    "    <ul>\n",
    "        <li>Normalization allows you to regard a number, not in an absolute sense without regard to a benchmark, but in terms of standard deviations from the average.</li>\n",
    "        <br>\n",
    "        <li>If a number is measuring a person's height, this number is an absolute number. Normalizing this number converts the person's height, say 6ft, to a relative number, say 1.3, meaning his <i>normalized height</i> is 1.3 standard deviations away from the average height.</li>\n",
    "        <br>\n",
    "        <li>Some models work better with normalization, and some are normalization invariant.</li>\n",
    "        <br>\n",
    "        <li>Also, many models in Scikit-Learn are pre-set to normalize the data.</li>\n",
    "        <br>\n",
    "    </ul>\n",
    "</font>"
   ]
  },
  {
   "cell_type": "code",
   "execution_count": 19,
   "id": "051a588c",
   "metadata": {
    "id": "051a588c"
   },
   "outputs": [
    {
     "data": {
      "text/plain": [
       "LinearRegression()"
      ]
     },
     "execution_count": 19,
     "metadata": {},
     "output_type": "execute_result"
    }
   ],
   "source": [
    "model = LinearRegression()\n",
    "\n",
    "model"
   ]
  },
  {
   "cell_type": "code",
   "execution_count": 20,
   "id": "ef854438",
   "metadata": {
    "id": "ef854438"
   },
   "outputs": [
    {
     "data": {
      "text/plain": [
       "sklearn.linear_model._base.LinearRegression"
      ]
     },
     "execution_count": 20,
     "metadata": {},
     "output_type": "execute_result"
    }
   ],
   "source": [
    "type(model)"
   ]
  },
  {
   "cell_type": "code",
   "execution_count": 21,
   "id": "f607d463",
   "metadata": {
    "id": "f607d463"
   },
   "outputs": [
    {
     "data": {
      "text/plain": [
       "{'copy_X': True,\n",
       " 'fit_intercept': True,\n",
       " 'n_jobs': None,\n",
       " 'normalize': False,\n",
       " 'positive': False}"
      ]
     },
     "execution_count": 21,
     "metadata": {},
     "output_type": "execute_result"
    }
   ],
   "source": [
    "model.get_params()"
   ]
  },
  {
   "cell_type": "markdown",
   "id": "7ca470b5",
   "metadata": {
    "id": "7ca470b5"
   },
   "source": [
    "<font size=\"+1\">\n",
    "    <ul>\n",
    "        <li><a href=\"https://www.geeksforgeeks.org/what-does-the-double-star-operator-mean-in-python/#:~:text=In%20a%20function%20definition%2C%20the,not%20enforced%20by%20the%20language.\">The double asterisk is used to pass a variable number of keyword arguments to a function.</a></li>\n",
    "        <br>\n",
    "    </ul>\n",
    "</font>"
   ]
  },
  {
   "cell_type": "code",
   "execution_count": 22,
   "id": "8440446f",
   "metadata": {
    "id": "8440446f"
   },
   "outputs": [
    {
     "data": {
      "text/plain": [
       "{'copy_X': True,\n",
       " 'fit_intercept': True,\n",
       " 'n_jobs': None,\n",
       " 'normalize': False,\n",
       " 'positive': False}"
      ]
     },
     "execution_count": 22,
     "metadata": {},
     "output_type": "execute_result"
    }
   ],
   "source": [
    "lin_reg_params = {'fit_intercept': True,\n",
    "                 'normalize': False}\n",
    "\n",
    "model.set_params(**lin_reg_params)\n",
    "\n",
    "model.get_params()"
   ]
  },
  {
   "cell_type": "markdown",
   "id": "dd05c8ab",
   "metadata": {
    "id": "dd05c8ab"
   },
   "source": [
    "<font size=\"+1\">\n",
    "    <ul>\n",
    "        <li>You can also pass the keyword arguments to the <i>set_params()</i> directly or to the model instantiation directly.</li>\n",
    "        <br>\n",
    "    </ul>\n",
    "<font>"
   ]
  },
  {
   "cell_type": "code",
   "execution_count": 23,
   "id": "59197c5c",
   "metadata": {
    "id": "59197c5c"
   },
   "outputs": [
    {
     "data": {
      "text/plain": [
       "{'copy_X': True,\n",
       " 'fit_intercept': True,\n",
       " 'n_jobs': None,\n",
       " 'normalize': False,\n",
       " 'positive': False}"
      ]
     },
     "execution_count": 23,
     "metadata": {},
     "output_type": "execute_result"
    }
   ],
   "source": [
    "model.set_params(fit_intercept=True, normalize=False)\n",
    "\n",
    "model.get_params()"
   ]
  },
  {
   "cell_type": "markdown",
   "id": "4208a364",
   "metadata": {
    "id": "4208a364"
   },
   "source": [
    "<font size=\"+1\">\n",
    "    <ul>\n",
    "        <li>When you instantiate a model, all that is happening is the model is storing the hyperparameter values.</li>\n",
    "        <br>\n",
    "    </ul>\n",
    "<font>"
   ]
  },
  {
   "cell_type": "markdown",
   "id": "ba75bcd6",
   "metadata": {
    "id": "ba75bcd6"
   },
   "source": [
    "<font size=\"+2\" style=\"color:blue\">\n",
    "This is akin to choosing a $\\hat{\\lambda}$ in the model\n",
    "<br>\n",
    "<br>    \n",
    "<br>   \n",
    "$$\n",
    "y = f_{\\hat{\\lambda}}(X; ?) + ?\n",
    "$$\n",
    "</font>"
   ]
  },
  {
   "cell_type": "markdown",
   "id": "f4ec8b72",
   "metadata": {
    "id": "f4ec8b72"
   },
   "source": [
    "<h3>Fit</h3>\n",
    "<br>\n",
    "<font size=\"+1\">\n",
    "    <ul>\n",
    "        <li>Call the <i>fit()</i> method of the instantiated model.</li>\n",
    "        <br>\n",
    "        <li>This will estimate the model's parameters in such as way that the likelihood of observing the data is maximized.</li>\n",
    "        <br>\n",
    "        <li style=\"color:red\"><b>Oftentimes, we need to reshape the data.</b></li>\n",
    "        <br>\n",
    "        <li>In Scikit-Learn, data has to be represented in very particular ways.</li>\n",
    "        <br>\n",
    "        <li>Specifically, the data (feature) matrix must be <b>two dimensional</b> and the target array must be <b>one dimensional</b>.</li>\n",
    "        <br>\n",
    "    </ul>\n",
    "</font>"
   ]
  },
  {
   "cell_type": "code",
   "execution_count": null,
   "id": "6fc6e2eb",
   "metadata": {
    "id": "6fc6e2eb"
   },
   "outputs": [],
   "source": [
    "# First, we need to separate the X and Y from the 'data' data frame\n"
   ]
  },
  {
   "cell_type": "code",
   "execution_count": 24,
   "id": "9fa6ce0c",
   "metadata": {
    "id": "9fa6ce0c"
   },
   "outputs": [],
   "source": [
    "X = data.loc[:, 'X']\n",
    "\n",
    "Y = data.loc[:, 'Y']"
   ]
  },
  {
   "cell_type": "code",
   "execution_count": 25,
   "id": "a62fe482",
   "metadata": {
    "id": "a62fe482"
   },
   "outputs": [
    {
     "data": {
      "text/plain": [
       "1"
      ]
     },
     "execution_count": 25,
     "metadata": {},
     "output_type": "execute_result"
    }
   ],
   "source": [
    "# To access the number of dimensions use '.ndim'\n",
    "# The number of dimensions are definded as the number of axes\n",
    "# Return 1 if Series. Otherwise return 2 if DataFrame.\n",
    "X.ndim"
   ]
  },
  {
   "cell_type": "code",
   "execution_count": 26,
   "id": "1c446d5f",
   "metadata": {
    "id": "1c446d5f",
    "scrolled": true
   },
   "outputs": [
    {
     "data": {
      "text/plain": [
       "(200,)"
      ]
     },
     "execution_count": 26,
     "metadata": {},
     "output_type": "execute_result"
    }
   ],
   "source": [
    "# You can also look at the shape of the data\n",
    "X.shape"
   ]
  },
  {
   "cell_type": "markdown",
   "id": "83531bf7",
   "metadata": {
    "id": "83531bf7"
   },
   "source": [
    "<font size=\"+1\">\n",
    "    <ul>\n",
    "        <li>Recall, the input data must be TWO dimensional and the output data must be ONE dimensional!</li>\n",
    "        <br>\n",
    "        <li>To reshape the data, use the <i>.reshape(number_of_rows, number_of_columns)</i> method.</li>\n",
    "        <br>\n",
    "        <li>A value of -1 in the reshape method is used as a placeholder to be filled in by taking the size of the Pandas object and dividing by the other reshape argument number.</li>\n",
    "        <br>        \n",
    "        <li style=\"color:red\">Warning, <i>.reshape()</i> can only be applied to Numpy arrays. To turn a Pandas object into a Numpy array, apply the <i>.values</i> attribute to the Pandas object, the apply the <i>.reshape()</i> method.</li>\n",
    "        <br>\n",
    "    </ul>\n",
    "</font>"
   ]
  },
  {
   "cell_type": "code",
   "execution_count": 27,
   "id": "3f043e40",
   "metadata": {
    "id": "3f043e40"
   },
   "outputs": [
    {
     "data": {
      "text/plain": [
       "array([7.73956049, 4.3887844 , 8.5859792 , 6.97368029, 0.94177348,\n",
       "       9.75622352, 7.61139702, 7.86064305, 1.28113633, 4.50385938,\n",
       "       3.70798024, 9.26764989, 6.4386512 , 8.22761613, 4.43414199,\n",
       "       2.27238722, 5.54584787, 0.63817256, 8.27631172, 6.31664399,\n",
       "       7.5808774 , 3.54525968, 9.70698024, 8.93121121, 7.78383497,\n",
       "       1.94638708, 4.66721004, 0.43803766, 1.54289492, 6.83048953,\n",
       "       7.44762156, 9.67509732, 3.25825358, 3.70459706, 4.69555811,\n",
       "       1.89471359, 1.29921505, 4.75704926, 2.26909349, 6.69813995,\n",
       "       4.37151919, 8.32678196, 7.00265102, 3.12366641, 8.32259801,\n",
       "       8.04764357, 3.87478379, 2.88328104, 6.82495504, 1.39752484,\n",
       "       1.99908202, 0.0736227 , 7.86924378, 6.64850857, 7.05165379,\n",
       "       7.80729031, 4.58915776, 5.68741196, 1.39796998, 1.14530074,\n",
       "       6.68402962, 4.71096206, 5.65236106, 7.64998857, 6.3471832 ,\n",
       "       5.53579401, 5.59207161, 3.03950098, 0.30817835, 4.36717389,\n",
       "       2.14584673, 4.08528644, 8.53403073, 2.33939486, 0.58302742,\n",
       "       2.81383892, 2.93593758, 6.61916515, 5.57032152, 7.83898209,\n",
       "       6.6431354 , 4.06386861, 8.14020385, 1.6697292 , 0.22712073,\n",
       "       0.90047861, 7.22359351, 4.6187723 , 1.61271779, 5.01044775,\n",
       "       1.52312103, 6.96320375, 4.46156276, 3.81021226, 3.01512089,\n",
       "       6.30282593, 3.61812611, 0.87649919, 1.18005902, 9.61897665,\n",
       "       9.08580691, 6.99707134, 2.65869961, 9.69176377, 7.78750904,\n",
       "       7.16890189, 4.49361502, 2.72241562, 0.96390962, 9.02602397,\n",
       "       4.5577629 , 2.02363365, 3.05956624, 5.79219569, 1.76772783,\n",
       "       8.56614284, 7.5851953 , 7.19462956, 4.3209304 , 6.27308841,\n",
       "       5.84097969, 6.49846602, 0.84444321, 4.15807402, 0.41614174,\n",
       "       4.93990819, 3.29861212, 1.44524189, 1.03402968, 5.87644572,\n",
       "       1.70592969, 9.25120118, 5.8106114 , 3.46869805, 5.90915491,\n",
       "       0.22803871, 9.58559213, 4.82303437, 7.82735227, 0.8273    ,\n",
       "       4.86658331, 4.90706994, 9.37826455, 5.71728052, 4.73489401,\n",
       "       2.66975663, 3.31568997, 5.20672402, 4.3891146 , 0.2161208 ,\n",
       "       8.26291924, 8.96160772, 1.40249089, 5.54036144, 1.08575741,\n",
       "       6.72240093, 2.81233784, 6.59422635, 7.26994614, 7.68647492,\n",
       "       1.07740946, 9.16011845, 2.30213991, 0.37412556, 5.54852469,\n",
       "       3.70922284, 8.29789743, 8.08251472, 3.17138893, 9.52899395,\n",
       "       2.90917838, 5.15057129, 2.55965091, 9.3604357 , 1.64607818,\n",
       "       0.44910619, 4.3509706 , 9.92375564, 8.91677266, 7.48608019,\n",
       "       8.90792491, 8.9344664 , 5.1885836 , 3.15929052, 7.72012432,\n",
       "       6.61661263, 3.73657729, 0.94466668, 7.46789611, 2.62460516,\n",
       "       9.36813151, 2.40970575, 1.22757932, 8.31112672, 1.53284317,\n",
       "       1.79268308, 5.99382792, 8.74562041, 1.96434666, 3.10323673])"
      ]
     },
     "execution_count": 27,
     "metadata": {},
     "output_type": "execute_result"
    }
   ],
   "source": [
    "X.values"
   ]
  },
  {
   "cell_type": "code",
   "execution_count": 28,
   "id": "ae6c52b2",
   "metadata": {
    "id": "ae6c52b2",
    "scrolled": true
   },
   "outputs": [],
   "source": [
    "X_reshaped = X.values.reshape(-1,1)"
   ]
  },
  {
   "cell_type": "code",
   "execution_count": 29,
   "id": "7e55acae",
   "metadata": {
    "id": "7e55acae"
   },
   "outputs": [
    {
     "data": {
      "text/plain": [
       "2"
      ]
     },
     "execution_count": 29,
     "metadata": {},
     "output_type": "execute_result"
    }
   ],
   "source": [
    "X_reshaped.ndim"
   ]
  },
  {
   "cell_type": "code",
   "execution_count": 30,
   "id": "a891bcfb",
   "metadata": {
    "id": "a891bcfb"
   },
   "outputs": [
    {
     "data": {
      "text/plain": [
       "(200, 1)"
      ]
     },
     "execution_count": 30,
     "metadata": {},
     "output_type": "execute_result"
    }
   ],
   "source": [
    "X_reshaped.shape"
   ]
  },
  {
   "cell_type": "code",
   "execution_count": 31,
   "id": "8d800ae3",
   "metadata": {
    "id": "8d800ae3"
   },
   "outputs": [
    {
     "data": {
      "text/plain": [
       "1"
      ]
     },
     "execution_count": 31,
     "metadata": {},
     "output_type": "execute_result"
    }
   ],
   "source": [
    "# We will do similar actions on the target data\n",
    "\n",
    "Y.ndim"
   ]
  },
  {
   "cell_type": "code",
   "execution_count": 32,
   "id": "f35b8665",
   "metadata": {
    "id": "f35b8665"
   },
   "outputs": [
    {
     "data": {
      "text/plain": [
       "(200,)"
      ]
     },
     "execution_count": 32,
     "metadata": {},
     "output_type": "execute_result"
    }
   ],
   "source": [
    "Y.shape"
   ]
  },
  {
   "cell_type": "markdown",
   "id": "c1a186d6",
   "metadata": {
    "id": "c1a186d6"
   },
   "source": [
    "<font size=\"+1\">\n",
    "    <ul>\n",
    "        <li>The data matrix and target vector have the proper shape!</li>\n",
    "        <br>\n",
    "        <li>Now we can estimate our model's parameters from the data using the <i>.fit()</i> method.</li>\n",
    "        <br>\n",
    "        <li>The <i>.fit()</i> method causes a number of model-dependent internal computations to take place, and the results of these computations are stored in model-specific attributes, which the user can explore.</li>\n",
    "        <br>\n",
    "        <li>By convention, model parameters that were estimated during the <i>.fit()</i> process have trailing underscores and can be accessed by applying <i>.intercept_</i> and <i>.coef_</i> to the estimated model.</li>\n",
    "        <br>\n",
    "    </ul>\n",
    "</font>"
   ]
  },
  {
   "cell_type": "code",
   "execution_count": null,
   "id": "893d529e",
   "metadata": {
    "id": "893d529e"
   },
   "outputs": [],
   "source": [
    "# model.fit(X, Y)"
   ]
  },
  {
   "cell_type": "code",
   "execution_count": 33,
   "id": "54d3f59b",
   "metadata": {
    "id": "54d3f59b"
   },
   "outputs": [
    {
     "data": {
      "text/plain": [
       "LinearRegression()"
      ]
     },
     "execution_count": 33,
     "metadata": {},
     "output_type": "execute_result"
    }
   ],
   "source": [
    "model.fit(X_reshaped, Y)"
   ]
  },
  {
   "cell_type": "code",
   "execution_count": 34,
   "id": "1c9c171f",
   "metadata": {
    "id": "1c9c171f"
   },
   "outputs": [
    {
     "data": {
      "text/plain": [
       "array([-3.93407908])"
      ]
     },
     "execution_count": 34,
     "metadata": {},
     "output_type": "execute_result"
    }
   ],
   "source": [
    "# Slope\n",
    "model.coef_"
   ]
  },
  {
   "cell_type": "code",
   "execution_count": 35,
   "id": "38931dc6",
   "metadata": {
    "id": "38931dc6"
   },
   "outputs": [
    {
     "data": {
      "text/plain": [
       "2.69084138346426"
      ]
     },
     "execution_count": 35,
     "metadata": {},
     "output_type": "execute_result"
    }
   ],
   "source": [
    "# Intercept\n",
    "model.intercept_"
   ]
  },
  {
   "cell_type": "markdown",
   "id": "a047eaa9",
   "metadata": {
    "id": "a047eaa9"
   },
   "source": [
    "<font size=\"+1\">\n",
    "    <ul>\n",
    "        <li>These estimated slope and intercept are very close to the synthetic data's slope of 2 and intercept of -1!</li>\n",
    "        <br>\n",
    "        <li>It is common that we might want to know the inherent uncertainty in the estimated model parameters, which can be quantified by using a confidence interval.</li>\n",
    "        <br>\n",
    "        <li>In general, Scikit-Learn does <i>not</i> provide tools to draw inferences about the fitted model parameters, without some extra work.</li>\n",
    "        <br>\n",
    "        <li>Interpreting model parameters is a <b>statistical inference</b> question rather than a <b>machine learning</b> question. ML focuses on <b>predicting</b>. </li>\n",
    "        <br>\n",
    "    </ul>\n",
    "</font>"
   ]
  },
  {
   "cell_type": "code",
   "execution_count": 36,
   "id": "e7857e84",
   "metadata": {
    "id": "e7857e84"
   },
   "outputs": [],
   "source": [
    "import statsmodels.api as sm"
   ]
  },
  {
   "cell_type": "code",
   "execution_count": 37,
   "id": "6388a2c2",
   "metadata": {
    "id": "6388a2c2"
   },
   "outputs": [],
   "source": [
    "stats_model = sm.OLS(Y, sm.add_constant(X_reshaped)).fit()"
   ]
  },
  {
   "cell_type": "code",
   "execution_count": 38,
   "id": "5a3582ed",
   "metadata": {
    "id": "5a3582ed"
   },
   "outputs": [
    {
     "name": "stdout",
     "output_type": "stream",
     "text": [
      "                            OLS Regression Results                            \n",
      "==============================================================================\n",
      "Dep. Variable:                      Y   R-squared:                       0.992\n",
      "Model:                            OLS   Adj. R-squared:                  0.992\n",
      "Method:                 Least Squares   F-statistic:                 2.440e+04\n",
      "Date:                Sun, 30 Oct 2022   Prob (F-statistic):          2.62e-209\n",
      "Time:                        20:19:54   Log-Likelihood:                -283.37\n",
      "No. Observations:                 200   AIC:                             570.7\n",
      "Df Residuals:                     198   BIC:                             577.3\n",
      "Df Model:                           1                                         \n",
      "Covariance Type:            nonrobust                                         \n",
      "==============================================================================\n",
      "                 coef    std err          t      P>|t|      [0.025      0.975]\n",
      "------------------------------------------------------------------------------\n",
      "const          2.6908      0.143     18.795      0.000       2.409       2.973\n",
      "x1            -3.9341      0.025   -156.217      0.000      -3.984      -3.884\n",
      "==============================================================================\n",
      "Omnibus:                        0.496   Durbin-Watson:                   1.882\n",
      "Prob(Omnibus):                  0.780   Jarque-Bera (JB):                0.631\n",
      "Skew:                           0.041   Prob(JB):                        0.729\n",
      "Kurtosis:                       2.737   Cond. No.                         11.7\n",
      "==============================================================================\n",
      "\n",
      "Notes:\n",
      "[1] Standard Errors assume that the covariance matrix of the errors is correctly specified.\n"
     ]
    }
   ],
   "source": [
    "print(stats_model.summary())"
   ]
  },
  {
   "cell_type": "markdown",
   "id": "d4521bcd",
   "metadata": {
    "id": "d4521bcd"
   },
   "source": [
    "<font size=\"+1\">\n",
    "    <ul>\n",
    "        <li>For more on how to interpret these summary statistics, see <a href=\"https://medium.com/swlh/interpreting-linear-regression-through-statsmodels-summary-4796d359035a\">here</a>.</li>\n",
    "        <br>\n",
    "    </ul>\n",
    "</font>"
   ]
  },
  {
   "cell_type": "code",
   "execution_count": null,
   "id": "5a893341",
   "metadata": {
    "id": "5a893341"
   },
   "outputs": [],
   "source": [
    "# import statsmodels\n",
    "# statsmodels.tools.eval_measures.rmse(y, y_hat)\n",
    "# plt.plot(y-model.predict(x_reshaped))"
   ]
  },
  {
   "cell_type": "code",
   "execution_count": null,
   "id": "0042de30",
   "metadata": {
    "id": "0042de30"
   },
   "outputs": [],
   "source": [
    "# In-sample residuals\n",
    "\n",
    "# plt.figure(figsize=(16,8))\n",
    "# plt.plot(stats_model.resid)"
   ]
  },
  {
   "cell_type": "markdown",
   "id": "4e6db0b7",
   "metadata": {
    "id": "4e6db0b7"
   },
   "source": [
    "<font size=\"+2\" style=\"color:blue\">\n",
    "This is akin to choosing a $\\hat{\\beta}$ in the model\n",
    "<br>\n",
    "<br>    \n",
    "<br>   \n",
    "$$\n",
    "y = f_{\\hat{\\lambda}}(X; \\hat{\\beta}) + ?\n",
    "$$\n",
    "</font>"
   ]
  },
  {
   "cell_type": "markdown",
   "id": "f3df6c21",
   "metadata": {
    "id": "f3df6c21"
   },
   "source": [
    "<h3>Predict</h3>\n",
    "<br>\n",
    "<font size=\"+1\">\n",
    "    <ul>\n",
    "        <li>Once the model is trained, the main task of supervised ML is to evaluate the model.</li>\n",
    "        <br>\n",
    "        <li>With the now trained model, you can plug in new data and record the predicted value using the <i>predict()</i> method.</li>\n",
    "        <br>\n",
    "    </ul>\n",
    "</font>"
   ]
  },
  {
   "cell_type": "code",
   "execution_count": 39,
   "id": "8df4bc2d",
   "metadata": {
    "id": "8df4bc2d"
   },
   "outputs": [],
   "source": [
    "Y_hat = model.predict(X_reshaped)"
   ]
  },
  {
   "cell_type": "markdown",
   "id": "05e39384",
   "metadata": {
    "id": "05e39384"
   },
   "source": [
    "<font size=\"+1\">\n",
    "    <ul>\n",
    "        <li>We visualize the results by plotting the raw data, and then plot the fitted model.</li>\n",
    "        <br>\n",
    "    </ul>\n",
    "</font>"
   ]
  },
  {
   "cell_type": "code",
   "execution_count": 40,
   "id": "b8ff4e9d",
   "metadata": {
    "id": "b8ff4e9d"
   },
   "outputs": [
    {
     "data": {
      "text/plain": [
       "<matplotlib.legend.Legend at 0x145c49f3fd0>"
      ]
     },
     "execution_count": 40,
     "metadata": {},
     "output_type": "execute_result"
    },
    {
     "data": {
      "image/png": "[encoded data removed]",
      "text/plain": [
       "<Figure size 1152x576 with 1 Axes>"
      ]
     },
     "metadata": {},
     "output_type": "display_data"
    }
   ],
   "source": [
    "plt.figure(figsize=(16,8))\n",
    "\n",
    "plt.scatter(X, Y, label='Y', s=75)\n",
    "plt.plot(X, Y_hat, label='$\\hat{Y}$ Prediction', color='b', linewidth=4)\n",
    "\n",
    "plt.xlabel('X')\n",
    "plt.ylabel('$\\hat{Y}(X)$')\n",
    "plt.title('Plot of Y and Predicted $\\hat{Y}$ versus X')\n",
    "plt.legend()"
   ]
  },
  {
   "cell_type": "code",
   "execution_count": null,
   "id": "6bde630d",
   "metadata": {
    "id": "6bde630d"
   },
   "outputs": [],
   "source": [
    "# You can directly plot the lines you want by \n",
    "# feeding the plot command with the corresponding data (boundaries of the segments):\n",
    "# plot([x1, x2], [y1, y2])\n",
    "\n",
    "# # draw vertical line from (70,100) to (70, 250)\n",
    "# plt.plot([70, 70], [100, 250])"
   ]
  },
  {
   "cell_type": "markdown",
   "id": "1430a1f7",
   "metadata": {
    "id": "1430a1f7"
   },
   "source": [
    "<font size=\"+2\" style=\"color:blue\">\n",
    "    This is akin to measuring $\\varepsilon$ in the model\n",
    "$$\n",
    "y = f_{\\hat{\\lambda}}(X; \\hat{\\beta}) + \\hat{\\varepsilon}\n",
    "$$\n",
    "where $\\hat{\\varepsilon} = y - \\hat{y}$ comes from the fitted model, and $\\hat{y} = f_{\\hat{\\lambda}}(X; \\hat{\\beta})$.\n",
    "    <br>\n",
    "    <br>\n",
    "    <br>\n",
    "    We can interpret this as\n",
    "$$\n",
    "observed = signal + noise,\n",
    "$$\n",
    "more specifically\n",
    "$$\n",
    "\\underbrace{y}_{observed} = \\underbrace{f_{\\hat{\\lambda}}(X; \\hat{\\beta})}_{signal} + \\underbrace{\\hat{\\varepsilon}}_{noise}.\n",
    "$$\n",
    "</font>"
   ]
  },
  {
   "cell_type": "markdown",
   "id": "b51eb89c",
   "metadata": {
    "id": "b51eb89c"
   },
   "source": [
    "<font size=\"+1\">\n",
    "    <ul>\n",
    "        <li>Let's look at some rough diagnostics.</li>\n",
    "        <br>\n",
    "    </ul>\n",
    "</font>"
   ]
  },
  {
   "cell_type": "code",
   "execution_count": 41,
   "id": "a48357c3",
   "metadata": {
    "id": "a48357c3"
   },
   "outputs": [],
   "source": [
    "# Create a list of tuples consisting of (Y, Y_hat)\n",
    "\n",
    "Y_Y_hat = [(Y.values[j], Y_hat[j]) for j in range(len(Y))]"
   ]
  },
  {
   "cell_type": "code",
   "execution_count": 42,
   "id": "5bdd2273",
   "metadata": {
    "id": "5bdd2273"
   },
   "outputs": [
    {
     "data": {
      "text/plain": [
       "<matplotlib.legend.Legend at 0x145c5de4520>"
      ]
     },
     "execution_count": 42,
     "metadata": {},
     "output_type": "execute_result"
    },
    {
     "data": {
      "image/png": "[encoded data removed]",
      "text/plain": [
       "<Figure size 1152x576 with 1 Axes>"
      ]
     },
     "metadata": {},
     "output_type": "display_data"
    }
   ],
   "source": [
    "plt.figure(figsize=(16,8))\n",
    "\n",
    "plt.scatter(X, Y, label='Y', s=75)\n",
    "plt.plot(X, Y_hat, label='$\\hat{Y}$ Prediction', color='b', linewidth=4)\n",
    "plt.plot( (X,X), ([i for (i,j) in Y_Y_hat], [j for (i,j) in Y_Y_hat]), color='black')\n",
    "\n",
    "plt.xlabel('X')\n",
    "plt.ylabel('$\\hat{Y}(X)$')\n",
    "plt.title('Plot of Y and Predicted $\\hat{Y}$ versus X')\n",
    "plt.legend()"
   ]
  },
  {
   "cell_type": "code",
   "execution_count": 43,
   "id": "32fde265",
   "metadata": {
    "id": "32fde265"
   },
   "outputs": [],
   "source": [
    "# Look at in-sample residuals\n",
    "residual_noise_in_sample = Y - model.predict(X_reshaped)"
   ]
  },
  {
   "cell_type": "code",
   "execution_count": 44,
   "id": "8ad7cfe7",
   "metadata": {
    "id": "8ad7cfe7"
   },
   "outputs": [
    {
     "data": {
      "text/plain": [
       "<matplotlib.legend.Legend at 0x145c650c370>"
      ]
     },
     "execution_count": 44,
     "metadata": {},
     "output_type": "execute_result"
    },
    {
     "data": {
      "image/png": "[encoded data removed]",
      "text/plain": [
       "<Figure size 1152x576 with 1 Axes>"
      ]
     },
     "metadata": {},
     "output_type": "display_data"
    }
   ],
   "source": [
    "plt.figure(figsize=(16,8))\n",
    "\n",
    "plt.plot(residual_noise_in_sample, label='Residuals')\n",
    "\n",
    "plt.ylim([-5,5])\n",
    "plt.axhline(y=4, color='black')\n",
    "plt.axhline(y=-4, color='black')\n",
    "\n",
    "plt.xlabel('X')\n",
    "plt.ylabel('Y - $\\hat{Y}$')\n",
    "plt.title('Residual Plot')\n",
    "plt.legend()"
   ]
  },
  {
   "cell_type": "code",
   "execution_count": 45,
   "id": "b409cc3e",
   "metadata": {
    "id": "b409cc3e",
    "scrolled": true
   },
   "outputs": [
    {
     "data": {
      "text/plain": [
       "0.9979020747037871"
      ]
     },
     "execution_count": 45,
     "metadata": {},
     "output_type": "execute_result"
    }
   ],
   "source": [
    "rmse_in_sample = np.sqrt(np.mean(residual_noise_in_sample**2))\n",
    "\n",
    "rmse_in_sample"
   ]
  },
  {
   "cell_type": "markdown",
   "id": "a1341d1c",
   "metadata": {
    "id": "a1341d1c"
   },
   "source": [
    "<font size=\"+1\">\n",
    "<b>Predict On Unseen Data</b>\n",
    "<br>\n",
    "    <ul>\n",
    "        <li>Once the model is trained, the main task of supervised ML is to evaluate the model on unseen data; that is, data that was not part of the estimation (training) set.</li>\n",
    "        <br>\n",
    "        <li>With the now trained model, you can plug in new data and record the predicted value using the <i>predict()</i> method.</li>\n",
    "        <br>\n",
    "        <li>Why can't we look at out-of-sample residuals or scoring metrics?</li>\n",
    "        <br>\n",
    "        <ul>\n",
    "            <li>Because we simulated out-of-sample input variable data, but we have no corresponding output variable data. </li>\n",
    "            <br>\n",
    "        </ul>\n",
    "        <li>Can we get it?</li>\n",
    "        <br>\n",
    "        <ul>\n",
    "            <li>Yes! Remember, we know the model.</li>\n",
    "            <br>\n",
    "        </ul>\n",
    "    </ul>\n",
    "</font>"
   ]
  },
  {
   "cell_type": "code",
   "execution_count": 46,
   "id": "f5969267",
   "metadata": {
    "id": "f5969267"
   },
   "outputs": [],
   "source": [
    "# For our example, we will create some synthetic data as a proxy for our out-of-sample (test) data\n",
    "# Create simulated test data\n",
    "\n",
    "X_test = rng.uniform(low=0,\n",
    "                     high=10,\n",
    "                     size=200)\n",
    "\n",
    "Y_test = 3 - 4*X_test + rng.normal(loc=0,\n",
    "                                  scale=1,\n",
    "                                  size=200)\n",
    "\n",
    "test_data = pd.DataFrame({'X_test': X_test,\n",
    "                         'Y_test': Y_test})"
   ]
  },
  {
   "cell_type": "code",
   "execution_count": 47,
   "id": "c5c3c649",
   "metadata": {
    "id": "c5c3c649",
    "scrolled": false
   },
   "outputs": [
    {
     "data": {
      "text/html": [
       "<div>\n",
       "<style scoped>\n",
       "    .dataframe tbody tr th:only-of-type {\n",
       "        vertical-align: middle;\n",
       "    }\n",
       "\n",
       "    .dataframe tbody tr th {\n",
       "        vertical-align: top;\n",
       "    }\n",
       "\n",
       "    .dataframe thead th {\n",
       "        text-align: right;\n",
       "    }\n",
       "</style>\n",
       "<table border=\"1\" class=\"dataframe\">\n",
       "  <thead>\n",
       "    <tr style=\"text-align: right;\">\n",
       "      <th></th>\n",
       "      <th>X_test</th>\n",
       "      <th>Y_test</th>\n",
       "    </tr>\n",
       "  </thead>\n",
       "  <tbody>\n",
       "    <tr>\n",
       "      <th>0</th>\n",
       "      <td>0.904407</td>\n",
       "      <td>0.993487</td>\n",
       "    </tr>\n",
       "    <tr>\n",
       "      <th>1</th>\n",
       "      <td>8.970334</td>\n",
       "      <td>-34.103710</td>\n",
       "    </tr>\n",
       "    <tr>\n",
       "      <th>2</th>\n",
       "      <td>0.289995</td>\n",
       "      <td>2.089056</td>\n",
       "    </tr>\n",
       "    <tr>\n",
       "      <th>3</th>\n",
       "      <td>2.408281</td>\n",
       "      <td>-4.811823</td>\n",
       "    </tr>\n",
       "    <tr>\n",
       "      <th>4</th>\n",
       "      <td>1.430219</td>\n",
       "      <td>-4.372634</td>\n",
       "    </tr>\n",
       "    <tr>\n",
       "      <th>...</th>\n",
       "      <td>...</td>\n",
       "      <td>...</td>\n",
       "    </tr>\n",
       "    <tr>\n",
       "      <th>195</th>\n",
       "      <td>1.141041</td>\n",
       "      <td>-1.552717</td>\n",
       "    </tr>\n",
       "    <tr>\n",
       "      <th>196</th>\n",
       "      <td>7.324135</td>\n",
       "      <td>-26.047753</td>\n",
       "    </tr>\n",
       "    <tr>\n",
       "      <th>197</th>\n",
       "      <td>4.400887</td>\n",
       "      <td>-14.559336</td>\n",
       "    </tr>\n",
       "    <tr>\n",
       "      <th>198</th>\n",
       "      <td>5.531038</td>\n",
       "      <td>-19.327066</td>\n",
       "    </tr>\n",
       "    <tr>\n",
       "      <th>199</th>\n",
       "      <td>6.541024</td>\n",
       "      <td>-24.246524</td>\n",
       "    </tr>\n",
       "  </tbody>\n",
       "</table>\n",
       "<p>200 rows × 2 columns</p>\n",
       "</div>"
      ],
      "text/plain": [
       "       X_test     Y_test\n",
       "0    0.904407   0.993487\n",
       "1    8.970334 -34.103710\n",
       "2    0.289995   2.089056\n",
       "3    2.408281  -4.811823\n",
       "4    1.430219  -4.372634\n",
       "..        ...        ...\n",
       "195  1.141041  -1.552717\n",
       "196  7.324135 -26.047753\n",
       "197  4.400887 -14.559336\n",
       "198  5.531038 -19.327066\n",
       "199  6.541024 -24.246524\n",
       "\n",
       "[200 rows x 2 columns]"
      ]
     },
     "execution_count": 47,
     "metadata": {},
     "output_type": "execute_result"
    }
   ],
   "source": [
    "test_data"
   ]
  },
  {
   "cell_type": "markdown",
   "id": "c0acbf41",
   "metadata": {
    "id": "c0acbf41"
   },
   "source": [
    "<font size=\"+1\">\n",
    "    <ul>\n",
    "        <li>Again, we need to properly reshape our data.</li>\n",
    "        <br>\n",
    "    </ul>\n",
    "</font>"
   ]
  },
  {
   "cell_type": "code",
   "execution_count": 48,
   "id": "47931fa3",
   "metadata": {
    "id": "47931fa3"
   },
   "outputs": [],
   "source": [
    "X_test = test_data.loc[:, 'X_test']\n",
    "Y_test = test_data.loc[:, 'Y_test']"
   ]
  },
  {
   "cell_type": "code",
   "execution_count": 49,
   "id": "4f80e9be",
   "metadata": {
    "id": "4f80e9be"
   },
   "outputs": [
    {
     "name": "stdout",
     "output_type": "stream",
     "text": [
      "1\n",
      "(200,)\n"
     ]
    }
   ],
   "source": [
    "print(X_test.ndim)\n",
    "print(X_test.shape)"
   ]
  },
  {
   "cell_type": "code",
   "execution_count": 50,
   "id": "be18937f",
   "metadata": {
    "id": "be18937f"
   },
   "outputs": [],
   "source": [
    "X_test_reshape = X_test.values.reshape(-1,1)"
   ]
  },
  {
   "cell_type": "code",
   "execution_count": 51,
   "id": "234f7f81",
   "metadata": {
    "id": "234f7f81"
   },
   "outputs": [
    {
     "name": "stdout",
     "output_type": "stream",
     "text": [
      "2\n",
      "(200, 1)\n"
     ]
    }
   ],
   "source": [
    "print(X_test_reshape.ndim)\n",
    "print(X_test_reshape.shape)"
   ]
  },
  {
   "cell_type": "code",
   "execution_count": 52,
   "id": "3cfd91dd",
   "metadata": {
    "id": "3cfd91dd"
   },
   "outputs": [],
   "source": [
    "Y_hat_test = model.predict(X_test_reshape)"
   ]
  },
  {
   "cell_type": "code",
   "execution_count": 53,
   "id": "114206b5",
   "metadata": {
    "id": "114206b5"
   },
   "outputs": [],
   "source": [
    "residual_noise_oos = Y_test - Y_hat_test"
   ]
  },
  {
   "cell_type": "code",
   "execution_count": 54,
   "id": "564dd825",
   "metadata": {
    "id": "564dd825"
   },
   "outputs": [
    {
     "data": {
      "text/plain": [
       "<matplotlib.legend.Legend at 0x145c6c38c70>"
      ]
     },
     "execution_count": 54,
     "metadata": {},
     "output_type": "execute_result"
    },
    {
     "data": {
      "image/png": "[encoded data removed]",
      "text/plain": [
       "<Figure size 1152x576 with 1 Axes>"
      ]
     },
     "metadata": {},
     "output_type": "display_data"
    }
   ],
   "source": [
    "plt.figure(figsize=(16,8))\n",
    "\n",
    "plt.plot(residual_noise_oos, label=\"out-of-sample (test) residuals\")\n",
    "plt.plot(residual_noise_in_sample, label=\"in-sample (train) residuals\")\n",
    "\n",
    "plt.ylim([-5,5])\n",
    "plt.axhline(y=4, color='black')\n",
    "plt.axhline(y=-4, color='black')\n",
    "\n",
    "plt.xlabel('X')\n",
    "plt.ylabel('Y - $\\hat{Y}$')\n",
    "plt.title('Residual Plot')\n",
    "plt.legend()"
   ]
  },
  {
   "cell_type": "markdown",
   "id": "fb103f35",
   "metadata": {
    "id": "fb103f35"
   },
   "source": [
    "<font size=\"+1\">\n",
    "    <ul>\n",
    "        <li>The residuals both look like white noise, that is normally distributed, that's good!</li>\n",
    "        <br>\n",
    "        <li>It means our model isn't making any obvious mistakes.</li>\n",
    "        <br>\n",
    "        <li style=\"color:red\">The following time series does not look like it is normally distributed.</li>\n",
    "        <br>\n",
    "        <img src=\"https://i.stack.imgur.com/TLME2.png\" width='300' height='300'>\n",
    "    </ul>\n",
    "</font>"
   ]
  },
  {
   "cell_type": "code",
   "execution_count": 55,
   "id": "fadd87c6",
   "metadata": {
    "id": "fadd87c6"
   },
   "outputs": [
    {
     "name": "stdout",
     "output_type": "stream",
     "text": [
      "The training set (in-sample) error is 0.9979020747037871\n",
      "\n",
      "\n",
      "The test set (out-of-sample) error is 1.064283293028118\n"
     ]
    }
   ],
   "source": [
    "rmse_in_sample = np.sqrt(np.mean(residual_noise_in_sample**2))\n",
    "rmse_oos = np.sqrt(np.mean(residual_noise_oos**2))\n",
    "\n",
    "print(\"The training set (in-sample) error is {}\".format(rmse_in_sample))\n",
    "print('\\n')\n",
    "print('The test set (out-of-sample) error is {}'.format(rmse_oos))"
   ]
  },
  {
   "cell_type": "markdown",
   "id": "018f089a",
   "metadata": {
    "id": "018f089a"
   },
   "source": [
    "<font size=\"+1\">\n",
    "    <ul>\n",
    "        <li>We don't see too much deviation between the in-sample and out-of-sample RMSE, that's also good!</li>\n",
    "    <br>\n",
    "        <li>It means our model isn't overfitting too badly.</li>\n",
    "        <br>\n",
    "        <li style=\"color:red\">The above example is contrived and build on synthetic data for illustrative purposes of Scikit-Learn's Estimator API.</li>\n",
    "        <br>\n",
    "        <li style=\"color:red\">With that being said, synthetic data has a huge place in lots of applications when there isn't enought data available to perform the desired experiments.</li>\n",
    "        <br>\n",
    "    </ul>\n",
    "</font>"
   ]
  },
  {
   "cell_type": "markdown",
   "id": "1cebfb7f",
   "metadata": {
    "id": "1cebfb7f"
   },
   "source": [
    "<hr style=\"border: 20px solid black\">"
   ]
  },
  {
   "cell_type": "markdown",
   "id": "f48d8f1b",
   "metadata": {
    "id": "f48d8f1b"
   },
   "source": [
    "<h2>Important Questions to Answer</h2>\n",
    "<br>\n",
    "<font size=\"+1\">\n",
    "<ol>\n",
    "    <li>What are we trying to predict, and with what variables?</li>\n",
    "    <br>\n",
    "    <li>What class of models?</li>\n",
    "    <br>\n",
    "    <li>How to choose hyperparameters, and where does that come in the instantiation?</li>\n",
    "    <br>\n",
    "    <li>How to train the model?</li>\n",
    "    <br>\n",
    "    <li>How to predict?</li>\n",
    "    <br>\n",
    "    <li>How to measure our predictions?</li>\n",
    "</ol>\n",
    "</font>"
   ]
  },
  {
   "cell_type": "markdown",
   "id": "5dd559e2",
   "metadata": {
    "id": "5dd559e2"
   },
   "source": [
    "<img src=\"https://miro.medium.com/max/1400/1*QV1rVgh3bfaMbtxueS-cgA.png\">"
   ]
  }
 ],
 "metadata": {
  "colab": {
   "provenance": []
  },
  "hide_input": false,
  "kernelspec": {
   "display_name": "Python 3 (ipykernel)",
   "language": "python",
   "name": "python3"
  },
  "language_info": {
   "codemirror_mode": {
    "name": "ipython",
    "version": 3
   },
   "file_extension": ".py",
   "mimetype": "text/x-python",
   "name": "python",
   "nbconvert_exporter": "python",
   "pygments_lexer": "ipython3",
   "version": "3.9.7"
  },
  "toc": {
   "base_numbering": 1,
   "nav_menu": {},
   "number_sections": true,
   "sideBar": true,
   "skip_h1_title": false,
   "title_cell": "Table of Contents",
   "title_sidebar": "Contents",
   "toc_cell": true,
   "toc_position": {
    "height": "calc(100% - 180px)",
    "left": "10px",
    "top": "150px",
    "width": "323.866px"
   },
   "toc_section_display": true,
   "toc_window_display": true
  }
 },
 "nbformat": 4,
 "nbformat_minor": 5
}
