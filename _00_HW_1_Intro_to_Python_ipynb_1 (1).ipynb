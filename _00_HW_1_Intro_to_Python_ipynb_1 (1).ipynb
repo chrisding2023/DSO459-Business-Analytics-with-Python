{
  "cells": [
    {
      "cell_type": "markdown",
      "id": "74b5cfbc",
      "metadata": {
        "id": "74b5cfbc"
      },
      "source": [
        "<h1>Instructions</h1>\n",
        "<br>\n",
        "<font size=\"+1\">\n",
        "    <ul>\n",
        "        <li><b>Recommended Steps</b></li>\n",
        "        <br>\n",
        "        <ol>\n",
        "            <li>Read the prompt and summarize the task in your own words, using as few words as possible for ease of comprehension.</li>\n",
        "            <br>\n",
        "            <li>Pretend to be the computer program that you are trying to create. Examine the smaple inputs and manually produce the appropriate results. Afterward, verify the correctness of your logic by comparing with the given sample outputs.</li>\n",
        "            <br>\n",
        "            <li>On a scrap piece of paper, write step-by-step instructions so that someone else can pretend to be the computer program and produce the appropriate results for any possible inputs. These instructions should target a human audience who does not know the problem description and only has your instructions as a guide. These instructions should serve as the roadmap for your code.</li>\n",
        "            <br>\n",
        "            <li>On another scrap piece of paper, write fragments of Python code to implement each step in your roadmap, focusing especially on the trickiest parts of the logic.</li>\n",
        "            <br>\n",
        "            <li>With your roadmap and code fragments from the previous steps, type Python code into a new Jupyter notebook cel to solve the given problem. You should type incrementally and run the code whenever you add a small chunk. This allows you to correct errors as they occur. It may also be helpful to print intermediate results to verify that the code is carrying out the logic as desired.</li>\n",
        "            <br>\n",
        "            <li>Run your code with some sample inputs and verify that the outputs are exactly the same as the sample outputs.</li>\n",
        "            <br>\n",
        "            <li>Once all of your problems are finished, it is useful to click <i>Kernel</i> $\\rightarrow$ <i>Restart & Run All</i> to verify that your outputs for all of your problems continue to be correct. This helps to ensure that someone else will be able to replicate your results when running your notebook.</li>\n",
        "            <br>\n",
        "            <li style=\"color:red\">Submit the <i>.ipynb</i> file on TurnItIn on Blackboard by the deadline. Be sure to refresh the page and double check your submission actually went through. <b>Note that you only need to submit your solutions, not all of the other recommended steps.</b> The recommended steps are meant to serve as a guide for your thinking process.</li>\n",
        "            <br>\n",
        "        </ol>\n",
        "        <br>\n",
        "        <hr style=\"border: 10px solid black\">\n",
        "        <br>\n",
        "        <li><b>Grading</b></li>\n",
        "        <br>\n",
        "        <li>There are four possible scores you can get from submitting this assignment on time (submitting a blank file or one without any apparent effort does not count). Note that the rubric is designed to incentivize you to go for $100%$ mastery of the material, as the little details matter in programming.</li>\n",
        "        <br>\n",
        "        <ul>\n",
        "            <li>Grade of $5$ out of $5$ - perfect submission with no significant errors</li>\n",
        "            <br>\n",
        "            <li>Grade of $4$ out of $5$ - near perfect submission with one or more significant errors</li>\n",
        "            <br>\n",
        "            <li>Grade of $2$ out of $5$ - apparent effort but far from perfect</li>\n",
        "            <br>\n",
        "            <li>Grade of $0$ out of $5$ - no submission or no apparent effort</li>\n",
        "            <br>\n",
        "        </ul>\n",
        "    </ul>\n",
        "</font>"
      ]
    },
    {
      "cell_type": "markdown",
      "id": "0fb4a4c0",
      "metadata": {
        "id": "0fb4a4c0"
      },
      "source": [
        "<hr style=\"border: 20px solid black\">"
      ]
    },
    {
      "cell_type": "markdown",
      "id": "4a57d36f",
      "metadata": {
        "id": "4a57d36f"
      },
      "source": [
        "<h1>Before You Begin</h1>\n",
        "<br>\n",
        "<font size=\"+1\">\n",
        "    <ul>\n",
        "        <li>Please read: <b>03_Intro_to_Python.ipynb</b></li>\n",
        "        <br>\n",
        "    </ul>\n",
        "</font>"
      ]
    },
    {
      "cell_type": "markdown",
      "id": "53e2370d",
      "metadata": {
        "id": "53e2370d"
      },
      "source": [
        "<hr style=\"border: 20px solid black\">"
      ]
    },
    {
      "cell_type": "markdown",
      "id": "1bde5b7f",
      "metadata": {
        "id": "1bde5b7f"
      },
      "source": [
        "<h1>Questions</h1>"
      ]
    },
    {
      "cell_type": "markdown",
      "id": "9b5bf76c",
      "metadata": {
        "id": "9b5bf76c"
      },
      "source": [
        "<h1>Lists</h1>"
      ]
    },
    {
      "cell_type": "markdown",
      "id": "0eaa7a8d",
      "metadata": {
        "id": "0eaa7a8d"
      },
      "source": [
        "<h2>Create a list named <i>food</i> with two elements: <i>\"rice\"</i> and <i>\"potatoes\"</i>.</h2>"
      ]
    },
    {
      "cell_type": "code",
      "execution_count": 16,
      "id": "d45d385f",
      "metadata": {
        "id": "d45d385f"
      },
      "outputs": [],
      "source": [
        "food = [\"rice\",\"potatoes\"]"
      ]
    },
    {
      "cell_type": "markdown",
      "id": "7275f220",
      "metadata": {
        "id": "7275f220"
      },
      "source": [
        "<h2>Append the string <i>\"broccoli\"</i> to <i>food</i> using <i>.append()</i>.</h2>"
      ]
    },
    {
      "cell_type": "code",
      "execution_count": 17,
      "id": "02bcf740",
      "metadata": {
        "id": "02bcf740"
      },
      "outputs": [],
      "source": [
        "food.append(\"broccoli\")"
      ]
    },
    {
      "cell_type": "markdown",
      "id": "d13e6e1b",
      "metadata": {
        "id": "d13e6e1b"
      },
      "source": [
        "<h2>Add the strings <i>\"bread\"</i> and <i>\"pizza\"</i> to <i>food</i> using <i>.append()</i>.</h2>"
      ]
    },
    {
      "cell_type": "code",
      "execution_count": 18,
      "id": "0cec1d7f",
      "metadata": {
        "id": "0cec1d7f"
      },
      "outputs": [],
      "source": [
        "food.append(\"bread\")\n",
        "food.append(\"pizza\")"
      ]
    },
    {
      "cell_type": "markdown",
      "id": "652201b6",
      "metadata": {
        "id": "652201b6"
      },
      "source": [
        "<h2>Print the first two items in the <i>food</i> list using slicing.</h2>"
      ]
    },
    {
      "cell_type": "code",
      "execution_count": 20,
      "id": "a8dd410e",
      "metadata": {
        "id": "a8dd410e",
        "outputId": "f2c2f520-139c-4cbd-e2e3-671255a0f22f",
        "colab": {
          "base_uri": "https://localhost:8080/"
        }
      },
      "outputs": [
        {
          "output_type": "stream",
          "name": "stdout",
          "text": [
            "['rice', 'potatoes']\n"
          ]
        }
      ],
      "source": [
        "print(food[0:2])"
      ]
    },
    {
      "cell_type": "markdown",
      "id": "8cd28053",
      "metadata": {
        "id": "8cd28053"
      },
      "source": [
        "<h2>Print the last item in <i>food</i> using indexing.</h2>"
      ]
    },
    {
      "cell_type": "code",
      "execution_count": 19,
      "id": "f633d2e9",
      "metadata": {
        "id": "f633d2e9",
        "outputId": "bc21e8bb-f64d-4814-860c-8c86fff7600f",
        "colab": {
          "base_uri": "https://localhost:8080/"
        }
      },
      "outputs": [
        {
          "output_type": "stream",
          "name": "stdout",
          "text": [
            "pizza\n"
          ]
        }
      ],
      "source": [
        "print(food[-1])"
      ]
    },
    {
      "cell_type": "markdown",
      "id": "e722a55d",
      "metadata": {
        "id": "e722a55d"
      },
      "source": [
        "<h2>Create a list called <i>breakfast</i> from the string <i>\"eggs, fruit, orange juice\"</i> using the <i>.split()</i> method.</h2>"
      ]
    },
    {
      "cell_type": "code",
      "execution_count": 6,
      "id": "274543e5",
      "metadata": {
        "id": "274543e5"
      },
      "outputs": [],
      "source": [
        "string = \"eggs, fruit, orange juice\"\n",
        "string = string.split(\",\")\n",
        "breakfast = list(string)"
      ]
    },
    {
      "cell_type": "markdown",
      "id": "e7a971da",
      "metadata": {
        "id": "e7a971da"
      },
      "source": [
        "<h2>Verify that <i>breakfast</i> has three items and is a list using <i>len()</i> and <i>type()</i></h2>"
      ]
    },
    {
      "cell_type": "code",
      "execution_count": null,
      "id": "e56ebc36",
      "metadata": {
        "id": "e56ebc36",
        "outputId": "995baf47-fd43-49a1-994a-083592a49e0e",
        "colab": {
          "base_uri": "https://localhost:8080/"
        }
      },
      "outputs": [
        {
          "output_type": "stream",
          "name": "stdout",
          "text": [
            "3\n"
          ]
        }
      ],
      "source": [
        "print(len(breakfast))"
      ]
    },
    {
      "cell_type": "code",
      "execution_count": null,
      "id": "92ce3484",
      "metadata": {
        "id": "92ce3484",
        "outputId": "74daac0c-833a-4a8c-c9d7-60be957c74c2",
        "colab": {
          "base_uri": "https://localhost:8080/"
        }
      },
      "outputs": [
        {
          "output_type": "stream",
          "name": "stdout",
          "text": [
            "<class 'list'>\n"
          ]
        }
      ],
      "source": [
        "print(type(breakfast))"
      ]
    },
    {
      "cell_type": "markdown",
      "id": "722c9010",
      "metadata": {
        "id": "722c9010"
      },
      "source": [
        "<h2>Create a new list called <i>lengths</i> using a list comprehension that contains the lengths of each string in the <i>breakfast</i> list.</h2>"
      ]
    },
    {
      "cell_type": "code",
      "execution_count": 1,
      "id": "275187b4",
      "metadata": {
        "id": "275187b4"
      },
      "outputs": [],
      "source": [
        "lengths = []\n"
      ]
    },
    {
      "cell_type": "code",
      "execution_count": 9,
      "id": "2e75546a",
      "metadata": {
        "id": "2e75546a"
      },
      "outputs": [],
      "source": [
        "for i in range(0,len(breakfast)):\n",
        "  lengths.append(len(breakfast[i]))"
      ]
    },
    {
      "cell_type": "markdown",
      "id": "4efdc3be",
      "metadata": {
        "id": "4efdc3be"
      },
      "source": [
        "<h1>Dictionaries</h1>"
      ]
    },
    {
      "cell_type": "markdown",
      "id": "f465ecc0",
      "metadata": {
        "id": "f465ecc0"
      },
      "source": [
        "<h2>Create an empty dictionary named <i>dual_class_stock_price</i>.</h2>"
      ]
    },
    {
      "cell_type": "code",
      "execution_count": 8,
      "id": "67f70e26",
      "metadata": {
        "id": "67f70e26"
      },
      "outputs": [],
      "source": [
        "dual_class_stock_price = {}"
      ]
    },
    {
      "cell_type": "markdown",
      "id": "abd06114",
      "metadata": {
        "id": "abd06114"
      },
      "source": [
        "<h2>Using \"square bracket\" notation, enter the following data into the dictionary one item at a time:</h2>\n",
        "\n",
        "<ul>\n",
        "    <li>\"GOOGL\": \"2,952.77\"</li>\n",
        "    <li>\"GOOG\": \"2,962.12\"</li>\n",
        "    <br>\n",
        "    <li>\"BRK.A\": \"428,402.00\"</li>\n",
        "    <li>\"BRK.B\": \"284.52\"</li>\n",
        "    <br>\n",
        "    <li>\"AAC\": \"9.78\"</li>\n",
        "    <li>\"AAC.U\": \"9.98\"</li>\n",
        "    <br>\n",
        "    <li>\"YUM\": \"133.12\"</li>\n",
        "    <li>\"YUMC\": \"51.34\"</li>\n",
        "    <br>\n",
        "    <li>\"HVT\": \"31.12\"</li>\n",
        "    <li>\"HVT.A\": \"31.26\"</li>\n",
        "</ul>"
      ]
    },
    {
      "cell_type": "code",
      "execution_count": 12,
      "id": "ac7f3cbf",
      "metadata": {
        "id": "ac7f3cbf"
      },
      "outputs": [],
      "source": [
        "dual_class_stock_price = {\"GOOGL\":\"2952.77\",\"GOOG\":\"2962.12\",\"BRK.A\":\"428,402.00\",\"BRK.B\":\"284.52\",\"AAC\":\"9.78\",\n",
        "              \"ACC.U\":\"9.98\",\"YUM\":\"133.12\",\"YUMC\":\"51.34\",\"HVT\":\"31.12\",\"HVT.A\":\"31.26\"}"
      ]
    },
    {
      "cell_type": "code",
      "execution_count": 13,
      "id": "f85a4e46",
      "metadata": {
        "id": "f85a4e46",
        "colab": {
          "base_uri": "https://localhost:8080/"
        },
        "outputId": "e59ed66c-5184-44be-f638-e96f3e4ca4cc"
      },
      "outputs": [
        {
          "output_type": "stream",
          "name": "stdout",
          "text": [
            "{'GOOGL': '2952.77', 'GOOG': '2962.12', 'BRK.A': '428,402.00', 'BRK.B': '284.52', 'AAC': '9.78', 'ACC.U': '9.98', 'YUM': '133.12', 'YUMC': '51.34', 'HVT': '31.12', 'HVT.A': '31.26'}\n"
          ]
        }
      ],
      "source": [
        "print(dual_class_stock_price)"
      ]
    },
    {
      "cell_type": "markdown",
      "id": "b3dd671c",
      "metadata": {
        "id": "b3dd671c"
      },
      "source": [
        "<h2>Write two <i>if</i> statements to check if <i>\"GOOG\"</i> and <i>\"GOOG.A\"</i> exist as keys in the dictionary. Set their values to <i>\"Not a valid ticker\"</i> if the key doesn't exist.</h2>"
      ]
    },
    {
      "cell_type": "code",
      "execution_count": 21,
      "id": "4232c5d8",
      "metadata": {
        "id": "4232c5d8",
        "colab": {
          "base_uri": "https://localhost:8080/"
        },
        "outputId": "1fa91676-8bf6-485d-aff6-d3fb19d57077"
      },
      "outputs": [
        {
          "output_type": "stream",
          "name": "stdout",
          "text": [
            "The key exists\n"
          ]
        }
      ],
      "source": [
        "if \"GOOG\" in dual_class_stock_price.keys():\n",
        "  print(\"The key exists\")\n",
        "else:\n",
        "  print(\"Not a valid ticker\")"
      ]
    },
    {
      "cell_type": "code",
      "execution_count": 22,
      "id": "73381f99",
      "metadata": {
        "id": "73381f99",
        "colab": {
          "base_uri": "https://localhost:8080/"
        },
        "outputId": "4fd2c3d6-19bb-49d2-d276-70e426721f89"
      },
      "outputs": [
        {
          "output_type": "stream",
          "name": "stdout",
          "text": [
            "Not a valid ticker\n"
          ]
        }
      ],
      "source": [
        "if \"GOOG.A\" in dual_class_stock_price.keys():\n",
        "  print(\"The key exists\")\n",
        "else:\n",
        "  print(\"Not a valid ticker\")"
      ]
    },
    {
      "cell_type": "markdown",
      "source": [],
      "metadata": {
        "id": "3ZdtGGaFlfyU"
      },
      "id": "3ZdtGGaFlfyU"
    },
    {
      "cell_type": "markdown",
      "id": "e0eb8bc4",
      "metadata": {
        "id": "e0eb8bc4"
      },
      "source": [
        "<h2>Write a <i>for</i> loop to display the ticker and price contained in the dictionary.</h2>\n",
        "\n",
        "The output should look something like this:\n",
        "\n",
        "<i>Ticker BRK.A had a price of \\$428,402.00.</i>"
      ]
    },
    {
      "cell_type": "code",
      "execution_count": 25,
      "id": "896de6e6",
      "metadata": {
        "id": "896de6e6",
        "colab": {
          "base_uri": "https://localhost:8080/"
        },
        "outputId": "90b9371e-4a2c-4002-adeb-7612fa3ad709"
      },
      "outputs": [
        {
          "output_type": "stream",
          "name": "stdout",
          "text": [
            "Ticker GOOGL has a price of $ 2952.77\n",
            "Ticker GOOG has a price of $ 2962.12\n",
            "Ticker BRK.A has a price of $ 428,402.00\n",
            "Ticker BRK.B has a price of $ 284.52\n",
            "Ticker AAC has a price of $ 9.78\n",
            "Ticker ACC.U has a price of $ 9.98\n",
            "Ticker YUM has a price of $ 133.12\n",
            "Ticker YUMC has a price of $ 51.34\n",
            "Ticker HVT has a price of $ 31.12\n",
            "Ticker HVT.A has a price of $ 31.26\n"
          ]
        }
      ],
      "source": [
        "for k,v in dual_class_stock_price.items():\n",
        "  print(\"Ticker \" + k + \" has a price of $ \" + v)"
      ]
    },
    {
      "cell_type": "markdown",
      "id": "5a014705",
      "metadata": {
        "id": "5a014705"
      },
      "source": [
        "<h1>Iteration</h1>"
      ]
    },
    {
      "cell_type": "markdown",
      "id": "fbe5f2b0",
      "metadata": {
        "id": "fbe5f2b0"
      },
      "source": [
        "<h2>Write a <i>for</i> loop that prints out the integers 2 through 10, each on a new line, using <i>range()</i></h2>"
      ]
    },
    {
      "cell_type": "code",
      "execution_count": 29,
      "id": "35630722",
      "metadata": {
        "id": "35630722",
        "colab": {
          "base_uri": "https://localhost:8080/"
        },
        "outputId": "71a38427-9137-4b10-9eb3-2863ef6098d3"
      },
      "outputs": [
        {
          "output_type": "stream",
          "name": "stdout",
          "text": [
            "2\n",
            "3\n",
            "4\n",
            "5\n",
            "6\n",
            "7\n",
            "8\n",
            "9\n",
            "10\n"
          ]
        }
      ],
      "source": [
        "for i in range(2,11):\n",
        "  print(i)"
      ]
    },
    {
      "cell_type": "markdown",
      "id": "67246ce7",
      "metadata": {
        "id": "67246ce7"
      },
      "source": [
        "<h2>Write a <i>while</i> loop that prints out the integers 2 through 10 (you'll need to create a new integer first)</h2>"
      ]
    },
    {
      "cell_type": "code",
      "execution_count": 30,
      "id": "57a4a77b",
      "metadata": {
        "id": "57a4a77b",
        "colab": {
          "base_uri": "https://localhost:8080/"
        },
        "outputId": "101c0fcd-7db5-42d8-cbbf-41c3669a134a"
      },
      "outputs": [
        {
          "output_type": "stream",
          "name": "stdout",
          "text": [
            "2\n",
            "3\n",
            "4\n",
            "5\n",
            "6\n",
            "7\n",
            "8\n",
            "9\n",
            "10\n"
          ]
        }
      ],
      "source": [
        "f = 2\n",
        "while f <= 10:\n",
        "  print(f)\n",
        "  f += 1"
      ]
    },
    {
      "cell_type": "markdown",
      "id": "aa184a60",
      "metadata": {
        "id": "aa184a60"
      },
      "source": [
        "<h2>Write a function called <i>doubles()</i> that takes a number as its input and doubles it. Then use <i>doubles()</i> in a loop to double the number 2 three times, displaying each result on a separate line.</h2>\n",
        "<br>\n",
        "For example, sample output should look like:\n",
        "<br>\n",
        "4\n",
        "<br>\n",
        "8\n",
        "<br>\n",
        "16\n",
        "<br>"
      ]
    },
    {
      "cell_type": "code",
      "execution_count": 35,
      "id": "af9795a1",
      "metadata": {
        "id": "af9795a1",
        "colab": {
          "base_uri": "https://localhost:8080/"
        },
        "outputId": "39f26c0f-735a-43d3-fec2-44be8623fffc"
      },
      "outputs": [
        {
          "output_type": "stream",
          "name": "stdout",
          "text": [
            "4\n",
            "8\n",
            "16\n"
          ]
        }
      ],
      "source": [
        "def doubles(number):\n",
        "  return number*2\n",
        "time = 0\n",
        "num = 2\n",
        "while time <3:\n",
        "  num = doubles(num)\n",
        "  print(num)\n",
        "  time += 1\n"
      ]
    },
    {
      "cell_type": "markdown",
      "id": "46eefe5b",
      "metadata": {
        "id": "46eefe5b"
      },
      "source": [
        "<h2>Track Your Investments</h2>\n",
        "<br>\n",
        "<font size=\"+1\">\n",
        "    <ul>\n",
        "        <li>The goal of this exercise is to write a program that tracks the growing amount of an investment over time.</li>\n",
        "        <br>\n",
        "        <ul>\n",
        "            <li>The inital deposit for an investment is called the principal amount.</li>\n",
        "            <br>\n",
        "            <li>Each year the amount increases by a fixed percentage, called the annual rate of return.</li>\n",
        "            <br>\n",
        "        </ul>\n",
        "        <li>Assume a principal amount of $\\$100,000$ with an annual rate of return of $5\\%$.</li>\n",
        "        <br>\n",
        "        <li>Write a function called <i>invest</i> with three arguments:</li>\n",
        "        <br>\n",
        "        <ul>\n",
        "            <li>the principal amount,</li>\n",
        "            <br>\n",
        "            <li>the annual rate of return,</li>\n",
        "            <br>\n",
        "            <li>the number of years to calculate.</li>\n",
        "            <br>\n",
        "            <li>The function signature could look something like this <i>def invest(amount, rate, years):</i></li>\n",
        "            <br>\n",
        "        </ul>\n",
        "        <li>The function should then print out the amount of the investment, rounded to two decimal places, at the end of each year for the specified number of years.</li>\n",
        "        <br>\n",
        "        <li>For example, calling <i>invest(100, 0.05, 4)</i> should print the following:\n",
        "        <br>\n",
        "        <br>\n",
        "        year 1: \\$105.00\n",
        "        <br>\n",
        "        year 2: \\$110.25\n",
        "        <br>\n",
        "        year 3: \\$115.76\n",
        "        <br>\n",
        "        year 4: \\$121.55\n",
        "        </li>\n",
        "        <br>\n",
        "        <li>Call this function for a principal amount of 200, with an annual rate of return of 9%, over the course of 11 years.</li>\n",
        "        <br>\n",
        "    </ul>\n",
        "</font>"
      ]
    },
    {
      "cell_type": "code",
      "execution_count": 39,
      "id": "d29bda54",
      "metadata": {
        "id": "d29bda54"
      },
      "outputs": [],
      "source": [
        "def invest(amount,rate,years):\n",
        "  year = 0\n",
        "  while year < years:\n",
        "    year += 1\n",
        "    final = amount*(1+rate)**year\n",
        "    format = \"{:.2f}\".format(final)\n",
        "    print(\"year\" + str(year) + \": \" + str(format))"
      ]
    },
    {
      "cell_type": "code",
      "execution_count": 40,
      "id": "88d42eb1",
      "metadata": {
        "id": "88d42eb1",
        "colab": {
          "base_uri": "https://localhost:8080/"
        },
        "outputId": "bb230c05-5a95-494d-d236-f533dfdd4e95"
      },
      "outputs": [
        {
          "output_type": "stream",
          "name": "stdout",
          "text": [
            "year1: 218.00\n",
            "year2: 237.62\n",
            "year3: 259.01\n",
            "year4: 282.32\n",
            "year5: 307.72\n",
            "year6: 335.42\n",
            "year7: 365.61\n",
            "year8: 398.51\n",
            "year9: 434.38\n",
            "year10: 473.47\n",
            "year11: 516.09\n"
          ]
        }
      ],
      "source": [
        "finalamount = invest(200,0.09,11)"
      ]
    },
    {
      "cell_type": "code",
      "execution_count": null,
      "id": "97a8a228",
      "metadata": {
        "id": "97a8a228"
      },
      "outputs": [],
      "source": []
    },
    {
      "cell_type": "markdown",
      "id": "9991e3de",
      "metadata": {
        "id": "9991e3de"
      },
      "source": [
        "<h1>Control Flow</h1>"
      ]
    },
    {
      "cell_type": "markdown",
      "id": "b4cf90ca",
      "metadata": {
        "id": "b4cf90ca"
      },
      "source": [
        "<h2>Write a program that takes a given number and if the number equals 10, then the program should display <i>\"You win!\"</i> and if the number is not 10 then it should display <i>\"I'm sorry, that's the wrong number.\"</i></h2>"
      ]
    },
    {
      "cell_type": "code",
      "execution_count": 45,
      "id": "acbc98ce",
      "metadata": {
        "id": "acbc98ce",
        "colab": {
          "base_uri": "https://localhost:8080/"
        },
        "outputId": "6a1422b4-4e3c-41b3-cd78-409e3c9f9621"
      },
      "outputs": [
        {
          "output_type": "stream",
          "name": "stdout",
          "text": [
            "Give me a number:9\n",
            "I'm sorry, that's the wrong number.\n"
          ]
        }
      ],
      "source": [
        "num = int(input(\"Give me a number:\"))\n",
        "if num == 10:\n",
        "  print(\"You win!\")\n",
        "else:\n",
        "  print(\"I'm sorry, that's the wrong number.\")"
      ]
    },
    {
      "cell_type": "code",
      "execution_count": null,
      "id": "5cda03e6",
      "metadata": {
        "id": "5cda03e6"
      },
      "outputs": [],
      "source": []
    },
    {
      "cell_type": "code",
      "execution_count": null,
      "id": "5ad55499",
      "metadata": {
        "id": "5ad55499"
      },
      "outputs": [],
      "source": []
    },
    {
      "cell_type": "markdown",
      "id": "b274b3eb",
      "metadata": {
        "id": "b274b3eb"
      },
      "source": [
        "<h2>Write a program that compares the length of the words <i>\"Product\", \"Data\", \"Sales\"</i> to the number five.</h2>\n",
        "<br>\n",
        "<font size=\"+1\">\n",
        "    <ul>\n",
        "        <li>The program should display one of the following outputs depending on the word:</li>\n",
        "        <br>\n",
        "        <ul>\n",
        "            <li><i>\"This word is less than 5 characters long.\"</i></li>\n",
        "            <li><i>\"This word is more than 5 characters long.\"</i></li>\n",
        "            <li><i>\"This word is 5 characters long.\"</i></li>\n",
        "            <br>\n",
        "        </ul>\n",
        "    </ul>\n",
        "</font>"
      ]
    },
    {
      "cell_type": "code",
      "execution_count": 46,
      "id": "a9740407",
      "metadata": {
        "id": "a9740407",
        "colab": {
          "base_uri": "https://localhost:8080/"
        },
        "outputId": "2aa48e30-1186-4005-baba-0d1fa504e64c"
      },
      "outputs": [
        {
          "output_type": "stream",
          "name": "stdout",
          "text": [
            "This word is more than 5 character long.\n",
            "This word is less than 5 characters long.\n",
            "This word is 5 characters long.\n"
          ]
        }
      ],
      "source": [
        "def comparsion(word):\n",
        "  if len(word) < 5:\n",
        "    print(\"This word is less than 5 characters long.\")\n",
        "  elif len(word) > 5:\n",
        "    print(\"This word is more than 5 character long.\")\n",
        "  else:\n",
        "    print(\"This word is 5 characters long.\")\n",
        "comparsion(\"Product\")\n",
        "comparsion(\"Data\")\n",
        "comparsion(\"Sales\")"
      ]
    },
    {
      "cell_type": "code",
      "execution_count": null,
      "id": "5a2e32ff",
      "metadata": {
        "id": "5a2e32ff"
      },
      "outputs": [],
      "source": []
    },
    {
      "cell_type": "markdown",
      "id": "7f472601",
      "metadata": {
        "id": "7f472601"
      },
      "source": [
        "<h2>Find the Factors of a Number</h2>\n",
        "<br>\n",
        "<font size=\"+1\">\n",
        "    <ul>\n",
        "        <li>The goal of this exercise is to write a program that finds the factors of a positive whole number.</li>\n",
        "        <br>\n",
        "        <li>A factor of a positive number is any positive number less than or equal to itself that divides the number with no remainder.</li>\n",
        "        <br>\n",
        "        <li>For example, 3 is a factor of 12 because 12 / 3 = 4 with no remainder. However, 5 is not a factor of 12 because 12 / 5 = 2 with a remainder of 2. </li>\n",
        "        <br>\n",
        "        <li>Write a program that takes a positive number and then prints out the factors of that number.</li>\n",
        "        <br>\n",
        "        <li>Sample output for the positive number of 12 should look like:</li>\n",
        "        <br>\n",
        "        <ul>\n",
        "            <li>1 is a factor of 12.</li>\n",
        "            <li>2 is a factor of 12.</li>\n",
        "            <li>3 is a factor of 12.</li>\n",
        "            <li>4 is a factor of 12.</li>\n",
        "            <li>6 is a factor of 12.</li>\n",
        "            <li>12 is a factor of 12.</li>\n",
        "            <br>\n",
        "        </ul>\n",
        "        <li style=\"color:red\">You should use the $\\%$ operator to get the remainder of dividing one number by another.</li>\n",
        "        <br>\n",
        "    </ul>\n",
        "</font>"
      ]
    },
    {
      "cell_type": "code",
      "execution_count": 47,
      "id": "a712a2b0",
      "metadata": {
        "id": "a712a2b0",
        "colab": {
          "base_uri": "https://localhost:8080/"
        },
        "outputId": "8d1b4f0e-14e5-4e52-d8a8-47ca85980f5b"
      },
      "outputs": [
        {
          "output_type": "stream",
          "name": "stdout",
          "text": [
            "1 is a factor of 12\n",
            "2 is a factor of 12\n",
            "3 is a factor of 12\n",
            "4 is a factor of 12\n",
            "6 is a factor of 12\n",
            "12 is a factor of 12\n"
          ]
        }
      ],
      "source": [
        "def factors(number):\n",
        "  list = []\n",
        "  for i in range(1,number+1):\n",
        "    if number%i == 0:\n",
        "      list.append(i)\n",
        "  for i in list:\n",
        "    print(str(i)+ \" is a factor of \" + str(number))\n",
        "factors(12)"
      ]
    },
    {
      "cell_type": "markdown",
      "id": "ac0eb66d",
      "metadata": {
        "id": "ac0eb66d"
      },
      "source": [
        "<h1>Functions</h1>\n",
        "<br>\n",
        "<font size=\"+1\" style=\"color:red\">\n",
        "    Be sure to document (comment) your functions!\n",
        "</font>"
      ]
    },
    {
      "cell_type": "markdown",
      "id": "4e178b0b",
      "metadata": {
        "id": "4e178b0b"
      },
      "source": [
        "<h2>Create a function calculates the mean of a list of numbers using only basic arithmetic, not list methods.</h2>"
      ]
    },
    {
      "cell_type": "code",
      "execution_count": 54,
      "id": "2b324b6b",
      "metadata": {
        "id": "2b324b6b",
        "colab": {
          "base_uri": "https://localhost:8080/"
        },
        "outputId": "a1e08204-e703-432a-9760-6bbd0ccb5188"
      },
      "outputs": [
        {
          "output_type": "execute_result",
          "data": {
            "text/plain": [
              "20.0"
            ]
          },
          "metadata": {},
          "execution_count": 54
        }
      ],
      "source": [
        "\n",
        "def mean(list):\n",
        "  sum = 0\n",
        "  for i in list:\n",
        "    sum += i\n",
        "  ave = sum/len(list)\n",
        "  return ave\n",
        "list = [12,19,29]\n",
        "mean(list)"
      ]
    },
    {
      "cell_type": "markdown",
      "id": "d5ad8dfe",
      "metadata": {
        "id": "d5ad8dfe"
      },
      "source": [
        "<h2>Write a function that returns the first and last elements of a given string in the form of a new string with only two characters. Return a statement if the given string has less than two characters.</h2>"
      ]
    },
    {
      "cell_type": "code",
      "execution_count": 58,
      "id": "4c4d25a1",
      "metadata": {
        "id": "4c4d25a1",
        "colab": {
          "base_uri": "https://localhost:8080/",
          "height": 35
        },
        "outputId": "370840e4-d486-47eb-8673-cb0160e19fd4"
      },
      "outputs": [
        {
          "output_type": "execute_result",
          "data": {
            "text/plain": [
              "'se'"
            ],
            "application/vnd.google.colaboratory.intrinsic+json": {
              "type": "string"
            }
          },
          "metadata": {},
          "execution_count": 58
        }
      ],
      "source": [
        "def chara2(word):\n",
        "  if len(word) >2:\n",
        "    return word[0]+word[-1]\n",
        "  else:\n",
        "    return \"string has less than two characters.\"\n",
        "chara2(\"sample\")"
      ]
    },
    {
      "cell_type": "code",
      "execution_count": null,
      "id": "fc4510d9",
      "metadata": {
        "id": "fc4510d9"
      },
      "outputs": [],
      "source": []
    },
    {
      "cell_type": "markdown",
      "id": "b5d3819a",
      "metadata": {
        "id": "b5d3819a"
      },
      "source": [
        "<h2>Convert Temperatures</h2>\n",
        "<br>\n",
        "<font size=\"+1\">\n",
        "    <ul>\n",
        "        <li>The goal of this exercise is to write a program that defines two functions:</li>\n",
        "        <br>\n",
        "        <ul>\n",
        "            <li><i>convert_celsius_to_fahrenheit()</i> that takes one <i>float</i> argument representing degrees Celsius and returns a <i>float</i> representing the same temperature in degrees Fahrenheit using the formula\n",
        "            $$\n",
        "            F = C \\times \\frac{9}{5} + 32,\n",
        "            $$</li>\n",
        "            <br>\n",
        "            <li><i>convert_fahrenheit_to_celsius()</i> that takes one <i>float</i> argument that represents degrees Fahrenheit and returns a <i>float</i> representing the same temperature in degrees Celsius using the formula\n",
        "            $$\n",
        "            C = (F-32) \\times \\frac{5}{9}.\n",
        "            $$</li>\n",
        "            <br>\n",
        "        </ul>\n",
        "        <li>The program should display all converted temperatures rounded to two decimal places.</li>\n",
        "        <br>\n",
        "        <li>The program should be able to run the following:</li>\n",
        "        <br>\n",
        "        <ul>\n",
        "            <li><i>convert_celsius_to_fahrenheit(37)</i> should return <i>37 degrees C = 98.60 degrees F</i></li>\n",
        "            <br>\n",
        "            <li><i>convert_fahrenheit_to_celsius(72)</i> should return <i>72 degrees F = 22.22 degrees C</i></li>\n",
        "            <br>\n",
        "        </ul>\n",
        "    </ul>\n",
        "</font>"
      ]
    },
    {
      "cell_type": "code",
      "execution_count": 63,
      "id": "3eccdea4",
      "metadata": {
        "id": "3eccdea4",
        "colab": {
          "base_uri": "https://localhost:8080/",
          "height": 53
        },
        "outputId": "1f799366-36a7-49e5-ed53-e1033b6d192e"
      },
      "outputs": [
        {
          "name": "stdout",
          "output_type": "stream",
          "text": [
            "enter a number for celsius:37\n"
          ]
        },
        {
          "output_type": "execute_result",
          "data": {
            "text/plain": [
              "'37.0degrees C = 98.60degrees F'"
            ],
            "application/vnd.google.colaboratory.intrinsic+json": {
              "type": "string"
            }
          },
          "metadata": {},
          "execution_count": 63
        }
      ],
      "source": [
        "def convert_celsius_to_fahrenheit(celsius):\n",
        "  fahrenheit = celsius*(9/5)+32\n",
        "  fahrenheit = \"{:.2f}\".format(fahrenheit)\n",
        "  return str(celsius) + \" degrees C = \" + str(fahrenheit) + \" degrees F\"\n",
        "\n",
        "degree = float(input(\"enter a number for celsius:\"))\n",
        "convert_celsius_to_fahrenheit(degree)\n",
        "  \n"
      ]
    },
    {
      "cell_type": "code",
      "execution_count": 67,
      "id": "34007f1e",
      "metadata": {
        "id": "34007f1e",
        "colab": {
          "base_uri": "https://localhost:8080/",
          "height": 53
        },
        "outputId": "b07da49d-e7ff-4439-a62f-d5f8633cfe05"
      },
      "outputs": [
        {
          "name": "stdout",
          "output_type": "stream",
          "text": [
            "enter a number for fahrenheit:72\n"
          ]
        },
        {
          "output_type": "execute_result",
          "data": {
            "text/plain": [
              "'72.0 degrees F = 22.22 degree C'"
            ],
            "application/vnd.google.colaboratory.intrinsic+json": {
              "type": "string"
            }
          },
          "metadata": {},
          "execution_count": 67
        }
      ],
      "source": [
        "\n",
        "def convert_fahrenheit_to_celsius(fahrenheit):\n",
        "  celsius = (fahrenheit-32)*(5/9)\n",
        "  celsius = \"{:.2f}\".format(celsius)\n",
        "  return str(fahrenheit) + \" degrees F = \" + str(celsius) + \" degree C\"\n",
        "degree = float(input(\"enter a number for fahrenheit:\"))\n",
        "convert_fahrenheit_to_celsius(degree)"
      ]
    },
    {
      "cell_type": "code",
      "execution_count": null,
      "id": "474afc18",
      "metadata": {
        "id": "474afc18"
      },
      "outputs": [],
      "source": []
    }
  ],
  "metadata": {
    "hide_input": false,
    "kernelspec": {
      "display_name": "Python 3 (ipykernel)",
      "language": "python",
      "name": "python3"
    },
    "language_info": {
      "codemirror_mode": {
        "name": "ipython",
        "version": 3
      },
      "file_extension": ".py",
      "mimetype": "text/x-python",
      "name": "python",
      "nbconvert_exporter": "python",
      "pygments_lexer": "ipython3",
      "version": "3.8.8"
    },
    "toc": {
      "base_numbering": 1,
      "nav_menu": {},
      "number_sections": true,
      "sideBar": true,
      "skip_h1_title": false,
      "title_cell": "Table of Contents",
      "title_sidebar": "Contents",
      "toc_cell": false,
      "toc_position": {
        "height": "calc(100% - 180px)",
        "left": "10px",
        "top": "150px",
        "width": "284.417px"
      },
      "toc_section_display": true,
      "toc_window_display": true
    },
    "colab": {
      "provenance": [],
      "collapsed_sections": []
    }
  },
  "nbformat": 4,
  "nbformat_minor": 5
}