{
 "cells": [
  {
   "cell_type": "markdown",
   "id": "d0a1fa6c",
   "metadata": {
    "id": "d0a1fa6c"
   },
   "source": [
    "<font size=\"+3\">\n",
    "    <b>Working with JSON Data</b>\n",
    "</font>"
   ]
  },
  {
   "cell_type": "markdown",
   "id": "d1d700d5",
   "metadata": {
    "id": "d1d700d5"
   },
   "source": [
    "<h1>Instructions</h1>\n",
    "<br>\n",
    "<font size=\"+1\" style=\"color:dodgerblue\">\n",
    "    <ul>\n",
    "        <li>There are questions in this assignment that are intentionally vague. You are to use your best judgment to decide the best way to answer the question.</li>\n",
    "        <br>\n",
    "        <li>Explain your answers as best as you can.</li>\n",
    "        <br>\n",
    "        <li>Note some of the keys that are asked about in this assignment, which were used in our in-class Twitter data, might not be in this version of Twitter API-generated dataset.</li>\n",
    "        <br>\n",
    "        <ul>\n",
    "            <li>This is something that often happens in databases within companies.</li>\n",
    "            <br>\n",
    "            <li>Your job as a data analyst or data scientist, or someone managing a team of analysts, is to decide on a game plan for answering the questions with the given data that you do have.</li>\n",
    "            <br>\n",
    "            <li>It is possible that there isn't a good solution, and the solution is to talk to the data vendor to get different data capable of answering the question. </li>\n",
    "            <br>\n",
    "            <li>However, sometimes it is possible to get a sufficient answer if you think outside of the box.</li>\n",
    "            <br>\n",
    "            <li>The most important thing is you explain what you did, and how that helps solve the question, at least to a first approximation.</li>\n",
    "            <br>\n",
    "            <li>For example, if there isn't data telling you the Tweet has been truncated, how could you use the text to give an answer that is right some percentage of the time? </li>\n",
    "            <br>\n",
    "            <li>One might consider if ellipses are at the end of the Tweet, and/or if the length of the Tweet is at its maximal length, and/or if ellipses are at the beginning as well as the end of the Tweet, etc.</li>\n",
    "            <br>\n",
    "        </ul>\n",
    "         <li style=\"color:red\">Submit the <i>.ipynb</i> file on TurnItIn on Blackboard by the deadline. Be sure to refresh the page and double check your submission actually went through. <b>Note that you only need to submit your solutions, not all of the other recommended steps.</b> The recommended steps are meant to serve as a guide for your thinking process.</li>\n",
    "            <br>\n",
    "        </ol>\n",
    "        <br>\n",
    "        <hr style=\"border: 10px solid black\">\n",
    "        <br>\n",
    "        <li style=\"color:black\"><b>Grading</b></li>\n",
    "        <br>\n",
    "        <li style=\"color:black\">There are four possible scores you can get from submitting this assignment on time (submitting a blank file or one without any apparent effort does not count). Note that the rubric is designed to incentivize you to go for $100%$ mastery of the material, as the little details matter in programming.</li>\n",
    "        <br>\n",
    "        <ul style=\"color:black\">\n",
    "            <li>Grade of $5$ out of $5$ - perfect submission with no significant errors</li>\n",
    "            <br>\n",
    "            <li>Grade of $4$ out of $5$ - near perfect submission with one or more significant errors</li>\n",
    "            <br>\n",
    "            <li>Grade of $2$ out of $5$ - apparent effort but far from perfect</li>\n",
    "            <br>\n",
    "            <li>Grade of $0$ out of $5$ - no submission or no apparent effort</li>\n",
    "            <br>\n",
    "        </ul>\n",
    "    </ul>\n",
    "</font>"
   ]
  },
  {
   "cell_type": "markdown",
   "id": "0fb4a4c0",
   "metadata": {
    "id": "0fb4a4c0"
   },
   "source": [
    "<hr style=\"border: 20px solid black\">"
   ]
  },
  {
   "cell_type": "markdown",
   "id": "4a57d36f",
   "metadata": {
    "id": "4a57d36f"
   },
   "source": [
    "<h1>Before You Begin</h1>\n",
    "<br>\n",
    "<font size=\"+1\">\n",
    "    <ul>\n",
    "        <li>Please read: <b>04_Python_and_Twitter_Data.ipynb</b></li>\n",
    "        <br>\n",
    "    </ul>\n",
    "</font>"
   ]
  },
  {
   "cell_type": "markdown",
   "id": "53e2370d",
   "metadata": {
    "id": "53e2370d"
   },
   "source": [
    "<hr style=\"border: 20px solid black\">"
   ]
  },
  {
   "cell_type": "markdown",
   "id": "3efebc84",
   "metadata": {
    "id": "3efebc84"
   },
   "source": [
    "<h1>Imports</h1>"
   ]
  },
  {
   "cell_type": "code",
   "execution_count": 6,
   "id": "49179a2c",
   "metadata": {
    "id": "49179a2c"
   },
   "outputs": [],
   "source": [
    "import os\n",
    "import time\n",
    "\n",
    "import json\n",
    "import datetime\n",
    "\n",
    "import pandas as pd"
   ]
  },
  {
   "cell_type": "markdown",
   "id": "e26b65de",
   "metadata": {
    "id": "e26b65de"
   },
   "source": [
    "<h1>Twitter API v2</h1>\n",
    "\n",
    "<a href=\"https://developer.twitter.com/en/docs/twitter-api/data-dictionary/object-model/tweet\">Twitter API v2 Data Dictionary</a>"
   ]
  },
  {
   "cell_type": "code",
   "execution_count": 7,
   "id": "cbe393cb",
   "metadata": {
    "id": "cbe393cb"
   },
   "outputs": [],
   "source": [
    "file = open(\"twitter_data_v2_api.json\",\"r\")\n",
    "data = json.load(file)\n",
    "file.close()"
   ]
  },
  {
   "cell_type": "code",
   "execution_count": 8,
   "id": "99a4dd87",
   "metadata": {
    "id": "99a4dd87"
   },
   "outputs": [
    {
     "data": {
      "text/plain": [
       "{'id': '1212092628029698048',\n",
       " 'text': 'We believe the best future version of our API will come from building it with YOU. Here’s to another great year with everyone who builds on the Twitter platform. We can’t wait to continue working with you in the new year. https://t.co/yvxdK6aOo2',\n",
       " 'possibly_sensitive': False,\n",
       " 'referenced_tweets': [{'type': 'replied_to', 'id': '1212092627178287104'}],\n",
       " 'entities': {'urls': [{'start': 222,\n",
       "    'end': 245,\n",
       "    'url': 'https://t.co/yvxdK6aOo2',\n",
       "    'expanded_url': 'https://twitter.com/LovesNandos/status/1211797914437259264/photo/1',\n",
       "    'display_url': 'pic.twitter.com/yvxdK6aOo2'}],\n",
       "  'annotations': [{'start': 144,\n",
       "    'end': 150,\n",
       "    'probability': 0.626,\n",
       "    'type': 'Product',\n",
       "    'normalized_text': 'Twitter'}]},\n",
       " 'author_id': '2244994945',\n",
       " 'public_metrics': {'retweet_count': 8,\n",
       "  'reply_count': 2,\n",
       "  'like_count': 40,\n",
       "  'quote_count': 1},\n",
       " 'lang': 'en',\n",
       " 'created_at': '2019-12-31T19:26:16.000Z',\n",
       " 'source': 'Twitter Web App',\n",
       " 'in_reply_to_user_id': '2244994945',\n",
       " 'attachments': {'media_keys': ['16_1211797899316740096']},\n",
       " 'context_annotations': [{'domain': {'id': '119',\n",
       "    'name': 'Holiday',\n",
       "    'description': 'Holidays like Christmas or Halloween'},\n",
       "   'entity': {'id': '1186637514896920576', 'name': ' New Years Eve'}},\n",
       "  {'domain': {'id': '119',\n",
       "    'name': 'Holiday',\n",
       "    'description': 'Holidays like Christmas or Halloween'},\n",
       "   'entity': {'id': '1206982436287963136',\n",
       "    'name': 'Happy New Year: It’s finally 2020 everywhere!',\n",
       "    'description': 'Catch fireworks and other celebrations as people across the globe enter the new year.\\nPhoto via @GettyImages '}},\n",
       "  {'domain': {'id': '46',\n",
       "    'name': 'Brand Category',\n",
       "    'description': 'Categories within Brand Verticals that narrow down the scope of Brands'},\n",
       "   'entity': {'id': '781974596752842752', 'name': 'Services'}},\n",
       "  {'domain': {'id': '47',\n",
       "    'name': 'Brand',\n",
       "    'description': 'Brands and Companies'},\n",
       "   'entity': {'id': '10045225402', 'name': 'Twitter'}},\n",
       "  {'domain': {'id': '119',\n",
       "    'name': 'Holiday',\n",
       "    'description': 'Holidays like Christmas or Halloween'},\n",
       "   'entity': {'id': '1206982436287963136',\n",
       "    'name': 'Happy New Year: It’s finally 2020 everywhere!',\n",
       "    'description': 'Catch fireworks and other celebrations as people across the globe enter the new year.\\nPhoto via @GettyImages '}}]}"
      ]
     },
     "execution_count": 8,
     "metadata": {},
     "output_type": "execute_result"
    }
   ],
   "source": [
    "data = data[\"data\"][0]\n",
    "data"
   ]
  },
  {
   "cell_type": "markdown",
   "id": "d3e42405",
   "metadata": {
    "id": "d3e42405"
   },
   "source": [
    "<h2>What are the keys to this data dictionary?</h2>"
   ]
  },
  {
   "cell_type": "code",
   "execution_count": 40,
   "id": "b91ed71d",
   "metadata": {
    "id": "b91ed71d",
    "scrolled": true
   },
   "outputs": [
    {
     "data": {
      "text/plain": [
       "dict_keys(['id', 'text', 'possibly_sensitive', 'referenced_tweets', 'entities', 'author_id', 'public_metrics', 'lang', 'created_at', 'source', 'in_reply_to_user_id', 'attachments', 'context_annotations'])"
      ]
     },
     "execution_count": 40,
     "metadata": {},
     "output_type": "execute_result"
    }
   ],
   "source": [
    "data.keys()"
   ]
  },
  {
   "cell_type": "code",
   "execution_count": 41,
   "id": "3a634530",
   "metadata": {
    "id": "3a634530"
   },
   "outputs": [
    {
     "name": "stdout",
     "output_type": "stream",
     "text": [
      "id\n",
      "text\n",
      "possibly_sensitive\n",
      "referenced_tweets\n",
      "entities\n",
      "author_id\n",
      "public_metrics\n",
      "lang\n",
      "created_at\n",
      "source\n",
      "in_reply_to_user_id\n",
      "attachments\n",
      "context_annotations\n",
      "There are 13 keys.\n"
     ]
    }
   ],
   "source": [
    "for key in data.keys():\n",
    "    print(key)\n",
    "print(f\"There are {len(data.keys())} keys.\")"
   ]
  },
  {
   "cell_type": "markdown",
   "id": "aa22f5a4",
   "metadata": {
    "id": "aa22f5a4"
   },
   "source": [
    "<h2>How many \"phrases\" are in the Tweet?</h2>\n",
    "<font size=\"+1\">\n",
    "    <br>\n",
    "    I'm thinking of a phrase as a generalized word. More specifically, something separated by a blank space.\n",
    "</font>"
   ]
  },
  {
   "cell_type": "code",
   "execution_count": 9,
   "id": "5947f555",
   "metadata": {
    "id": "5947f555",
    "scrolled": true
   },
   "outputs": [
    {
     "data": {
      "text/plain": [
       "42"
      ]
     },
     "execution_count": 9,
     "metadata": {},
     "output_type": "execute_result"
    }
   ],
   "source": [
    "tweet_text = data[\"text\"]\n",
    "tweet_text\n",
    "total_phrases = len(tweet_text.split(\" \"))\n",
    "total_phrases"
   ]
  },
  {
   "cell_type": "markdown",
   "id": "eb16bd8a",
   "metadata": {
    "id": "eb16bd8a"
   },
   "source": [
    "<h2>Is the Tweet truncated?</h2>\n",
    "<br>\n",
    "<font size=\"+1\" style=\"color:dodgerblue\">\n",
    "    <ul>\n",
    "        <li>This question requires some judgement.</li>\n",
    "        <br>\n",
    "        <li>In this new version of data, there isn't a keyword that directly tells if the tweet is truncated.</li>\n",
    "        <br>\n",
    "        <li>You must exercise judgment determining if a Tweet is truncated.</li>\n",
    "        <br>\n",
    "        <li><a href=\"https://arxiv.org/abs/2009.07661#:~:text=In%20November%202017%2C%20Twitter%20doubled,most%20influential%20social%20media%20platforms.\">Tweet length doubled from 140 to 280.</a></li>\n",
    "        <br>\n",
    "        <li>It is likely we cannot have a definitive 'yes' or 'no' to the question, but rather a likelihood associated with the outcome.</li>\n",
    "        <br>\n",
    "    </ul>\n",
    "</font>"
   ]
  },
  {
   "cell_type": "code",
   "execution_count": 10,
   "id": "34d17ffc",
   "metadata": {
    "id": "34d17ffc"
   },
   "outputs": [
    {
     "name": "stdout",
     "output_type": "stream",
     "text": [
      "This Tweet is not truncated.\n"
     ]
    }
   ],
   "source": [
    "if len(tweet_text) > 280 and tweet_text.split(\" \")[-1] == \"...\":\n",
    "    print(\"This Tweet is longer than 280 words limit and is therefore truncated.\")\n",
    "else:\n",
    "    print(\"This Tweet is not truncated.\")"
   ]
  },
  {
   "cell_type": "code",
   "execution_count": null,
   "id": "ec737541",
   "metadata": {
    "id": "ec737541"
   },
   "outputs": [],
   "source": []
  },
  {
   "cell_type": "code",
   "execution_count": null,
   "id": "d26d52c2",
   "metadata": {
    "id": "d26d52c2"
   },
   "outputs": [],
   "source": []
  },
  {
   "cell_type": "code",
   "execution_count": null,
   "id": "8ba78614",
   "metadata": {
    "id": "8ba78614"
   },
   "outputs": [],
   "source": []
  },
  {
   "cell_type": "code",
   "execution_count": null,
   "id": "37dd9350",
   "metadata": {
    "id": "37dd9350"
   },
   "outputs": [],
   "source": []
  },
  {
   "cell_type": "markdown",
   "id": "a4b07c26",
   "metadata": {
    "id": "a4b07c26"
   },
   "source": [
    "<h2>How many Twitter accounts are tagged in the Tweet?</h2>"
   ]
  },
  {
   "cell_type": "code",
   "execution_count": 63,
   "id": "8cb36f4a",
   "metadata": {
    "id": "8cb36f4a"
   },
   "outputs": [
    {
     "data": {
      "text/plain": [
       "0"
      ]
     },
     "execution_count": 63,
     "metadata": {},
     "output_type": "execute_result"
    }
   ],
   "source": [
    "num_user_tags = tweet_text.count(\"@\")\n",
    "num_user_tags"
   ]
  },
  {
   "cell_type": "markdown",
   "id": "7edb701d",
   "metadata": {
    "id": "7edb701d"
   },
   "source": [
    "<h2>How many punctuation symbols are in the Tweet?</h2>"
   ]
  },
  {
   "cell_type": "code",
   "execution_count": 64,
   "id": "12fdeb06",
   "metadata": {
    "id": "12fdeb06"
   },
   "outputs": [
    {
     "data": {
      "text/plain": [
       "5"
      ]
     },
     "execution_count": 64,
     "metadata": {},
     "output_type": "execute_result"
    }
   ],
   "source": [
    "punctuation_symbols = [\"'\", '\"', '.', ',', ':', ';', '?', '!']\n",
    "num_punctuation_symbols = \\\n",
    "sum([tweet_text.count(punctuation) for punctuation in punctuation_symbols]) - 3*tweet_text.count('...')\n",
    "\n",
    "num_punctuation_symbols"
   ]
  },
  {
   "cell_type": "markdown",
   "id": "43591009",
   "metadata": {
    "id": "43591009"
   },
   "source": [
    "<h2>Has this Tweet been favorited?</h2>"
   ]
  },
  {
   "cell_type": "code",
   "execution_count": 72,
   "id": "3512a21e",
   "metadata": {
    "id": "3512a21e"
   },
   "outputs": [
    {
     "name": "stdout",
     "output_type": "stream",
     "text": [
      "This Tweet has been favorited.\n"
     ]
    },
    {
     "data": {
      "text/plain": [
       "40"
      ]
     },
     "execution_count": 72,
     "metadata": {},
     "output_type": "execute_result"
    }
   ],
   "source": [
    "# if more than 40 users like the tweet, so this tweet has been  favorited. Otherwise, this tweet has not been favorited.\n",
    "if (data[\"public_metrics\"][\"like_count\"]) >= 40:\n",
    "    print(\"This Tweet has been favorited.\")\n",
    "else:\n",
    "    print(\"This Tweet has not been favorited.\")"
   ]
  },
  {
   "cell_type": "markdown",
   "id": "c13aae50",
   "metadata": {
    "id": "c13aae50"
   },
   "source": [
    "<h2>Is this Tweet in reply to another Tweet?</h2>"
   ]
  },
  {
   "cell_type": "code",
   "execution_count": 79,
   "id": "7eea37bc",
   "metadata": {
    "id": "7eea37bc"
   },
   "outputs": [
    {
     "name": "stdout",
     "output_type": "stream",
     "text": [
      "This Tweet replies to another Tweet.\n"
     ]
    }
   ],
   "source": [
    "# reply count is larger than 1, so this tweet reply to another tweet.\n",
    "if (data[\"public_metrics\"][\"reply_count\"])>1:\n",
    "    print(\"This Tweet replies to another Tweet.\")\n",
    "else:\n",
    "    print(\"This Tweet does not reply to another Tweet.\")"
   ]
  },
  {
   "cell_type": "markdown",
   "id": "1b9c05fa",
   "metadata": {
    "id": "1b9c05fa"
   },
   "source": [
    "<h2>What was the source of this Tweet?</h2>\n",
    "<font size=\"+1\">\n",
    "    <br>\n",
    "    What was the app the user tweeted from: a web browser, a mobile device, or some other app?\n",
    "</font>"
   ]
  },
  {
   "cell_type": "code",
   "execution_count": 74,
   "id": "6bab160b",
   "metadata": {
    "id": "6bab160b"
   },
   "outputs": [
    {
     "data": {
      "text/plain": [
       "'Twitter Web App'"
      ]
     },
     "execution_count": 74,
     "metadata": {},
     "output_type": "execute_result"
    }
   ],
   "source": [
    "data[\"source\"]"
   ]
  },
  {
   "cell_type": "markdown",
   "id": "56772c04",
   "metadata": {
    "id": "56772c04"
   },
   "source": [
    "<h2>Has this Tweet been retweeted?</h2>"
   ]
  },
  {
   "cell_type": "code",
   "execution_count": 75,
   "id": "1370c09d",
   "metadata": {
    "id": "1370c09d"
   },
   "outputs": [
    {
     "name": "stdout",
     "output_type": "stream",
     "text": [
      "This Tweet has been reweeted.\n"
     ]
    }
   ],
   "source": [
    "if (data[\"public_metrics\"][\"retweet_count\"])>1:\n",
    "    print(\"This Tweet has been reweeted.\")\n",
    "else:\n",
    "    print(\"This Tweet has not been reweeted.\")"
   ]
  },
  {
   "cell_type": "markdown",
   "id": "6e1c8fa2",
   "metadata": {
    "id": "6e1c8fa2"
   },
   "source": [
    "<h2>When was this Tweet created?</h2>\n"
   ]
  },
  {
   "cell_type": "code",
   "execution_count": 82,
   "id": "1a227046",
   "metadata": {
    "id": "1a227046"
   },
   "outputs": [
    {
     "data": {
      "text/plain": [
       "'2019-12-31T19:26:16.000Z'"
      ]
     },
     "execution_count": 82,
     "metadata": {},
     "output_type": "execute_result"
    }
   ],
   "source": [
    "date_time_stamp = data['created_at']\n",
    "\n",
    "date_time_stamp"
   ]
  },
  {
   "cell_type": "markdown",
   "id": "c83b093f",
   "metadata": {
    "id": "c83b093f"
   },
   "source": [
    "<h2>What are the <i>entities</i> of this Tweet?</h2>\n",
    "<font size=\"+1\">\n",
    "    <br>\n",
    "    Entities are JSON objects that provide additional information about hashtags, urls, user mentions, and cashtags associated with the description.\n",
    "    <br>\n",
    "    <br>\n",
    "    <ul>\n",
    "        <li>How many users does the Tweet mention? What are their names?</li>\n",
    "        <br>\n",
    "        <li>How many URLs does the Tweet mentions? What are they?</li>\n",
    "        <br>\n",
    "        <li>How many hashtags does the Tweet have?</li>\n",
    "        <br>\n",
    "    </ul>\n",
    "</font>"
   ]
  },
  {
   "cell_type": "code",
   "execution_count": null,
   "id": "d6f0f3ce",
   "metadata": {
    "id": "d6f0f3ce"
   },
   "outputs": [],
   "source": [
    "#######################################################################################\n",
    "# This is very open ended, and subject to interpretation.\n",
    "# In particular, you could use the 'context_annotations' key, or other keys in the data.\n",
    "#######################################################################################"
   ]
  },
  {
   "cell_type": "code",
   "execution_count": 169,
   "id": "bc0ae362",
   "metadata": {},
   "outputs": [
    {
     "name": "stdout",
     "output_type": "stream",
     "text": [
      "The Tweet mentions 5 other users.\n",
      "Their name are ['Holiday', 'Holiday', 'Brand Category', 'Brand', 'Holiday'].\n"
     ]
    }
   ],
   "source": [
    "# How many users does the Tweet mention? What are their names?\n",
    "if len(data[\"context_annotations\"]) > 0:\n",
    "    print(\"The Tweet mentions {} other users.\".format(len(data[\"context_annotations\"])))\n",
    "    user_name = [data[\"context_annotations\"][user][\"domain\"][\"name\"] for user in range(len(data[\"context_annotations\"]))]\n",
    "    print(\"Their name are {}.\".format(user_name))\n",
    "else:\n",
    "    print('The Tweet doesn\\'t mention any other users.')"
   ]
  },
  {
   "cell_type": "code",
   "execution_count": 177,
   "id": "f8711f55",
   "metadata": {},
   "outputs": [
    {
     "name": "stdout",
     "output_type": "stream",
     "text": [
      "The Tweet mentions 1 URL(s).\n",
      "The URLs are ['https://t.co/yvxdK6aOo2'].\n"
     ]
    }
   ],
   "source": [
    "# How many URLs does the Tweet mentions? What are they?\n",
    "if len(data['entities']['urls']) > 0:\n",
    "        print('The Tweet mentions {} URL(s).'.format(len(data['entities']['urls'])))\n",
    "        urls = [data['entities']['urls'][url][\"url\"] for url in range(len(data[\"entities\"][\"urls\"]))]\n",
    "        print('The URLs are {}.'.format(urls))\n",
    "else:\n",
    "    print('The Tweet mentions {} URL(s).'.format(len(data['entities']['urls'])))"
   ]
  },
  {
   "cell_type": "code",
   "execution_count": null,
   "id": "fd410434",
   "metadata": {
    "id": "fd410434"
   },
   "outputs": [],
   "source": [
    "####################################################################################################################\n",
    "# Example\n",
    "# [hashtag for hashtag in 'hello #as then #we_have something'.split(' ') if '#' in hashtag]\n",
    "####################################################################################################################"
   ]
  },
  {
   "cell_type": "code",
   "execution_count": 214,
   "id": "9ca90d0d",
   "metadata": {
    "id": "9ca90d0d"
   },
   "outputs": [
    {
     "name": "stdout",
     "output_type": "stream",
     "text": [
      "The Tweet mentions 0 hashtag(s).\n"
     ]
    }
   ],
   "source": [
    "# How many hashtags does the Tweet have?\n",
    "if tweet_text.count(\"#\") > 0:\n",
    "    print('The Tweet mentions {} hashtag(s).'.format(tweet_text.count(\"#\")))\n",
    "    hashtags = [hashtag for hashtag in tweet_text.split() if \"#\" in hashtag]\n",
    "    print('The hashtags are {}.'.format(hashtags))\n",
    "else:\n",
    "    print('The Tweet mentions {} hashtag(s).'.format(tweet_text.count(\"#\")))"
   ]
  },
  {
   "cell_type": "code",
   "execution_count": null,
   "id": "ab79186b",
   "metadata": {},
   "outputs": [],
   "source": []
  },
  {
   "cell_type": "code",
   "execution_count": null,
   "id": "3a050fae",
   "metadata": {},
   "outputs": [],
   "source": []
  }
 ],
 "metadata": {
  "colab": {
   "provenance": []
  },
  "hide_input": false,
  "kernelspec": {
   "display_name": "Python 3 (ipykernel)",
   "language": "python",
   "name": "python3"
  },
  "language_info": {
   "codemirror_mode": {
    "name": "ipython",
    "version": 3
   },
   "file_extension": ".py",
   "mimetype": "text/x-python",
   "name": "python",
   "nbconvert_exporter": "python",
   "pygments_lexer": "ipython3",
   "version": "3.9.7"
  },
  "toc": {
   "base_numbering": 1,
   "nav_menu": {},
   "number_sections": true,
   "sideBar": true,
   "skip_h1_title": false,
   "title_cell": "Table of Contents",
   "title_sidebar": "Contents",
   "toc_cell": false,
   "toc_position": {
    "height": "calc(100% - 180px)",
    "left": "10px",
    "top": "150px",
    "width": "320px"
   },
   "toc_section_display": true,
   "toc_window_display": true
  }
 },
 "nbformat": 4,
 "nbformat_minor": 5
}
