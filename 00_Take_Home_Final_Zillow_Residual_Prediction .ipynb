{
 "cells": [
  {
   "cell_type": "markdown",
   "id": "6e01336b",
   "metadata": {
    "id": "6e01336b",
    "toc": true
   },
   "source": [
    "<h1>Table of Contents<span class=\"tocSkip\"></span></h1>\n",
    "<div class=\"toc\"><ul class=\"toc-item\"><li><span><a href=\"#Instructions\" data-toc-modified-id=\"Instructions-1\"><span class=\"toc-item-num\">1&nbsp;&nbsp;</span>Instructions</a></span></li><li><span><a href=\"#Imports\" data-toc-modified-id=\"Imports-2\"><span class=\"toc-item-num\">2&nbsp;&nbsp;</span>Imports</a></span></li><li><span><a href=\"#Background:-Zillow's-Zestimate-\" data-toc-modified-id=\"Background:-Zillow's-Zestimate--3\"><span class=\"toc-item-num\">3&nbsp;&nbsp;</span>Background: Zillow's Zestimate </a></span></li><li><span><a href=\"#Data-Sets\" data-toc-modified-id=\"Data-Sets-4\"><span class=\"toc-item-num\">4&nbsp;&nbsp;</span>Data Sets</a></span></li><li><span><a href=\"#Exploration\" data-toc-modified-id=\"Exploration-5\"><span class=\"toc-item-num\">5&nbsp;&nbsp;</span>Exploration</a></span><ul class=\"toc-item\"><li><span><a href=\"#Question-1-(10-points)\" data-toc-modified-id=\"Question-1-(10-points)-5.1\"><span class=\"toc-item-num\">5.1&nbsp;&nbsp;</span>Question 1 (10 points)</a></span></li><li><span><a href=\"#Question-2-(10-points)\" data-toc-modified-id=\"Question-2-(10-points)-5.2\"><span class=\"toc-item-num\">5.2&nbsp;&nbsp;</span>Question 2 (10 points)</a></span></li><li><span><a href=\"#Question-3-(10-points)\" data-toc-modified-id=\"Question-3-(10-points)-5.3\"><span class=\"toc-item-num\">5.3&nbsp;&nbsp;</span>Question 3 (10 points)</a></span></li><li><span><a href=\"#Question-4-(10-points)\" data-toc-modified-id=\"Question-4-(10-points)-5.4\"><span class=\"toc-item-num\">5.4&nbsp;&nbsp;</span>Question 4 (10 points)</a></span></li></ul></li><li><span><a href=\"#Prediction\" data-toc-modified-id=\"Prediction-6\"><span class=\"toc-item-num\">6&nbsp;&nbsp;</span>Prediction</a></span><ul class=\"toc-item\"><li><span><a href=\"#Question-5-(10-points)\" data-toc-modified-id=\"Question-5-(10-points)-6.1\"><span class=\"toc-item-num\">6.1&nbsp;&nbsp;</span>Question 5 (10 points)</a></span></li><li><span><a href=\"#Question-6-(10-points)\" data-toc-modified-id=\"Question-6-(10-points)-6.2\"><span class=\"toc-item-num\">6.2&nbsp;&nbsp;</span>Question 6 (10 points)</a></span></li><li><span><a href=\"#Question-7-(10-points)\" data-toc-modified-id=\"Question-7-(10-points)-6.3\"><span class=\"toc-item-num\">6.3&nbsp;&nbsp;</span>Question 7 (10 points)</a></span></li><li><span><a href=\"#Question-8-(10-points)\" data-toc-modified-id=\"Question-8-(10-points)-6.4\"><span class=\"toc-item-num\">6.4&nbsp;&nbsp;</span>Question 8 (10 points)</a></span></li></ul></li><li><span><a href=\"#Extension\" data-toc-modified-id=\"Extension-7\"><span class=\"toc-item-num\">7&nbsp;&nbsp;</span>Extension</a></span><ul class=\"toc-item\"><li><span><a href=\"#Question-9-(10-points)\" data-toc-modified-id=\"Question-9-(10-points)-7.1\"><span class=\"toc-item-num\">7.1&nbsp;&nbsp;</span>Question 9 (10 points)</a></span></li></ul></li><li><span><a href=\"#Conclusion\" data-toc-modified-id=\"Conclusion-8\"><span class=\"toc-item-num\">8&nbsp;&nbsp;</span>Conclusion</a></span><ul class=\"toc-item\"><li><span><a href=\"#Question-10-(10-points)\" data-toc-modified-id=\"Question-10-(10-points)-8.1\"><span class=\"toc-item-num\">8.1&nbsp;&nbsp;</span>Question 10 (10 points)</a></span></li></ul></li><li><span><a href=\"#TurnItIn\" data-toc-modified-id=\"TurnItIn-9\"><span class=\"toc-item-num\">9&nbsp;&nbsp;</span>TurnItIn</a></span></li><li><span><a href=\"#Miscellaneous:-NOT-NECESSARY-TO-KNOW,-ONLY-IF-CURIOUS\" data-toc-modified-id=\"Miscellaneous:-NOT-NECESSARY-TO-KNOW,-ONLY-IF-CURIOUS-10\"><span class=\"toc-item-num\">10&nbsp;&nbsp;</span>Miscellaneous: NOT NECESSARY TO KNOW, ONLY IF CURIOUS</a></span><ul class=\"toc-item\"><li><span><a href=\"#Model-Risk-Management---Zestimate\" data-toc-modified-id=\"Model-Risk-Management---Zestimate-10.1\"><span class=\"toc-item-num\">10.1&nbsp;&nbsp;</span>Model Risk Management - Zestimate</a></span></li></ul></li></ul></div>"
   ]
  },
  {
   "cell_type": "markdown",
   "id": "c2dca611",
   "metadata": {
    "id": "c2dca611"
   },
   "source": [
    "<font size=\"+3\">\n",
    "    <b>Take-Home Final Exam</b>\n",
    "</font>\n",
    "<br>"
   ]
  },
  {
   "cell_type": "markdown",
   "id": "898d7ae1",
   "metadata": {
    "id": "898d7ae1"
   },
   "source": [
    "<h1>Instructions</h1>\n",
    "<br>\n",
    "<font size=\"+2\">\n",
    "    <ul>\n",
    "        <li>Answer the following questions to the best of your ability.</li>\n",
    "        <br>\n",
    "        <li>All code should be able to run to receive full credit.</li>\n",
    "        <br>\n",
    "        <li>Document your code to help explain what you are doing in order to receive partial credit. </li>\n",
    "        <br>\n",
    "        <li>The final is open book, notes, and internet, <b style=\"color:red\">but not collaborative</b>.</li>\n",
    "        <br>\n",
    "        <li>Please ask (<b style=\"color:blue\">on Slack</b>) if anything is unclear.</li>\n",
    "        <br>\n",
    "        <li>This final is meant to give you an opportunity to showcase the skills you have learned in this class, as well as provide you with a starting point for a potential project you could display on GitHub.</li>\n",
    "        <br>\n",
    "        <li>I hope by the end of this course and assignment, you will have a feel for the skills required to be a successful data analyst or data scientist.</li>\n",
    "        <br>\n",
    "    </ul>\n",
    "</font>"
   ]
  },
  {
   "cell_type": "markdown",
   "id": "59edb940",
   "metadata": {
    "id": "59edb940"
   },
   "source": [
    "<h1>Imports</h1>"
   ]
  },
  {
   "cell_type": "code",
   "execution_count": 1,
   "id": "b1e1689d",
   "metadata": {
    "id": "b1e1689d"
   },
   "outputs": [],
   "source": []
  },
  {
   "cell_type": "markdown",
   "id": "17f424c5",
   "metadata": {
    "id": "17f424c5"
   },
   "source": [
    "<h1>Background: Zillow's Zestimate </h1>\n",
    "<br>\n",
    "<font size=\"+1\">\n",
    "    <ul>\n",
    "        <li>A residential real estate transaction is often the largest transaction a consumer will engage in.</li>\n",
    "        <br>\n",
    "        <li>Due to the magnitude of this transaction, homebuyers and homeowners, who are potential sellers in the housing market, would like a way to continuously monitor the value of the asset, i.e. house.</li>\n",
    "        <br>\n",
    "        <li>Apart from homebuyers and homesellers, other market participants require a reliable mark-to-market value of the house. These participants include:</li>\n",
    "        <br>\n",
    "        <ul>\n",
    "            <li>real estate investors,</li>\n",
    "            <br>\n",
    "            <li>institutional investors who invest in residential real estate or residential mortgage backed securities and other credit derivatives,</li>\n",
    "            <br>\n",
    "            <li>loan originators,</li>\n",
    "            <br>\n",
    "            <li>real estate brokers,</li>\n",
    "            <br>\n",
    "            <li>etc.</li>\n",
    "            <br>\n",
    "        </ul>\n",
    "        <li>As a result, Zillow’s Zestimate home valuation has shaken up the U.S. real estate industry since first released over a decade ago.</li>\n",
    "        <br>\n",
    "         <li>“Zestimates” are estimated home values based on statistical and machine learning models that analyze hundreds of data points on each property.</li>\n",
    "        <br>\n",
    "        <li>Zillow works to continually improve the median margin of error, from 14% at the onset to 5% today.</li>\n",
    "        <br>\n",
    "        <li style=\"color:blue\"><b>\"All models are wrong, but some are useful.\" - George Box</b></li>\n",
    "        <br>\n",
    "        <li style=\"color:blue\">Zillow provides a prediction as a service, called a Zestimate, which predicts residential real estate prices.</li>\n",
    "        <br>\n",
    "        <li style=\"color:blue\">Of course, this model has errors and business stakeholders wish to know if it is possible to predict the errors.</li>\n",
    "        <br>\n",
    "        <li style=\"color:blue\">That is, is it possible to predict <i>when</i> the Zestimate will be wrong, and <i>how</i> wrong will it be?</li>\n",
    "        <br>\n",
    "        <li style=\"color:red\">The goal of this project help push the accuracy of the Zestimate even further.</li>\n",
    "        <br>\n",
    "        <ul style=\"color:red\">\n",
    "            <li>You’ll be exploring data and building a model to improve the Zestimate residual error.</li>\n",
    "            <br>\n",
    "            <li>The question you should keep in your mind is: <i>when is a model going to predict incorrectly, and by what amount of error?</i></li>\n",
    "            <br>\n",
    "            <li>The goal is to build a model to improve the Zestimate residual by being able to predict when and with what magnitude the forecast is wrong.</li>\n",
    "            <br>\n",
    "        </ul>\n",
    "    </ul>\n",
    "</font>"
   ]
  },
  {
   "cell_type": "markdown",
   "id": "07f99b33",
   "metadata": {
    "id": "07f99b33"
   },
   "source": [
    "<h1>Data Sets</h1>\n",
    "<br>\n",
    "<font size=\"+1\">\n",
    "    <ul>\n",
    "        <li>You are provided with data containing a full list of real estate properties and their associated features in three counties in 2017:</li>\n",
    "        <br>\n",
    "        <ul>\n",
    "        <li>Los Angeles, CA,</li>\n",
    "        <br>\n",
    "        <li>Orange, CA,</li>\n",
    "        <br>\n",
    "        <li>and Ventura, CA.</li>\n",
    "        <br>\n",
    "        </ul>\n",
    "        <li>In real estate, a <i>lot</i> or <i>plot</i> is a <i>parcel of land</i> owned by someone. A plot is essentially considered a parcel of real property in some countries or immovable property in other countries.</li>\n",
    "        <br>\n",
    "        <li>Real estate properties (homes) are identified by their unique <i>Parcel ID</i>.</li>\n",
    "        <br>\n",
    "        <li>The predictor variables are located in the file <i>properties_2017.csv</i> and are described in the file <i>zillow_data_dictionary.xlsx</i>.</li>\n",
    "        <br>\n",
    "        <li>The target variable is located in the file <i>train_2017.csv</i>.</li>\n",
    "        <br>\n",
    "        <li>File descriptions:</li>\n",
    "        <br>\n",
    "        <ul>\n",
    "            <li>properties_2017.csv - all the properties with their home features for 2017 (to be used as the predictor variables)</li>\n",
    "            <br>\n",
    "            <li>train_2017.csv - the target dataset with transactions from 1/1/2017 to 9/15/2017</li>\n",
    "            <br>\n",
    "            <li>zillow_data_dictionary.xlsx - an Excel spreadsheet containing variable names and a short description</li>\n",
    "            <br>\n",
    "        </ul>\n",
    "    </ul>\n",
    "</font>"
   ]
  },
  {
   "cell_type": "code",
   "execution_count": null,
   "id": "059cc5df",
   "metadata": {
    "id": "059cc5df"
   },
   "outputs": [],
   "source": [
    "zillow_data_dictionary = pd.read_excel('zillow_data_dictionary.xlsx')"
   ]
  },
  {
   "cell_type": "code",
   "execution_count": null,
   "id": "a72c95be",
   "metadata": {
    "id": "a72c95be",
    "outputId": "c2791fbf-ba20-46df-9f15-ad834a01d128",
    "scrolled": false
   },
   "outputs": [
    {
     "name": "stdout",
     "output_type": "stream",
     "text": [
      "'airconditioningtypeid'\n",
      " Type of cooling system present in the home (if any)\n",
      "==================================================================\n",
      "'architecturalstyletypeid'\n",
      " Architectural style of the home (i.e. ranch, colonial, split-level, etc…)\n",
      "==================================================================\n",
      "'basementsqft'\n",
      " Finished living area below or partially below ground level\n",
      "==================================================================\n",
      "'bathroomcnt'\n",
      " Number of bathrooms in home including fractional bathrooms\n",
      "==================================================================\n",
      "'bedroomcnt'\n",
      " Number of bedrooms in home \n",
      "==================================================================\n",
      "'buildingqualitytypeid'\n",
      " Overall assessment of condition of the building from best (lowest) to worst (highest)\n",
      "==================================================================\n",
      "'buildingclasstypeid'\n",
      "The building framing type (steel frame, wood frame, concrete/brick) \n",
      "==================================================================\n",
      "'calculatedbathnbr'\n",
      " Number of bathrooms in home including fractional bathroom\n",
      "==================================================================\n",
      "'decktypeid'\n",
      "Type of deck (if any) present on parcel\n",
      "==================================================================\n",
      "'threequarterbathnbr'\n",
      " Number of 3/4 bathrooms in house (shower + sink + toilet)\n",
      "==================================================================\n",
      "'finishedfloor1squarefeet'\n",
      " Size of the finished living area on the first (entry) floor of the home\n",
      "==================================================================\n",
      "'calculatedfinishedsquarefeet'\n",
      " Calculated total finished living area of the home \n",
      "==================================================================\n",
      "'finishedsquarefeet6'\n",
      "Base unfinished and finished area\n",
      "==================================================================\n",
      "'finishedsquarefeet12'\n",
      "Finished living area\n",
      "==================================================================\n",
      "'finishedsquarefeet13'\n",
      "Perimeter  living area\n",
      "==================================================================\n",
      "'finishedsquarefeet15'\n",
      "Total area\n",
      "==================================================================\n",
      "'finishedsquarefeet50'\n",
      " Size of the finished living area on the first (entry) floor of the home\n",
      "==================================================================\n",
      "'fips'\n",
      " Federal Information Processing Standard code -  see https://en.wikipedia.org/wiki/FIPS_county_code for more details\n",
      "==================================================================\n",
      "'fireplacecnt'\n",
      " Number of fireplaces in a home (if any)\n",
      "==================================================================\n",
      "'fireplaceflag'\n",
      " Is a fireplace present in this home \n",
      "==================================================================\n",
      "'fullbathcnt'\n",
      " Number of full bathrooms (sink, shower + bathtub, and toilet) present in home\n",
      "==================================================================\n",
      "'garagecarcnt'\n",
      " Total number of garages on the lot including an attached garage\n",
      "==================================================================\n",
      "'garagetotalsqft'\n",
      " Total number of square feet of all garages on lot including an attached garage\n",
      "==================================================================\n",
      "'hashottuborspa'\n",
      " Does the home have a hot tub or spa\n",
      "==================================================================\n",
      "'heatingorsystemtypeid'\n",
      " Type of home heating system\n",
      "==================================================================\n",
      "'latitude'\n",
      " Latitude of the middle of the parcel multiplied by 10e6\n",
      "==================================================================\n",
      "'longitude'\n",
      " Longitude of the middle of the parcel multiplied by 10e6\n",
      "==================================================================\n",
      "'lotsizesquarefeet'\n",
      " Area of the lot in square feet\n",
      "==================================================================\n",
      "'numberofstories'\n",
      " Number of stories or levels the home has\n",
      "==================================================================\n",
      "'parcelid'\n",
      " Unique identifier for parcels (lots) \n",
      "==================================================================\n",
      "'poolcnt'\n",
      " Number of pools on the lot (if any)\n",
      "==================================================================\n",
      "'poolsizesum'\n",
      " Total square footage of all pools on property\n",
      "==================================================================\n",
      "'pooltypeid10'\n",
      " Spa or Hot Tub\n",
      "==================================================================\n",
      "'pooltypeid2'\n",
      " Pool with Spa/Hot Tub\n",
      "==================================================================\n",
      "'pooltypeid7'\n",
      " Pool without hot tub\n",
      "==================================================================\n",
      "'propertycountylandusecode'\n",
      " County land use code i.e. it's zoning at the county level\n",
      "==================================================================\n",
      "'propertylandusetypeid'\n",
      " Type of land use the property is zoned for\n",
      "==================================================================\n",
      "'propertyzoningdesc'\n",
      " Description of the allowed land uses (zoning) for that property\n",
      "==================================================================\n",
      "'rawcensustractandblock'\n",
      " Census tract and block ID combined - also contains blockgroup assignment by extension\n",
      "==================================================================\n",
      "'censustractandblock'\n",
      " Census tract and block ID combined - also contains blockgroup assignment by extension\n",
      "==================================================================\n",
      "'regionidcounty'\n",
      "County in which the property is located\n",
      "==================================================================\n",
      "'regionidcity'\n",
      " City in which the property is located (if any)\n",
      "==================================================================\n",
      "'regionidzip'\n",
      " Zip code in which the property is located\n",
      "==================================================================\n",
      "'regionidneighborhood'\n",
      "Neighborhood in which the property is located\n",
      "==================================================================\n",
      "'roomcnt'\n",
      " Total number of rooms in the principal residence\n",
      "==================================================================\n",
      "'storytypeid'\n",
      " Type of floors in a multi-story house (i.e. basement and main level, split-level, attic, etc.).  See tab for details.\n",
      "==================================================================\n",
      "'typeconstructiontypeid'\n",
      " What type of construction material was used to construct the home\n",
      "==================================================================\n",
      "'unitcnt'\n",
      " Number of units the structure is built into (i.e. 2 = duplex, 3 = triplex, etc...)\n",
      "==================================================================\n",
      "'yardbuildingsqft17'\n",
      "Patio in  yard\n",
      "==================================================================\n",
      "'yardbuildingsqft26'\n",
      "Storage shed/building in yard\n",
      "==================================================================\n",
      "'yearbuilt'\n",
      " The Year the principal residence was built \n",
      "==================================================================\n",
      "'taxvaluedollarcnt'\n",
      "The total tax assessed value of the parcel\n",
      "==================================================================\n",
      "'structuretaxvaluedollarcnt'\n",
      "The assessed value of the built structure on the parcel\n",
      "==================================================================\n",
      "'landtaxvaluedollarcnt'\n",
      "The assessed value of the land area of the parcel\n",
      "==================================================================\n",
      "'taxamount'\n",
      "The total property tax assessed for that assessment year\n",
      "==================================================================\n",
      "'assessmentyear'\n",
      "The year of the property tax assessment \n",
      "==================================================================\n",
      "'taxdelinquencyflag'\n",
      "Property taxes for this parcel are past due as of 2015\n",
      "==================================================================\n",
      "'taxdelinquencyyear'\n",
      "Year for which the unpaid propert taxes were due \n",
      "==================================================================\n"
     ]
    }
   ],
   "source": [
    "for row in range(len(zillow_data_dictionary)):\n",
    "    print(zillow_data_dictionary.iloc[row,0])\n",
    "    print(zillow_data_dictionary.iloc[row,1])\n",
    "    print('==================================================================')"
   ]
  },
  {
   "cell_type": "markdown",
   "id": "6af3d68f",
   "metadata": {
    "id": "6af3d68f"
   },
   "source": [
    "<h1>Exploration</h1>"
   ]
  },
  {
   "cell_type": "markdown",
   "id": "c2bedf75",
   "metadata": {
    "id": "c2bedf75"
   },
   "source": [
    "<h2>Question 1 (10 points)</h2>\n",
    "<br>\n",
    "<font size=\"+1\">\n",
    "    <ol>\n",
    "        <li type='i'>Import the necessary packages.</li>\n",
    "        <br>\n",
    "        <li type='i'>Read-in the \n",
    "            <br>\n",
    "        <ul>\n",
    "            <li><i>properties_2017.csv</i> (predictor variables),</li>\n",
    "            <br>\n",
    "            <li>and <i>train_2017.csv</i> (target variable)</li>\n",
    "            <br>\n",
    "        </ul>\n",
    "        CSV data sets and use <a href=\"https://pandas.pydata.org/docs/reference/api/pandas.DataFrame.info.html\">.info()</a> to take a closer look at the data frames.</li>\n",
    "        <br>\n",
    "        <li type='i'>Write a summary of the datasets to answer the following questions <b>using Markdown</b>. You will need to use code to determine the answers to the questions, <a href=\"https://pandas.pydata.org/pandas-docs/stable/reference/api/pandas.DataFrame.select_dtypes.html\">selecting columns based on data types may help.</a>.</li>\n",
    "        <ul>\n",
    "            <li>How many predictor variables are there?</li>\n",
    "            <br>\n",
    "            <li>How many numerical predictor variables are there?</li>\n",
    "            <br>\n",
    "            <li>How many categorical predictor variables are there?</li>\n",
    "            <br>\n",
    "            <li>Are there any other interesting observations you wish to point out about either the predictor variables or the target variable?</li>\n",
    "            <br>\n",
    "        </ul>\n",
    "    </ol>\n",
    "</font>"
   ]
  },
  {
   "cell_type": "code",
   "execution_count": 130,
   "id": "97f8b799",
   "metadata": {
    "id": "97f8b799"
   },
   "outputs": [],
   "source": [
    "# import the necessary packages\n",
    "import pandas as pd\n",
    "import matplotlib.pyplot as plt\n",
    "import numpy as np\n",
    "from sklearn.model_selection import train_test_split\n",
    "from sklearn.preprocessing import OneHotEncoder"
   ]
  },
  {
   "cell_type": "code",
   "execution_count": 29,
   "id": "22f5988f",
   "metadata": {
    "id": "22f5988f"
   },
   "outputs": [
    {
     "name": "stderr",
     "output_type": "stream",
     "text": [
      "D:\\Anaconda\\lib\\site-packages\\IPython\\core\\interactiveshell.py:3444: DtypeWarning: Columns (49) have mixed types.Specify dtype option on import or set low_memory=False.\n",
      "  exec(code_obj, self.user_global_ns, self.user_ns)\n"
     ]
    }
   ],
   "source": [
    "predictor = pd.read_csv(\"properties_2017.csv\")\n",
    "target = pd.read_csv(\"train_2017.csv\")"
   ]
  },
  {
   "cell_type": "code",
   "execution_count": 5,
   "id": "cdc81f5a",
   "metadata": {
    "id": "cdc81f5a"
   },
   "outputs": [
    {
     "name": "stdout",
     "output_type": "stream",
     "text": [
      "<class 'pandas.core.frame.DataFrame'>\n",
      "RangeIndex: 2985217 entries, 0 to 2985216\n",
      "Data columns (total 58 columns):\n",
      " #   Column                        Dtype  \n",
      "---  ------                        -----  \n",
      " 0   parcelid                      int64  \n",
      " 1   airconditioningtypeid         float64\n",
      " 2   architecturalstyletypeid      float64\n",
      " 3   basementsqft                  float64\n",
      " 4   bathroomcnt                   float64\n",
      " 5   bedroomcnt                    float64\n",
      " 6   buildingclasstypeid           float64\n",
      " 7   buildingqualitytypeid         float64\n",
      " 8   calculatedbathnbr             float64\n",
      " 9   decktypeid                    float64\n",
      " 10  finishedfloor1squarefeet      float64\n",
      " 11  calculatedfinishedsquarefeet  float64\n",
      " 12  finishedsquarefeet12          float64\n",
      " 13  finishedsquarefeet13          float64\n",
      " 14  finishedsquarefeet15          float64\n",
      " 15  finishedsquarefeet50          float64\n",
      " 16  finishedsquarefeet6           float64\n",
      " 17  fips                          float64\n",
      " 18  fireplacecnt                  float64\n",
      " 19  fullbathcnt                   float64\n",
      " 20  garagecarcnt                  float64\n",
      " 21  garagetotalsqft               float64\n",
      " 22  hashottuborspa                object \n",
      " 23  heatingorsystemtypeid         float64\n",
      " 24  latitude                      float64\n",
      " 25  longitude                     float64\n",
      " 26  lotsizesquarefeet             float64\n",
      " 27  poolcnt                       float64\n",
      " 28  poolsizesum                   float64\n",
      " 29  pooltypeid10                  float64\n",
      " 30  pooltypeid2                   float64\n",
      " 31  pooltypeid7                   float64\n",
      " 32  propertycountylandusecode     object \n",
      " 33  propertylandusetypeid         float64\n",
      " 34  propertyzoningdesc            object \n",
      " 35  rawcensustractandblock        float64\n",
      " 36  regionidcity                  float64\n",
      " 37  regionidcounty                float64\n",
      " 38  regionidneighborhood          float64\n",
      " 39  regionidzip                   float64\n",
      " 40  roomcnt                       float64\n",
      " 41  storytypeid                   float64\n",
      " 42  threequarterbathnbr           float64\n",
      " 43  typeconstructiontypeid        float64\n",
      " 44  unitcnt                       float64\n",
      " 45  yardbuildingsqft17            float64\n",
      " 46  yardbuildingsqft26            float64\n",
      " 47  yearbuilt                     float64\n",
      " 48  numberofstories               float64\n",
      " 49  fireplaceflag                 object \n",
      " 50  structuretaxvaluedollarcnt    float64\n",
      " 51  taxvaluedollarcnt             float64\n",
      " 52  assessmentyear                float64\n",
      " 53  landtaxvaluedollarcnt         float64\n",
      " 54  taxamount                     float64\n",
      " 55  taxdelinquencyflag            object \n",
      " 56  taxdelinquencyyear            float64\n",
      " 57  censustractandblock           float64\n",
      "dtypes: float64(52), int64(1), object(5)\n",
      "memory usage: 1.3+ GB\n"
     ]
    }
   ],
   "source": [
    "predictor.info()"
   ]
  },
  {
   "cell_type": "code",
   "execution_count": 6,
   "id": "526d1f66",
   "metadata": {
    "id": "526d1f66"
   },
   "outputs": [
    {
     "name": "stdout",
     "output_type": "stream",
     "text": [
      "<class 'pandas.core.frame.DataFrame'>\n",
      "RangeIndex: 77613 entries, 0 to 77612\n",
      "Data columns (total 3 columns):\n",
      " #   Column           Non-Null Count  Dtype  \n",
      "---  ------           --------------  -----  \n",
      " 0   parcelid         77613 non-null  int64  \n",
      " 1   logerror         77613 non-null  float64\n",
      " 2   transactiondate  77613 non-null  object \n",
      "dtypes: float64(1), int64(1), object(1)\n",
      "memory usage: 1.8+ MB\n"
     ]
    }
   ],
   "source": [
    "target.info()"
   ]
  },
  {
   "cell_type": "code",
   "execution_count": 8,
   "id": "41e6dbbd",
   "metadata": {
    "id": "41e6dbbd"
   },
   "outputs": [
    {
     "data": {
      "text/html": [
       "<div>\n",
       "<style scoped>\n",
       "    .dataframe tbody tr th:only-of-type {\n",
       "        vertical-align: middle;\n",
       "    }\n",
       "\n",
       "    .dataframe tbody tr th {\n",
       "        vertical-align: top;\n",
       "    }\n",
       "\n",
       "    .dataframe thead th {\n",
       "        text-align: right;\n",
       "    }\n",
       "</style>\n",
       "<table border=\"1\" class=\"dataframe\">\n",
       "  <thead>\n",
       "    <tr style=\"text-align: right;\">\n",
       "      <th></th>\n",
       "      <th>parcelid</th>\n",
       "      <th>airconditioningtypeid</th>\n",
       "      <th>architecturalstyletypeid</th>\n",
       "      <th>basementsqft</th>\n",
       "      <th>bathroomcnt</th>\n",
       "      <th>bedroomcnt</th>\n",
       "      <th>buildingclasstypeid</th>\n",
       "      <th>buildingqualitytypeid</th>\n",
       "      <th>calculatedbathnbr</th>\n",
       "      <th>decktypeid</th>\n",
       "      <th>...</th>\n",
       "      <th>yardbuildingsqft26</th>\n",
       "      <th>yearbuilt</th>\n",
       "      <th>numberofstories</th>\n",
       "      <th>structuretaxvaluedollarcnt</th>\n",
       "      <th>taxvaluedollarcnt</th>\n",
       "      <th>assessmentyear</th>\n",
       "      <th>landtaxvaluedollarcnt</th>\n",
       "      <th>taxamount</th>\n",
       "      <th>taxdelinquencyyear</th>\n",
       "      <th>censustractandblock</th>\n",
       "    </tr>\n",
       "  </thead>\n",
       "  <tbody>\n",
       "    <tr>\n",
       "      <th>0</th>\n",
       "      <td>10754147</td>\n",
       "      <td>NaN</td>\n",
       "      <td>NaN</td>\n",
       "      <td>NaN</td>\n",
       "      <td>0.0</td>\n",
       "      <td>0.0</td>\n",
       "      <td>NaN</td>\n",
       "      <td>NaN</td>\n",
       "      <td>NaN</td>\n",
       "      <td>NaN</td>\n",
       "      <td>...</td>\n",
       "      <td>NaN</td>\n",
       "      <td>NaN</td>\n",
       "      <td>NaN</td>\n",
       "      <td>NaN</td>\n",
       "      <td>9.0</td>\n",
       "      <td>2016.0</td>\n",
       "      <td>9.0</td>\n",
       "      <td>NaN</td>\n",
       "      <td>NaN</td>\n",
       "      <td>NaN</td>\n",
       "    </tr>\n",
       "    <tr>\n",
       "      <th>1</th>\n",
       "      <td>10759547</td>\n",
       "      <td>NaN</td>\n",
       "      <td>NaN</td>\n",
       "      <td>NaN</td>\n",
       "      <td>0.0</td>\n",
       "      <td>0.0</td>\n",
       "      <td>NaN</td>\n",
       "      <td>NaN</td>\n",
       "      <td>NaN</td>\n",
       "      <td>NaN</td>\n",
       "      <td>...</td>\n",
       "      <td>NaN</td>\n",
       "      <td>NaN</td>\n",
       "      <td>NaN</td>\n",
       "      <td>NaN</td>\n",
       "      <td>27516.0</td>\n",
       "      <td>2015.0</td>\n",
       "      <td>27516.0</td>\n",
       "      <td>NaN</td>\n",
       "      <td>NaN</td>\n",
       "      <td>NaN</td>\n",
       "    </tr>\n",
       "    <tr>\n",
       "      <th>2</th>\n",
       "      <td>10843547</td>\n",
       "      <td>NaN</td>\n",
       "      <td>NaN</td>\n",
       "      <td>NaN</td>\n",
       "      <td>0.0</td>\n",
       "      <td>0.0</td>\n",
       "      <td>5.0</td>\n",
       "      <td>NaN</td>\n",
       "      <td>NaN</td>\n",
       "      <td>NaN</td>\n",
       "      <td>...</td>\n",
       "      <td>NaN</td>\n",
       "      <td>1959.0</td>\n",
       "      <td>1.0</td>\n",
       "      <td>660680.0</td>\n",
       "      <td>1434941.0</td>\n",
       "      <td>2016.0</td>\n",
       "      <td>774261.0</td>\n",
       "      <td>20800.37</td>\n",
       "      <td>NaN</td>\n",
       "      <td>NaN</td>\n",
       "    </tr>\n",
       "    <tr>\n",
       "      <th>3</th>\n",
       "      <td>10859147</td>\n",
       "      <td>NaN</td>\n",
       "      <td>NaN</td>\n",
       "      <td>NaN</td>\n",
       "      <td>0.0</td>\n",
       "      <td>0.0</td>\n",
       "      <td>3.0</td>\n",
       "      <td>6.0</td>\n",
       "      <td>NaN</td>\n",
       "      <td>NaN</td>\n",
       "      <td>...</td>\n",
       "      <td>NaN</td>\n",
       "      <td>1948.0</td>\n",
       "      <td>1.0</td>\n",
       "      <td>580059.0</td>\n",
       "      <td>1174475.0</td>\n",
       "      <td>2016.0</td>\n",
       "      <td>594416.0</td>\n",
       "      <td>14557.57</td>\n",
       "      <td>NaN</td>\n",
       "      <td>NaN</td>\n",
       "    </tr>\n",
       "    <tr>\n",
       "      <th>4</th>\n",
       "      <td>10879947</td>\n",
       "      <td>NaN</td>\n",
       "      <td>NaN</td>\n",
       "      <td>NaN</td>\n",
       "      <td>0.0</td>\n",
       "      <td>0.0</td>\n",
       "      <td>4.0</td>\n",
       "      <td>NaN</td>\n",
       "      <td>NaN</td>\n",
       "      <td>NaN</td>\n",
       "      <td>...</td>\n",
       "      <td>NaN</td>\n",
       "      <td>1947.0</td>\n",
       "      <td>1.0</td>\n",
       "      <td>196751.0</td>\n",
       "      <td>440101.0</td>\n",
       "      <td>2016.0</td>\n",
       "      <td>243350.0</td>\n",
       "      <td>5725.17</td>\n",
       "      <td>NaN</td>\n",
       "      <td>NaN</td>\n",
       "    </tr>\n",
       "  </tbody>\n",
       "</table>\n",
       "<p>5 rows × 53 columns</p>\n",
       "</div>"
      ],
      "text/plain": [
       "   parcelid  airconditioningtypeid  architecturalstyletypeid  basementsqft  \\\n",
       "0  10754147                    NaN                       NaN           NaN   \n",
       "1  10759547                    NaN                       NaN           NaN   \n",
       "2  10843547                    NaN                       NaN           NaN   \n",
       "3  10859147                    NaN                       NaN           NaN   \n",
       "4  10879947                    NaN                       NaN           NaN   \n",
       "\n",
       "   bathroomcnt  bedroomcnt  buildingclasstypeid  buildingqualitytypeid  \\\n",
       "0          0.0         0.0                  NaN                    NaN   \n",
       "1          0.0         0.0                  NaN                    NaN   \n",
       "2          0.0         0.0                  5.0                    NaN   \n",
       "3          0.0         0.0                  3.0                    6.0   \n",
       "4          0.0         0.0                  4.0                    NaN   \n",
       "\n",
       "   calculatedbathnbr  decktypeid  ...  yardbuildingsqft26  yearbuilt  \\\n",
       "0                NaN         NaN  ...                 NaN        NaN   \n",
       "1                NaN         NaN  ...                 NaN        NaN   \n",
       "2                NaN         NaN  ...                 NaN     1959.0   \n",
       "3                NaN         NaN  ...                 NaN     1948.0   \n",
       "4                NaN         NaN  ...                 NaN     1947.0   \n",
       "\n",
       "   numberofstories  structuretaxvaluedollarcnt  taxvaluedollarcnt  \\\n",
       "0              NaN                         NaN                9.0   \n",
       "1              NaN                         NaN            27516.0   \n",
       "2              1.0                    660680.0          1434941.0   \n",
       "3              1.0                    580059.0          1174475.0   \n",
       "4              1.0                    196751.0           440101.0   \n",
       "\n",
       "   assessmentyear  landtaxvaluedollarcnt  taxamount  taxdelinquencyyear  \\\n",
       "0          2016.0                    9.0        NaN                 NaN   \n",
       "1          2015.0                27516.0        NaN                 NaN   \n",
       "2          2016.0               774261.0   20800.37                 NaN   \n",
       "3          2016.0               594416.0   14557.57                 NaN   \n",
       "4          2016.0               243350.0    5725.17                 NaN   \n",
       "\n",
       "   censustractandblock  \n",
       "0                  NaN  \n",
       "1                  NaN  \n",
       "2                  NaN  \n",
       "3                  NaN  \n",
       "4                  NaN  \n",
       "\n",
       "[5 rows x 53 columns]"
      ]
     },
     "execution_count": 8,
     "metadata": {},
     "output_type": "execute_result"
    }
   ],
   "source": [
    "predictor.select_dtypes(np.number).head()"
   ]
  },
  {
   "cell_type": "code",
   "execution_count": 11,
   "id": "6ccc7214",
   "metadata": {
    "id": "6ccc7214"
   },
   "outputs": [
    {
     "data": {
      "text/html": [
       "<div>\n",
       "<style scoped>\n",
       "    .dataframe tbody tr th:only-of-type {\n",
       "        vertical-align: middle;\n",
       "    }\n",
       "\n",
       "    .dataframe tbody tr th {\n",
       "        vertical-align: top;\n",
       "    }\n",
       "\n",
       "    .dataframe thead th {\n",
       "        text-align: right;\n",
       "    }\n",
       "</style>\n",
       "<table border=\"1\" class=\"dataframe\">\n",
       "  <thead>\n",
       "    <tr style=\"text-align: right;\">\n",
       "      <th></th>\n",
       "      <th>hashottuborspa</th>\n",
       "      <th>propertycountylandusecode</th>\n",
       "      <th>propertyzoningdesc</th>\n",
       "      <th>fireplaceflag</th>\n",
       "      <th>taxdelinquencyflag</th>\n",
       "    </tr>\n",
       "  </thead>\n",
       "  <tbody>\n",
       "    <tr>\n",
       "      <th>0</th>\n",
       "      <td>NaN</td>\n",
       "      <td>010D</td>\n",
       "      <td>NaN</td>\n",
       "      <td>NaN</td>\n",
       "      <td>NaN</td>\n",
       "    </tr>\n",
       "    <tr>\n",
       "      <th>1</th>\n",
       "      <td>NaN</td>\n",
       "      <td>0109</td>\n",
       "      <td>LCA11*</td>\n",
       "      <td>NaN</td>\n",
       "      <td>NaN</td>\n",
       "    </tr>\n",
       "    <tr>\n",
       "      <th>2</th>\n",
       "      <td>NaN</td>\n",
       "      <td>1200</td>\n",
       "      <td>LAC2</td>\n",
       "      <td>NaN</td>\n",
       "      <td>NaN</td>\n",
       "    </tr>\n",
       "    <tr>\n",
       "      <th>3</th>\n",
       "      <td>NaN</td>\n",
       "      <td>1200</td>\n",
       "      <td>LAC2</td>\n",
       "      <td>NaN</td>\n",
       "      <td>NaN</td>\n",
       "    </tr>\n",
       "    <tr>\n",
       "      <th>4</th>\n",
       "      <td>NaN</td>\n",
       "      <td>1210</td>\n",
       "      <td>LAM1</td>\n",
       "      <td>NaN</td>\n",
       "      <td>NaN</td>\n",
       "    </tr>\n",
       "  </tbody>\n",
       "</table>\n",
       "</div>"
      ],
      "text/plain": [
       "  hashottuborspa propertycountylandusecode propertyzoningdesc fireplaceflag  \\\n",
       "0            NaN                      010D                NaN           NaN   \n",
       "1            NaN                      0109             LCA11*           NaN   \n",
       "2            NaN                      1200               LAC2           NaN   \n",
       "3            NaN                      1200               LAC2           NaN   \n",
       "4            NaN                      1210               LAM1           NaN   \n",
       "\n",
       "  taxdelinquencyflag  \n",
       "0                NaN  \n",
       "1                NaN  \n",
       "2                NaN  \n",
       "3                NaN  \n",
       "4                NaN  "
      ]
     },
     "execution_count": 11,
     "metadata": {},
     "output_type": "execute_result"
    }
   ],
   "source": [
    "predictor.select_dtypes(exclude=np.number).head()"
   ]
  },
  {
   "cell_type": "markdown",
   "id": "8d5dc342",
   "metadata": {
    "id": "f070e770"
   },
   "source": [
    "# There are totally 58 predictor variables including 53 numerical predictor variables and 5 categorical variables"
   ]
  },
  {
   "cell_type": "markdown",
   "id": "fdb81ff2",
   "metadata": {
    "id": "82471bb8"
   },
   "source": [
    "# There are many missing values for predictor variables "
   ]
  },
  {
   "cell_type": "markdown",
   "id": "82ef0071",
   "metadata": {
    "id": "fc0ea50e"
   },
   "source": [
    "# Both predictor variables and target variables include the feature parcelid"
   ]
  },
  {
   "cell_type": "code",
   "execution_count": null,
   "id": "40523bb0",
   "metadata": {
    "id": "40523bb0"
   },
   "outputs": [],
   "source": []
  },
  {
   "cell_type": "markdown",
   "id": "25d69ba3",
   "metadata": {
    "id": "25d69ba3"
   },
   "source": [
    "<h2>Question 2 (10 points)</h2>\n",
    "<br>\n",
    "<font size=\"+1\">\n",
    "    <ol>\n",
    "        <li type='i'><a href=\"https://pandas.pydata.org/docs/reference/api/pandas.DataFrame.merge.html\">Merge</a> the two data frames (the predictor variables and the target variable data sets), on the <i>parcelid</i> column using an <i>inner</i> join.</li>\n",
    "        <ul>\n",
    "            <li><i>Hint: the merged data frame should have 77,613 rows and 60 columns.</i></li>\n",
    "            <br>\n",
    "        </ul>\n",
    "        <li type='i'>On the merged data frame, <a href=\"https://pandas.pydata.org/docs/reference/api/pandas.DataFrame.set_index.html\">set the index</a> to be the <i>parcelid</i> and <a href=\"https://pandas.pydata.org/docs/reference/api/pandas.DataFrame.sort_index.html\">sort the index</a> (use <i>inplace=True</i>).</li>\n",
    "        <br>\n",
    "        <li type='i'>Split the merged data into <i>X</i> and <i>Y</i> data frames. In particular, from the merged data frame, create <i>X</i> by dropping the <i>logerror</i> column, and create <i>Y</i> by selecting the <i>logerror</i> column.</li>\n",
    "        <ul>\n",
    "            <li><i>Hint: at this point, up to your own variable names, you should have data frames in the following form</i></li>\n",
    "            <br>\n",
    "            <ul>\n",
    "                <li><i><b>merged_data</b>,</i></li>\n",
    "                <br>\n",
    "                <li><i><b>X</b>,</i></li>\n",
    "                <br>\n",
    "                <li><i><b>Y</b>.</i></li>\n",
    "                <br>\n",
    "            </ul>\n",
    "        </ul>\n",
    "    </ol>\n",
    "</font>"
   ]
  },
  {
   "cell_type": "code",
   "execution_count": 33,
   "id": "a0b8e899",
   "metadata": {
    "id": "a0b8e899"
   },
   "outputs": [
    {
     "data": {
      "text/html": [
       "<div>\n",
       "<style scoped>\n",
       "    .dataframe tbody tr th:only-of-type {\n",
       "        vertical-align: middle;\n",
       "    }\n",
       "\n",
       "    .dataframe tbody tr th {\n",
       "        vertical-align: top;\n",
       "    }\n",
       "\n",
       "    .dataframe thead th {\n",
       "        text-align: right;\n",
       "    }\n",
       "</style>\n",
       "<table border=\"1\" class=\"dataframe\">\n",
       "  <thead>\n",
       "    <tr style=\"text-align: right;\">\n",
       "      <th></th>\n",
       "      <th>parcelid</th>\n",
       "      <th>airconditioningtypeid</th>\n",
       "      <th>architecturalstyletypeid</th>\n",
       "      <th>basementsqft</th>\n",
       "      <th>bathroomcnt</th>\n",
       "      <th>bedroomcnt</th>\n",
       "      <th>buildingclasstypeid</th>\n",
       "      <th>buildingqualitytypeid</th>\n",
       "      <th>calculatedbathnbr</th>\n",
       "      <th>decktypeid</th>\n",
       "      <th>...</th>\n",
       "      <th>structuretaxvaluedollarcnt</th>\n",
       "      <th>taxvaluedollarcnt</th>\n",
       "      <th>assessmentyear</th>\n",
       "      <th>landtaxvaluedollarcnt</th>\n",
       "      <th>taxamount</th>\n",
       "      <th>taxdelinquencyflag</th>\n",
       "      <th>taxdelinquencyyear</th>\n",
       "      <th>censustractandblock</th>\n",
       "      <th>logerror</th>\n",
       "      <th>transactiondate</th>\n",
       "    </tr>\n",
       "  </thead>\n",
       "  <tbody>\n",
       "    <tr>\n",
       "      <th>0</th>\n",
       "      <td>17054981</td>\n",
       "      <td>NaN</td>\n",
       "      <td>NaN</td>\n",
       "      <td>NaN</td>\n",
       "      <td>5.0</td>\n",
       "      <td>4.0</td>\n",
       "      <td>NaN</td>\n",
       "      <td>NaN</td>\n",
       "      <td>5.0</td>\n",
       "      <td>NaN</td>\n",
       "      <td>...</td>\n",
       "      <td>501928.0</td>\n",
       "      <td>872850.0</td>\n",
       "      <td>2016.0</td>\n",
       "      <td>370922.0</td>\n",
       "      <td>9673.46</td>\n",
       "      <td>NaN</td>\n",
       "      <td>NaN</td>\n",
       "      <td>6.111001e+13</td>\n",
       "      <td>-0.013099</td>\n",
       "      <td>2017-06-15</td>\n",
       "    </tr>\n",
       "    <tr>\n",
       "      <th>1</th>\n",
       "      <td>17055743</td>\n",
       "      <td>NaN</td>\n",
       "      <td>NaN</td>\n",
       "      <td>NaN</td>\n",
       "      <td>2.0</td>\n",
       "      <td>3.0</td>\n",
       "      <td>NaN</td>\n",
       "      <td>NaN</td>\n",
       "      <td>2.0</td>\n",
       "      <td>66.0</td>\n",
       "      <td>...</td>\n",
       "      <td>130845.0</td>\n",
       "      <td>436157.0</td>\n",
       "      <td>2016.0</td>\n",
       "      <td>305312.0</td>\n",
       "      <td>5538.80</td>\n",
       "      <td>NaN</td>\n",
       "      <td>NaN</td>\n",
       "      <td>6.111001e+13</td>\n",
       "      <td>0.073985</td>\n",
       "      <td>2017-07-26</td>\n",
       "    </tr>\n",
       "    <tr>\n",
       "      <th>2</th>\n",
       "      <td>17068109</td>\n",
       "      <td>NaN</td>\n",
       "      <td>NaN</td>\n",
       "      <td>NaN</td>\n",
       "      <td>1.5</td>\n",
       "      <td>3.0</td>\n",
       "      <td>NaN</td>\n",
       "      <td>NaN</td>\n",
       "      <td>1.5</td>\n",
       "      <td>66.0</td>\n",
       "      <td>...</td>\n",
       "      <td>193413.0</td>\n",
       "      <td>286606.0</td>\n",
       "      <td>2016.0</td>\n",
       "      <td>93193.0</td>\n",
       "      <td>2987.36</td>\n",
       "      <td>NaN</td>\n",
       "      <td>NaN</td>\n",
       "      <td>6.111001e+13</td>\n",
       "      <td>0.071886</td>\n",
       "      <td>2017-07-28</td>\n",
       "    </tr>\n",
       "    <tr>\n",
       "      <th>3</th>\n",
       "      <td>17073952</td>\n",
       "      <td>NaN</td>\n",
       "      <td>NaN</td>\n",
       "      <td>NaN</td>\n",
       "      <td>2.0</td>\n",
       "      <td>2.0</td>\n",
       "      <td>NaN</td>\n",
       "      <td>NaN</td>\n",
       "      <td>2.0</td>\n",
       "      <td>NaN</td>\n",
       "      <td>...</td>\n",
       "      <td>90357.0</td>\n",
       "      <td>258888.0</td>\n",
       "      <td>2016.0</td>\n",
       "      <td>168531.0</td>\n",
       "      <td>2706.24</td>\n",
       "      <td>NaN</td>\n",
       "      <td>NaN</td>\n",
       "      <td>6.111002e+13</td>\n",
       "      <td>0.305680</td>\n",
       "      <td>2017-06-02</td>\n",
       "    </tr>\n",
       "    <tr>\n",
       "      <th>4</th>\n",
       "      <td>17078502</td>\n",
       "      <td>NaN</td>\n",
       "      <td>NaN</td>\n",
       "      <td>NaN</td>\n",
       "      <td>1.0</td>\n",
       "      <td>2.0</td>\n",
       "      <td>NaN</td>\n",
       "      <td>NaN</td>\n",
       "      <td>1.0</td>\n",
       "      <td>NaN</td>\n",
       "      <td>...</td>\n",
       "      <td>148752.0</td>\n",
       "      <td>592930.0</td>\n",
       "      <td>2016.0</td>\n",
       "      <td>444178.0</td>\n",
       "      <td>6220.70</td>\n",
       "      <td>NaN</td>\n",
       "      <td>NaN</td>\n",
       "      <td>6.111002e+13</td>\n",
       "      <td>-0.073787</td>\n",
       "      <td>2017-07-07</td>\n",
       "    </tr>\n",
       "    <tr>\n",
       "      <th>...</th>\n",
       "      <td>...</td>\n",
       "      <td>...</td>\n",
       "      <td>...</td>\n",
       "      <td>...</td>\n",
       "      <td>...</td>\n",
       "      <td>...</td>\n",
       "      <td>...</td>\n",
       "      <td>...</td>\n",
       "      <td>...</td>\n",
       "      <td>...</td>\n",
       "      <td>...</td>\n",
       "      <td>...</td>\n",
       "      <td>...</td>\n",
       "      <td>...</td>\n",
       "      <td>...</td>\n",
       "      <td>...</td>\n",
       "      <td>...</td>\n",
       "      <td>...</td>\n",
       "      <td>...</td>\n",
       "      <td>...</td>\n",
       "      <td>...</td>\n",
       "    </tr>\n",
       "    <tr>\n",
       "      <th>77608</th>\n",
       "      <td>11928618</td>\n",
       "      <td>NaN</td>\n",
       "      <td>NaN</td>\n",
       "      <td>NaN</td>\n",
       "      <td>NaN</td>\n",
       "      <td>NaN</td>\n",
       "      <td>NaN</td>\n",
       "      <td>NaN</td>\n",
       "      <td>NaN</td>\n",
       "      <td>NaN</td>\n",
       "      <td>...</td>\n",
       "      <td>NaN</td>\n",
       "      <td>NaN</td>\n",
       "      <td>NaN</td>\n",
       "      <td>NaN</td>\n",
       "      <td>NaN</td>\n",
       "      <td>NaN</td>\n",
       "      <td>NaN</td>\n",
       "      <td>NaN</td>\n",
       "      <td>0.026665</td>\n",
       "      <td>2017-05-12</td>\n",
       "    </tr>\n",
       "    <tr>\n",
       "      <th>77609</th>\n",
       "      <td>10813418</td>\n",
       "      <td>NaN</td>\n",
       "      <td>NaN</td>\n",
       "      <td>NaN</td>\n",
       "      <td>NaN</td>\n",
       "      <td>NaN</td>\n",
       "      <td>NaN</td>\n",
       "      <td>NaN</td>\n",
       "      <td>NaN</td>\n",
       "      <td>NaN</td>\n",
       "      <td>...</td>\n",
       "      <td>NaN</td>\n",
       "      <td>NaN</td>\n",
       "      <td>NaN</td>\n",
       "      <td>NaN</td>\n",
       "      <td>NaN</td>\n",
       "      <td>NaN</td>\n",
       "      <td>NaN</td>\n",
       "      <td>NaN</td>\n",
       "      <td>-0.008083</td>\n",
       "      <td>2017-01-03</td>\n",
       "    </tr>\n",
       "    <tr>\n",
       "      <th>77610</th>\n",
       "      <td>11934023</td>\n",
       "      <td>NaN</td>\n",
       "      <td>NaN</td>\n",
       "      <td>NaN</td>\n",
       "      <td>NaN</td>\n",
       "      <td>NaN</td>\n",
       "      <td>NaN</td>\n",
       "      <td>NaN</td>\n",
       "      <td>NaN</td>\n",
       "      <td>NaN</td>\n",
       "      <td>...</td>\n",
       "      <td>NaN</td>\n",
       "      <td>NaN</td>\n",
       "      <td>NaN</td>\n",
       "      <td>NaN</td>\n",
       "      <td>NaN</td>\n",
       "      <td>NaN</td>\n",
       "      <td>NaN</td>\n",
       "      <td>NaN</td>\n",
       "      <td>-0.016600</td>\n",
       "      <td>2017-03-23</td>\n",
       "    </tr>\n",
       "    <tr>\n",
       "      <th>77611</th>\n",
       "      <td>11490025</td>\n",
       "      <td>NaN</td>\n",
       "      <td>NaN</td>\n",
       "      <td>NaN</td>\n",
       "      <td>NaN</td>\n",
       "      <td>NaN</td>\n",
       "      <td>NaN</td>\n",
       "      <td>NaN</td>\n",
       "      <td>NaN</td>\n",
       "      <td>NaN</td>\n",
       "      <td>...</td>\n",
       "      <td>NaN</td>\n",
       "      <td>NaN</td>\n",
       "      <td>NaN</td>\n",
       "      <td>NaN</td>\n",
       "      <td>NaN</td>\n",
       "      <td>NaN</td>\n",
       "      <td>NaN</td>\n",
       "      <td>NaN</td>\n",
       "      <td>0.108073</td>\n",
       "      <td>2017-03-23</td>\n",
       "    </tr>\n",
       "    <tr>\n",
       "      <th>77612</th>\n",
       "      <td>11864428</td>\n",
       "      <td>NaN</td>\n",
       "      <td>NaN</td>\n",
       "      <td>NaN</td>\n",
       "      <td>NaN</td>\n",
       "      <td>NaN</td>\n",
       "      <td>NaN</td>\n",
       "      <td>NaN</td>\n",
       "      <td>NaN</td>\n",
       "      <td>NaN</td>\n",
       "      <td>...</td>\n",
       "      <td>NaN</td>\n",
       "      <td>NaN</td>\n",
       "      <td>NaN</td>\n",
       "      <td>NaN</td>\n",
       "      <td>NaN</td>\n",
       "      <td>NaN</td>\n",
       "      <td>NaN</td>\n",
       "      <td>NaN</td>\n",
       "      <td>0.082712</td>\n",
       "      <td>2017-09-08</td>\n",
       "    </tr>\n",
       "  </tbody>\n",
       "</table>\n",
       "<p>77613 rows × 60 columns</p>\n",
       "</div>"
      ],
      "text/plain": [
       "       parcelid  airconditioningtypeid  architecturalstyletypeid  \\\n",
       "0      17054981                    NaN                       NaN   \n",
       "1      17055743                    NaN                       NaN   \n",
       "2      17068109                    NaN                       NaN   \n",
       "3      17073952                    NaN                       NaN   \n",
       "4      17078502                    NaN                       NaN   \n",
       "...         ...                    ...                       ...   \n",
       "77608  11928618                    NaN                       NaN   \n",
       "77609  10813418                    NaN                       NaN   \n",
       "77610  11934023                    NaN                       NaN   \n",
       "77611  11490025                    NaN                       NaN   \n",
       "77612  11864428                    NaN                       NaN   \n",
       "\n",
       "       basementsqft  bathroomcnt  bedroomcnt  buildingclasstypeid  \\\n",
       "0               NaN          5.0         4.0                  NaN   \n",
       "1               NaN          2.0         3.0                  NaN   \n",
       "2               NaN          1.5         3.0                  NaN   \n",
       "3               NaN          2.0         2.0                  NaN   \n",
       "4               NaN          1.0         2.0                  NaN   \n",
       "...             ...          ...         ...                  ...   \n",
       "77608           NaN          NaN         NaN                  NaN   \n",
       "77609           NaN          NaN         NaN                  NaN   \n",
       "77610           NaN          NaN         NaN                  NaN   \n",
       "77611           NaN          NaN         NaN                  NaN   \n",
       "77612           NaN          NaN         NaN                  NaN   \n",
       "\n",
       "       buildingqualitytypeid  calculatedbathnbr  decktypeid  ...  \\\n",
       "0                        NaN                5.0         NaN  ...   \n",
       "1                        NaN                2.0        66.0  ...   \n",
       "2                        NaN                1.5        66.0  ...   \n",
       "3                        NaN                2.0         NaN  ...   \n",
       "4                        NaN                1.0         NaN  ...   \n",
       "...                      ...                ...         ...  ...   \n",
       "77608                    NaN                NaN         NaN  ...   \n",
       "77609                    NaN                NaN         NaN  ...   \n",
       "77610                    NaN                NaN         NaN  ...   \n",
       "77611                    NaN                NaN         NaN  ...   \n",
       "77612                    NaN                NaN         NaN  ...   \n",
       "\n",
       "       structuretaxvaluedollarcnt  taxvaluedollarcnt  assessmentyear  \\\n",
       "0                        501928.0           872850.0          2016.0   \n",
       "1                        130845.0           436157.0          2016.0   \n",
       "2                        193413.0           286606.0          2016.0   \n",
       "3                         90357.0           258888.0          2016.0   \n",
       "4                        148752.0           592930.0          2016.0   \n",
       "...                           ...                ...             ...   \n",
       "77608                         NaN                NaN             NaN   \n",
       "77609                         NaN                NaN             NaN   \n",
       "77610                         NaN                NaN             NaN   \n",
       "77611                         NaN                NaN             NaN   \n",
       "77612                         NaN                NaN             NaN   \n",
       "\n",
       "       landtaxvaluedollarcnt  taxamount  taxdelinquencyflag  \\\n",
       "0                   370922.0    9673.46                 NaN   \n",
       "1                   305312.0    5538.80                 NaN   \n",
       "2                    93193.0    2987.36                 NaN   \n",
       "3                   168531.0    2706.24                 NaN   \n",
       "4                   444178.0    6220.70                 NaN   \n",
       "...                      ...        ...                 ...   \n",
       "77608                    NaN        NaN                 NaN   \n",
       "77609                    NaN        NaN                 NaN   \n",
       "77610                    NaN        NaN                 NaN   \n",
       "77611                    NaN        NaN                 NaN   \n",
       "77612                    NaN        NaN                 NaN   \n",
       "\n",
       "       taxdelinquencyyear  censustractandblock  logerror  transactiondate  \n",
       "0                     NaN         6.111001e+13 -0.013099       2017-06-15  \n",
       "1                     NaN         6.111001e+13  0.073985       2017-07-26  \n",
       "2                     NaN         6.111001e+13  0.071886       2017-07-28  \n",
       "3                     NaN         6.111002e+13  0.305680       2017-06-02  \n",
       "4                     NaN         6.111002e+13 -0.073787       2017-07-07  \n",
       "...                   ...                  ...       ...              ...  \n",
       "77608                 NaN                  NaN  0.026665       2017-05-12  \n",
       "77609                 NaN                  NaN -0.008083       2017-01-03  \n",
       "77610                 NaN                  NaN -0.016600       2017-03-23  \n",
       "77611                 NaN                  NaN  0.108073       2017-03-23  \n",
       "77612                 NaN                  NaN  0.082712       2017-09-08  \n",
       "\n",
       "[77613 rows x 60 columns]"
      ]
     },
     "execution_count": 33,
     "metadata": {},
     "output_type": "execute_result"
    }
   ],
   "source": [
    "merged = predictor.merge(target,how=\"inner\")\n",
    "merged"
   ]
  },
  {
   "cell_type": "code",
   "execution_count": 34,
   "id": "2692b655",
   "metadata": {
    "id": "2692b655"
   },
   "outputs": [],
   "source": [
    "merged.set_index(\"parcelid\",inplace=True)\n",
    "merged.sort_index(inplace=True)"
   ]
  },
  {
   "cell_type": "code",
   "execution_count": 35,
   "id": "149aafd5",
   "metadata": {
    "id": "149aafd5"
   },
   "outputs": [
    {
     "data": {
      "text/html": [
       "<div>\n",
       "<style scoped>\n",
       "    .dataframe tbody tr th:only-of-type {\n",
       "        vertical-align: middle;\n",
       "    }\n",
       "\n",
       "    .dataframe tbody tr th {\n",
       "        vertical-align: top;\n",
       "    }\n",
       "\n",
       "    .dataframe thead th {\n",
       "        text-align: right;\n",
       "    }\n",
       "</style>\n",
       "<table border=\"1\" class=\"dataframe\">\n",
       "  <thead>\n",
       "    <tr style=\"text-align: right;\">\n",
       "      <th></th>\n",
       "      <th>airconditioningtypeid</th>\n",
       "      <th>architecturalstyletypeid</th>\n",
       "      <th>basementsqft</th>\n",
       "      <th>bathroomcnt</th>\n",
       "      <th>bedroomcnt</th>\n",
       "      <th>buildingclasstypeid</th>\n",
       "      <th>buildingqualitytypeid</th>\n",
       "      <th>calculatedbathnbr</th>\n",
       "      <th>decktypeid</th>\n",
       "      <th>finishedfloor1squarefeet</th>\n",
       "      <th>...</th>\n",
       "      <th>structuretaxvaluedollarcnt</th>\n",
       "      <th>taxvaluedollarcnt</th>\n",
       "      <th>assessmentyear</th>\n",
       "      <th>landtaxvaluedollarcnt</th>\n",
       "      <th>taxamount</th>\n",
       "      <th>taxdelinquencyflag</th>\n",
       "      <th>taxdelinquencyyear</th>\n",
       "      <th>censustractandblock</th>\n",
       "      <th>logerror</th>\n",
       "      <th>transactiondate</th>\n",
       "    </tr>\n",
       "    <tr>\n",
       "      <th>parcelid</th>\n",
       "      <th></th>\n",
       "      <th></th>\n",
       "      <th></th>\n",
       "      <th></th>\n",
       "      <th></th>\n",
       "      <th></th>\n",
       "      <th></th>\n",
       "      <th></th>\n",
       "      <th></th>\n",
       "      <th></th>\n",
       "      <th></th>\n",
       "      <th></th>\n",
       "      <th></th>\n",
       "      <th></th>\n",
       "      <th></th>\n",
       "      <th></th>\n",
       "      <th></th>\n",
       "      <th></th>\n",
       "      <th></th>\n",
       "      <th></th>\n",
       "      <th></th>\n",
       "    </tr>\n",
       "  </thead>\n",
       "  <tbody>\n",
       "    <tr>\n",
       "      <th>10711855</th>\n",
       "      <td>NaN</td>\n",
       "      <td>NaN</td>\n",
       "      <td>NaN</td>\n",
       "      <td>2.0</td>\n",
       "      <td>3.0</td>\n",
       "      <td>NaN</td>\n",
       "      <td>8.0</td>\n",
       "      <td>2.0</td>\n",
       "      <td>NaN</td>\n",
       "      <td>NaN</td>\n",
       "      <td>...</td>\n",
       "      <td>249655.0</td>\n",
       "      <td>624139.0</td>\n",
       "      <td>2016.0</td>\n",
       "      <td>374484.0</td>\n",
       "      <td>7659.36</td>\n",
       "      <td>NaN</td>\n",
       "      <td>NaN</td>\n",
       "      <td>6.037113e+13</td>\n",
       "      <td>-0.007357</td>\n",
       "      <td>2017-07-07</td>\n",
       "    </tr>\n",
       "    <tr>\n",
       "      <th>10711877</th>\n",
       "      <td>1.0</td>\n",
       "      <td>NaN</td>\n",
       "      <td>NaN</td>\n",
       "      <td>2.0</td>\n",
       "      <td>4.0</td>\n",
       "      <td>NaN</td>\n",
       "      <td>8.0</td>\n",
       "      <td>2.0</td>\n",
       "      <td>NaN</td>\n",
       "      <td>NaN</td>\n",
       "      <td>...</td>\n",
       "      <td>253000.0</td>\n",
       "      <td>660000.0</td>\n",
       "      <td>2016.0</td>\n",
       "      <td>407000.0</td>\n",
       "      <td>8123.91</td>\n",
       "      <td>NaN</td>\n",
       "      <td>NaN</td>\n",
       "      <td>6.037113e+13</td>\n",
       "      <td>0.021066</td>\n",
       "      <td>2017-08-29</td>\n",
       "    </tr>\n",
       "    <tr>\n",
       "      <th>10711888</th>\n",
       "      <td>1.0</td>\n",
       "      <td>NaN</td>\n",
       "      <td>NaN</td>\n",
       "      <td>2.0</td>\n",
       "      <td>4.0</td>\n",
       "      <td>NaN</td>\n",
       "      <td>8.0</td>\n",
       "      <td>2.0</td>\n",
       "      <td>NaN</td>\n",
       "      <td>NaN</td>\n",
       "      <td>...</td>\n",
       "      <td>257591.0</td>\n",
       "      <td>542923.0</td>\n",
       "      <td>2016.0</td>\n",
       "      <td>285332.0</td>\n",
       "      <td>6673.24</td>\n",
       "      <td>NaN</td>\n",
       "      <td>NaN</td>\n",
       "      <td>6.037113e+13</td>\n",
       "      <td>0.077174</td>\n",
       "      <td>2017-04-04</td>\n",
       "    </tr>\n",
       "    <tr>\n",
       "      <th>10711910</th>\n",
       "      <td>NaN</td>\n",
       "      <td>NaN</td>\n",
       "      <td>NaN</td>\n",
       "      <td>2.0</td>\n",
       "      <td>3.0</td>\n",
       "      <td>NaN</td>\n",
       "      <td>8.0</td>\n",
       "      <td>2.0</td>\n",
       "      <td>NaN</td>\n",
       "      <td>NaN</td>\n",
       "      <td>...</td>\n",
       "      <td>57968.0</td>\n",
       "      <td>78031.0</td>\n",
       "      <td>2016.0</td>\n",
       "      <td>20063.0</td>\n",
       "      <td>1116.46</td>\n",
       "      <td>NaN</td>\n",
       "      <td>NaN</td>\n",
       "      <td>6.037113e+13</td>\n",
       "      <td>-0.041238</td>\n",
       "      <td>2017-03-17</td>\n",
       "    </tr>\n",
       "    <tr>\n",
       "      <th>10711923</th>\n",
       "      <td>NaN</td>\n",
       "      <td>NaN</td>\n",
       "      <td>NaN</td>\n",
       "      <td>2.0</td>\n",
       "      <td>4.0</td>\n",
       "      <td>NaN</td>\n",
       "      <td>8.0</td>\n",
       "      <td>2.0</td>\n",
       "      <td>NaN</td>\n",
       "      <td>NaN</td>\n",
       "      <td>...</td>\n",
       "      <td>167869.0</td>\n",
       "      <td>415459.0</td>\n",
       "      <td>2016.0</td>\n",
       "      <td>247590.0</td>\n",
       "      <td>5239.85</td>\n",
       "      <td>NaN</td>\n",
       "      <td>NaN</td>\n",
       "      <td>6.037113e+13</td>\n",
       "      <td>-0.009496</td>\n",
       "      <td>2017-03-24</td>\n",
       "    </tr>\n",
       "  </tbody>\n",
       "</table>\n",
       "<p>5 rows × 59 columns</p>\n",
       "</div>"
      ],
      "text/plain": [
       "          airconditioningtypeid  architecturalstyletypeid  basementsqft  \\\n",
       "parcelid                                                                  \n",
       "10711855                    NaN                       NaN           NaN   \n",
       "10711877                    1.0                       NaN           NaN   \n",
       "10711888                    1.0                       NaN           NaN   \n",
       "10711910                    NaN                       NaN           NaN   \n",
       "10711923                    NaN                       NaN           NaN   \n",
       "\n",
       "          bathroomcnt  bedroomcnt  buildingclasstypeid  buildingqualitytypeid  \\\n",
       "parcelid                                                                        \n",
       "10711855          2.0         3.0                  NaN                    8.0   \n",
       "10711877          2.0         4.0                  NaN                    8.0   \n",
       "10711888          2.0         4.0                  NaN                    8.0   \n",
       "10711910          2.0         3.0                  NaN                    8.0   \n",
       "10711923          2.0         4.0                  NaN                    8.0   \n",
       "\n",
       "          calculatedbathnbr  decktypeid  finishedfloor1squarefeet  ...  \\\n",
       "parcelid                                                           ...   \n",
       "10711855                2.0         NaN                       NaN  ...   \n",
       "10711877                2.0         NaN                       NaN  ...   \n",
       "10711888                2.0         NaN                       NaN  ...   \n",
       "10711910                2.0         NaN                       NaN  ...   \n",
       "10711923                2.0         NaN                       NaN  ...   \n",
       "\n",
       "          structuretaxvaluedollarcnt  taxvaluedollarcnt  assessmentyear  \\\n",
       "parcelid                                                                  \n",
       "10711855                    249655.0           624139.0          2016.0   \n",
       "10711877                    253000.0           660000.0          2016.0   \n",
       "10711888                    257591.0           542923.0          2016.0   \n",
       "10711910                     57968.0            78031.0          2016.0   \n",
       "10711923                    167869.0           415459.0          2016.0   \n",
       "\n",
       "          landtaxvaluedollarcnt  taxamount  taxdelinquencyflag  \\\n",
       "parcelid                                                         \n",
       "10711855               374484.0    7659.36                 NaN   \n",
       "10711877               407000.0    8123.91                 NaN   \n",
       "10711888               285332.0    6673.24                 NaN   \n",
       "10711910                20063.0    1116.46                 NaN   \n",
       "10711923               247590.0    5239.85                 NaN   \n",
       "\n",
       "          taxdelinquencyyear  censustractandblock  logerror  transactiondate  \n",
       "parcelid                                                                      \n",
       "10711855                 NaN         6.037113e+13 -0.007357       2017-07-07  \n",
       "10711877                 NaN         6.037113e+13  0.021066       2017-08-29  \n",
       "10711888                 NaN         6.037113e+13  0.077174       2017-04-04  \n",
       "10711910                 NaN         6.037113e+13 -0.041238       2017-03-17  \n",
       "10711923                 NaN         6.037113e+13 -0.009496       2017-03-24  \n",
       "\n",
       "[5 rows x 59 columns]"
      ]
     },
     "execution_count": 35,
     "metadata": {},
     "output_type": "execute_result"
    }
   ],
   "source": [
    "# merged_data\n",
    "merged.head()"
   ]
  },
  {
   "cell_type": "code",
   "execution_count": 204,
   "id": "9e16e4ce",
   "metadata": {
    "id": "9e16e4ce"
   },
   "outputs": [
    {
     "data": {
      "text/html": [
       "<div>\n",
       "<style scoped>\n",
       "    .dataframe tbody tr th:only-of-type {\n",
       "        vertical-align: middle;\n",
       "    }\n",
       "\n",
       "    .dataframe tbody tr th {\n",
       "        vertical-align: top;\n",
       "    }\n",
       "\n",
       "    .dataframe thead th {\n",
       "        text-align: right;\n",
       "    }\n",
       "</style>\n",
       "<table border=\"1\" class=\"dataframe\">\n",
       "  <thead>\n",
       "    <tr style=\"text-align: right;\">\n",
       "      <th></th>\n",
       "      <th>airconditioningtypeid</th>\n",
       "      <th>architecturalstyletypeid</th>\n",
       "      <th>basementsqft</th>\n",
       "      <th>bathroomcnt</th>\n",
       "      <th>bedroomcnt</th>\n",
       "      <th>buildingclasstypeid</th>\n",
       "      <th>buildingqualitytypeid</th>\n",
       "      <th>calculatedbathnbr</th>\n",
       "      <th>decktypeid</th>\n",
       "      <th>finishedfloor1squarefeet</th>\n",
       "      <th>...</th>\n",
       "      <th>fireplaceflag</th>\n",
       "      <th>structuretaxvaluedollarcnt</th>\n",
       "      <th>taxvaluedollarcnt</th>\n",
       "      <th>assessmentyear</th>\n",
       "      <th>landtaxvaluedollarcnt</th>\n",
       "      <th>taxamount</th>\n",
       "      <th>taxdelinquencyflag</th>\n",
       "      <th>taxdelinquencyyear</th>\n",
       "      <th>censustractandblock</th>\n",
       "      <th>transactiondate</th>\n",
       "    </tr>\n",
       "    <tr>\n",
       "      <th>parcelid</th>\n",
       "      <th></th>\n",
       "      <th></th>\n",
       "      <th></th>\n",
       "      <th></th>\n",
       "      <th></th>\n",
       "      <th></th>\n",
       "      <th></th>\n",
       "      <th></th>\n",
       "      <th></th>\n",
       "      <th></th>\n",
       "      <th></th>\n",
       "      <th></th>\n",
       "      <th></th>\n",
       "      <th></th>\n",
       "      <th></th>\n",
       "      <th></th>\n",
       "      <th></th>\n",
       "      <th></th>\n",
       "      <th></th>\n",
       "      <th></th>\n",
       "      <th></th>\n",
       "    </tr>\n",
       "  </thead>\n",
       "  <tbody>\n",
       "    <tr>\n",
       "      <th>10711855</th>\n",
       "      <td>NaN</td>\n",
       "      <td>NaN</td>\n",
       "      <td>NaN</td>\n",
       "      <td>2.0</td>\n",
       "      <td>3.0</td>\n",
       "      <td>NaN</td>\n",
       "      <td>8.0</td>\n",
       "      <td>2.0</td>\n",
       "      <td>NaN</td>\n",
       "      <td>NaN</td>\n",
       "      <td>...</td>\n",
       "      <td>NaN</td>\n",
       "      <td>249655.0</td>\n",
       "      <td>624139.0</td>\n",
       "      <td>2016.0</td>\n",
       "      <td>374484.0</td>\n",
       "      <td>7659.36</td>\n",
       "      <td>NaN</td>\n",
       "      <td>NaN</td>\n",
       "      <td>6.037113e+13</td>\n",
       "      <td>2017-07-07</td>\n",
       "    </tr>\n",
       "    <tr>\n",
       "      <th>10711877</th>\n",
       "      <td>1.0</td>\n",
       "      <td>NaN</td>\n",
       "      <td>NaN</td>\n",
       "      <td>2.0</td>\n",
       "      <td>4.0</td>\n",
       "      <td>NaN</td>\n",
       "      <td>8.0</td>\n",
       "      <td>2.0</td>\n",
       "      <td>NaN</td>\n",
       "      <td>NaN</td>\n",
       "      <td>...</td>\n",
       "      <td>NaN</td>\n",
       "      <td>253000.0</td>\n",
       "      <td>660000.0</td>\n",
       "      <td>2016.0</td>\n",
       "      <td>407000.0</td>\n",
       "      <td>8123.91</td>\n",
       "      <td>NaN</td>\n",
       "      <td>NaN</td>\n",
       "      <td>6.037113e+13</td>\n",
       "      <td>2017-08-29</td>\n",
       "    </tr>\n",
       "    <tr>\n",
       "      <th>10711888</th>\n",
       "      <td>1.0</td>\n",
       "      <td>NaN</td>\n",
       "      <td>NaN</td>\n",
       "      <td>2.0</td>\n",
       "      <td>4.0</td>\n",
       "      <td>NaN</td>\n",
       "      <td>8.0</td>\n",
       "      <td>2.0</td>\n",
       "      <td>NaN</td>\n",
       "      <td>NaN</td>\n",
       "      <td>...</td>\n",
       "      <td>NaN</td>\n",
       "      <td>257591.0</td>\n",
       "      <td>542923.0</td>\n",
       "      <td>2016.0</td>\n",
       "      <td>285332.0</td>\n",
       "      <td>6673.24</td>\n",
       "      <td>NaN</td>\n",
       "      <td>NaN</td>\n",
       "      <td>6.037113e+13</td>\n",
       "      <td>2017-04-04</td>\n",
       "    </tr>\n",
       "    <tr>\n",
       "      <th>10711910</th>\n",
       "      <td>NaN</td>\n",
       "      <td>NaN</td>\n",
       "      <td>NaN</td>\n",
       "      <td>2.0</td>\n",
       "      <td>3.0</td>\n",
       "      <td>NaN</td>\n",
       "      <td>8.0</td>\n",
       "      <td>2.0</td>\n",
       "      <td>NaN</td>\n",
       "      <td>NaN</td>\n",
       "      <td>...</td>\n",
       "      <td>NaN</td>\n",
       "      <td>57968.0</td>\n",
       "      <td>78031.0</td>\n",
       "      <td>2016.0</td>\n",
       "      <td>20063.0</td>\n",
       "      <td>1116.46</td>\n",
       "      <td>NaN</td>\n",
       "      <td>NaN</td>\n",
       "      <td>6.037113e+13</td>\n",
       "      <td>2017-03-17</td>\n",
       "    </tr>\n",
       "    <tr>\n",
       "      <th>10711923</th>\n",
       "      <td>NaN</td>\n",
       "      <td>NaN</td>\n",
       "      <td>NaN</td>\n",
       "      <td>2.0</td>\n",
       "      <td>4.0</td>\n",
       "      <td>NaN</td>\n",
       "      <td>8.0</td>\n",
       "      <td>2.0</td>\n",
       "      <td>NaN</td>\n",
       "      <td>NaN</td>\n",
       "      <td>...</td>\n",
       "      <td>NaN</td>\n",
       "      <td>167869.0</td>\n",
       "      <td>415459.0</td>\n",
       "      <td>2016.0</td>\n",
       "      <td>247590.0</td>\n",
       "      <td>5239.85</td>\n",
       "      <td>NaN</td>\n",
       "      <td>NaN</td>\n",
       "      <td>6.037113e+13</td>\n",
       "      <td>2017-03-24</td>\n",
       "    </tr>\n",
       "  </tbody>\n",
       "</table>\n",
       "<p>5 rows × 58 columns</p>\n",
       "</div>"
      ],
      "text/plain": [
       "          airconditioningtypeid  architecturalstyletypeid  basementsqft  \\\n",
       "parcelid                                                                  \n",
       "10711855                    NaN                       NaN           NaN   \n",
       "10711877                    1.0                       NaN           NaN   \n",
       "10711888                    1.0                       NaN           NaN   \n",
       "10711910                    NaN                       NaN           NaN   \n",
       "10711923                    NaN                       NaN           NaN   \n",
       "\n",
       "          bathroomcnt  bedroomcnt  buildingclasstypeid  buildingqualitytypeid  \\\n",
       "parcelid                                                                        \n",
       "10711855          2.0         3.0                  NaN                    8.0   \n",
       "10711877          2.0         4.0                  NaN                    8.0   \n",
       "10711888          2.0         4.0                  NaN                    8.0   \n",
       "10711910          2.0         3.0                  NaN                    8.0   \n",
       "10711923          2.0         4.0                  NaN                    8.0   \n",
       "\n",
       "          calculatedbathnbr  decktypeid  finishedfloor1squarefeet  ...  \\\n",
       "parcelid                                                           ...   \n",
       "10711855                2.0         NaN                       NaN  ...   \n",
       "10711877                2.0         NaN                       NaN  ...   \n",
       "10711888                2.0         NaN                       NaN  ...   \n",
       "10711910                2.0         NaN                       NaN  ...   \n",
       "10711923                2.0         NaN                       NaN  ...   \n",
       "\n",
       "          fireplaceflag  structuretaxvaluedollarcnt  taxvaluedollarcnt  \\\n",
       "parcelid                                                                 \n",
       "10711855            NaN                    249655.0           624139.0   \n",
       "10711877            NaN                    253000.0           660000.0   \n",
       "10711888            NaN                    257591.0           542923.0   \n",
       "10711910            NaN                     57968.0            78031.0   \n",
       "10711923            NaN                    167869.0           415459.0   \n",
       "\n",
       "          assessmentyear  landtaxvaluedollarcnt  taxamount  \\\n",
       "parcelid                                                     \n",
       "10711855          2016.0               374484.0    7659.36   \n",
       "10711877          2016.0               407000.0    8123.91   \n",
       "10711888          2016.0               285332.0    6673.24   \n",
       "10711910          2016.0                20063.0    1116.46   \n",
       "10711923          2016.0               247590.0    5239.85   \n",
       "\n",
       "          taxdelinquencyflag  taxdelinquencyyear  censustractandblock  \\\n",
       "parcelid                                                                \n",
       "10711855                 NaN                 NaN         6.037113e+13   \n",
       "10711877                 NaN                 NaN         6.037113e+13   \n",
       "10711888                 NaN                 NaN         6.037113e+13   \n",
       "10711910                 NaN                 NaN         6.037113e+13   \n",
       "10711923                 NaN                 NaN         6.037113e+13   \n",
       "\n",
       "          transactiondate  \n",
       "parcelid                   \n",
       "10711855       2017-07-07  \n",
       "10711877       2017-08-29  \n",
       "10711888       2017-04-04  \n",
       "10711910       2017-03-17  \n",
       "10711923       2017-03-24  \n",
       "\n",
       "[5 rows x 58 columns]"
      ]
     },
     "execution_count": 204,
     "metadata": {},
     "output_type": "execute_result"
    }
   ],
   "source": [
    "# X\n",
    "X = merged.drop(columns=\"logerror\")\n",
    "X.head()"
   ]
  },
  {
   "cell_type": "code",
   "execution_count": 205,
   "id": "037c7d85",
   "metadata": {
    "id": "037c7d85"
   },
   "outputs": [
    {
     "data": {
      "text/plain": [
       "parcelid\n",
       "10711855   -0.007357\n",
       "10711877    0.021066\n",
       "10711888    0.077174\n",
       "10711910   -0.041238\n",
       "10711923   -0.009496\n",
       "Name: logerror, dtype: float64"
      ]
     },
     "execution_count": 205,
     "metadata": {},
     "output_type": "execute_result"
    }
   ],
   "source": [
    "# Y\n",
    "Y = merged[\"logerror\"]\n",
    "Y.head()"
   ]
  },
  {
   "cell_type": "code",
   "execution_count": null,
   "id": "6e9b1361",
   "metadata": {
    "id": "6e9b1361"
   },
   "outputs": [],
   "source": []
  },
  {
   "cell_type": "code",
   "execution_count": null,
   "id": "18f55663",
   "metadata": {
    "id": "18f55663"
   },
   "outputs": [],
   "source": []
  },
  {
   "cell_type": "code",
   "execution_count": null,
   "id": "5a9f1503",
   "metadata": {
    "id": "5a9f1503"
   },
   "outputs": [],
   "source": []
  },
  {
   "cell_type": "code",
   "execution_count": null,
   "id": "3aff5e64",
   "metadata": {
    "id": "3aff5e64"
   },
   "outputs": [],
   "source": []
  },
  {
   "cell_type": "code",
   "execution_count": null,
   "id": "e0a719d1",
   "metadata": {
    "id": "e0a719d1"
   },
   "outputs": [],
   "source": []
  },
  {
   "cell_type": "markdown",
   "id": "843e6c3b",
   "metadata": {
    "id": "843e6c3b"
   },
   "source": [
    "<h2>Question 3 (10 points)</h2>\n",
    "<br>\n",
    "<font size=\"+1\">\n",
    "    <ol>\n",
    "        <li type='i'>Consider the target variable, that is, the <i>logerror</i> in the <i>train_2017.csv</i> dataset. Compute the following summary statistics of the <i>logerror</i> target variable:</li>\n",
    "        <ul>\n",
    "            <li>minimum,</li>\n",
    "            <br>\n",
    "            <li>mean,</li>\n",
    "            <br>\n",
    "            <li>median,</li>\n",
    "            <br>\n",
    "            <li>standard deviation,</li>\n",
    "            <br>\n",
    "            <li>and maximum.</li>\n",
    "            <br>\n",
    "        </ul>\n",
    "        <li type='i'>Plot a presentable histogram of the <i>logerror</i> target variable.</li>\n",
    "        <ul>\n",
    "            <li>Use a bin size of 200.</li>\n",
    "            <br>\n",
    "            <li>Use a figure size of (16,8).</li>\n",
    "            <br>\n",
    "            <li>Set a x-label, y-label, and a title to the histogram.</li>\n",
    "            <br>\n",
    "        </ul>\n",
    "        <li type='i'>For every property county land use code, compute the average log error. This shows what counties are more or less susceptible to being incorrectly priced by the Zestimate. Then sort these averages, and finally plot them using a horizontal bar chart.</li>\n",
    "        <ul>\n",
    "            <li>This breaks down to the following steps:</li>\n",
    "            <br>\n",
    "            <ul>\n",
    "                <li>Using the <i>merged_data</i> data frame, group the <i>logerror</i> variable by the <i>propertycountylandusecode</i> variable and apply the mean function.</li>\n",
    "                <br>\n",
    "                <li>Next, <a href=\"https://pandas.pydata.org/docs/reference/api/pandas.DataFrame.sort_values.html\">sort the values</a> of the resulting series.</li>\n",
    "                <br>\n",
    "                <li>Finally, <a href=\"https://pandas.pydata.org/docs/reference/api/pandas.DataFrame.plot.html\">plot</a> the resulting sorted series in a horizontal bar chart using <i>kind='barh'</i> with a <i>figsize=(16,16)</i>.</li>\n",
    "                <br>\n",
    "            </ul>\n",
    "        </ul>\n",
    "        <li type='i'><b>Using Markdown</b>, interpret and describe the chart you just created as if you were talking to a stakeholder in Zillow's Zestimate.</li>\n",
    "        <br>\n",
    "    </ol>\n",
    "</font>"
   ]
  },
  {
   "cell_type": "code",
   "execution_count": 64,
   "id": "edad687b",
   "metadata": {
    "id": "edad687b"
   },
   "outputs": [
    {
     "data": {
      "text/plain": [
       "0.016754943507884708"
      ]
     },
     "execution_count": 64,
     "metadata": {},
     "output_type": "execute_result"
    }
   ],
   "source": [
    "Y.mean()"
   ]
  },
  {
   "cell_type": "code",
   "execution_count": 65,
   "id": "954ea786",
   "metadata": {},
   "outputs": [
    {
     "data": {
      "text/plain": [
       "0.17088730819047476"
      ]
     },
     "execution_count": 65,
     "metadata": {},
     "output_type": "execute_result"
    }
   ],
   "source": [
    "Y.std()"
   ]
  },
  {
   "cell_type": "code",
   "execution_count": 66,
   "id": "d40b4bfc",
   "metadata": {},
   "outputs": [
    {
     "data": {
      "text/plain": [
       "5.2629986498"
      ]
     },
     "execution_count": 66,
     "metadata": {},
     "output_type": "execute_result"
    }
   ],
   "source": [
    "Y.max()"
   ]
  },
  {
   "cell_type": "code",
   "execution_count": 67,
   "id": "0efce3d6",
   "metadata": {},
   "outputs": [
    {
     "data": {
      "text/plain": [
       "-4.65542037764"
      ]
     },
     "execution_count": 67,
     "metadata": {},
     "output_type": "execute_result"
    }
   ],
   "source": [
    "Y.min()"
   ]
  },
  {
   "cell_type": "code",
   "execution_count": 68,
   "id": "8e10432a",
   "metadata": {},
   "outputs": [
    {
     "data": {
      "text/plain": [
       "0.00667044786101"
      ]
     },
     "execution_count": 68,
     "metadata": {},
     "output_type": "execute_result"
    }
   ],
   "source": [
    "Y.median()"
   ]
  },
  {
   "cell_type": "code",
   "execution_count": 42,
   "id": "130525c8",
   "metadata": {
    "id": "130525c8"
   },
   "outputs": [],
   "source": [
    "# minimum for target variable is -4.655420\n",
    "# mean for target variable is 0.016755\n",
    "# median for target variable is 0.006670\n",
    "# standard deviation for target variable is 0.170887\n",
    "# maximum for target variable is 5.262999"
   ]
  },
  {
   "cell_type": "code",
   "execution_count": 44,
   "id": "4560123c",
   "metadata": {
    "id": "4560123c"
   },
   "outputs": [
    {
     "data": {
      "text/plain": [
       "Text(0, 0.5, 'The frequency of logerror')"
      ]
     },
     "execution_count": 44,
     "metadata": {},
     "output_type": "execute_result"
    },
    {
     "data": {
      "image/png": "[encoded data removed]",
      "text/plain": [
       "<Figure size 1152x576 with 1 Axes>"
      ]
     },
     "metadata": {
      "needs_background": "light"
     },
     "output_type": "display_data"
    }
   ],
   "source": [
    "# Plot a presentable histogram of the logerror target variable\n",
    "Y.plot.hist(bins=200,figsize=(16,8))\n",
    "plt.title(\"The histogram of the logerror target variable\")\n",
    "plt.xlabel(\"logerror\")\n",
    "plt.ylabel(\"The frequency of logerror\")"
   ]
  },
  {
   "cell_type": "code",
   "execution_count": 52,
   "id": "35a47ffd",
   "metadata": {
    "id": "35a47ffd"
   },
   "outputs": [],
   "source": [
    "# Using the merged_data data frame, group the logerror variable by the propertycountylandusecode variable and apply the mean function\n",
    "mean_logerror = merged.groupby(\"propertycountylandusecode\")[\"logerror\"].apply(np.mean)"
   ]
  },
  {
   "cell_type": "code",
   "execution_count": 61,
   "id": "e339843b",
   "metadata": {
    "id": "e339843b"
   },
   "outputs": [],
   "source": [
    "mean_logerror.sort_values(inplace=True)"
   ]
  },
  {
   "cell_type": "code",
   "execution_count": 62,
   "id": "705c5946",
   "metadata": {
    "id": "705c5946"
   },
   "outputs": [
    {
     "data": {
      "text/plain": [
       "propertycountylandusecode\n",
       "105    -0.337106\n",
       "0203   -0.249443\n",
       "020M   -0.242257\n",
       "1722   -0.171639\n",
       "040V   -0.154582\n",
       "Name: logerror, dtype: float64"
      ]
     },
     "execution_count": 62,
     "metadata": {},
     "output_type": "execute_result"
    }
   ],
   "source": [
    "mean_logerror.head()"
   ]
  },
  {
   "cell_type": "code",
   "execution_count": 63,
   "id": "7579dd94",
   "metadata": {
    "id": "7579dd94"
   },
   "outputs": [
    {
     "data": {
      "text/plain": [
       "<AxesSubplot:ylabel='propertycountylandusecode'>"
      ]
     },
     "execution_count": 63,
     "metadata": {},
     "output_type": "execute_result"
    },
    {
     "data": {
      "image/png": "[encoded data removed]",
      "text/plain": [
       "<Figure size 1152x1152 with 1 Axes>"
      ]
     },
     "metadata": {
      "needs_background": "light"
     },
     "output_type": "display_data"
    }
   ],
   "source": [
    "mean_logerror.plot(kind=\"barh\",figsize=(16,16))"
   ]
  },
  {
   "cell_type": "markdown",
   "id": "e50e78df",
   "metadata": {
    "id": "612666f1"
   },
   "source": [
    "# The overall distribution of logerrror based on county is normally distributed with the mean of 0.016755. The range of the logerrori is between -4.7 and 5.3. \n"
   ]
  },
  {
   "cell_type": "markdown",
   "id": "4ba25b10",
   "metadata": {
    "id": "7051a7bf"
   },
   "source": [
    "# County with propertylandusecode 012C,0110,0204 has least predictive error."
   ]
  },
  {
   "cell_type": "markdown",
   "id": "772fc685",
   "metadata": {
    "id": "06e9ce99"
   },
   "source": [
    "# County with propertylandusecode 105,1116,1333 has most predictive error."
   ]
  },
  {
   "cell_type": "code",
   "execution_count": null,
   "id": "6d647aa1",
   "metadata": {
    "id": "6d647aa1"
   },
   "outputs": [],
   "source": []
  },
  {
   "cell_type": "markdown",
   "id": "fd98732b",
   "metadata": {
    "id": "fd98732b"
   },
   "source": [
    "Write your explanation here."
   ]
  },
  {
   "cell_type": "markdown",
   "id": "ed6ee541",
   "metadata": {
    "id": "ed6ee541"
   },
   "source": [
    "<h2>Question 4 (10 points)</h2>\n",
    "<br>\n",
    "<font size=\"+1\">\n",
    "    <ol>\n",
    "        <li type='i'>Use the <a href=\"https://pandas.pydata.org/docs/reference/api/pandas.DataFrame.describe.html\">describe</a> method look at simple summary statistics of the predictors data (it is recommended to <a href=\"https://pandas.pydata.org/docs/reference/api/pandas.DataFrame.transpose.html\">transpose</a> the describe data frame for improved readability).</li>\n",
    "        <br>\n",
    "        <li type='i'>Create a matrix of scatter plots and histograms of the <i>logerror</i> target variable as well as the 3 <i>numerical</i> variables that are most correlated with the <i>logerror</i> target variable.</li>\n",
    "        <ul>\n",
    "            <li><i>Hint: it will most likely be easier to use the <b>merged_data</b> data frame that you created above.</i></li>\n",
    "            <br>\n",
    "            <li><i>Hint: you can use a <a href=\"https://pandas.pydata.org/docs/reference/api/pandas.plotting.scatter_matrix.html\">scatter matrix</a>, which should be of size 4 rows x 4 columns.</i></li>\n",
    "            <br>\n",
    "        </ul>\n",
    "        <li type='i'>Do you notice any problems or anything that looks troublesome up to this point? Please write your observations using markdown.</li>\n",
    "        <ul>\n",
    "            <li><i>Hint: this is the perfect place to do endless amounts of further exploratory data analysis that can be used for Question 9.</i></li>\n",
    "            <br>\n",
    "        </ul>\n",
    "    </ol>\n",
    "</font>"
   ]
  },
  {
   "cell_type": "code",
   "execution_count": 77,
   "id": "85a8a5c3",
   "metadata": {
    "id": "85a8a5c3"
   },
   "outputs": [
    {
     "data": {
      "text/plain": [
       "count    77613.000000\n",
       "mean         0.016755\n",
       "std          0.170887\n",
       "min         -4.655420\n",
       "25%         -0.024325\n",
       "50%          0.006670\n",
       "75%          0.039295\n",
       "max          5.262999\n",
       "Name: logerror, dtype: float64"
      ]
     },
     "execution_count": 77,
     "metadata": {},
     "output_type": "execute_result"
    }
   ],
   "source": [
    "summary = Y.describe()\n",
    "summary.transpose()"
   ]
  },
  {
   "cell_type": "code",
   "execution_count": 112,
   "id": "37670d67",
   "metadata": {
    "id": "37670d67"
   },
   "outputs": [
    {
     "data": {
      "text/html": [
       "<div>\n",
       "<style scoped>\n",
       "    .dataframe tbody tr th:only-of-type {\n",
       "        vertical-align: middle;\n",
       "    }\n",
       "\n",
       "    .dataframe tbody tr th {\n",
       "        vertical-align: top;\n",
       "    }\n",
       "\n",
       "    .dataframe thead th {\n",
       "        text-align: right;\n",
       "    }\n",
       "</style>\n",
       "<table border=\"1\" class=\"dataframe\">\n",
       "  <thead>\n",
       "    <tr style=\"text-align: right;\">\n",
       "      <th></th>\n",
       "      <th>logerror</th>\n",
       "    </tr>\n",
       "  </thead>\n",
       "  <tbody>\n",
       "    <tr>\n",
       "      <th>finishedsquarefeet13</th>\n",
       "      <td>-0.085549</td>\n",
       "    </tr>\n",
       "    <tr>\n",
       "      <th>taxdelinquencyyear</th>\n",
       "      <td>-0.078575</td>\n",
       "    </tr>\n",
       "    <tr>\n",
       "      <th>finishedsquarefeet15</th>\n",
       "      <td>-0.041200</td>\n",
       "    </tr>\n",
       "    <tr>\n",
       "      <th>yardbuildingsqft17</th>\n",
       "      <td>-0.039753</td>\n",
       "    </tr>\n",
       "    <tr>\n",
       "      <th>yardbuildingsqft26</th>\n",
       "      <td>-0.036867</td>\n",
       "    </tr>\n",
       "    <tr>\n",
       "      <th>finishedsquarefeet50</th>\n",
       "      <td>-0.018269</td>\n",
       "    </tr>\n",
       "    <tr>\n",
       "      <th>regionidcounty</th>\n",
       "      <td>-0.016493</td>\n",
       "    </tr>\n",
       "    <tr>\n",
       "      <th>buildingqualitytypeid</th>\n",
       "      <td>-0.012987</td>\n",
       "    </tr>\n",
       "    <tr>\n",
       "      <th>finishedfloor1squarefeet</th>\n",
       "      <td>-0.012883</td>\n",
       "    </tr>\n",
       "    <tr>\n",
       "      <th>latitude</th>\n",
       "      <td>-0.011726</td>\n",
       "    </tr>\n",
       "    <tr>\n",
       "      <th>architecturalstyletypeid</th>\n",
       "      <td>-0.011607</td>\n",
       "    </tr>\n",
       "    <tr>\n",
       "      <th>regionidneighborhood</th>\n",
       "      <td>-0.006319</td>\n",
       "    </tr>\n",
       "    <tr>\n",
       "      <th>heatingorsystemtypeid</th>\n",
       "      <td>-0.006119</td>\n",
       "    </tr>\n",
       "    <tr>\n",
       "      <th>propertylandusetypeid</th>\n",
       "      <td>-0.005679</td>\n",
       "    </tr>\n",
       "    <tr>\n",
       "      <th>regionidzip</th>\n",
       "      <td>-0.001295</td>\n",
       "    </tr>\n",
       "    <tr>\n",
       "      <th>typeconstructiontypeid</th>\n",
       "      <td>-0.000970</td>\n",
       "    </tr>\n",
       "    <tr>\n",
       "      <th>landtaxvaluedollarcnt</th>\n",
       "      <td>0.000501</td>\n",
       "    </tr>\n",
       "    <tr>\n",
       "      <th>regionidcity</th>\n",
       "      <td>0.001070</td>\n",
       "    </tr>\n",
       "    <tr>\n",
       "      <th>unitcnt</th>\n",
       "      <td>0.001999</td>\n",
       "    </tr>\n",
       "    <tr>\n",
       "      <th>taxamount</th>\n",
       "      <td>0.002199</td>\n",
       "    </tr>\n",
       "    <tr>\n",
       "      <th>taxvaluedollarcnt</th>\n",
       "      <td>0.003419</td>\n",
       "    </tr>\n",
       "    <tr>\n",
       "      <th>censustractandblock</th>\n",
       "      <td>0.004613</td>\n",
       "    </tr>\n",
       "    <tr>\n",
       "      <th>yearbuilt</th>\n",
       "      <td>0.004861</td>\n",
       "    </tr>\n",
       "    <tr>\n",
       "      <th>rawcensustractandblock</th>\n",
       "      <td>0.006333</td>\n",
       "    </tr>\n",
       "    <tr>\n",
       "      <th>fips</th>\n",
       "      <td>0.006413</td>\n",
       "    </tr>\n",
       "    <tr>\n",
       "      <th>numberofstories</th>\n",
       "      <td>0.008204</td>\n",
       "    </tr>\n",
       "    <tr>\n",
       "      <th>structuretaxvaluedollarcnt</th>\n",
       "      <td>0.008433</td>\n",
       "    </tr>\n",
       "    <tr>\n",
       "      <th>airconditioningtypeid</th>\n",
       "      <td>0.009341</td>\n",
       "    </tr>\n",
       "    <tr>\n",
       "      <th>lotsizesquarefeet</th>\n",
       "      <td>0.011012</td>\n",
       "    </tr>\n",
       "    <tr>\n",
       "      <th>roomcnt</th>\n",
       "      <td>0.014567</td>\n",
       "    </tr>\n",
       "    <tr>\n",
       "      <th>threequarterbathnbr</th>\n",
       "      <td>0.015540</td>\n",
       "    </tr>\n",
       "    <tr>\n",
       "      <th>longitude</th>\n",
       "      <td>0.015876</td>\n",
       "    </tr>\n",
       "    <tr>\n",
       "      <th>poolsizesum</th>\n",
       "      <td>0.021174</td>\n",
       "    </tr>\n",
       "    <tr>\n",
       "      <th>fireplacecnt</th>\n",
       "      <td>0.023242</td>\n",
       "    </tr>\n",
       "    <tr>\n",
       "      <th>bathroomcnt</th>\n",
       "      <td>0.025817</td>\n",
       "    </tr>\n",
       "    <tr>\n",
       "      <th>fullbathcnt</th>\n",
       "      <td>0.027133</td>\n",
       "    </tr>\n",
       "    <tr>\n",
       "      <th>garagecarcnt</th>\n",
       "      <td>0.029002</td>\n",
       "    </tr>\n",
       "    <tr>\n",
       "      <th>calculatedbathnbr</th>\n",
       "      <td>0.029330</td>\n",
       "    </tr>\n",
       "    <tr>\n",
       "      <th>bedroomcnt</th>\n",
       "      <td>0.031638</td>\n",
       "    </tr>\n",
       "    <tr>\n",
       "      <th>garagetotalsqft</th>\n",
       "      <td>0.035015</td>\n",
       "    </tr>\n",
       "    <tr>\n",
       "      <th>calculatedfinishedsquarefeet</th>\n",
       "      <td>0.040516</td>\n",
       "    </tr>\n",
       "    <tr>\n",
       "      <th>finishedsquarefeet12</th>\n",
       "      <td>0.045921</td>\n",
       "    </tr>\n",
       "    <tr>\n",
       "      <th>finishedsquarefeet6</th>\n",
       "      <td>0.072870</td>\n",
       "    </tr>\n",
       "    <tr>\n",
       "      <th>buildingclasstypeid</th>\n",
       "      <td>0.315372</td>\n",
       "    </tr>\n",
       "    <tr>\n",
       "      <th>basementsqft</th>\n",
       "      <td>0.372067</td>\n",
       "    </tr>\n",
       "    <tr>\n",
       "      <th>logerror</th>\n",
       "      <td>1.000000</td>\n",
       "    </tr>\n",
       "    <tr>\n",
       "      <th>decktypeid</th>\n",
       "      <td>NaN</td>\n",
       "    </tr>\n",
       "    <tr>\n",
       "      <th>poolcnt</th>\n",
       "      <td>NaN</td>\n",
       "    </tr>\n",
       "    <tr>\n",
       "      <th>pooltypeid10</th>\n",
       "      <td>NaN</td>\n",
       "    </tr>\n",
       "    <tr>\n",
       "      <th>pooltypeid2</th>\n",
       "      <td>NaN</td>\n",
       "    </tr>\n",
       "    <tr>\n",
       "      <th>pooltypeid7</th>\n",
       "      <td>NaN</td>\n",
       "    </tr>\n",
       "    <tr>\n",
       "      <th>storytypeid</th>\n",
       "      <td>NaN</td>\n",
       "    </tr>\n",
       "    <tr>\n",
       "      <th>assessmentyear</th>\n",
       "      <td>NaN</td>\n",
       "    </tr>\n",
       "  </tbody>\n",
       "</table>\n",
       "</div>"
      ],
      "text/plain": [
       "                              logerror\n",
       "finishedsquarefeet13         -0.085549\n",
       "taxdelinquencyyear           -0.078575\n",
       "finishedsquarefeet15         -0.041200\n",
       "yardbuildingsqft17           -0.039753\n",
       "yardbuildingsqft26           -0.036867\n",
       "finishedsquarefeet50         -0.018269\n",
       "regionidcounty               -0.016493\n",
       "buildingqualitytypeid        -0.012987\n",
       "finishedfloor1squarefeet     -0.012883\n",
       "latitude                     -0.011726\n",
       "architecturalstyletypeid     -0.011607\n",
       "regionidneighborhood         -0.006319\n",
       "heatingorsystemtypeid        -0.006119\n",
       "propertylandusetypeid        -0.005679\n",
       "regionidzip                  -0.001295\n",
       "typeconstructiontypeid       -0.000970\n",
       "landtaxvaluedollarcnt         0.000501\n",
       "regionidcity                  0.001070\n",
       "unitcnt                       0.001999\n",
       "taxamount                     0.002199\n",
       "taxvaluedollarcnt             0.003419\n",
       "censustractandblock           0.004613\n",
       "yearbuilt                     0.004861\n",
       "rawcensustractandblock        0.006333\n",
       "fips                          0.006413\n",
       "numberofstories               0.008204\n",
       "structuretaxvaluedollarcnt    0.008433\n",
       "airconditioningtypeid         0.009341\n",
       "lotsizesquarefeet             0.011012\n",
       "roomcnt                       0.014567\n",
       "threequarterbathnbr           0.015540\n",
       "longitude                     0.015876\n",
       "poolsizesum                   0.021174\n",
       "fireplacecnt                  0.023242\n",
       "bathroomcnt                   0.025817\n",
       "fullbathcnt                   0.027133\n",
       "garagecarcnt                  0.029002\n",
       "calculatedbathnbr             0.029330\n",
       "bedroomcnt                    0.031638\n",
       "garagetotalsqft               0.035015\n",
       "calculatedfinishedsquarefeet  0.040516\n",
       "finishedsquarefeet12          0.045921\n",
       "finishedsquarefeet6           0.072870\n",
       "buildingclasstypeid           0.315372\n",
       "basementsqft                  0.372067\n",
       "logerror                      1.000000\n",
       "decktypeid                         NaN\n",
       "poolcnt                            NaN\n",
       "pooltypeid10                       NaN\n",
       "pooltypeid2                        NaN\n",
       "pooltypeid7                        NaN\n",
       "storytypeid                        NaN\n",
       "assessmentyear                     NaN"
      ]
     },
     "execution_count": 112,
     "metadata": {},
     "output_type": "execute_result"
    }
   ],
   "source": [
    "corr = merged.corr().tail(1)\n",
    "corr_most_3 = corr.transpose()\n",
    "corr_most_3.sort_values(\"logerror\")"
   ]
  },
  {
   "cell_type": "code",
   "execution_count": 102,
   "id": "e7490058",
   "metadata": {
    "id": "e7490058"
   },
   "outputs": [],
   "source": [
    "# The 3 numerical varaibles that are most correlated with the logerror target variable is\n",
    "# basementsqft,buildingclasstypeid, and finishedsqaurefeet13"
   ]
  },
  {
   "cell_type": "code",
   "execution_count": 113,
   "id": "47a89499",
   "metadata": {
    "id": "47a89499"
   },
   "outputs": [],
   "source": [
    "scatter_martix = merged[[\"logerror\",\"basementsqft\",\"buildingclasstypeid\",\"finishedsquarefeet13\"]]"
   ]
  },
  {
   "cell_type": "code",
   "execution_count": 114,
   "id": "39237ca1",
   "metadata": {
    "id": "39237ca1"
   },
   "outputs": [
    {
     "data": {
      "text/plain": [
       "array([[<AxesSubplot:xlabel='logerror', ylabel='logerror'>,\n",
       "        <AxesSubplot:xlabel='basementsqft', ylabel='logerror'>,\n",
       "        <AxesSubplot:xlabel='buildingclasstypeid', ylabel='logerror'>,\n",
       "        <AxesSubplot:xlabel='finishedsquarefeet13', ylabel='logerror'>],\n",
       "       [<AxesSubplot:xlabel='logerror', ylabel='basementsqft'>,\n",
       "        <AxesSubplot:xlabel='basementsqft', ylabel='basementsqft'>,\n",
       "        <AxesSubplot:xlabel='buildingclasstypeid', ylabel='basementsqft'>,\n",
       "        <AxesSubplot:xlabel='finishedsquarefeet13', ylabel='basementsqft'>],\n",
       "       [<AxesSubplot:xlabel='logerror', ylabel='buildingclasstypeid'>,\n",
       "        <AxesSubplot:xlabel='basementsqft', ylabel='buildingclasstypeid'>,\n",
       "        <AxesSubplot:xlabel='buildingclasstypeid', ylabel='buildingclasstypeid'>,\n",
       "        <AxesSubplot:xlabel='finishedsquarefeet13', ylabel='buildingclasstypeid'>],\n",
       "       [<AxesSubplot:xlabel='logerror', ylabel='finishedsquarefeet13'>,\n",
       "        <AxesSubplot:xlabel='basementsqft', ylabel='finishedsquarefeet13'>,\n",
       "        <AxesSubplot:xlabel='buildingclasstypeid', ylabel='finishedsquarefeet13'>,\n",
       "        <AxesSubplot:xlabel='finishedsquarefeet13', ylabel='finishedsquarefeet13'>]],\n",
       "      dtype=object)"
      ]
     },
     "execution_count": 114,
     "metadata": {},
     "output_type": "execute_result"
    },
    {
     "data": {
      "image/png": "[encoded data removed]",
      "text/plain": [
       "<Figure size 432x288 with 16 Axes>"
      ]
     },
     "metadata": {
      "needs_background": "light"
     },
     "output_type": "display_data"
    }
   ],
   "source": [
    "pd.plotting.scatter_matrix(scatter_martix)"
   ]
  },
  {
   "cell_type": "code",
   "execution_count": 117,
   "id": "c888deea",
   "metadata": {
    "id": "c888deea"
   },
   "outputs": [],
   "source": [
    "hist = merged[[\"basementsqft\",\"buildingclasstypeid\",\"finishedsquarefeet13\"]]"
   ]
  },
  {
   "cell_type": "code",
   "execution_count": 118,
   "id": "b19d0912",
   "metadata": {
    "id": "b19d0912"
   },
   "outputs": [
    {
     "data": {
      "image/png": "[encoded data removed]",
      "text/plain": [
       "<Figure size 1152x576 with 1 Axes>"
      ]
     },
     "metadata": {
      "needs_background": "light"
     },
     "output_type": "display_data"
    }
   ],
   "source": [
    "hist.plot.hist(figsize=(16,8))\n",
    "plt.title(\"The histogram of the 3 most correlated numerical variables\")\n",
    "plt.xlabel(\"The value of numerical variables\")\n",
    "plt.show()"
   ]
  },
  {
   "cell_type": "markdown",
   "id": "74c74e45",
   "metadata": {
    "id": "6b18a8e4"
   },
   "source": [
    "# The histogram of three most correlated numerical variables are wired as the value of different numerical varaibles is highly different"
   ]
  },
  {
   "cell_type": "markdown",
   "id": "29345a6c",
   "metadata": {
    "id": "52eff636"
   },
   "source": [
    "# The range of the numerical varaibles is between 0 and 3500 and very different from each other"
   ]
  },
  {
   "cell_type": "markdown",
   "id": "e8aebb3c",
   "metadata": {
    "id": "99e78df0"
   },
   "source": [
    "# The correlations between numerical variables and predictor variable are not very strong with 0.37 as the most correlated on"
   ]
  },
  {
   "cell_type": "markdown",
   "id": "c1635d11",
   "metadata": {
    "id": "c1635d11"
   },
   "source": [
    "Write your observations here."
   ]
  },
  {
   "cell_type": "markdown",
   "id": "1c73ff55",
   "metadata": {
    "id": "1c73ff55"
   },
   "source": [
    "<h1>Prediction</h1>"
   ]
  },
  {
   "cell_type": "markdown",
   "id": "dab919ed",
   "metadata": {
    "id": "dab919ed"
   },
   "source": [
    "<font size=\"+1\" style=\"color:blue\">\n",
    "    <b>\n",
    "    <ul>\n",
    "        <li>The target variable of this regression problem is the Zestimate's residuals in 2017.</li>\n",
    "        <br>\n",
    "        <li>The goal of this assignment is to predict the log error measured as:\n",
    "    $$\n",
    "    logerror = log(Zestimate) - log(SalesPrice).\n",
    "    $$\n",
    "        </li>\n",
    "        <br>\n",
    "        <li>This <i>logerror</i> variable is recorded in the transactions training data.</li>\n",
    "        <br>\n",
    "        <li>For each property, defined as the <i>unique parcelid</i>, you must predict a logerror (for each point in time).</li>\n",
    "        <br>\n",
    "    </ul>\n",
    "    </b>\n",
    "</font>"
   ]
  },
  {
   "cell_type": "markdown",
   "id": "705b6a72",
   "metadata": {
    "id": "705b6a72"
   },
   "source": [
    "<h2>Question 5 (10 points)</h2>\n",
    "<br>\n",
    "<font size=\"+1\">\n",
    "    <ol>\n",
    "        <li type='i'>Split the data into training (75% of data) and testing (25% of data) sets using random sampling.<br> Be sure to set <i>random_state=42</i>.</li>\n",
    "        <ul>\n",
    "            <li><i>Hint: use <a href=\"https://scikit-learn.org/stable/modules/generated/sklearn.model_selection.train_test_split.html\">train_test_split</a> to randomly sample and split the data into <b> X_train, X_test, Y_train, Y_test</b> sets.</i></li>\n",
    "            <br>\n",
    "        </ul>\n",
    "    </ol>\n",
    "</font>"
   ]
  },
  {
   "cell_type": "code",
   "execution_count": 206,
   "id": "26da9465",
   "metadata": {
    "id": "26da9465"
   },
   "outputs": [],
   "source": [
    "X_train,X_test,Y_train,Y_test = train_test_split(X,Y,test_size=0.25,random_state=42)"
   ]
  },
  {
   "cell_type": "code",
   "execution_count": 207,
   "id": "b4a9929e",
   "metadata": {
    "id": "b4a9929e"
   },
   "outputs": [
    {
     "data": {
      "text/html": [
       "<div>\n",
       "<style scoped>\n",
       "    .dataframe tbody tr th:only-of-type {\n",
       "        vertical-align: middle;\n",
       "    }\n",
       "\n",
       "    .dataframe tbody tr th {\n",
       "        vertical-align: top;\n",
       "    }\n",
       "\n",
       "    .dataframe thead th {\n",
       "        text-align: right;\n",
       "    }\n",
       "</style>\n",
       "<table border=\"1\" class=\"dataframe\">\n",
       "  <thead>\n",
       "    <tr style=\"text-align: right;\">\n",
       "      <th></th>\n",
       "      <th>airconditioningtypeid</th>\n",
       "      <th>architecturalstyletypeid</th>\n",
       "      <th>basementsqft</th>\n",
       "      <th>bathroomcnt</th>\n",
       "      <th>bedroomcnt</th>\n",
       "      <th>buildingclasstypeid</th>\n",
       "      <th>buildingqualitytypeid</th>\n",
       "      <th>calculatedbathnbr</th>\n",
       "      <th>decktypeid</th>\n",
       "      <th>finishedfloor1squarefeet</th>\n",
       "      <th>...</th>\n",
       "      <th>fireplaceflag</th>\n",
       "      <th>structuretaxvaluedollarcnt</th>\n",
       "      <th>taxvaluedollarcnt</th>\n",
       "      <th>assessmentyear</th>\n",
       "      <th>landtaxvaluedollarcnt</th>\n",
       "      <th>taxamount</th>\n",
       "      <th>taxdelinquencyflag</th>\n",
       "      <th>taxdelinquencyyear</th>\n",
       "      <th>censustractandblock</th>\n",
       "      <th>transactiondate</th>\n",
       "    </tr>\n",
       "    <tr>\n",
       "      <th>parcelid</th>\n",
       "      <th></th>\n",
       "      <th></th>\n",
       "      <th></th>\n",
       "      <th></th>\n",
       "      <th></th>\n",
       "      <th></th>\n",
       "      <th></th>\n",
       "      <th></th>\n",
       "      <th></th>\n",
       "      <th></th>\n",
       "      <th></th>\n",
       "      <th></th>\n",
       "      <th></th>\n",
       "      <th></th>\n",
       "      <th></th>\n",
       "      <th></th>\n",
       "      <th></th>\n",
       "      <th></th>\n",
       "      <th></th>\n",
       "      <th></th>\n",
       "      <th></th>\n",
       "    </tr>\n",
       "  </thead>\n",
       "  <tbody>\n",
       "    <tr>\n",
       "      <th>11147894</th>\n",
       "      <td>1.0</td>\n",
       "      <td>NaN</td>\n",
       "      <td>NaN</td>\n",
       "      <td>2.0</td>\n",
       "      <td>3.0</td>\n",
       "      <td>NaN</td>\n",
       "      <td>8.0</td>\n",
       "      <td>2.0</td>\n",
       "      <td>NaN</td>\n",
       "      <td>NaN</td>\n",
       "      <td>...</td>\n",
       "      <td>NaN</td>\n",
       "      <td>141000.0</td>\n",
       "      <td>361400.0</td>\n",
       "      <td>2016.0</td>\n",
       "      <td>220400.0</td>\n",
       "      <td>4828.94</td>\n",
       "      <td>NaN</td>\n",
       "      <td>NaN</td>\n",
       "      <td>6.037920e+13</td>\n",
       "      <td>2017-04-18</td>\n",
       "    </tr>\n",
       "    <tr>\n",
       "      <th>12499173</th>\n",
       "      <td>1.0</td>\n",
       "      <td>NaN</td>\n",
       "      <td>NaN</td>\n",
       "      <td>2.0</td>\n",
       "      <td>3.0</td>\n",
       "      <td>NaN</td>\n",
       "      <td>6.0</td>\n",
       "      <td>2.0</td>\n",
       "      <td>NaN</td>\n",
       "      <td>NaN</td>\n",
       "      <td>...</td>\n",
       "      <td>NaN</td>\n",
       "      <td>101000.0</td>\n",
       "      <td>508000.0</td>\n",
       "      <td>2016.0</td>\n",
       "      <td>407000.0</td>\n",
       "      <td>6065.40</td>\n",
       "      <td>NaN</td>\n",
       "      <td>NaN</td>\n",
       "      <td>6.037572e+13</td>\n",
       "      <td>2017-07-07</td>\n",
       "    </tr>\n",
       "    <tr>\n",
       "      <th>17250614</th>\n",
       "      <td>NaN</td>\n",
       "      <td>NaN</td>\n",
       "      <td>NaN</td>\n",
       "      <td>2.5</td>\n",
       "      <td>4.0</td>\n",
       "      <td>NaN</td>\n",
       "      <td>NaN</td>\n",
       "      <td>2.5</td>\n",
       "      <td>NaN</td>\n",
       "      <td>725.0</td>\n",
       "      <td>...</td>\n",
       "      <td>NaN</td>\n",
       "      <td>130016.0</td>\n",
       "      <td>200145.0</td>\n",
       "      <td>2016.0</td>\n",
       "      <td>70129.0</td>\n",
       "      <td>2598.52</td>\n",
       "      <td>NaN</td>\n",
       "      <td>NaN</td>\n",
       "      <td>6.111008e+13</td>\n",
       "      <td>2017-04-25</td>\n",
       "    </tr>\n",
       "    <tr>\n",
       "      <th>12475752</th>\n",
       "      <td>NaN</td>\n",
       "      <td>NaN</td>\n",
       "      <td>NaN</td>\n",
       "      <td>1.0</td>\n",
       "      <td>3.0</td>\n",
       "      <td>NaN</td>\n",
       "      <td>4.0</td>\n",
       "      <td>1.0</td>\n",
       "      <td>NaN</td>\n",
       "      <td>NaN</td>\n",
       "      <td>...</td>\n",
       "      <td>NaN</td>\n",
       "      <td>48441.0</td>\n",
       "      <td>70158.0</td>\n",
       "      <td>2016.0</td>\n",
       "      <td>21717.0</td>\n",
       "      <td>1133.55</td>\n",
       "      <td>NaN</td>\n",
       "      <td>NaN</td>\n",
       "      <td>6.037570e+13</td>\n",
       "      <td>2017-06-20</td>\n",
       "    </tr>\n",
       "    <tr>\n",
       "      <th>12375139</th>\n",
       "      <td>NaN</td>\n",
       "      <td>NaN</td>\n",
       "      <td>NaN</td>\n",
       "      <td>1.0</td>\n",
       "      <td>2.0</td>\n",
       "      <td>NaN</td>\n",
       "      <td>4.0</td>\n",
       "      <td>1.0</td>\n",
       "      <td>NaN</td>\n",
       "      <td>NaN</td>\n",
       "      <td>...</td>\n",
       "      <td>NaN</td>\n",
       "      <td>18611.0</td>\n",
       "      <td>47586.0</td>\n",
       "      <td>2016.0</td>\n",
       "      <td>28975.0</td>\n",
       "      <td>1114.05</td>\n",
       "      <td>NaN</td>\n",
       "      <td>NaN</td>\n",
       "      <td>6.037530e+13</td>\n",
       "      <td>2017-04-20</td>\n",
       "    </tr>\n",
       "  </tbody>\n",
       "</table>\n",
       "<p>5 rows × 58 columns</p>\n",
       "</div>"
      ],
      "text/plain": [
       "          airconditioningtypeid  architecturalstyletypeid  basementsqft  \\\n",
       "parcelid                                                                  \n",
       "11147894                    1.0                       NaN           NaN   \n",
       "12499173                    1.0                       NaN           NaN   \n",
       "17250614                    NaN                       NaN           NaN   \n",
       "12475752                    NaN                       NaN           NaN   \n",
       "12375139                    NaN                       NaN           NaN   \n",
       "\n",
       "          bathroomcnt  bedroomcnt  buildingclasstypeid  buildingqualitytypeid  \\\n",
       "parcelid                                                                        \n",
       "11147894          2.0         3.0                  NaN                    8.0   \n",
       "12499173          2.0         3.0                  NaN                    6.0   \n",
       "17250614          2.5         4.0                  NaN                    NaN   \n",
       "12475752          1.0         3.0                  NaN                    4.0   \n",
       "12375139          1.0         2.0                  NaN                    4.0   \n",
       "\n",
       "          calculatedbathnbr  decktypeid  finishedfloor1squarefeet  ...  \\\n",
       "parcelid                                                           ...   \n",
       "11147894                2.0         NaN                       NaN  ...   \n",
       "12499173                2.0         NaN                       NaN  ...   \n",
       "17250614                2.5         NaN                     725.0  ...   \n",
       "12475752                1.0         NaN                       NaN  ...   \n",
       "12375139                1.0         NaN                       NaN  ...   \n",
       "\n",
       "          fireplaceflag  structuretaxvaluedollarcnt  taxvaluedollarcnt  \\\n",
       "parcelid                                                                 \n",
       "11147894            NaN                    141000.0           361400.0   \n",
       "12499173            NaN                    101000.0           508000.0   \n",
       "17250614            NaN                    130016.0           200145.0   \n",
       "12475752            NaN                     48441.0            70158.0   \n",
       "12375139            NaN                     18611.0            47586.0   \n",
       "\n",
       "          assessmentyear  landtaxvaluedollarcnt  taxamount  \\\n",
       "parcelid                                                     \n",
       "11147894          2016.0               220400.0    4828.94   \n",
       "12499173          2016.0               407000.0    6065.40   \n",
       "17250614          2016.0                70129.0    2598.52   \n",
       "12475752          2016.0                21717.0    1133.55   \n",
       "12375139          2016.0                28975.0    1114.05   \n",
       "\n",
       "          taxdelinquencyflag  taxdelinquencyyear  censustractandblock  \\\n",
       "parcelid                                                                \n",
       "11147894                 NaN                 NaN         6.037920e+13   \n",
       "12499173                 NaN                 NaN         6.037572e+13   \n",
       "17250614                 NaN                 NaN         6.111008e+13   \n",
       "12475752                 NaN                 NaN         6.037570e+13   \n",
       "12375139                 NaN                 NaN         6.037530e+13   \n",
       "\n",
       "          transactiondate  \n",
       "parcelid                   \n",
       "11147894       2017-04-18  \n",
       "12499173       2017-07-07  \n",
       "17250614       2017-04-25  \n",
       "12475752       2017-06-20  \n",
       "12375139       2017-04-20  \n",
       "\n",
       "[5 rows x 58 columns]"
      ]
     },
     "execution_count": 207,
     "metadata": {},
     "output_type": "execute_result"
    }
   ],
   "source": [
    "X_train.head()"
   ]
  },
  {
   "cell_type": "code",
   "execution_count": 208,
   "id": "fc37b01a",
   "metadata": {
    "id": "fc37b01a"
   },
   "outputs": [
    {
     "data": {
      "text/html": [
       "<div>\n",
       "<style scoped>\n",
       "    .dataframe tbody tr th:only-of-type {\n",
       "        vertical-align: middle;\n",
       "    }\n",
       "\n",
       "    .dataframe tbody tr th {\n",
       "        vertical-align: top;\n",
       "    }\n",
       "\n",
       "    .dataframe thead th {\n",
       "        text-align: right;\n",
       "    }\n",
       "</style>\n",
       "<table border=\"1\" class=\"dataframe\">\n",
       "  <thead>\n",
       "    <tr style=\"text-align: right;\">\n",
       "      <th></th>\n",
       "      <th>airconditioningtypeid</th>\n",
       "      <th>architecturalstyletypeid</th>\n",
       "      <th>basementsqft</th>\n",
       "      <th>bathroomcnt</th>\n",
       "      <th>bedroomcnt</th>\n",
       "      <th>buildingclasstypeid</th>\n",
       "      <th>buildingqualitytypeid</th>\n",
       "      <th>calculatedbathnbr</th>\n",
       "      <th>decktypeid</th>\n",
       "      <th>finishedfloor1squarefeet</th>\n",
       "      <th>...</th>\n",
       "      <th>fireplaceflag</th>\n",
       "      <th>structuretaxvaluedollarcnt</th>\n",
       "      <th>taxvaluedollarcnt</th>\n",
       "      <th>assessmentyear</th>\n",
       "      <th>landtaxvaluedollarcnt</th>\n",
       "      <th>taxamount</th>\n",
       "      <th>taxdelinquencyflag</th>\n",
       "      <th>taxdelinquencyyear</th>\n",
       "      <th>censustractandblock</th>\n",
       "      <th>transactiondate</th>\n",
       "    </tr>\n",
       "    <tr>\n",
       "      <th>parcelid</th>\n",
       "      <th></th>\n",
       "      <th></th>\n",
       "      <th></th>\n",
       "      <th></th>\n",
       "      <th></th>\n",
       "      <th></th>\n",
       "      <th></th>\n",
       "      <th></th>\n",
       "      <th></th>\n",
       "      <th></th>\n",
       "      <th></th>\n",
       "      <th></th>\n",
       "      <th></th>\n",
       "      <th></th>\n",
       "      <th></th>\n",
       "      <th></th>\n",
       "      <th></th>\n",
       "      <th></th>\n",
       "      <th></th>\n",
       "      <th></th>\n",
       "      <th></th>\n",
       "    </tr>\n",
       "  </thead>\n",
       "  <tbody>\n",
       "    <tr>\n",
       "      <th>14290538</th>\n",
       "      <td>NaN</td>\n",
       "      <td>NaN</td>\n",
       "      <td>NaN</td>\n",
       "      <td>4.0</td>\n",
       "      <td>5.0</td>\n",
       "      <td>NaN</td>\n",
       "      <td>NaN</td>\n",
       "      <td>4.0</td>\n",
       "      <td>NaN</td>\n",
       "      <td>NaN</td>\n",
       "      <td>...</td>\n",
       "      <td>NaN</td>\n",
       "      <td>667323.0</td>\n",
       "      <td>1141000.0</td>\n",
       "      <td>2016.0</td>\n",
       "      <td>473677.0</td>\n",
       "      <td>15228.04</td>\n",
       "      <td>NaN</td>\n",
       "      <td>NaN</td>\n",
       "      <td>6.059076e+13</td>\n",
       "      <td>2017-09-05</td>\n",
       "    </tr>\n",
       "    <tr>\n",
       "      <th>14696616</th>\n",
       "      <td>NaN</td>\n",
       "      <td>NaN</td>\n",
       "      <td>NaN</td>\n",
       "      <td>3.5</td>\n",
       "      <td>5.0</td>\n",
       "      <td>NaN</td>\n",
       "      <td>NaN</td>\n",
       "      <td>3.5</td>\n",
       "      <td>NaN</td>\n",
       "      <td>NaN</td>\n",
       "      <td>...</td>\n",
       "      <td>NaN</td>\n",
       "      <td>409979.0</td>\n",
       "      <td>1247933.0</td>\n",
       "      <td>2016.0</td>\n",
       "      <td>837954.0</td>\n",
       "      <td>13052.24</td>\n",
       "      <td>NaN</td>\n",
       "      <td>NaN</td>\n",
       "      <td>6.059063e+13</td>\n",
       "      <td>2017-05-30</td>\n",
       "    </tr>\n",
       "    <tr>\n",
       "      <th>14009861</th>\n",
       "      <td>NaN</td>\n",
       "      <td>NaN</td>\n",
       "      <td>NaN</td>\n",
       "      <td>2.0</td>\n",
       "      <td>3.0</td>\n",
       "      <td>NaN</td>\n",
       "      <td>NaN</td>\n",
       "      <td>2.0</td>\n",
       "      <td>NaN</td>\n",
       "      <td>NaN</td>\n",
       "      <td>...</td>\n",
       "      <td>NaN</td>\n",
       "      <td>100730.0</td>\n",
       "      <td>409855.0</td>\n",
       "      <td>2016.0</td>\n",
       "      <td>309125.0</td>\n",
       "      <td>5081.84</td>\n",
       "      <td>NaN</td>\n",
       "      <td>NaN</td>\n",
       "      <td>6.059089e+13</td>\n",
       "      <td>2017-06-27</td>\n",
       "    </tr>\n",
       "    <tr>\n",
       "      <th>17226912</th>\n",
       "      <td>NaN</td>\n",
       "      <td>NaN</td>\n",
       "      <td>NaN</td>\n",
       "      <td>2.5</td>\n",
       "      <td>3.0</td>\n",
       "      <td>NaN</td>\n",
       "      <td>NaN</td>\n",
       "      <td>2.5</td>\n",
       "      <td>NaN</td>\n",
       "      <td>2838.0</td>\n",
       "      <td>...</td>\n",
       "      <td>NaN</td>\n",
       "      <td>277837.0</td>\n",
       "      <td>485564.0</td>\n",
       "      <td>2016.0</td>\n",
       "      <td>207727.0</td>\n",
       "      <td>5591.26</td>\n",
       "      <td>NaN</td>\n",
       "      <td>NaN</td>\n",
       "      <td>6.111009e+13</td>\n",
       "      <td>2017-05-30</td>\n",
       "    </tr>\n",
       "    <tr>\n",
       "      <th>12434923</th>\n",
       "      <td>NaN</td>\n",
       "      <td>NaN</td>\n",
       "      <td>NaN</td>\n",
       "      <td>1.0</td>\n",
       "      <td>3.0</td>\n",
       "      <td>NaN</td>\n",
       "      <td>4.0</td>\n",
       "      <td>1.0</td>\n",
       "      <td>NaN</td>\n",
       "      <td>NaN</td>\n",
       "      <td>...</td>\n",
       "      <td>NaN</td>\n",
       "      <td>31661.0</td>\n",
       "      <td>66015.0</td>\n",
       "      <td>2016.0</td>\n",
       "      <td>34354.0</td>\n",
       "      <td>880.29</td>\n",
       "      <td>NaN</td>\n",
       "      <td>NaN</td>\n",
       "      <td>6.037574e+13</td>\n",
       "      <td>2017-01-26</td>\n",
       "    </tr>\n",
       "  </tbody>\n",
       "</table>\n",
       "<p>5 rows × 58 columns</p>\n",
       "</div>"
      ],
      "text/plain": [
       "          airconditioningtypeid  architecturalstyletypeid  basementsqft  \\\n",
       "parcelid                                                                  \n",
       "14290538                    NaN                       NaN           NaN   \n",
       "14696616                    NaN                       NaN           NaN   \n",
       "14009861                    NaN                       NaN           NaN   \n",
       "17226912                    NaN                       NaN           NaN   \n",
       "12434923                    NaN                       NaN           NaN   \n",
       "\n",
       "          bathroomcnt  bedroomcnt  buildingclasstypeid  buildingqualitytypeid  \\\n",
       "parcelid                                                                        \n",
       "14290538          4.0         5.0                  NaN                    NaN   \n",
       "14696616          3.5         5.0                  NaN                    NaN   \n",
       "14009861          2.0         3.0                  NaN                    NaN   \n",
       "17226912          2.5         3.0                  NaN                    NaN   \n",
       "12434923          1.0         3.0                  NaN                    4.0   \n",
       "\n",
       "          calculatedbathnbr  decktypeid  finishedfloor1squarefeet  ...  \\\n",
       "parcelid                                                           ...   \n",
       "14290538                4.0         NaN                       NaN  ...   \n",
       "14696616                3.5         NaN                       NaN  ...   \n",
       "14009861                2.0         NaN                       NaN  ...   \n",
       "17226912                2.5         NaN                    2838.0  ...   \n",
       "12434923                1.0         NaN                       NaN  ...   \n",
       "\n",
       "          fireplaceflag  structuretaxvaluedollarcnt  taxvaluedollarcnt  \\\n",
       "parcelid                                                                 \n",
       "14290538            NaN                    667323.0          1141000.0   \n",
       "14696616            NaN                    409979.0          1247933.0   \n",
       "14009861            NaN                    100730.0           409855.0   \n",
       "17226912            NaN                    277837.0           485564.0   \n",
       "12434923            NaN                     31661.0            66015.0   \n",
       "\n",
       "          assessmentyear  landtaxvaluedollarcnt  taxamount  \\\n",
       "parcelid                                                     \n",
       "14290538          2016.0               473677.0   15228.04   \n",
       "14696616          2016.0               837954.0   13052.24   \n",
       "14009861          2016.0               309125.0    5081.84   \n",
       "17226912          2016.0               207727.0    5591.26   \n",
       "12434923          2016.0                34354.0     880.29   \n",
       "\n",
       "          taxdelinquencyflag  taxdelinquencyyear  censustractandblock  \\\n",
       "parcelid                                                                \n",
       "14290538                 NaN                 NaN         6.059076e+13   \n",
       "14696616                 NaN                 NaN         6.059063e+13   \n",
       "14009861                 NaN                 NaN         6.059089e+13   \n",
       "17226912                 NaN                 NaN         6.111009e+13   \n",
       "12434923                 NaN                 NaN         6.037574e+13   \n",
       "\n",
       "          transactiondate  \n",
       "parcelid                   \n",
       "14290538       2017-09-05  \n",
       "14696616       2017-05-30  \n",
       "14009861       2017-06-27  \n",
       "17226912       2017-05-30  \n",
       "12434923       2017-01-26  \n",
       "\n",
       "[5 rows x 58 columns]"
      ]
     },
     "execution_count": 208,
     "metadata": {},
     "output_type": "execute_result"
    }
   ],
   "source": [
    "X_test.head()"
   ]
  },
  {
   "cell_type": "code",
   "execution_count": 209,
   "id": "ce0da5c9",
   "metadata": {
    "id": "ce0da5c9"
   },
   "outputs": [
    {
     "data": {
      "text/plain": [
       "parcelid\n",
       "11147894    0.102158\n",
       "12499173    0.093894\n",
       "17250614    0.116972\n",
       "12475752    0.007234\n",
       "12375139    0.013025\n",
       "Name: logerror, dtype: float64"
      ]
     },
     "execution_count": 209,
     "metadata": {},
     "output_type": "execute_result"
    }
   ],
   "source": [
    "Y_train.head()"
   ]
  },
  {
   "cell_type": "code",
   "execution_count": 210,
   "id": "57202c57",
   "metadata": {
    "id": "57202c57"
   },
   "outputs": [
    {
     "data": {
      "text/plain": [
       "parcelid\n",
       "14290538    0.006755\n",
       "14696616    0.155027\n",
       "14009861   -0.008411\n",
       "17226912    0.033059\n",
       "12434923   -0.063296\n",
       "Name: logerror, dtype: float64"
      ]
     },
     "execution_count": 210,
     "metadata": {},
     "output_type": "execute_result"
    }
   ],
   "source": [
    "Y_test.head()"
   ]
  },
  {
   "cell_type": "markdown",
   "id": "ed14a304",
   "metadata": {
    "id": "ed14a304"
   },
   "source": [
    "<h2>Question 6 (10 points)</h2>\n",
    "<br>\n",
    "<font size=\"+1\">\n",
    "    <ol>\n",
    "        <li type='i'>Prepare the data for use in a predictive model by <i>cleaning the data</i> using the training data set <b>X_train</b>.<br> In other words, create a cleaned in-sample training and out-of-sample testing data set.</li>\n",
    "        <ul>\n",
    "            <li>Remove variables with more than 80 percent nulls (meaning the acceptable null rate percentage is 20 percent) by applying the function <i>null_rate_data_cleaner</i> to the <b>X_train, X_test</b> data sets.</li>\n",
    "            <br>\n",
    "            <li>It should not be needed, but if any categorical variables remain, apply <a href=\"https://scikit-learn.org/stable/modules/generated/sklearn.preprocessing.OneHotEncoder.html\">one-hot encoding</a> to them.</li>\n",
    "            <br>\n",
    "            <li><i>Note: this is far from a near optimal data cleaning procedure.</i></li>\n",
    "            <br>\n",
    "            <li><i>Hint: at this point, up to your own variable names, you should have data in the form of</i></li>\n",
    "            <br>\n",
    "            <ul>\n",
    "                <li><i><b>X_train_cleaned,</b></i></li>\n",
    "                <br>\n",
    "                <li><i><b>Y_train,</b></i></li>\n",
    "                <br>\n",
    "                <li><i><b>X_test_cleaned,</b></i></li>\n",
    "                <br>\n",
    "                <li><i><b>Y_test.</b></i></li>\n",
    "                <br>\n",
    "            </ul>\n",
    "        </ul>\n",
    "        <li type='i'>Create at least <b>one</b> new predictor variable from the remaining variables.<br> In other words, engineer at least one new feature.</li>\n",
    "            <br>\n",
    "        <ul>\n",
    "            <li><i>Hint: this is the perfect place to do further investigation for Question 9 including more feature engineering to create predictive variables, as well as play around with different types of null screenings and null fillings, as the current solution is far from the best data cleaning procedure.</i></li>\n",
    "            <br>\n",
    "        </ul>\n",
    "    </ol>\n",
    "</font>"
   ]
  },
  {
   "cell_type": "code",
   "execution_count": 127,
   "id": "4d2e75e0",
   "metadata": {
    "id": "4d2e75e0"
   },
   "outputs": [],
   "source": [
    "def null_rate_data_cleaner(data, acceptable_null_percentage):\n",
    "    \"\"\"\n",
    "    This function takes a data frame and an acceptable percentage of nulls\n",
    "    and returns a subset of the data frame with columns that pass the null rate filter.   \n",
    "    \"\"\"\n",
    "    data = data.copy()\n",
    "    # Null percentage rate - we want variables with a small null rate\n",
    "    null_rate_filter = (data.isna().sum() / len(data) < acceptable_null_percentage)\n",
    "    \n",
    "    columns_with_acceptable_null_rate = null_rate_filter[null_rate_filter].index\n",
    "    \n",
    "    filtered_data = data[columns_with_acceptable_null_rate]\n",
    "    \n",
    "    try:\n",
    "        filtered_data = filtered_data.drop(columns=['transactiondate', 'propertycountylandusecode'])\n",
    "    except:\n",
    "        pass\n",
    "    # Fill the remaining nulls with zero\n",
    "    # This is most likely NOT what you want to do in practice, but it will give a solution\n",
    "    filtered_data = filtered_data.fillna(0)\n",
    "    \n",
    "    # Normalize the remaining numerical features\n",
    "    # filtered_data = (filtered_data - filtered_data.mean()) / filtered_data.std()\n",
    "    filtered_data = (filtered_data - filtered_data.min()) / (filtered_data.max() - filtered_data.min())\n",
    "    \n",
    "    return filtered_data"
   ]
  },
  {
   "cell_type": "code",
   "execution_count": 211,
   "id": "5825eb7e",
   "metadata": {
    "id": "5825eb7e"
   },
   "outputs": [
    {
     "data": {
      "text/html": [
       "<div>\n",
       "<style scoped>\n",
       "    .dataframe tbody tr th:only-of-type {\n",
       "        vertical-align: middle;\n",
       "    }\n",
       "\n",
       "    .dataframe tbody tr th {\n",
       "        vertical-align: top;\n",
       "    }\n",
       "\n",
       "    .dataframe thead th {\n",
       "        text-align: right;\n",
       "    }\n",
       "</style>\n",
       "<table border=\"1\" class=\"dataframe\">\n",
       "  <thead>\n",
       "    <tr style=\"text-align: right;\">\n",
       "      <th></th>\n",
       "      <th>bathroomcnt</th>\n",
       "      <th>bedroomcnt</th>\n",
       "      <th>calculatedbathnbr</th>\n",
       "      <th>calculatedfinishedsquarefeet</th>\n",
       "      <th>finishedsquarefeet12</th>\n",
       "      <th>fips</th>\n",
       "      <th>fullbathcnt</th>\n",
       "      <th>latitude</th>\n",
       "      <th>longitude</th>\n",
       "      <th>lotsizesquarefeet</th>\n",
       "      <th>...</th>\n",
       "      <th>regionidcounty</th>\n",
       "      <th>regionidzip</th>\n",
       "      <th>roomcnt</th>\n",
       "      <th>yearbuilt</th>\n",
       "      <th>structuretaxvaluedollarcnt</th>\n",
       "      <th>taxvaluedollarcnt</th>\n",
       "      <th>assessmentyear</th>\n",
       "      <th>landtaxvaluedollarcnt</th>\n",
       "      <th>taxamount</th>\n",
       "      <th>censustractandblock</th>\n",
       "    </tr>\n",
       "    <tr>\n",
       "      <th>parcelid</th>\n",
       "      <th></th>\n",
       "      <th></th>\n",
       "      <th></th>\n",
       "      <th></th>\n",
       "      <th></th>\n",
       "      <th></th>\n",
       "      <th></th>\n",
       "      <th></th>\n",
       "      <th></th>\n",
       "      <th></th>\n",
       "      <th></th>\n",
       "      <th></th>\n",
       "      <th></th>\n",
       "      <th></th>\n",
       "      <th></th>\n",
       "      <th></th>\n",
       "      <th></th>\n",
       "      <th></th>\n",
       "      <th></th>\n",
       "      <th></th>\n",
       "      <th></th>\n",
       "    </tr>\n",
       "  </thead>\n",
       "  <tbody>\n",
       "    <tr>\n",
       "      <th>11147894</th>\n",
       "      <td>0.111111</td>\n",
       "      <td>0.1875</td>\n",
       "      <td>0.111111</td>\n",
       "      <td>0.043575</td>\n",
       "      <td>0.070819</td>\n",
       "      <td>0.987891</td>\n",
       "      <td>0.111111</td>\n",
       "      <td>0.988674</td>\n",
       "      <td>0.008779</td>\n",
       "      <td>0.018668</td>\n",
       "      <td>...</td>\n",
       "      <td>1.000000</td>\n",
       "      <td>0.241198</td>\n",
       "      <td>0.0</td>\n",
       "      <td>0.982143</td>\n",
       "      <td>0.015385</td>\n",
       "      <td>0.007366</td>\n",
       "      <td>1.0</td>\n",
       "      <td>0.004502</td>\n",
       "      <td>0.008232</td>\n",
       "      <td>0.988040</td>\n",
       "    </tr>\n",
       "    <tr>\n",
       "      <th>12499173</th>\n",
       "      <td>0.111111</td>\n",
       "      <td>0.1875</td>\n",
       "      <td>0.111111</td>\n",
       "      <td>0.043771</td>\n",
       "      <td>0.071139</td>\n",
       "      <td>0.987891</td>\n",
       "      <td>0.111111</td>\n",
       "      <td>0.971228</td>\n",
       "      <td>0.010649</td>\n",
       "      <td>0.000821</td>\n",
       "      <td>...</td>\n",
       "      <td>1.000000</td>\n",
       "      <td>0.240796</td>\n",
       "      <td>0.0</td>\n",
       "      <td>0.977679</td>\n",
       "      <td>0.011020</td>\n",
       "      <td>0.010354</td>\n",
       "      <td>1.0</td>\n",
       "      <td>0.008314</td>\n",
       "      <td>0.010339</td>\n",
       "      <td>0.987983</td>\n",
       "    </tr>\n",
       "    <tr>\n",
       "      <th>17250614</th>\n",
       "      <td>0.138889</td>\n",
       "      <td>0.2500</td>\n",
       "      <td>0.138889</td>\n",
       "      <td>0.048401</td>\n",
       "      <td>0.078663</td>\n",
       "      <td>1.000000</td>\n",
       "      <td>0.111111</td>\n",
       "      <td>0.984214</td>\n",
       "      <td>0.006021</td>\n",
       "      <td>0.000946</td>\n",
       "      <td>...</td>\n",
       "      <td>0.664624</td>\n",
       "      <td>0.242992</td>\n",
       "      <td>0.4</td>\n",
       "      <td>0.974206</td>\n",
       "      <td>0.014186</td>\n",
       "      <td>0.004079</td>\n",
       "      <td>1.0</td>\n",
       "      <td>0.001433</td>\n",
       "      <td>0.004430</td>\n",
       "      <td>1.000000</td>\n",
       "    </tr>\n",
       "    <tr>\n",
       "      <th>12475752</th>\n",
       "      <td>0.055556</td>\n",
       "      <td>0.1875</td>\n",
       "      <td>0.055556</td>\n",
       "      <td>0.033333</td>\n",
       "      <td>0.054175</td>\n",
       "      <td>0.987891</td>\n",
       "      <td>0.055556</td>\n",
       "      <td>0.972577</td>\n",
       "      <td>0.011157</td>\n",
       "      <td>0.000761</td>\n",
       "      <td>...</td>\n",
       "      <td>1.000000</td>\n",
       "      <td>0.240726</td>\n",
       "      <td>0.0</td>\n",
       "      <td>0.965278</td>\n",
       "      <td>0.005285</td>\n",
       "      <td>0.001430</td>\n",
       "      <td>1.0</td>\n",
       "      <td>0.000444</td>\n",
       "      <td>0.001932</td>\n",
       "      <td>0.987982</td>\n",
       "    </tr>\n",
       "    <tr>\n",
       "      <th>12375139</th>\n",
       "      <td>0.055556</td>\n",
       "      <td>0.1250</td>\n",
       "      <td>0.055556</td>\n",
       "      <td>0.026712</td>\n",
       "      <td>0.043413</td>\n",
       "      <td>0.987891</td>\n",
       "      <td>0.055556</td>\n",
       "      <td>0.977033</td>\n",
       "      <td>0.011284</td>\n",
       "      <td>0.000749</td>\n",
       "      <td>...</td>\n",
       "      <td>1.000000</td>\n",
       "      <td>0.240676</td>\n",
       "      <td>0.0</td>\n",
       "      <td>0.963294</td>\n",
       "      <td>0.002031</td>\n",
       "      <td>0.000970</td>\n",
       "      <td>1.0</td>\n",
       "      <td>0.000592</td>\n",
       "      <td>0.001899</td>\n",
       "      <td>0.987976</td>\n",
       "    </tr>\n",
       "  </tbody>\n",
       "</table>\n",
       "<p>5 rows × 23 columns</p>\n",
       "</div>"
      ],
      "text/plain": [
       "          bathroomcnt  bedroomcnt  calculatedbathnbr  \\\n",
       "parcelid                                               \n",
       "11147894     0.111111      0.1875           0.111111   \n",
       "12499173     0.111111      0.1875           0.111111   \n",
       "17250614     0.138889      0.2500           0.138889   \n",
       "12475752     0.055556      0.1875           0.055556   \n",
       "12375139     0.055556      0.1250           0.055556   \n",
       "\n",
       "          calculatedfinishedsquarefeet  finishedsquarefeet12      fips  \\\n",
       "parcelid                                                                 \n",
       "11147894                      0.043575              0.070819  0.987891   \n",
       "12499173                      0.043771              0.071139  0.987891   \n",
       "17250614                      0.048401              0.078663  1.000000   \n",
       "12475752                      0.033333              0.054175  0.987891   \n",
       "12375139                      0.026712              0.043413  0.987891   \n",
       "\n",
       "          fullbathcnt  latitude  longitude  lotsizesquarefeet  ...  \\\n",
       "parcelid                                                       ...   \n",
       "11147894     0.111111  0.988674   0.008779           0.018668  ...   \n",
       "12499173     0.111111  0.971228   0.010649           0.000821  ...   \n",
       "17250614     0.111111  0.984214   0.006021           0.000946  ...   \n",
       "12475752     0.055556  0.972577   0.011157           0.000761  ...   \n",
       "12375139     0.055556  0.977033   0.011284           0.000749  ...   \n",
       "\n",
       "          regionidcounty  regionidzip  roomcnt  yearbuilt  \\\n",
       "parcelid                                                    \n",
       "11147894        1.000000     0.241198      0.0   0.982143   \n",
       "12499173        1.000000     0.240796      0.0   0.977679   \n",
       "17250614        0.664624     0.242992      0.4   0.974206   \n",
       "12475752        1.000000     0.240726      0.0   0.965278   \n",
       "12375139        1.000000     0.240676      0.0   0.963294   \n",
       "\n",
       "          structuretaxvaluedollarcnt  taxvaluedollarcnt  assessmentyear  \\\n",
       "parcelid                                                                  \n",
       "11147894                    0.015385           0.007366             1.0   \n",
       "12499173                    0.011020           0.010354             1.0   \n",
       "17250614                    0.014186           0.004079             1.0   \n",
       "12475752                    0.005285           0.001430             1.0   \n",
       "12375139                    0.002031           0.000970             1.0   \n",
       "\n",
       "          landtaxvaluedollarcnt  taxamount  censustractandblock  \n",
       "parcelid                                                         \n",
       "11147894               0.004502   0.008232             0.988040  \n",
       "12499173               0.008314   0.010339             0.987983  \n",
       "17250614               0.001433   0.004430             1.000000  \n",
       "12475752               0.000444   0.001932             0.987982  \n",
       "12375139               0.000592   0.001899             0.987976  \n",
       "\n",
       "[5 rows x 23 columns]"
      ]
     },
     "execution_count": 211,
     "metadata": {},
     "output_type": "execute_result"
    }
   ],
   "source": [
    "X_train_cleaned = null_rate_data_cleaner(X_train,0.2)\n",
    "X_train_cleaned.head()"
   ]
  },
  {
   "cell_type": "code",
   "execution_count": null,
   "id": "ed23ac4a",
   "metadata": {
    "id": "ed23ac4a"
   },
   "outputs": [],
   "source": []
  },
  {
   "cell_type": "code",
   "execution_count": 213,
   "id": "a551ce49",
   "metadata": {
    "id": "a551ce49"
   },
   "outputs": [
    {
     "data": {
      "text/html": [
       "<div>\n",
       "<style scoped>\n",
       "    .dataframe tbody tr th:only-of-type {\n",
       "        vertical-align: middle;\n",
       "    }\n",
       "\n",
       "    .dataframe tbody tr th {\n",
       "        vertical-align: top;\n",
       "    }\n",
       "\n",
       "    .dataframe thead th {\n",
       "        text-align: right;\n",
       "    }\n",
       "</style>\n",
       "<table border=\"1\" class=\"dataframe\">\n",
       "  <thead>\n",
       "    <tr style=\"text-align: right;\">\n",
       "      <th></th>\n",
       "      <th>bathroomcnt</th>\n",
       "      <th>bedroomcnt</th>\n",
       "      <th>calculatedbathnbr</th>\n",
       "      <th>calculatedfinishedsquarefeet</th>\n",
       "      <th>finishedsquarefeet12</th>\n",
       "      <th>fips</th>\n",
       "      <th>fullbathcnt</th>\n",
       "      <th>latitude</th>\n",
       "      <th>longitude</th>\n",
       "      <th>lotsizesquarefeet</th>\n",
       "      <th>...</th>\n",
       "      <th>regionidcounty</th>\n",
       "      <th>regionidzip</th>\n",
       "      <th>roomcnt</th>\n",
       "      <th>yearbuilt</th>\n",
       "      <th>structuretaxvaluedollarcnt</th>\n",
       "      <th>taxvaluedollarcnt</th>\n",
       "      <th>assessmentyear</th>\n",
       "      <th>landtaxvaluedollarcnt</th>\n",
       "      <th>taxamount</th>\n",
       "      <th>censustractandblock</th>\n",
       "    </tr>\n",
       "    <tr>\n",
       "      <th>parcelid</th>\n",
       "      <th></th>\n",
       "      <th></th>\n",
       "      <th></th>\n",
       "      <th></th>\n",
       "      <th></th>\n",
       "      <th></th>\n",
       "      <th></th>\n",
       "      <th></th>\n",
       "      <th></th>\n",
       "      <th></th>\n",
       "      <th></th>\n",
       "      <th></th>\n",
       "      <th></th>\n",
       "      <th></th>\n",
       "      <th></th>\n",
       "      <th></th>\n",
       "      <th></th>\n",
       "      <th></th>\n",
       "      <th></th>\n",
       "      <th></th>\n",
       "      <th></th>\n",
       "    </tr>\n",
       "  </thead>\n",
       "  <tbody>\n",
       "    <tr>\n",
       "      <th>14290538</th>\n",
       "      <td>0.40</td>\n",
       "      <td>0.384615</td>\n",
       "      <td>0.40</td>\n",
       "      <td>0.190361</td>\n",
       "      <td>0.224207</td>\n",
       "      <td>0.991491</td>\n",
       "      <td>0.4</td>\n",
       "      <td>0.968541</td>\n",
       "      <td>0.013251</td>\n",
       "      <td>0.000760</td>\n",
       "      <td>...</td>\n",
       "      <td>0.414705</td>\n",
       "      <td>0.242742</td>\n",
       "      <td>0.000000</td>\n",
       "      <td>0.995037</td>\n",
       "      <td>0.058425</td>\n",
       "      <td>0.050511</td>\n",
       "      <td>1.0</td>\n",
       "      <td>0.030495</td>\n",
       "      <td>0.056414</td>\n",
       "      <td>0.125439</td>\n",
       "    </tr>\n",
       "    <tr>\n",
       "      <th>14696616</th>\n",
       "      <td>0.35</td>\n",
       "      <td>0.384615</td>\n",
       "      <td>0.35</td>\n",
       "      <td>0.200363</td>\n",
       "      <td>0.235987</td>\n",
       "      <td>0.991491</td>\n",
       "      <td>0.3</td>\n",
       "      <td>0.966218</td>\n",
       "      <td>0.012912</td>\n",
       "      <td>0.000000</td>\n",
       "      <td>...</td>\n",
       "      <td>0.414705</td>\n",
       "      <td>0.242642</td>\n",
       "      <td>0.000000</td>\n",
       "      <td>0.982134</td>\n",
       "      <td>0.035894</td>\n",
       "      <td>0.055244</td>\n",
       "      <td>1.0</td>\n",
       "      <td>0.053947</td>\n",
       "      <td>0.048353</td>\n",
       "      <td>0.125439</td>\n",
       "    </tr>\n",
       "    <tr>\n",
       "      <th>14009861</th>\n",
       "      <td>0.20</td>\n",
       "      <td>0.230769</td>\n",
       "      <td>0.20</td>\n",
       "      <td>0.104358</td>\n",
       "      <td>0.122913</td>\n",
       "      <td>0.991491</td>\n",
       "      <td>0.2</td>\n",
       "      <td>0.970749</td>\n",
       "      <td>0.011958</td>\n",
       "      <td>0.001426</td>\n",
       "      <td>...</td>\n",
       "      <td>0.414705</td>\n",
       "      <td>0.242817</td>\n",
       "      <td>0.428571</td>\n",
       "      <td>0.969231</td>\n",
       "      <td>0.008819</td>\n",
       "      <td>0.018144</td>\n",
       "      <td>1.0</td>\n",
       "      <td>0.019901</td>\n",
       "      <td>0.018826</td>\n",
       "      <td>0.125439</td>\n",
       "    </tr>\n",
       "    <tr>\n",
       "      <th>17226912</th>\n",
       "      <td>0.25</td>\n",
       "      <td>0.230769</td>\n",
       "      <td>0.25</td>\n",
       "      <td>0.155960</td>\n",
       "      <td>0.183689</td>\n",
       "      <td>1.000000</td>\n",
       "      <td>0.2</td>\n",
       "      <td>0.985389</td>\n",
       "      <td>0.005433</td>\n",
       "      <td>0.001416</td>\n",
       "      <td>...</td>\n",
       "      <td>0.664624</td>\n",
       "      <td>0.242992</td>\n",
       "      <td>0.571429</td>\n",
       "      <td>0.992060</td>\n",
       "      <td>0.024325</td>\n",
       "      <td>0.021495</td>\n",
       "      <td>1.0</td>\n",
       "      <td>0.013373</td>\n",
       "      <td>0.020713</td>\n",
       "      <td>0.126514</td>\n",
       "    </tr>\n",
       "    <tr>\n",
       "      <th>12434923</th>\n",
       "      <td>0.10</td>\n",
       "      <td>0.230769</td>\n",
       "      <td>0.10</td>\n",
       "      <td>0.066989</td>\n",
       "      <td>0.078900</td>\n",
       "      <td>0.987891</td>\n",
       "      <td>0.1</td>\n",
       "      <td>0.972030</td>\n",
       "      <td>0.010846</td>\n",
       "      <td>0.000735</td>\n",
       "      <td>...</td>\n",
       "      <td>1.000000</td>\n",
       "      <td>0.240801</td>\n",
       "      <td>0.000000</td>\n",
       "      <td>0.969231</td>\n",
       "      <td>0.002772</td>\n",
       "      <td>0.002922</td>\n",
       "      <td>1.0</td>\n",
       "      <td>0.002212</td>\n",
       "      <td>0.003261</td>\n",
       "      <td>0.124994</td>\n",
       "    </tr>\n",
       "  </tbody>\n",
       "</table>\n",
       "<p>5 rows × 23 columns</p>\n",
       "</div>"
      ],
      "text/plain": [
       "          bathroomcnt  bedroomcnt  calculatedbathnbr  \\\n",
       "parcelid                                               \n",
       "14290538         0.40    0.384615               0.40   \n",
       "14696616         0.35    0.384615               0.35   \n",
       "14009861         0.20    0.230769               0.20   \n",
       "17226912         0.25    0.230769               0.25   \n",
       "12434923         0.10    0.230769               0.10   \n",
       "\n",
       "          calculatedfinishedsquarefeet  finishedsquarefeet12      fips  \\\n",
       "parcelid                                                                 \n",
       "14290538                      0.190361              0.224207  0.991491   \n",
       "14696616                      0.200363              0.235987  0.991491   \n",
       "14009861                      0.104358              0.122913  0.991491   \n",
       "17226912                      0.155960              0.183689  1.000000   \n",
       "12434923                      0.066989              0.078900  0.987891   \n",
       "\n",
       "          fullbathcnt  latitude  longitude  lotsizesquarefeet  ...  \\\n",
       "parcelid                                                       ...   \n",
       "14290538          0.4  0.968541   0.013251           0.000760  ...   \n",
       "14696616          0.3  0.966218   0.012912           0.000000  ...   \n",
       "14009861          0.2  0.970749   0.011958           0.001426  ...   \n",
       "17226912          0.2  0.985389   0.005433           0.001416  ...   \n",
       "12434923          0.1  0.972030   0.010846           0.000735  ...   \n",
       "\n",
       "          regionidcounty  regionidzip   roomcnt  yearbuilt  \\\n",
       "parcelid                                                     \n",
       "14290538        0.414705     0.242742  0.000000   0.995037   \n",
       "14696616        0.414705     0.242642  0.000000   0.982134   \n",
       "14009861        0.414705     0.242817  0.428571   0.969231   \n",
       "17226912        0.664624     0.242992  0.571429   0.992060   \n",
       "12434923        1.000000     0.240801  0.000000   0.969231   \n",
       "\n",
       "          structuretaxvaluedollarcnt  taxvaluedollarcnt  assessmentyear  \\\n",
       "parcelid                                                                  \n",
       "14290538                    0.058425           0.050511             1.0   \n",
       "14696616                    0.035894           0.055244             1.0   \n",
       "14009861                    0.008819           0.018144             1.0   \n",
       "17226912                    0.024325           0.021495             1.0   \n",
       "12434923                    0.002772           0.002922             1.0   \n",
       "\n",
       "          landtaxvaluedollarcnt  taxamount  censustractandblock  \n",
       "parcelid                                                         \n",
       "14290538               0.030495   0.056414             0.125439  \n",
       "14696616               0.053947   0.048353             0.125439  \n",
       "14009861               0.019901   0.018826             0.125439  \n",
       "17226912               0.013373   0.020713             0.126514  \n",
       "12434923               0.002212   0.003261             0.124994  \n",
       "\n",
       "[5 rows x 23 columns]"
      ]
     },
     "execution_count": 213,
     "metadata": {},
     "output_type": "execute_result"
    }
   ],
   "source": [
    "X_test_cleaned = null_rate_data_cleaner(X_test,0.2)\n",
    "X_test_cleaned.head()"
   ]
  },
  {
   "cell_type": "code",
   "execution_count": null,
   "id": "97e32467",
   "metadata": {
    "id": "97e32467"
   },
   "outputs": [],
   "source": []
  },
  {
   "cell_type": "code",
   "execution_count": 158,
   "id": "a24fb241",
   "metadata": {
    "id": "a24fb241"
   },
   "outputs": [],
   "source": [
    "# create a new feature tax amount/lot of area in sqaure feet"
   ]
  },
  {
   "cell_type": "code",
   "execution_count": 176,
   "id": "053a3884",
   "metadata": {
    "id": "053a3884"
   },
   "outputs": [
    {
     "data": {
      "text/plain": [
       "parcelid\n",
       "10711855                                                           -0.007357\n",
       "10711877                                                            0.021066\n",
       "10711888                                                            0.077174\n",
       "10711910                                                           -0.041238\n",
       "10711923                                                           -0.009496\n",
       "                                                 ...                        \n",
       "167687739                                                            0.36002\n",
       "167687839                                                           0.038797\n",
       "167688532                                                           0.006706\n",
       "167689317                                                          -0.008789\n",
       "taxamountpersqftlotarea    parcelid\n",
       "11147894     0.440936\n",
       "12499173      1...\n",
       "Name: logerror, Length: 77614, dtype: object"
      ]
     },
     "execution_count": 176,
     "metadata": {},
     "output_type": "execute_result"
    }
   ],
   "source": [
    "Y[\"taxamountpersqftlotarea\"] = X_train_cleaned[\"taxamount\"]/X_train_cleaned[\"lotsizesquarefeet\"]\n",
    "Y"
   ]
  },
  {
   "cell_type": "code",
   "execution_count": null,
   "id": "589425d0",
   "metadata": {
    "id": "589425d0"
   },
   "outputs": [],
   "source": []
  },
  {
   "cell_type": "markdown",
   "id": "d5a1f470",
   "metadata": {
    "id": "d5a1f470"
   },
   "source": [
    "<h2>Question 7 (10 points)</h2>\n",
    "<br>\n",
    "<font size=\"+1\">\n",
    "    <ol>\n",
    "        <li type='i'>Use <a href=\"https://scikit-learn.org/stable/modules/generated/sklearn.linear_model.LinearRegression.html\">Linear Regression</a> and <a href=\"https://scikit-learn.org/stable/modules/generated/sklearn.tree.DecisionTreeRegressor.html\">Decision Tree Regressor</a> to estimate the generalization error using the resampling technique of cross validation on the in-sample cleaned training data set.<br> <br>In other words, what's the average root-mean-squared-error coming from the cross-validated scorer of both models?</li>\n",
    "        <ul>\n",
    "            <li><i>Hint: use <a href=\"https://scikit-learn.org/stable/modules/generated/sklearn.model_selection.cross_val_score.html\">cross_val_score</a> to generate scores on different folds, and then average those scores to get an estimate of the generalization error using <b>cv=5</b>.</i></li>\n",
    "            <br>\n",
    "            <li><i>Hint: this is the perfect place to do try different model classes for Question 9. Possible models could be <a href=\"https://scikit-learn.org/stable/modules/generated/sklearn.ensemble.RandomForestRegressor.html\">Random Forest Regressor</a>, <a href=\"https://scikit-learn.org/stable/modules/generated/sklearn.ensemble.GradientBoostingRegressor.html#sklearn.ensemble.GradientBoostingRegressor\">XGBoost Regressor</a>, <a href=\"https://scikit-learn.org/stable/modules/generated/sklearn.svm.SVR.html\">Support Vector Regressor</a>, etc. Beware these can take some time to run.</i></li>\n",
    "            <br>\n",
    "        </ul>\n",
    "    </ol>\n",
    "</font>"
   ]
  },
  {
   "cell_type": "code",
   "execution_count": 225,
   "id": "ae18dc43",
   "metadata": {
    "id": "ae18dc43"
   },
   "outputs": [],
   "source": [
    "from sklearn.linear_model import LinearRegression\n",
    "from sklearn.tree import DecisionTreeRegressor\n",
    "from sklearn.model_selection import cross_val_score\n",
    "from sklearn.ensemble import RandomForestRegressor\n",
    "from sklearn.ensemble import GradientBoostingRegressor\n",
    "from sklearn.svm import SVR"
   ]
  },
  {
   "cell_type": "code",
   "execution_count": 199,
   "id": "370f996e",
   "metadata": {
    "id": "370f996e"
   },
   "outputs": [],
   "source": [
    "model = LinearRegression()"
   ]
  },
  {
   "cell_type": "code",
   "execution_count": 214,
   "id": "0b5f5db1",
   "metadata": {
    "id": "0b5f5db1"
   },
   "outputs": [
    {
     "data": {
      "text/plain": [
       "LinearRegression()"
      ]
     },
     "execution_count": 214,
     "metadata": {},
     "output_type": "execute_result"
    }
   ],
   "source": [
    "model.fit(X_train_cleaned,Y_train)"
   ]
  },
  {
   "cell_type": "code",
   "execution_count": 215,
   "id": "6b06fc13",
   "metadata": {
    "id": "6b06fc13"
   },
   "outputs": [
    {
     "data": {
      "text/plain": [
       "array([ 2.01583595e+00,  4.04878852e-02, -2.10448039e+00,  2.19446184e-01,\n",
       "        1.52960279e-01,  5.50494087e+00,  4.79297768e-02, -2.09956853e-01,\n",
       "        8.38227277e-01,  1.88758935e-01, -1.62256840e-02, -4.47660183e+00,\n",
       "       -8.55920561e-04,  2.57365805e-03, -1.16245012e-01, -1.10253306e-02,\n",
       "       -2.79225594e-02, -1.77730762e-01,  3.98975369e-01,  2.37543908e-01,\n",
       "        4.33139071e-01, -9.04474752e-01, -6.02984977e-02])"
      ]
     },
     "execution_count": 215,
     "metadata": {},
     "output_type": "execute_result"
    }
   ],
   "source": [
    "model.coef_"
   ]
  },
  {
   "cell_type": "code",
   "execution_count": 216,
   "id": "f0039a1a",
   "metadata": {
    "id": "f0039a1a"
   },
   "outputs": [
    {
     "data": {
      "text/plain": [
       "-0.9323554809601244"
      ]
     },
     "execution_count": 216,
     "metadata": {},
     "output_type": "execute_result"
    }
   ],
   "source": [
    "model.intercept_"
   ]
  },
  {
   "cell_type": "code",
   "execution_count": 218,
   "id": "042f5d43",
   "metadata": {
    "id": "042f5d43"
   },
   "outputs": [
    {
     "data": {
      "text/plain": [
       "array([-0.00567354,  0.00235062,  0.00330452,  0.00209089, -0.00224403])"
      ]
     },
     "execution_count": 218,
     "metadata": {},
     "output_type": "execute_result"
    }
   ],
   "source": [
    "cross_val_score(model,X_train_cleaned,Y_train,cv=5)"
   ]
  },
  {
   "cell_type": "code",
   "execution_count": 219,
   "id": "d6b691cf",
   "metadata": {
    "id": "d6b691cf"
   },
   "outputs": [],
   "source": [
    "model2 = DecisionTreeRegressor()"
   ]
  },
  {
   "cell_type": "code",
   "execution_count": 220,
   "id": "96ca8437",
   "metadata": {
    "id": "96ca8437"
   },
   "outputs": [
    {
     "data": {
      "text/plain": [
       "DecisionTreeRegressor()"
      ]
     },
     "execution_count": 220,
     "metadata": {},
     "output_type": "execute_result"
    }
   ],
   "source": [
    "model2.fit(X_train_cleaned,Y_train)"
   ]
  },
  {
   "cell_type": "code",
   "execution_count": 223,
   "id": "7fefcab9",
   "metadata": {
    "id": "7fefcab9"
   },
   "outputs": [
    {
     "data": {
      "text/plain": [
       "array([-1.28182512, -0.99196255, -1.1169216 , -1.37180426, -1.47672845])"
      ]
     },
     "execution_count": 223,
     "metadata": {},
     "output_type": "execute_result"
    }
   ],
   "source": [
    "cross_val_score(model2,X_train_cleaned,Y_train,cv=5)"
   ]
  },
  {
   "cell_type": "code",
   "execution_count": 236,
   "id": "8f2f11f4",
   "metadata": {
    "id": "8f2f11f4"
   },
   "outputs": [],
   "source": [
    "model3 = RandomForestRegressor(max_depth=4)"
   ]
  },
  {
   "cell_type": "code",
   "execution_count": 237,
   "id": "e6cd66f5",
   "metadata": {},
   "outputs": [
    {
     "data": {
      "text/plain": [
       "RandomForestRegressor(max_depth=4)"
      ]
     },
     "execution_count": 237,
     "metadata": {},
     "output_type": "execute_result"
    }
   ],
   "source": [
    "model3.fit(X_train_cleaned,Y_train)"
   ]
  },
  {
   "cell_type": "code",
   "execution_count": 238,
   "id": "eacca26d",
   "metadata": {},
   "outputs": [
    {
     "data": {
      "text/plain": [
       "array([ 0.02115182,  0.01665934,  0.01785672,  0.00088599, -0.00559017])"
      ]
     },
     "execution_count": 238,
     "metadata": {},
     "output_type": "execute_result"
    }
   ],
   "source": [
    "cross_val_score(model3,X_train_cleaned,Y_train,cv=5)"
   ]
  },
  {
   "cell_type": "code",
   "execution_count": 239,
   "id": "0f511862",
   "metadata": {},
   "outputs": [],
   "source": [
    "model4 = GradientBoostingRegressor(random_state=0)"
   ]
  },
  {
   "cell_type": "code",
   "execution_count": 240,
   "id": "ca02c433",
   "metadata": {},
   "outputs": [
    {
     "data": {
      "text/plain": [
       "GradientBoostingRegressor(random_state=0)"
      ]
     },
     "execution_count": 240,
     "metadata": {},
     "output_type": "execute_result"
    }
   ],
   "source": [
    "model4.fit(X_train_cleaned,Y_train)"
   ]
  },
  {
   "cell_type": "code",
   "execution_count": 241,
   "id": "dfa98d57",
   "metadata": {},
   "outputs": [
    {
     "data": {
      "text/plain": [
       "array([-0.02238019,  0.00844303,  0.0151404 , -0.00779571, -0.01576386])"
      ]
     },
     "execution_count": 241,
     "metadata": {},
     "output_type": "execute_result"
    }
   ],
   "source": [
    "cross_val_score(model4,X_train_cleaned,Y_train,cv=5)"
   ]
  },
  {
   "cell_type": "code",
   "execution_count": 242,
   "id": "b92ab634",
   "metadata": {},
   "outputs": [],
   "source": [
    "model5 = SVR()"
   ]
  },
  {
   "cell_type": "code",
   "execution_count": 243,
   "id": "4034b703",
   "metadata": {},
   "outputs": [
    {
     "data": {
      "text/plain": [
       "SVR()"
      ]
     },
     "execution_count": 243,
     "metadata": {},
     "output_type": "execute_result"
    }
   ],
   "source": [
    "model5.fit(X_train_cleaned,Y_train)"
   ]
  },
  {
   "cell_type": "code",
   "execution_count": 244,
   "id": "fc97604e",
   "metadata": {},
   "outputs": [
    {
     "data": {
      "text/plain": [
       "array([ 0.00108165,  0.00302166,  0.00351573,  0.00363357, -0.0010252 ])"
      ]
     },
     "execution_count": 244,
     "metadata": {},
     "output_type": "execute_result"
    }
   ],
   "source": [
    "cross_val_score(model5,X_train_cleaned,Y_train,cv=5)"
   ]
  },
  {
   "cell_type": "markdown",
   "id": "4a2d7e46",
   "metadata": {
    "id": "4a2d7e46"
   },
   "source": [
    "<h2>Question 8 (10 points)</h2>\n",
    "<br>\n",
    "<font size=\"+1\">\n",
    "    <ol>\n",
    "        <li type='i'>Although the decision tree regressor might not be the best model as measured above, it is possible it could improve if it is properly optimized. <br> <br>\n",
    "            Use the following parameter grid to do a cross validated grid search in order to find the best estimator and the best parameters.</li>\n",
    "        <ul>\n",
    "            <li><i>Hint: use <a href=\"https://scikit-learn.org/stable/modules/generated/sklearn.model_selection.GridSearchCV.html\">GridSearchCV</a> to search through the hyperparameter grid that is specified.</i></li>\n",
    "            <br>\n",
    "            <li><i>Hint: use the <b>best_estimator_</b> attribute to access the estimated model with the highest ranked performance, and use the <b>best_score_</b> attribute to get the average cross-validate score coming from the best estimator.</i></li>\n",
    "            <br>\n",
    "        </ul>\n",
    "        <li type='i'>Use the optimized decision tree regressor and linear regression to predict the out-of-sample test target variable.</li>\n",
    "        <ul>\n",
    "            <li><i>Hint: use the <b>best_estimator_</b> from the grid search to predict the target variable using <b>test set predictor data</b> and measure the prediction error.</i></li>\n",
    "            <br>\n",
    "            <li><i>Hint: use the <b>RMSE</b> (<a href=\"https://scikit-learn.org/stable/modules/generated/sklearn.metrics.mean_squared_error.html\">root mean squared error</a>) to measure the error between the predictions on the test set and the true test set target variable.</i></li>\n",
    "            <br>\n",
    "        </ul>\n",
    "        <li type='i'>For the decision tree regressor, how does the test set error compare to the <b>best_score_</b> error (coming from the training set)? </li>\n",
    "        <br>\n",
    "        <ul>\n",
    "        <li><i>Recall: we're using the <b>RMSE</b> to measure error; implementations of cross validation requires setting <b>scoring='neg_mean_squared_error'</b>, so don't forget to multiply these scores by -1 and then take a square root!</i></li>\n",
    "            <br>\n",
    "        </ul>\n",
    "    </ol>\n",
    "</font>"
   ]
  },
  {
   "cell_type": "code",
   "execution_count": 273,
   "id": "026dadfb",
   "metadata": {
    "id": "026dadfb"
   },
   "outputs": [],
   "source": [
    "from sklearn.tree import DecisionTreeRegressor\n",
    "from sklearn.model_selection import GridSearchCV\n",
    "from sklearn.metrics import mean_squared_error\n",
    "import math"
   ]
  },
  {
   "cell_type": "code",
   "execution_count": 230,
   "id": "10ff0e0d",
   "metadata": {
    "id": "10ff0e0d"
   },
   "outputs": [],
   "source": [
    "decision_tree_reg = DecisionTreeRegressor()"
   ]
  },
  {
   "cell_type": "code",
   "execution_count": 231,
   "id": "68d13c9e",
   "metadata": {
    "id": "68d13c9e",
    "outputId": "a8fddd63-db09-426d-b8bb-f716452bd5c2"
   },
   "outputs": [
    {
     "data": {
      "text/plain": [
       "{'ccp_alpha': 0.0,\n",
       " 'criterion': 'mse',\n",
       " 'max_depth': None,\n",
       " 'max_features': None,\n",
       " 'max_leaf_nodes': None,\n",
       " 'min_impurity_decrease': 0.0,\n",
       " 'min_impurity_split': None,\n",
       " 'min_samples_leaf': 1,\n",
       " 'min_samples_split': 2,\n",
       " 'min_weight_fraction_leaf': 0.0,\n",
       " 'random_state': None,\n",
       " 'splitter': 'best'}"
      ]
     },
     "execution_count": 231,
     "metadata": {},
     "output_type": "execute_result"
    }
   ],
   "source": [
    "decision_tree_reg.get_params()"
   ]
  },
  {
   "cell_type": "code",
   "execution_count": 232,
   "id": "067a39d6",
   "metadata": {
    "id": "067a39d6"
   },
   "outputs": [],
   "source": [
    "import warnings\n",
    "warnings.filterwarnings(\"ignore\")\n",
    "\n",
    "\n",
    "decision_tree_param_grid = {\"splitter\":[\"best\",\"random\"],\n",
    "                           \"max_depth\" : [7,9,11,12],\n",
    "                           \"min_samples_leaf\":[3,4,5,6,7,8]}"
   ]
  },
  {
   "cell_type": "code",
   "execution_count": 249,
   "id": "05caec5b",
   "metadata": {
    "id": "05caec5b"
   },
   "outputs": [],
   "source": [
    "tree = GridSearchCV(estimator=decision_tree_reg,param_grid=decision_tree_param_grid)"
   ]
  },
  {
   "cell_type": "code",
   "execution_count": 253,
   "id": "641ad41b",
   "metadata": {
    "id": "641ad41b"
   },
   "outputs": [
    {
     "data": {
      "text/plain": [
       "GridSearchCV(estimator=DecisionTreeRegressor(),\n",
       "             param_grid={'max_depth': [7, 9, 11, 12],\n",
       "                         'min_samples_leaf': [3, 4, 5, 6, 7, 8],\n",
       "                         'splitter': ['best', 'random']})"
      ]
     },
     "execution_count": 253,
     "metadata": {},
     "output_type": "execute_result"
    }
   ],
   "source": [
    "tree.fit(X_train_cleaned,Y_train)"
   ]
  },
  {
   "cell_type": "code",
   "execution_count": 254,
   "id": "00644d1a",
   "metadata": {
    "id": "00644d1a"
   },
   "outputs": [
    {
     "data": {
      "text/plain": [
       "DecisionTreeRegressor(max_depth=7, min_samples_leaf=5, splitter='random')"
      ]
     },
     "execution_count": 254,
     "metadata": {},
     "output_type": "execute_result"
    }
   ],
   "source": [
    "tree.best_estimator_"
   ]
  },
  {
   "cell_type": "code",
   "execution_count": 255,
   "id": "23bf55c4",
   "metadata": {
    "id": "23bf55c4"
   },
   "outputs": [
    {
     "data": {
      "text/plain": [
       "0.0006143656274394393"
      ]
     },
     "execution_count": 255,
     "metadata": {},
     "output_type": "execute_result"
    }
   ],
   "source": [
    "tree.best_score_"
   ]
  },
  {
   "cell_type": "code",
   "execution_count": 288,
   "id": "ca3e089c",
   "metadata": {},
   "outputs": [
    {
     "data": {
      "text/plain": [
       "GridSearchCV(estimator=DecisionTreeRegressor(),\n",
       "             param_grid={'max_depth': [7, 9, 11, 12],\n",
       "                         'min_samples_leaf': [3, 4, 5, 6, 7, 8],\n",
       "                         'splitter': ['best', 'random']})"
      ]
     },
     "execution_count": 288,
     "metadata": {},
     "output_type": "execute_result"
    }
   ],
   "source": [
    "tree.fit(X_test_cleaned,Y_test)"
   ]
  },
  {
   "cell_type": "code",
   "execution_count": 289,
   "id": "c7f1792f",
   "metadata": {},
   "outputs": [
    {
     "data": {
      "text/plain": [
       "DecisionTreeRegressor(max_depth=7, min_samples_leaf=7, splitter='random')"
      ]
     },
     "execution_count": 289,
     "metadata": {},
     "output_type": "execute_result"
    }
   ],
   "source": [
    "tree.best_estimator_"
   ]
  },
  {
   "cell_type": "code",
   "execution_count": 290,
   "id": "4fa08d31",
   "metadata": {},
   "outputs": [
    {
     "data": {
      "text/plain": [
       "-0.009348948979889892"
      ]
     },
     "execution_count": 290,
     "metadata": {},
     "output_type": "execute_result"
    }
   ],
   "source": [
    "tree.best_score_"
   ]
  },
  {
   "cell_type": "code",
   "execution_count": 291,
   "id": "d5e17384",
   "metadata": {
    "id": "d5e17384"
   },
   "outputs": [],
   "source": [
    "optimized_tree = DecisionTreeRegressor(max_depth=7, min_samples_leaf=7, splitter=\"random\")"
   ]
  },
  {
   "cell_type": "code",
   "execution_count": 292,
   "id": "fcfbd03e",
   "metadata": {
    "id": "fcfbd03e"
   },
   "outputs": [
    {
     "data": {
      "text/plain": [
       "DecisionTreeRegressor(max_depth=7, min_samples_leaf=7, splitter='random')"
      ]
     },
     "execution_count": 292,
     "metadata": {},
     "output_type": "execute_result"
    }
   ],
   "source": [
    "optimized_tree.fit(X_test_cleaned,Y_test)"
   ]
  },
  {
   "cell_type": "code",
   "execution_count": 293,
   "id": "dbead359",
   "metadata": {
    "id": "dbead359"
   },
   "outputs": [],
   "source": [
    "y_pred = optimized_tree.predict(X_test_cleaned)"
   ]
  },
  {
   "cell_type": "code",
   "execution_count": 294,
   "id": "0ae3d02a",
   "metadata": {
    "id": "0ae3d02a"
   },
   "outputs": [
    {
     "data": {
      "text/plain": [
       "0.029564039411970743"
      ]
     },
     "execution_count": 294,
     "metadata": {},
     "output_type": "execute_result"
    }
   ],
   "source": [
    "mean_squared_error(Y_test,y_pred)"
   ]
  },
  {
   "cell_type": "code",
   "execution_count": 295,
   "id": "151f4449",
   "metadata": {},
   "outputs": [
    {
     "data": {
      "text/plain": [
       "array([-0.03358094, -0.02719885, -0.03058833, -0.03334175, -0.02984774])"
      ]
     },
     "execution_count": 295,
     "metadata": {},
     "output_type": "execute_result"
    }
   ],
   "source": [
    "cross_val_score(optimized_tree,X_test_cleaned,Y_test,cv=5,scoring=\"neg_mean_squared_error\")"
   ]
  },
  {
   "cell_type": "code",
   "execution_count": 296,
   "id": "998c8e43",
   "metadata": {
    "id": "998c8e43"
   },
   "outputs": [
    {
     "data": {
      "text/plain": [
       "0.17194196524400535"
      ]
     },
     "execution_count": 296,
     "metadata": {},
     "output_type": "execute_result"
    }
   ],
   "source": [
    "RMSE = mean_squared_error(Y_test,y_pred,squared=False)\n",
    "RMSE"
   ]
  },
  {
   "cell_type": "code",
   "execution_count": 297,
   "id": "99db6edd",
   "metadata": {
    "id": "99db6edd"
   },
   "outputs": [
    {
     "data": {
      "text/plain": [
       "-0.029564039411970743"
      ]
     },
     "execution_count": 297,
     "metadata": {},
     "output_type": "execute_result"
    }
   ],
   "source": [
    "neg_mean_squared_error = -1*mean_squared_error(Y_test,y_pred)\n",
    "neg_mean_squared_error"
   ]
  },
  {
   "cell_type": "code",
   "execution_count": null,
   "id": "8309a814",
   "metadata": {
    "id": "8309a814"
   },
   "outputs": [],
   "source": []
  },
  {
   "cell_type": "markdown",
   "id": "c0cc54e6",
   "metadata": {
    "id": "c0cc54e6"
   },
   "source": [
    "<h1>Extension</h1>\n",
    "<br>\n",
    "<font size=\"+1\">\n",
    "    <ul>\n",
    "        <li>The purpose of this exercise is for you to innovate on the above questions to gain some additional insight and improve your residual predictions.</li>\n",
    "        <br>\n",
    "        <li>Treat this exercise as if you were given a take home exam from a company and you wanted to showcase your skills for a job you're hoping to land.</li>\n",
    "        <br>\n",
    "        <li><i>Note: Most models we build in a first passing are not very good, it takes time to build a good model from real world data. If your model doesn't perform very well, don't be discouraged, this means there is so much opportunity to improve! Keep this in mind as you do experimentation in the following question.</i></li>\n",
    "        <br>\n",
    "    </ul>\n",
    "</font>"
   ]
  },
  {
   "cell_type": "markdown",
   "id": "021723b6",
   "metadata": {
    "id": "021723b6"
   },
   "source": [
    "<h2>Question 9 (10 points)</h2>\n",
    "<br>\n",
    "<font size=\"+1\">\n",
    "    <ol>\n",
    "        <li type='i'>Try different techniques, methodologies, and models to answer the following business question:</li>\n",
    "        <br>\n",
    "        <ul>\n",
    "            <li style=\"color:orange\"><i>Keeping in mind the overall goal of improving Zillow's Zestimate, can you find any insights that will be useful for improving the residual predictions made above?</i></li>\n",
    "            <br>\n",
    "            <li style=\"color:orange\"><i>Can you find a way to improve upon the predictions made in the previous set of questions?</i></li>\n",
    "            <br>\n",
    "        </ul>\n",
    "        <br>\n",
    "        <li type='i'>There is no simple solution for these questions. They are intended to be vague and open ended in order for interviewers to test your critical thinking. Possible innovations you can think about include:</li>\n",
    "        <ul>\n",
    "            <li><i>thinking about different ways to handle outliers,</i></li>\n",
    "            <br>\n",
    "            <li><i>different ways to measure prediction error,</i></li>\n",
    "            <br>\n",
    "            <li><i>improved feature engineering using intuitive methods or algorithmic methods such as <a href=\"https://scikit-learn.org/stable/modules/generated/sklearn.decomposition.PCA.html\">PCA (principal components analysis)</a>,</i></li>\n",
    "            <br>\n",
    "            <li><i>different data splitting techniques,</i></li>\n",
    "            <br>\n",
    "            <li><i>different models,</i></li>\n",
    "            <br>\n",
    "            <li><i>different grid searches,</i></li>\n",
    "            <br>\n",
    "            <li><i>etc.</i></li>\n",
    "            <br>\n",
    "        </ul>\n",
    "        <li type=\"i\">If you did any extra analysis during the above exercises, simply copy and paste the code below.</li>\n",
    "        <br>        \n",
    "    </ol>\n",
    "</font>"
   ]
  },
  {
   "cell_type": "code",
   "execution_count": 283,
   "id": "9145164e",
   "metadata": {
    "id": "9145164e"
   },
   "outputs": [],
   "source": [
    "# I would like to clean the data more like th acceptable null percentage of 10% to see whether this improve Zollow's Zestimate"
   ]
  },
  {
   "cell_type": "code",
   "execution_count": 284,
   "id": "7f636b83",
   "metadata": {
    "id": "7f636b83"
   },
   "outputs": [],
   "source": [
    "X_trained = null_rate_data_cleaner(X_train,0.1)\n",
    "X_tested = null_rate_data_cleaner(X_test,0.1)"
   ]
  },
  {
   "cell_type": "code",
   "execution_count": 322,
   "id": "8df22d74",
   "metadata": {
    "id": "8df22d74"
   },
   "outputs": [
    {
     "data": {
      "text/plain": [
       "GridSearchCV(estimator=DecisionTreeRegressor(),\n",
       "             param_grid={'max_depth': [7, 9, 11, 12],\n",
       "                         'min_samples_leaf': [3, 4, 5, 6, 7, 8],\n",
       "                         'splitter': ['best', 'random']})"
      ]
     },
     "execution_count": 322,
     "metadata": {},
     "output_type": "execute_result"
    }
   ],
   "source": [
    "tree.fit(X_trained,Y_train)"
   ]
  },
  {
   "cell_type": "code",
   "execution_count": 286,
   "id": "3abe26d9",
   "metadata": {
    "id": "3abe26d9"
   },
   "outputs": [
    {
     "data": {
      "text/plain": [
       "DecisionTreeRegressor(max_depth=7, min_samples_leaf=7, splitter='random')"
      ]
     },
     "execution_count": 286,
     "metadata": {},
     "output_type": "execute_result"
    }
   ],
   "source": [
    "tree.best_estimator_"
   ]
  },
  {
   "cell_type": "code",
   "execution_count": 287,
   "id": "12ac2582",
   "metadata": {
    "id": "12ac2582"
   },
   "outputs": [
    {
     "data": {
      "text/plain": [
       "-0.001904363110425167"
      ]
     },
     "execution_count": 287,
     "metadata": {},
     "output_type": "execute_result"
    }
   ],
   "source": [
    "tree.best_score_"
   ]
  },
  {
   "cell_type": "code",
   "execution_count": 298,
   "id": "385fd50f",
   "metadata": {
    "id": "385fd50f"
   },
   "outputs": [
    {
     "data": {
      "text/plain": [
       "DecisionTreeRegressor(max_depth=7, min_samples_leaf=7, splitter='random')"
      ]
     },
     "execution_count": 298,
     "metadata": {},
     "output_type": "execute_result"
    }
   ],
   "source": [
    "optimal_tree = DecisionTreeRegressor(max_depth=7, min_samples_leaf=7, splitter=\"random\")\n",
    "optimal_tree.fit(X_trained,Y_train)"
   ]
  },
  {
   "cell_type": "code",
   "execution_count": 301,
   "id": "4744b478",
   "metadata": {
    "id": "4744b478"
   },
   "outputs": [
    {
     "data": {
      "text/plain": [
       "0.03688706624799586"
      ]
     },
     "execution_count": 301,
     "metadata": {},
     "output_type": "execute_result"
    }
   ],
   "source": [
    "y_pred = optimal_tree.predict(X_tested)\n",
    "mean_squared_error(Y_test,y_pred)"
   ]
  },
  {
   "cell_type": "code",
   "execution_count": 315,
   "id": "47507bf6",
   "metadata": {},
   "outputs": [
    {
     "data": {
      "text/plain": [
       "4.469036452418897"
      ]
     },
     "execution_count": 315,
     "metadata": {},
     "output_type": "execute_result"
    }
   ],
   "source": [
    "from sklearn import metrics\n",
    "# The max_error mertic calculates the maximum residual error\n",
    "metrics.max_error(Y_test,y_pred)"
   ]
  },
  {
   "cell_type": "code",
   "execution_count": 317,
   "id": "17df43f5",
   "metadata": {},
   "outputs": [
    {
     "data": {
      "text/plain": [
       "0.06990575253881082"
      ]
     },
     "execution_count": 317,
     "metadata": {},
     "output_type": "execute_result"
    }
   ],
   "source": [
    "# median absolute error regression loss\n",
    "metrics.median_absolute_error(Y_test,y_pred)"
   ]
  },
  {
   "cell_type": "code",
   "execution_count": 320,
   "id": "18ade5e4",
   "metadata": {},
   "outputs": [
    {
     "data": {
      "text/plain": [
       "-0.21374871498402737"
      ]
     },
     "execution_count": 320,
     "metadata": {},
     "output_type": "execute_result"
    }
   ],
   "source": [
    "# coffficient of determination \n",
    "metrics.r2_score(Y_test,y_pred)"
   ]
  },
  {
   "cell_type": "code",
   "execution_count": 323,
   "id": "d1c9ebd7",
   "metadata": {},
   "outputs": [
    {
     "data": {
      "text/plain": [
       "9.951540377709854"
      ]
     },
     "execution_count": 323,
     "metadata": {},
     "output_type": "execute_result"
    }
   ],
   "source": [
    "# Mean absolute percentage error regression loss\n",
    "metrics.mean_absolute_percentage_error(Y_test,y_pred)"
   ]
  },
  {
   "cell_type": "code",
   "execution_count": 302,
   "id": "228b2b65",
   "metadata": {
    "id": "228b2b65",
    "scrolled": true
   },
   "outputs": [
    {
     "data": {
      "text/plain": [
       "array([-0.03286097, -0.02729039, -0.03047901, -0.03315781, -0.02921357])"
      ]
     },
     "execution_count": 302,
     "metadata": {},
     "output_type": "execute_result"
    }
   ],
   "source": [
    "cross_val_score(optimal_tree,X_tested,Y_test,cv=5,scoring=\"neg_mean_squared_error\")"
   ]
  },
  {
   "cell_type": "code",
   "execution_count": 303,
   "id": "80a6ee2f",
   "metadata": {
    "id": "80a6ee2f"
   },
   "outputs": [],
   "source": [
    "# I would like to conduct Ridge and logistic regression model"
   ]
  },
  {
   "cell_type": "code",
   "execution_count": 336,
   "id": "2acc038e",
   "metadata": {
    "id": "2acc038e"
   },
   "outputs": [],
   "source": [
    "from sklearn.linear_model import Ridge\n",
    "from sklearn.linear_model import LogisticRegression"
   ]
  },
  {
   "cell_type": "code",
   "execution_count": 337,
   "id": "ad5f3ecc",
   "metadata": {
    "id": "ad5f3ecc"
   },
   "outputs": [
    {
     "data": {
      "text/plain": [
       "array([ 0.00433932,  0.00171163,  0.00384475,  0.00205371, -0.00254209])"
      ]
     },
     "execution_count": 337,
     "metadata": {},
     "output_type": "execute_result"
    }
   ],
   "source": [
    "clf = Ridge(alpha=1.0)\n",
    "clf.fit(X_trained,Y_train)\n",
    "cross_val_score(clf,X_trained,Y_train,cv=5)"
   ]
  },
  {
   "cell_type": "code",
   "execution_count": 349,
   "id": "aea9cedc",
   "metadata": {},
   "outputs": [],
   "source": [
    "# The logistic regression model is not working for the X_trained"
   ]
  },
  {
   "cell_type": "code",
   "execution_count": 324,
   "id": "dee7df22",
   "metadata": {
    "id": "dee7df22"
   },
   "outputs": [],
   "source": [
    "# I would like to have a try in PCA\n",
    "from sklearn.decomposition import PCA"
   ]
  },
  {
   "cell_type": "code",
   "execution_count": 326,
   "id": "3fb403ee",
   "metadata": {
    "id": "3fb403ee"
   },
   "outputs": [
    {
     "data": {
      "text/plain": [
       "PCA(n_components=5)"
      ]
     },
     "execution_count": 326,
     "metadata": {},
     "output_type": "execute_result"
    }
   ],
   "source": [
    "pca = PCA(n_components=5)\n",
    "pca.fit(X_trained)"
   ]
  },
  {
   "cell_type": "code",
   "execution_count": 328,
   "id": "f452683e",
   "metadata": {},
   "outputs": [
    {
     "data": {
      "text/plain": [
       "array([0.59240819, 0.1190338 , 0.09879851, 0.08919502, 0.03663146])"
      ]
     },
     "execution_count": 328,
     "metadata": {},
     "output_type": "execute_result"
    }
   ],
   "source": [
    "pca.explained_variance_ratio_"
   ]
  },
  {
   "cell_type": "code",
   "execution_count": 329,
   "id": "91400d07",
   "metadata": {},
   "outputs": [
    {
     "data": {
      "text/plain": [
       "array([70.77166458, 31.72371413, 28.90174542, 27.46117926, 17.59851453])"
      ]
     },
     "execution_count": 329,
     "metadata": {},
     "output_type": "execute_result"
    }
   ],
   "source": [
    "pca.singular_values_"
   ]
  },
  {
   "cell_type": "code",
   "execution_count": 331,
   "id": "c5c34fd0",
   "metadata": {},
   "outputs": [],
   "source": [
    "# I would like to try to split the data into training(67%) and testing (33%) with raondom_state=12"
   ]
  },
  {
   "cell_type": "code",
   "execution_count": 330,
   "id": "00a28e43",
   "metadata": {},
   "outputs": [],
   "source": [
    "X_train2, X_test2, Y_train2, Y_test2 = train_test_split(X,Y, test_size=0.33, random_state=12)"
   ]
  },
  {
   "cell_type": "code",
   "execution_count": 332,
   "id": "e476ebda",
   "metadata": {},
   "outputs": [],
   "source": [
    "X_trained2 = null_rate_data_cleaner(X_train2,0.2)\n",
    "X_tested2 = null_rate_data_cleaner(X_test2,0.2)"
   ]
  },
  {
   "cell_type": "code",
   "execution_count": 350,
   "id": "5d2b7c12",
   "metadata": {},
   "outputs": [],
   "source": [
    "# try to do randomizedSearchCV but the object is not supported\n",
    "from scipy.stats import uniform\n",
    "from sklearn.model_selection import RandomizedSearchCV\n",
    "# distributions = dict(C=uniform(loc=0, scale=4),\n",
    "                      # penalty=['l2', 'l1'])\n",
    "# clf = RandomizedSearchCV(decision_tree_reg,distributions,random_state=0)\n",
    "# clf.fit(X_trained2,Y_train2)"
   ]
  },
  {
   "cell_type": "code",
   "execution_count": 351,
   "id": "79227092",
   "metadata": {},
   "outputs": [],
   "source": [
    "# try to add more hyperparamters into GridSearchCV"
   ]
  },
  {
   "cell_type": "code",
   "execution_count": 352,
   "id": "62849c1e",
   "metadata": {},
   "outputs": [],
   "source": [
    "import warnings\n",
    "warnings.filterwarnings(\"ignore\")\n",
    "\n",
    "\n",
    "decision_tree_param_grid = {\"splitter\":[\"best\",\"random\"],\n",
    "                           \"max_depth\" : [7,9,11,12],\n",
    "                           \"min_samples_leaf\":[3,4,5,6,7,8],\n",
    "                           \"min_impurity_decrease\":[0,1,2,3,4],\n",
    "                           \"max_features\":[15,16,17,18,19,20]}\n"
   ]
  },
  {
   "cell_type": "code",
   "execution_count": 353,
   "id": "a82f885c",
   "metadata": {},
   "outputs": [],
   "source": [
    "tree2 = GridSearchCV(estimator=decision_tree_reg,param_grid=decision_tree_param_grid)"
   ]
  },
  {
   "cell_type": "code",
   "execution_count": 356,
   "id": "6cb479c3",
   "metadata": {},
   "outputs": [
    {
     "data": {
      "text/plain": [
       "GridSearchCV(estimator=DecisionTreeRegressor(),\n",
       "             param_grid={'max_depth': [7, 9, 11, 12],\n",
       "                         'max_features': [15, 16, 17, 18, 19, 20],\n",
       "                         'min_impurity_decrease': [0, 1, 2, 3, 4],\n",
       "                         'min_samples_leaf': [3, 4, 5, 6, 7, 8],\n",
       "                         'splitter': ['best', 'random']})"
      ]
     },
     "execution_count": 356,
     "metadata": {},
     "output_type": "execute_result"
    }
   ],
   "source": [
    "tree2.fit(X_trained2,Y_train2)"
   ]
  },
  {
   "cell_type": "code",
   "execution_count": 357,
   "id": "2f397a05",
   "metadata": {},
   "outputs": [
    {
     "data": {
      "text/plain": [
       "DecisionTreeRegressor(max_depth=7, max_features=15, min_impurity_decrease=1,\n",
       "                      min_samples_leaf=3)"
      ]
     },
     "execution_count": 357,
     "metadata": {},
     "output_type": "execute_result"
    }
   ],
   "source": [
    "tree2.best_estimator_"
   ]
  },
  {
   "cell_type": "code",
   "execution_count": 358,
   "id": "54370c76",
   "metadata": {},
   "outputs": [
    {
     "data": {
      "text/plain": [
       "-7.736871323293926e-05"
      ]
     },
     "execution_count": 358,
     "metadata": {},
     "output_type": "execute_result"
    }
   ],
   "source": [
    "tree2.best_score_"
   ]
  },
  {
   "cell_type": "code",
   "execution_count": 359,
   "id": "445820b2",
   "metadata": {},
   "outputs": [],
   "source": [
    "best_tree = DecisionTreeRegressor(max_depth=7, max_features=15, min_impurity_decrease=1,\n",
    "                      min_samples_leaf=3)"
   ]
  },
  {
   "cell_type": "code",
   "execution_count": 360,
   "id": "f2b35870",
   "metadata": {},
   "outputs": [
    {
     "data": {
      "text/plain": [
       "array([-0.02119742, -0.03009331, -0.02355997, -0.02759233, -0.03312661])"
      ]
     },
     "execution_count": 360,
     "metadata": {},
     "output_type": "execute_result"
    }
   ],
   "source": [
    "cross_val_score(best_tree,X_tested2,Y_test2,cv=5,scoring=\"neg_mean_squared_error\")"
   ]
  },
  {
   "cell_type": "markdown",
   "id": "bd31687a",
   "metadata": {
    "id": "bd31687a"
   },
   "source": [
    "<h1>Conclusion</h1>\n",
    "<br>\n",
    "<font size=\"+1\">\n",
    "    <ul>\n",
    "        <li>The purpose of this exercise is for you to demonstrate your written communication skills of technical content.</li>\n",
    "        <br>\n",
    "        <li>Treat this exercise as if you were given a take home exam from a company and you wanted to showcase your skills for a job you're hoping to land.</li>\n",
    "        <br>\n",
    "    </ul>\n",
    "</font>"
   ]
  },
  {
   "cell_type": "markdown",
   "id": "dea482f5",
   "metadata": {
    "id": "dea482f5"
   },
   "source": [
    "<h2>Question 10 (10 points)</h2>\n",
    "<br>\n",
    "<font size=\"+1\">\n",
    "    <ol>\n",
    "        <li type='i'>In written form (<b>use Markdown</b>), summarize your experiment designs, any outcomes and observations, and justify any decisions you have made. </li>\n",
    "        <br>\n",
    "        <li type='i'>Interpret your results and make a recommendation of what to do next.</li>\n",
    "        <br>\n",
    "        <ul>\n",
    "        <li>As a suggestion:</li>\n",
    "        <br>\n",
    "    <ul>\n",
    "        <li>emphasize insights and takeaways,</li>\n",
    "        <br>\n",
    "        <li>what worked,</li>\n",
    "        <br>\n",
    "        <li>what went wrong, </li>\n",
    "        <br>\n",
    "        <li>why did things go wrong, or your best guess,</li>\n",
    "        <br>\n",
    "        <li>what to do next,</li>\n",
    "        <br>\n",
    "        <li>what are next steps you might wish to investigate?</li>\n",
    "        <br>\n",
    "    </ul>\n",
    "    </ul>\n",
    "    </ol>\n",
    "</font>"
   ]
  },
  {
   "cell_type": "markdown",
   "id": "9a1684d1",
   "metadata": {},
   "source": [
    "Negative mean square error for mutiple models like linear regression, SVR, and randomforest is low so this means the accuracy of the model is high and residual error is low. After the tuning of the hyperparemeters, the val cross score for decision tree model improve a lot and the result is similar with others. There are many missing values in the dataset, it is important to do data cleaning and consider feature importance of different variables. Moreover, as I add more hyperparameters into the GridSearchCV, the accuracy of the model increase. Therefore, it is important to tune the hyperparameter to boost the accuaracy. "
   ]
  },
  {
   "cell_type": "markdown",
   "id": "f0c5a75e",
   "metadata": {},
   "source": [
    "The majority of the models are working and most of them results in a low logerror"
   ]
  },
  {
   "cell_type": "markdown",
   "id": "24abc277",
   "metadata": {},
   "source": [
    "The logisticRegression model and RandomizedSearchCV is not working for the case"
   ]
  },
  {
   "cell_type": "markdown",
   "id": "a97fc1fe",
   "metadata": {},
   "source": [
    "I think it is because the data cleaning process does not fit the model and randomizedsearchCV require the distribution which I have no idea what distribution is good for this dataset"
   ]
  },
  {
   "cell_type": "markdown",
   "id": "84c044d2",
   "metadata": {},
   "source": [
    "I would like to do more models and tuning of the hyperparameters"
   ]
  },
  {
   "cell_type": "markdown",
   "id": "366f63c2",
   "metadata": {},
   "source": [
    "I wish to investigate more on feature importance of the dataset and plot analysis to obtain more comprehensive understanding of the dataset and selection of models and parameters to further boost the accuracy of the model.Also, I may consider more on collection of more recent data"
   ]
  },
  {
   "cell_type": "markdown",
   "id": "3befb640",
   "metadata": {
    "id": "3befb640"
   },
   "source": [
    "Please write your answer in this cell."
   ]
  },
  {
   "cell_type": "markdown",
   "id": "31268346",
   "metadata": {
    "id": "31268346"
   },
   "source": [
    "<h1>TurnItIn</h1>\n",
    "<br>\n",
    "<font size=\"+1\">\n",
    "    <ul>\n",
    "        <li>Submit this to TurnItIn on Blackboard -> Assignments.</li>\n",
    "        <br>\n",
    "        <li><b>Please double check your submission on TurnItIn (perhaps log out and log in to make sure your solution is loaded as you want it) as it will be very difficult to make any grading adjustments after submission.</b></li>\n",
    "        <br>\n",
    "        <li>Be sure to save your work on your computer in case anything goes wrong!</li>\n",
    "        <br>\n",
    "    </ul>\n",
    "</font>"
   ]
  },
  {
   "cell_type": "markdown",
   "id": "6e5523ba",
   "metadata": {
    "id": "6e5523ba"
   },
   "source": [
    "<hr style=\"border: 20px solid black\">"
   ]
  },
  {
   "cell_type": "markdown",
   "id": "393f3027",
   "metadata": {
    "id": "393f3027"
   },
   "source": [
    "#\n",
    "\n",
    "<h1>Miscellaneous: NOT NECESSARY TO KNOW, ONLY IF CURIOUS</h1>"
   ]
  },
  {
   "cell_type": "markdown",
   "id": "98721cd8",
   "metadata": {
    "id": "98721cd8"
   },
   "source": [
    "<h2>Model Risk Management - Zestimate</h2>\n",
    "<br>\n",
    "<font size=\"+1\">\n",
    "    <ul>\n",
    "        <li>If you are curious, the following articles explain what went wrong with Zillow, their Zestimate, and their i-Buying line of business in October/November 2021.</li>\n",
    "        <br>\n",
    "        <ul>\n",
    "        <li><a href=\"https://blog.fiddler.ai/2021/12/zillow-offers-a-case-for-model-risk-management/\">What went wrong with the Zestimate and Zillow's home buying business</a></li>\n",
    "    <br>\n",
    "    <li>\n",
    "    <a href=\"https://news.bloomberglaw.com/banking-law/matt-levines-money-stuff-the-computer-cant-buy-your-house-now\">Matt Levine's Money Stuff: Zillow Can't Buy Your House Right Now.</a>\n",
    "        </li>\n",
    "    <br>\n",
    "    <li><a href=\"https://news.bloomberglaw.com/banking-law/matt-levines-money-stuff-zillow-tried-to-make-less-money\">Matt Levine's Money Stuff: Zillow Tried to Make Less Money.</a></li>\n",
    "    <br>\n",
    "    <li>\n",
    "    <a href=\"https://news.bloomberglaw.com/banking-law/matt-levines-money-stuff-zillow-is-done-trading-houses\">Matt Levine's Money Stuff: Zillow is Done Trading Houses.</a></li>\n",
    "        <br>\n",
    "        <li><a href=\"https://www.wired.com/story/zillow-ibuyer-real-estate/\">Zillow i-Buyer Real Estate - Why Zillow Couldn’t Make Algorithmic House Pricing Work</a></li>\n",
    "        <br>\n",
    "        </ul>\n",
    "    </ul>\n",
    "</font>"
   ]
  }
 ],
 "metadata": {
  "colab": {
   "provenance": []
  },
  "hide_input": false,
  "kernelspec": {
   "display_name": "Python 3 (ipykernel)",
   "language": "python",
   "name": "python3"
  },
  "language_info": {
   "codemirror_mode": {
    "name": "ipython",
    "version": 3
   },
   "file_extension": ".py",
   "mimetype": "text/x-python",
   "name": "python",
   "nbconvert_exporter": "python",
   "pygments_lexer": "ipython3",
   "version": "3.9.7"
  },
  "toc": {
   "base_numbering": 1,
   "nav_menu": {},
   "number_sections": true,
   "sideBar": true,
   "skip_h1_title": false,
   "title_cell": "Table of Contents",
   "title_sidebar": "Contents",
   "toc_cell": true,
   "toc_position": {
    "height": "calc(100% - 180px)",
    "left": "10px",
    "top": "150px",
    "width": "282.995px"
   },
   "toc_section_display": true,
   "toc_window_display": true
  }
 },
 "nbformat": 4,
 "nbformat_minor": 5
}
