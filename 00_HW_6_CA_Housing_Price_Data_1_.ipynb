{
 "cells": [
  {
   "cell_type": "markdown",
   "id": "b43cefa8",
   "metadata": {
    "id": "b43cefa8",
    "toc": true
   },
   "source": [
    "<h1>Table of Contents<span class=\"tocSkip\"></span></h1>\n",
    "<div class=\"toc\"><ul class=\"toc-item\"><li><span><a href=\"#Instructions\" data-toc-modified-id=\"Instructions-1\"><span class=\"toc-item-num\">1&nbsp;&nbsp;</span>Instructions</a></span></li><li><span><a href=\"#Before-You-Begin\" data-toc-modified-id=\"Before-You-Begin-2\"><span class=\"toc-item-num\">2&nbsp;&nbsp;</span>Before You Begin</a></span></li><li><span><a href=\"#Imports\" data-toc-modified-id=\"Imports-3\"><span class=\"toc-item-num\">3&nbsp;&nbsp;</span>Imports</a></span></li><li><span><a href=\"#CA-Housing-Data-Extension\" data-toc-modified-id=\"CA-Housing-Data-Extension-4\"><span class=\"toc-item-num\">4&nbsp;&nbsp;</span>CA Housing Data Extension</a></span><ul class=\"toc-item\"><li><span><a href=\"#Repeat-the-housing-exercise-with-stratified-randomly-sampled-data,-compare-the-results-with-the-in-class-notebook.\" data-toc-modified-id=\"Repeat-the-housing-exercise-with-stratified-randomly-sampled-data,-compare-the-results-with-the-in-class-notebook.-4.1\"><span class=\"toc-item-num\">4.1&nbsp;&nbsp;</span>Repeat the housing exercise with stratified randomly sampled data, compare the results with the in-class notebook.</a></span></li><li><span><a href=\"#Try-a-support-vector-machine-regressor-(sklearn.svm.SVR)-with-different-hyperparameter-settings-using-a-grid-search.-Document-what-your-experiment-produces,-and-compare-to-in-class-results.\" data-toc-modified-id=\"Try-a-support-vector-machine-regressor-(sklearn.svm.SVR)-with-different-hyperparameter-settings-using-a-grid-search.-Document-what-your-experiment-produces,-and-compare-to-in-class-results.-4.2\"><span class=\"toc-item-num\">4.2&nbsp;&nbsp;</span>Try a <a href=\"https://scikit-learn.org/stable/modules/generated/sklearn.svm.SVR.html\" rel=\"nofollow\" target=\"_blank\">support vector machine regressor (sklearn.svm.SVR)</a> with different hyperparameter settings using a <a href=\"https://scikit-learn.org/stable/modules/generated/sklearn.model_selection.GridSearchCV.html\" rel=\"nofollow\" target=\"_blank\">grid search</a>. Document what your experiment produces, and compare to in-class results.</a></span></li></ul></li><li><span><a href=\"#Describe-the-Case-Study-Problem-and-Solution-As-If-You-Were-Talking-to-a-Hiring-Manager\" data-toc-modified-id=\"Describe-the-Case-Study-Problem-and-Solution-As-If-You-Were-Talking-to-a-Hiring-Manager-5\"><span class=\"toc-item-num\">5&nbsp;&nbsp;</span>Describe the Case Study Problem and Solution As If You Were Talking to a Hiring Manager</a></span></li><li><span><a href=\"#EXTRA-CREDIT:-Try-replacing-GridSearchCV-with-RandomizedSearchCV.-Does-this-make-a-difference?\" data-toc-modified-id=\"EXTRA-CREDIT:-Try-replacing-GridSearchCV-with-RandomizedSearchCV.-Does-this-make-a-difference?-6\"><span class=\"toc-item-num\">6&nbsp;&nbsp;</span>EXTRA CREDIT: Try replacing <i>GridSearchCV</i> with <i>RandomizedSearchCV</i>. Does this make a difference?</a></span></li><li><span><a href=\"#EXTRA-CREDIT:-Add-a-step-before-you-fit-your-model-to-select-only-the-most-important-predictor-variables.\" data-toc-modified-id=\"EXTRA-CREDIT:-Add-a-step-before-you-fit-your-model-to-select-only-the-most-important-predictor-variables.-7\"><span class=\"toc-item-num\">7&nbsp;&nbsp;</span>EXTRA CREDIT: Add a step before you fit your model to select only the most important predictor variables.</a></span></li></ul></div>"
   ]
  },
  {
   "cell_type": "markdown",
   "id": "e9fe1c8e",
   "metadata": {
    "id": "e9fe1c8e"
   },
   "source": [
    "<hr style=\"border: 20px solid black\">"
   ]
  },
  {
   "cell_type": "markdown",
   "id": "b9999457",
   "metadata": {
    "id": "b9999457"
   },
   "source": [
    "<h1>Instructions</h1>\n",
    "<br>\n",
    "<font size=\"+1\">\n",
    "    <ul>\n",
    "        <li>These questions are meant for you to explore different machine learning techniques.</li>\n",
    "        <br>\n",
    "        <li>The questions are challenging! If you give a good effort you will learn a lot! </li>\n",
    "        <br>\n",
    "        <li>See if you can find anything interesting and comment your results to the best of your ability.</li>\n",
    "        <br>\n",
    "        <li>The last two questions are for extra credit.</li>\n",
    "        <br>\n",
    "        <li style=\"color:red\">Submit the <i>.ipynb</i> file on TurnItIn on Blackboard by the deadline. Be sure to refresh the page and double check your submission actually went through.</li>\n",
    "            <br>\n",
    "            <ul style=\"color:red\">\n",
    "            <li>Do your best to make sure that I will be able to run it.</li>\n",
    "        <br>\n",
    "        <li>For example, read in the CSV files from the current directory. I.e., do not write the full path of the file in your code. That will allow me to run your notebook in any directory on my own PC.</li>\n",
    "        <br>\n",
    "        <li>Please use markdown cells to help me understand what you are doing. (I know it may be obvious, but I want to see that you know how to use markdown.)</li>\n",
    "        <br>\n",
    "        <li><b>Some of the questions may be vague, you can either ask me for clarification, or clearly explain your interpretation to the question and your solution to your interpretation</b>. Remember, an important part of being a data scientist is communication and soft skills, so take this as an opportunity to exercise those skills.</li>\n",
    "        <br>\n",
    "            </ul>\n",
    "        </ul>\n",
    "        <br>\n",
    "        <hr style=\"border: 10px solid black\">\n",
    "        <br>\n",
    "        <li><b>Grading</b></li>\n",
    "        <br>\n",
    "        <li>There are four possible scores you can get from submitting this assignment on time (submitting a blank file or one without any apparent effort does not count). Note that the rubric is designed to incentivize you to go for $100\\%$ mastery of the material, as the little details matter in programming.</li>\n",
    "        <br>\n",
    "        <ul>\n",
    "            <li>Grade of $5$ out of $5$ - perfect submission with no significant errors</li>\n",
    "            <br>\n",
    "            <li>Grade of $4$ out of $5$ - near perfect submission with one or more significant errors</li>\n",
    "            <br>\n",
    "            <li>Grade of $2$ out of $5$ - apparent effort but far from perfect</li>\n",
    "            <br>\n",
    "            <li>Grade of $0$ out of $5$ - no submission or no apparent effort</li>\n",
    "            <br>\n",
    "        </ul>\n",
    "    </ul>\n",
    "</font>\n",
    "    </ul>\n",
    "</font>"
   ]
  },
  {
   "cell_type": "markdown",
   "id": "0fb4a4c0",
   "metadata": {
    "id": "0fb4a4c0"
   },
   "source": [
    "<hr style=\"border: 20px solid black\">"
   ]
  },
  {
   "cell_type": "markdown",
   "id": "4a57d36f",
   "metadata": {
    "id": "4a57d36f"
   },
   "source": [
    "<h1>Before You Begin</h1>\n",
    "<br>\n",
    "<font size=\"+1\">\n",
    "    <ul>\n",
    "        <li>Please read: <b>01_California_Housing_Price_Prediction.ipynb</b></li>\n",
    "        <br>\n",
    "    </ul>\n",
    "</font>"
   ]
  },
  {
   "cell_type": "markdown",
   "id": "53e2370d",
   "metadata": {
    "id": "53e2370d"
   },
   "source": [
    "<hr style=\"border: 20px solid black\">"
   ]
  },
  {
   "cell_type": "markdown",
   "id": "795fb4c0",
   "metadata": {
    "id": "795fb4c0"
   },
   "source": [
    "<h1>Imports</h1>"
   ]
  },
  {
   "cell_type": "code",
   "execution_count": 1,
   "id": "df3efad0",
   "metadata": {
    "id": "df3efad0"
   },
   "outputs": [],
   "source": [
    "import os \n",
    "import time\n",
    "\n",
    "import numpy as np\n",
    "import pandas as pd\n",
    "import matplotlib.pyplot as plt\n",
    "plt.style.use('ggplot')\n",
    "\n",
    "##############################################\n",
    "##############################################\n",
    "from sklearn.model_selection import train_test_split\n",
    "from sklearn.model_selection import StratifiedShuffleSplit"
   ]
  },
  {
   "cell_type": "markdown",
   "id": "9625aa0e",
   "metadata": {
    "id": "9625aa0e"
   },
   "source": [
    "<hr style=\"border: 20px solid black\">"
   ]
  },
  {
   "cell_type": "markdown",
   "id": "f28901eb",
   "metadata": {
    "id": "f28901eb"
   },
   "source": [
    "<h1>CA Housing Data Extension</h1>"
   ]
  },
  {
   "cell_type": "markdown",
   "id": "881ce867",
   "metadata": {
    "id": "881ce867"
   },
   "source": [
    "<h2>Repeat the housing exercise with stratified randomly sampled data, compare the results with the in-class notebook.</h2>"
   ]
  },
  {
   "cell_type": "code",
   "execution_count": 2,
   "id": "cc597abd",
   "metadata": {
    "id": "cc597abd"
   },
   "outputs": [
    {
     "data": {
      "text/plain": [
       "['.anaconda',\n",
       " '.conda',\n",
       " '.condarc',\n",
       " '.continuum',\n",
       " '.ipynb_checkpoints',\n",
       " '.ipython',\n",
       " '.jupyter',\n",
       " '.matplotlib',\n",
       " '.Origin',\n",
       " '.QtWebEngineProcess',\n",
       " '00_HW_3_Basic_Pandas_Slicing_Operations_MultiIndexing.ipynb',\n",
       " '00_HW_4_Pandas_Aggregation_Grouping_Combining.ipynb',\n",
       " '00_HW_5_Scikit_Learn_Tutorial.ipynb',\n",
       " '00_HW_6_CA_Housing_Price_Data.ipynb',\n",
       " '3D Objects',\n",
       " 'ansel',\n",
       " 'AppData',\n",
       " 'Application Data',\n",
       " 'BurnMint.csv',\n",
       " 'Contacts',\n",
       " 'Cookies',\n",
       " 'DAI-ETH.csv',\n",
       " 'Data',\n",
       " 'Documents',\n",
       " 'Downloads',\n",
       " 'ETH-USDT.csv',\n",
       " 'Favorites',\n",
       " 'fe.ipynb',\n",
       " 'housing.csv',\n",
       " 'HW3',\n",
       " 'Links',\n",
       " 'Local Settings',\n",
       " 'Music',\n",
       " 'My Documents',\n",
       " 'NetHood',\n",
       " 'NTUSER.DAT',\n",
       " 'ntuser.dat.LOG1',\n",
       " 'ntuser.dat.LOG2',\n",
       " 'NTUSER.DAT{4d3ff5ae-4512-11ed-9b21-a0b55b733b40}.TM.blf',\n",
       " 'NTUSER.DAT{4d3ff5ae-4512-11ed-9b21-a0b55b733b40}.TMContainer00000000000000000001.regtrans-ms',\n",
       " 'NTUSER.DAT{4d3ff5ae-4512-11ed-9b21-a0b55b733b40}.TMContainer00000000000000000002.regtrans-ms',\n",
       " 'ntuser.ini',\n",
       " 'OneDrive',\n",
       " 'PrintHood',\n",
       " 'PycharmProjects',\n",
       " 'Recent',\n",
       " 'Saved Games',\n",
       " 'Searches',\n",
       " 'SendTo',\n",
       " 'Start Menu',\n",
       " 'Swaps.csv',\n",
       " 'Templates',\n",
       " 'test.parquet',\n",
       " 'train.parquet',\n",
       " 'UNI-ETH.csv',\n",
       " 'USDC-ETH.csv',\n",
       " 'Videos',\n",
       " 'WBTC-ETH.csv']"
      ]
     },
     "execution_count": 2,
     "metadata": {},
     "output_type": "execute_result"
    }
   ],
   "source": [
    "os.listdir()"
   ]
  },
  {
   "cell_type": "code",
   "execution_count": 3,
   "id": "e38628dd",
   "metadata": {
    "id": "e38628dd"
   },
   "outputs": [],
   "source": [
    "housing_path = os.path.join(os.getcwd(),'housing.csv')\n",
    "\n",
    "housing = pd.read_csv(housing_path)"
   ]
  },
  {
   "cell_type": "code",
   "execution_count": 4,
   "id": "4a8776f2",
   "metadata": {
    "id": "4a8776f2"
   },
   "outputs": [
    {
     "data": {
      "text/html": [
       "<div>\n",
       "<style scoped>\n",
       "    .dataframe tbody tr th:only-of-type {\n",
       "        vertical-align: middle;\n",
       "    }\n",
       "\n",
       "    .dataframe tbody tr th {\n",
       "        vertical-align: top;\n",
       "    }\n",
       "\n",
       "    .dataframe thead th {\n",
       "        text-align: right;\n",
       "    }\n",
       "</style>\n",
       "<table border=\"1\" class=\"dataframe\">\n",
       "  <thead>\n",
       "    <tr style=\"text-align: right;\">\n",
       "      <th></th>\n",
       "      <th>longitude</th>\n",
       "      <th>latitude</th>\n",
       "      <th>housing_median_age</th>\n",
       "      <th>total_rooms</th>\n",
       "      <th>total_bedrooms</th>\n",
       "      <th>population</th>\n",
       "      <th>households</th>\n",
       "      <th>median_income</th>\n",
       "      <th>median_house_value</th>\n",
       "      <th>ocean_proximity</th>\n",
       "    </tr>\n",
       "  </thead>\n",
       "  <tbody>\n",
       "    <tr>\n",
       "      <th>0</th>\n",
       "      <td>-122.23</td>\n",
       "      <td>37.88</td>\n",
       "      <td>41.0</td>\n",
       "      <td>880.0</td>\n",
       "      <td>129.0</td>\n",
       "      <td>322.0</td>\n",
       "      <td>126.0</td>\n",
       "      <td>8.3252</td>\n",
       "      <td>452600.0</td>\n",
       "      <td>NEAR BAY</td>\n",
       "    </tr>\n",
       "    <tr>\n",
       "      <th>1</th>\n",
       "      <td>-122.22</td>\n",
       "      <td>37.86</td>\n",
       "      <td>21.0</td>\n",
       "      <td>7099.0</td>\n",
       "      <td>1106.0</td>\n",
       "      <td>2401.0</td>\n",
       "      <td>1138.0</td>\n",
       "      <td>8.3014</td>\n",
       "      <td>358500.0</td>\n",
       "      <td>NEAR BAY</td>\n",
       "    </tr>\n",
       "    <tr>\n",
       "      <th>2</th>\n",
       "      <td>-122.24</td>\n",
       "      <td>37.85</td>\n",
       "      <td>52.0</td>\n",
       "      <td>1467.0</td>\n",
       "      <td>190.0</td>\n",
       "      <td>496.0</td>\n",
       "      <td>177.0</td>\n",
       "      <td>7.2574</td>\n",
       "      <td>352100.0</td>\n",
       "      <td>NEAR BAY</td>\n",
       "    </tr>\n",
       "    <tr>\n",
       "      <th>3</th>\n",
       "      <td>-122.25</td>\n",
       "      <td>37.85</td>\n",
       "      <td>52.0</td>\n",
       "      <td>1274.0</td>\n",
       "      <td>235.0</td>\n",
       "      <td>558.0</td>\n",
       "      <td>219.0</td>\n",
       "      <td>5.6431</td>\n",
       "      <td>341300.0</td>\n",
       "      <td>NEAR BAY</td>\n",
       "    </tr>\n",
       "    <tr>\n",
       "      <th>4</th>\n",
       "      <td>-122.25</td>\n",
       "      <td>37.85</td>\n",
       "      <td>52.0</td>\n",
       "      <td>1627.0</td>\n",
       "      <td>280.0</td>\n",
       "      <td>565.0</td>\n",
       "      <td>259.0</td>\n",
       "      <td>3.8462</td>\n",
       "      <td>342200.0</td>\n",
       "      <td>NEAR BAY</td>\n",
       "    </tr>\n",
       "  </tbody>\n",
       "</table>\n",
       "</div>"
      ],
      "text/plain": [
       "   longitude  latitude  housing_median_age  total_rooms  total_bedrooms  \\\n",
       "0    -122.23     37.88                41.0        880.0           129.0   \n",
       "1    -122.22     37.86                21.0       7099.0          1106.0   \n",
       "2    -122.24     37.85                52.0       1467.0           190.0   \n",
       "3    -122.25     37.85                52.0       1274.0           235.0   \n",
       "4    -122.25     37.85                52.0       1627.0           280.0   \n",
       "\n",
       "   population  households  median_income  median_house_value ocean_proximity  \n",
       "0       322.0       126.0         8.3252            452600.0        NEAR BAY  \n",
       "1      2401.0      1138.0         8.3014            358500.0        NEAR BAY  \n",
       "2       496.0       177.0         7.2574            352100.0        NEAR BAY  \n",
       "3       558.0       219.0         5.6431            341300.0        NEAR BAY  \n",
       "4       565.0       259.0         3.8462            342200.0        NEAR BAY  "
      ]
     },
     "execution_count": 4,
     "metadata": {},
     "output_type": "execute_result"
    }
   ],
   "source": [
    "housing.head()"
   ]
  },
  {
   "cell_type": "code",
   "execution_count": 5,
   "id": "e0e225ac",
   "metadata": {
    "id": "e0e225ac"
   },
   "outputs": [],
   "source": [
    "from sklearn.model_selection import train_test_split\n",
    "\n",
    "train_set, test_set = train_test_split(housing, test_size=0.2, random_state=42)"
   ]
  },
  {
   "cell_type": "code",
   "execution_count": 6,
   "id": "fdd66219",
   "metadata": {},
   "outputs": [],
   "source": [
    "housing.loc[:,'income_category'] = \\\n",
    "pd.cut(housing.loc[:,'median_income'],\n",
    "      bins=[0, 1.5, 3.0, 4.5, 6.0, np.inf],\n",
    "      labels=range(1,6))"
   ]
  },
  {
   "cell_type": "code",
   "execution_count": 7,
   "id": "b32a952a",
   "metadata": {
    "id": "b32a952a"
   },
   "outputs": [
    {
     "name": "stdout",
     "output_type": "stream",
     "text": [
      "[17606 18632 14650 ... 13908 11159 15775] [ 5241 10970 20351 ...  4019 12107  2398]\n"
     ]
    }
   ],
   "source": [
    "# Now we can do stratified random sampling based on the income category\n",
    "\n",
    "# Provides train/test indices to split data in train/test sets.'\n",
    "\n",
    "# This cross-validation object is a merge of StratifiedKFold and\n",
    "# ShuffleSplit, which returns stratified randomized folds. The folds\n",
    "# are made by preserving the percentage of samples for each class.\n",
    "\n",
    "from sklearn.model_selection import StratifiedShuffleSplit\n",
    "\n",
    "# create the splitter object\n",
    "split = StratifiedShuffleSplit(n_splits=1, test_size=0.2, random_state=42)\n",
    "\n",
    "for train_index, test_index in split.split(housing, housing.loc[:,'income_category']):\n",
    "    print(train_index, test_index)\n",
    "    strat_train_set = housing.loc[train_index, :]\n",
    "    strat_test_set = housing.loc[test_index, :]"
   ]
  },
  {
   "cell_type": "code",
   "execution_count": 8,
   "id": "5ad90a81",
   "metadata": {},
   "outputs": [
    {
     "data": {
      "text/html": [
       "<div>\n",
       "<style scoped>\n",
       "    .dataframe tbody tr th:only-of-type {\n",
       "        vertical-align: middle;\n",
       "    }\n",
       "\n",
       "    .dataframe tbody tr th {\n",
       "        vertical-align: top;\n",
       "    }\n",
       "\n",
       "    .dataframe thead th {\n",
       "        text-align: right;\n",
       "    }\n",
       "</style>\n",
       "<table border=\"1\" class=\"dataframe\">\n",
       "  <thead>\n",
       "    <tr style=\"text-align: right;\">\n",
       "      <th></th>\n",
       "      <th>longitude</th>\n",
       "      <th>latitude</th>\n",
       "      <th>housing_median_age</th>\n",
       "      <th>total_rooms</th>\n",
       "      <th>total_bedrooms</th>\n",
       "      <th>population</th>\n",
       "      <th>households</th>\n",
       "      <th>median_income</th>\n",
       "      <th>median_house_value</th>\n",
       "      <th>ocean_proximity</th>\n",
       "      <th>income_category</th>\n",
       "    </tr>\n",
       "  </thead>\n",
       "  <tbody>\n",
       "    <tr>\n",
       "      <th>17606</th>\n",
       "      <td>-121.89</td>\n",
       "      <td>37.29</td>\n",
       "      <td>38.0</td>\n",
       "      <td>1568.0</td>\n",
       "      <td>351.0</td>\n",
       "      <td>710.0</td>\n",
       "      <td>339.0</td>\n",
       "      <td>2.7042</td>\n",
       "      <td>286600.0</td>\n",
       "      <td>&lt;1H OCEAN</td>\n",
       "      <td>2</td>\n",
       "    </tr>\n",
       "    <tr>\n",
       "      <th>18632</th>\n",
       "      <td>-121.93</td>\n",
       "      <td>37.05</td>\n",
       "      <td>14.0</td>\n",
       "      <td>679.0</td>\n",
       "      <td>108.0</td>\n",
       "      <td>306.0</td>\n",
       "      <td>113.0</td>\n",
       "      <td>6.4214</td>\n",
       "      <td>340600.0</td>\n",
       "      <td>&lt;1H OCEAN</td>\n",
       "      <td>5</td>\n",
       "    </tr>\n",
       "    <tr>\n",
       "      <th>14650</th>\n",
       "      <td>-117.20</td>\n",
       "      <td>32.77</td>\n",
       "      <td>31.0</td>\n",
       "      <td>1952.0</td>\n",
       "      <td>471.0</td>\n",
       "      <td>936.0</td>\n",
       "      <td>462.0</td>\n",
       "      <td>2.8621</td>\n",
       "      <td>196900.0</td>\n",
       "      <td>NEAR OCEAN</td>\n",
       "      <td>2</td>\n",
       "    </tr>\n",
       "    <tr>\n",
       "      <th>3230</th>\n",
       "      <td>-119.61</td>\n",
       "      <td>36.31</td>\n",
       "      <td>25.0</td>\n",
       "      <td>1847.0</td>\n",
       "      <td>371.0</td>\n",
       "      <td>1460.0</td>\n",
       "      <td>353.0</td>\n",
       "      <td>1.8839</td>\n",
       "      <td>46300.0</td>\n",
       "      <td>INLAND</td>\n",
       "      <td>2</td>\n",
       "    </tr>\n",
       "    <tr>\n",
       "      <th>3555</th>\n",
       "      <td>-118.59</td>\n",
       "      <td>34.23</td>\n",
       "      <td>17.0</td>\n",
       "      <td>6592.0</td>\n",
       "      <td>1525.0</td>\n",
       "      <td>4459.0</td>\n",
       "      <td>1463.0</td>\n",
       "      <td>3.0347</td>\n",
       "      <td>254500.0</td>\n",
       "      <td>&lt;1H OCEAN</td>\n",
       "      <td>3</td>\n",
       "    </tr>\n",
       "    <tr>\n",
       "      <th>...</th>\n",
       "      <td>...</td>\n",
       "      <td>...</td>\n",
       "      <td>...</td>\n",
       "      <td>...</td>\n",
       "      <td>...</td>\n",
       "      <td>...</td>\n",
       "      <td>...</td>\n",
       "      <td>...</td>\n",
       "      <td>...</td>\n",
       "      <td>...</td>\n",
       "      <td>...</td>\n",
       "    </tr>\n",
       "    <tr>\n",
       "      <th>6563</th>\n",
       "      <td>-118.13</td>\n",
       "      <td>34.20</td>\n",
       "      <td>46.0</td>\n",
       "      <td>1271.0</td>\n",
       "      <td>236.0</td>\n",
       "      <td>573.0</td>\n",
       "      <td>210.0</td>\n",
       "      <td>4.9312</td>\n",
       "      <td>240200.0</td>\n",
       "      <td>INLAND</td>\n",
       "      <td>4</td>\n",
       "    </tr>\n",
       "    <tr>\n",
       "      <th>12053</th>\n",
       "      <td>-117.56</td>\n",
       "      <td>33.88</td>\n",
       "      <td>40.0</td>\n",
       "      <td>1196.0</td>\n",
       "      <td>294.0</td>\n",
       "      <td>1052.0</td>\n",
       "      <td>258.0</td>\n",
       "      <td>2.0682</td>\n",
       "      <td>113000.0</td>\n",
       "      <td>INLAND</td>\n",
       "      <td>2</td>\n",
       "    </tr>\n",
       "    <tr>\n",
       "      <th>13908</th>\n",
       "      <td>-116.40</td>\n",
       "      <td>34.09</td>\n",
       "      <td>9.0</td>\n",
       "      <td>4855.0</td>\n",
       "      <td>872.0</td>\n",
       "      <td>2098.0</td>\n",
       "      <td>765.0</td>\n",
       "      <td>3.2723</td>\n",
       "      <td>97800.0</td>\n",
       "      <td>INLAND</td>\n",
       "      <td>3</td>\n",
       "    </tr>\n",
       "    <tr>\n",
       "      <th>11159</th>\n",
       "      <td>-118.01</td>\n",
       "      <td>33.82</td>\n",
       "      <td>31.0</td>\n",
       "      <td>1960.0</td>\n",
       "      <td>380.0</td>\n",
       "      <td>1356.0</td>\n",
       "      <td>356.0</td>\n",
       "      <td>4.0625</td>\n",
       "      <td>225900.0</td>\n",
       "      <td>&lt;1H OCEAN</td>\n",
       "      <td>3</td>\n",
       "    </tr>\n",
       "    <tr>\n",
       "      <th>15775</th>\n",
       "      <td>-122.45</td>\n",
       "      <td>37.77</td>\n",
       "      <td>52.0</td>\n",
       "      <td>3095.0</td>\n",
       "      <td>682.0</td>\n",
       "      <td>1269.0</td>\n",
       "      <td>639.0</td>\n",
       "      <td>3.5750</td>\n",
       "      <td>500001.0</td>\n",
       "      <td>NEAR BAY</td>\n",
       "      <td>3</td>\n",
       "    </tr>\n",
       "  </tbody>\n",
       "</table>\n",
       "<p>16512 rows × 11 columns</p>\n",
       "</div>"
      ],
      "text/plain": [
       "       longitude  latitude  housing_median_age  total_rooms  total_bedrooms  \\\n",
       "17606    -121.89     37.29                38.0       1568.0           351.0   \n",
       "18632    -121.93     37.05                14.0        679.0           108.0   \n",
       "14650    -117.20     32.77                31.0       1952.0           471.0   \n",
       "3230     -119.61     36.31                25.0       1847.0           371.0   \n",
       "3555     -118.59     34.23                17.0       6592.0          1525.0   \n",
       "...          ...       ...                 ...          ...             ...   \n",
       "6563     -118.13     34.20                46.0       1271.0           236.0   \n",
       "12053    -117.56     33.88                40.0       1196.0           294.0   \n",
       "13908    -116.40     34.09                 9.0       4855.0           872.0   \n",
       "11159    -118.01     33.82                31.0       1960.0           380.0   \n",
       "15775    -122.45     37.77                52.0       3095.0           682.0   \n",
       "\n",
       "       population  households  median_income  median_house_value  \\\n",
       "17606       710.0       339.0         2.7042            286600.0   \n",
       "18632       306.0       113.0         6.4214            340600.0   \n",
       "14650       936.0       462.0         2.8621            196900.0   \n",
       "3230       1460.0       353.0         1.8839             46300.0   \n",
       "3555       4459.0      1463.0         3.0347            254500.0   \n",
       "...           ...         ...            ...                 ...   \n",
       "6563        573.0       210.0         4.9312            240200.0   \n",
       "12053      1052.0       258.0         2.0682            113000.0   \n",
       "13908      2098.0       765.0         3.2723             97800.0   \n",
       "11159      1356.0       356.0         4.0625            225900.0   \n",
       "15775      1269.0       639.0         3.5750            500001.0   \n",
       "\n",
       "      ocean_proximity income_category  \n",
       "17606       <1H OCEAN               2  \n",
       "18632       <1H OCEAN               5  \n",
       "14650      NEAR OCEAN               2  \n",
       "3230           INLAND               2  \n",
       "3555        <1H OCEAN               3  \n",
       "...               ...             ...  \n",
       "6563           INLAND               4  \n",
       "12053          INLAND               2  \n",
       "13908          INLAND               3  \n",
       "11159       <1H OCEAN               3  \n",
       "15775        NEAR BAY               3  \n",
       "\n",
       "[16512 rows x 11 columns]"
      ]
     },
     "execution_count": 8,
     "metadata": {},
     "output_type": "execute_result"
    }
   ],
   "source": [
    "strat_train_set"
   ]
  },
  {
   "cell_type": "code",
   "execution_count": 9,
   "id": "daef196d",
   "metadata": {},
   "outputs": [
    {
     "data": {
      "text/html": [
       "<div>\n",
       "<style scoped>\n",
       "    .dataframe tbody tr th:only-of-type {\n",
       "        vertical-align: middle;\n",
       "    }\n",
       "\n",
       "    .dataframe tbody tr th {\n",
       "        vertical-align: top;\n",
       "    }\n",
       "\n",
       "    .dataframe thead th {\n",
       "        text-align: right;\n",
       "    }\n",
       "</style>\n",
       "<table border=\"1\" class=\"dataframe\">\n",
       "  <thead>\n",
       "    <tr style=\"text-align: right;\">\n",
       "      <th></th>\n",
       "      <th>longitude</th>\n",
       "      <th>latitude</th>\n",
       "      <th>housing_median_age</th>\n",
       "      <th>total_rooms</th>\n",
       "      <th>total_bedrooms</th>\n",
       "      <th>population</th>\n",
       "      <th>households</th>\n",
       "      <th>median_income</th>\n",
       "      <th>median_house_value</th>\n",
       "      <th>ocean_proximity</th>\n",
       "      <th>income_category</th>\n",
       "    </tr>\n",
       "  </thead>\n",
       "  <tbody>\n",
       "    <tr>\n",
       "      <th>5241</th>\n",
       "      <td>-118.39</td>\n",
       "      <td>34.12</td>\n",
       "      <td>29.0</td>\n",
       "      <td>6447.0</td>\n",
       "      <td>1012.0</td>\n",
       "      <td>2184.0</td>\n",
       "      <td>960.0</td>\n",
       "      <td>8.2816</td>\n",
       "      <td>500001.0</td>\n",
       "      <td>&lt;1H OCEAN</td>\n",
       "      <td>5</td>\n",
       "    </tr>\n",
       "    <tr>\n",
       "      <th>10970</th>\n",
       "      <td>-117.86</td>\n",
       "      <td>33.77</td>\n",
       "      <td>39.0</td>\n",
       "      <td>4159.0</td>\n",
       "      <td>655.0</td>\n",
       "      <td>1669.0</td>\n",
       "      <td>651.0</td>\n",
       "      <td>4.6111</td>\n",
       "      <td>240300.0</td>\n",
       "      <td>&lt;1H OCEAN</td>\n",
       "      <td>4</td>\n",
       "    </tr>\n",
       "    <tr>\n",
       "      <th>20351</th>\n",
       "      <td>-119.05</td>\n",
       "      <td>34.21</td>\n",
       "      <td>27.0</td>\n",
       "      <td>4357.0</td>\n",
       "      <td>926.0</td>\n",
       "      <td>2110.0</td>\n",
       "      <td>876.0</td>\n",
       "      <td>3.0119</td>\n",
       "      <td>218200.0</td>\n",
       "      <td>&lt;1H OCEAN</td>\n",
       "      <td>3</td>\n",
       "    </tr>\n",
       "    <tr>\n",
       "      <th>6568</th>\n",
       "      <td>-118.15</td>\n",
       "      <td>34.20</td>\n",
       "      <td>52.0</td>\n",
       "      <td>1786.0</td>\n",
       "      <td>306.0</td>\n",
       "      <td>1018.0</td>\n",
       "      <td>322.0</td>\n",
       "      <td>4.1518</td>\n",
       "      <td>182100.0</td>\n",
       "      <td>INLAND</td>\n",
       "      <td>3</td>\n",
       "    </tr>\n",
       "    <tr>\n",
       "      <th>13285</th>\n",
       "      <td>-117.68</td>\n",
       "      <td>34.07</td>\n",
       "      <td>32.0</td>\n",
       "      <td>1775.0</td>\n",
       "      <td>314.0</td>\n",
       "      <td>1067.0</td>\n",
       "      <td>302.0</td>\n",
       "      <td>4.0375</td>\n",
       "      <td>121300.0</td>\n",
       "      <td>INLAND</td>\n",
       "      <td>3</td>\n",
       "    </tr>\n",
       "    <tr>\n",
       "      <th>...</th>\n",
       "      <td>...</td>\n",
       "      <td>...</td>\n",
       "      <td>...</td>\n",
       "      <td>...</td>\n",
       "      <td>...</td>\n",
       "      <td>...</td>\n",
       "      <td>...</td>\n",
       "      <td>...</td>\n",
       "      <td>...</td>\n",
       "      <td>...</td>\n",
       "      <td>...</td>\n",
       "    </tr>\n",
       "    <tr>\n",
       "      <th>20519</th>\n",
       "      <td>-121.53</td>\n",
       "      <td>38.58</td>\n",
       "      <td>33.0</td>\n",
       "      <td>4988.0</td>\n",
       "      <td>1169.0</td>\n",
       "      <td>2414.0</td>\n",
       "      <td>1075.0</td>\n",
       "      <td>1.9728</td>\n",
       "      <td>76400.0</td>\n",
       "      <td>INLAND</td>\n",
       "      <td>2</td>\n",
       "    </tr>\n",
       "    <tr>\n",
       "      <th>17430</th>\n",
       "      <td>-120.44</td>\n",
       "      <td>34.65</td>\n",
       "      <td>30.0</td>\n",
       "      <td>2265.0</td>\n",
       "      <td>512.0</td>\n",
       "      <td>1402.0</td>\n",
       "      <td>471.0</td>\n",
       "      <td>1.9750</td>\n",
       "      <td>134000.0</td>\n",
       "      <td>NEAR OCEAN</td>\n",
       "      <td>2</td>\n",
       "    </tr>\n",
       "    <tr>\n",
       "      <th>4019</th>\n",
       "      <td>-118.49</td>\n",
       "      <td>34.18</td>\n",
       "      <td>31.0</td>\n",
       "      <td>3073.0</td>\n",
       "      <td>674.0</td>\n",
       "      <td>1486.0</td>\n",
       "      <td>684.0</td>\n",
       "      <td>4.8984</td>\n",
       "      <td>311700.0</td>\n",
       "      <td>&lt;1H OCEAN</td>\n",
       "      <td>4</td>\n",
       "    </tr>\n",
       "    <tr>\n",
       "      <th>12107</th>\n",
       "      <td>-117.32</td>\n",
       "      <td>33.99</td>\n",
       "      <td>27.0</td>\n",
       "      <td>5464.0</td>\n",
       "      <td>850.0</td>\n",
       "      <td>2400.0</td>\n",
       "      <td>836.0</td>\n",
       "      <td>4.7110</td>\n",
       "      <td>133500.0</td>\n",
       "      <td>INLAND</td>\n",
       "      <td>4</td>\n",
       "    </tr>\n",
       "    <tr>\n",
       "      <th>2398</th>\n",
       "      <td>-118.91</td>\n",
       "      <td>36.79</td>\n",
       "      <td>19.0</td>\n",
       "      <td>1616.0</td>\n",
       "      <td>324.0</td>\n",
       "      <td>187.0</td>\n",
       "      <td>80.0</td>\n",
       "      <td>3.7857</td>\n",
       "      <td>78600.0</td>\n",
       "      <td>INLAND</td>\n",
       "      <td>3</td>\n",
       "    </tr>\n",
       "  </tbody>\n",
       "</table>\n",
       "<p>4128 rows × 11 columns</p>\n",
       "</div>"
      ],
      "text/plain": [
       "       longitude  latitude  housing_median_age  total_rooms  total_bedrooms  \\\n",
       "5241     -118.39     34.12                29.0       6447.0          1012.0   \n",
       "10970    -117.86     33.77                39.0       4159.0           655.0   \n",
       "20351    -119.05     34.21                27.0       4357.0           926.0   \n",
       "6568     -118.15     34.20                52.0       1786.0           306.0   \n",
       "13285    -117.68     34.07                32.0       1775.0           314.0   \n",
       "...          ...       ...                 ...          ...             ...   \n",
       "20519    -121.53     38.58                33.0       4988.0          1169.0   \n",
       "17430    -120.44     34.65                30.0       2265.0           512.0   \n",
       "4019     -118.49     34.18                31.0       3073.0           674.0   \n",
       "12107    -117.32     33.99                27.0       5464.0           850.0   \n",
       "2398     -118.91     36.79                19.0       1616.0           324.0   \n",
       "\n",
       "       population  households  median_income  median_house_value  \\\n",
       "5241       2184.0       960.0         8.2816            500001.0   \n",
       "10970      1669.0       651.0         4.6111            240300.0   \n",
       "20351      2110.0       876.0         3.0119            218200.0   \n",
       "6568       1018.0       322.0         4.1518            182100.0   \n",
       "13285      1067.0       302.0         4.0375            121300.0   \n",
       "...           ...         ...            ...                 ...   \n",
       "20519      2414.0      1075.0         1.9728             76400.0   \n",
       "17430      1402.0       471.0         1.9750            134000.0   \n",
       "4019       1486.0       684.0         4.8984            311700.0   \n",
       "12107      2400.0       836.0         4.7110            133500.0   \n",
       "2398        187.0        80.0         3.7857             78600.0   \n",
       "\n",
       "      ocean_proximity income_category  \n",
       "5241        <1H OCEAN               5  \n",
       "10970       <1H OCEAN               4  \n",
       "20351       <1H OCEAN               3  \n",
       "6568           INLAND               3  \n",
       "13285          INLAND               3  \n",
       "...               ...             ...  \n",
       "20519          INLAND               2  \n",
       "17430      NEAR OCEAN               2  \n",
       "4019        <1H OCEAN               4  \n",
       "12107          INLAND               4  \n",
       "2398           INLAND               3  \n",
       "\n",
       "[4128 rows x 11 columns]"
      ]
     },
     "execution_count": 9,
     "metadata": {},
     "output_type": "execute_result"
    }
   ],
   "source": [
    "strat_test_set"
   ]
  },
  {
   "cell_type": "code",
   "execution_count": 10,
   "id": "d0e5e44d",
   "metadata": {},
   "outputs": [
    {
     "data": {
      "text/plain": [
       "1    0.039729\n",
       "2    0.318798\n",
       "3    0.350533\n",
       "4    0.176357\n",
       "5    0.114583\n",
       "Name: income_category, dtype: float64"
      ]
     },
     "execution_count": 10,
     "metadata": {},
     "output_type": "execute_result"
    }
   ],
   "source": [
    "(strat_test_set.loc[:,'income_category'].value_counts() / len(strat_test_set)).sort_index()"
   ]
  },
  {
   "cell_type": "code",
   "execution_count": 11,
   "id": "2620f2a3",
   "metadata": {},
   "outputs": [
    {
     "data": {
      "text/plain": [
       "1    0.039826\n",
       "2    0.318847\n",
       "3    0.350581\n",
       "4    0.176308\n",
       "5    0.114438\n",
       "Name: income_category, dtype: float64"
      ]
     },
     "execution_count": 11,
     "metadata": {},
     "output_type": "execute_result"
    }
   ],
   "source": [
    "(housing.loc[:,'income_category'].value_counts() / len(housing)).sort_index()"
   ]
  },
  {
   "cell_type": "code",
   "execution_count": 12,
   "id": "d8aafb0f",
   "metadata": {},
   "outputs": [
    {
     "data": {
      "text/plain": [
       "1    0.040213\n",
       "2    0.324370\n",
       "3    0.358527\n",
       "4    0.167393\n",
       "5    0.109496\n",
       "Name: income_category, dtype: float64"
      ]
     },
     "execution_count": 12,
     "metadata": {},
     "output_type": "execute_result"
    }
   ],
   "source": [
    "train_set, test_set = train_test_split(housing, test_size=0.2, random_state=42)\n",
    "\n",
    "(test_set.loc[:,'income_category'].value_counts() / len(test_set)).sort_index()"
   ]
  },
  {
   "cell_type": "code",
   "execution_count": 13,
   "id": "2d65e737",
   "metadata": {},
   "outputs": [
    {
     "data": {
      "text/html": [
       "<div>\n",
       "<style scoped>\n",
       "    .dataframe tbody tr th:only-of-type {\n",
       "        vertical-align: middle;\n",
       "    }\n",
       "\n",
       "    .dataframe tbody tr th {\n",
       "        vertical-align: top;\n",
       "    }\n",
       "\n",
       "    .dataframe thead th {\n",
       "        text-align: right;\n",
       "    }\n",
       "</style>\n",
       "<table border=\"1\" class=\"dataframe\">\n",
       "  <thead>\n",
       "    <tr style=\"text-align: right;\">\n",
       "      <th></th>\n",
       "      <th>full_data_set</th>\n",
       "      <th>strat_test_set</th>\n",
       "      <th>random_test_set</th>\n",
       "    </tr>\n",
       "  </thead>\n",
       "  <tbody>\n",
       "    <tr>\n",
       "      <th>1</th>\n",
       "      <td>0.039826</td>\n",
       "      <td>0.039729</td>\n",
       "      <td>0.040213</td>\n",
       "    </tr>\n",
       "    <tr>\n",
       "      <th>2</th>\n",
       "      <td>0.318847</td>\n",
       "      <td>0.318798</td>\n",
       "      <td>0.324370</td>\n",
       "    </tr>\n",
       "    <tr>\n",
       "      <th>3</th>\n",
       "      <td>0.350581</td>\n",
       "      <td>0.350533</td>\n",
       "      <td>0.358527</td>\n",
       "    </tr>\n",
       "    <tr>\n",
       "      <th>4</th>\n",
       "      <td>0.176308</td>\n",
       "      <td>0.176357</td>\n",
       "      <td>0.167393</td>\n",
       "    </tr>\n",
       "    <tr>\n",
       "      <th>5</th>\n",
       "      <td>0.114438</td>\n",
       "      <td>0.114583</td>\n",
       "      <td>0.109496</td>\n",
       "    </tr>\n",
       "  </tbody>\n",
       "</table>\n",
       "</div>"
      ],
      "text/plain": [
       "   full_data_set  strat_test_set  random_test_set\n",
       "1       0.039826        0.039729         0.040213\n",
       "2       0.318847        0.318798         0.324370\n",
       "3       0.350581        0.350533         0.358527\n",
       "4       0.176308        0.176357         0.167393\n",
       "5       0.114438        0.114583         0.109496"
      ]
     },
     "execution_count": 13,
     "metadata": {},
     "output_type": "execute_result"
    }
   ],
   "source": [
    "strat_test_set_percent = (strat_test_set.loc[:,'income_category'].value_counts() / len(strat_test_set))\\\n",
    "                        .sort_index()\\\n",
    "                        .rename('strat_test_set')\n",
    "\n",
    "full_data_set_percent = (housing.loc[:,'income_category'].value_counts() / len(housing))\\\n",
    "                        .sort_index()\\\n",
    "                        .rename('full_data_set')\n",
    "\n",
    "random_test_set_percent = (test_set.loc[:,'income_category'].value_counts() / len(test_set))\\\n",
    "                        .sort_index()\\\n",
    "                        .rename('random_test_set')\n",
    "\n",
    "percents = \\\n",
    "pd.concat([full_data_set_percent, \n",
    "           strat_test_set_percent, \n",
    "           random_test_set_percent], axis=1)\n",
    "\n",
    "percents"
   ]
  },
  {
   "cell_type": "markdown",
   "id": "2d955c66",
   "metadata": {
    "id": "2d955c66"
   },
   "source": [
    "<h2>Try a <a href=\"https://scikit-learn.org/stable/modules/generated/sklearn.svm.SVR.html\">support vector machine regressor (sklearn.svm.SVR)</a> with different hyperparameter settings using a <a href=\"https://scikit-learn.org/stable/modules/generated/sklearn.model_selection.GridSearchCV.html\">grid search</a>. Document what your experiment produces, and compare to in-class results.</h2>\n",
    "<br>\n",
    "<font size=\"+1\">\n",
    "    Such hyperparameter settings can include:\n",
    "    <br>\n",
    "    <ul>\n",
    "        <li>different settings for <i>kernel</i> such as <i>linear, rbf, sigmoid, etc.</i>;</li>\n",
    "        <br>\n",
    "        <li>different settings for the <i>C</i> and <i>gamma</i> hyperparameters.</li>\n",
    "        <br>\n",
    "    </ul>\n",
    "    Don't worry about what these hyperparameters mean for now.\n",
    "    <br>\n",
    "    <br>\n",
    "    <b style=\"color:red\">**Warning**: the code you might write may take close to 30 minutes to run, or more depending on your hardware and the number of different hyperparameters.</b>\n",
    "    <br>\n",
    "</font>"
   ]
  },
  {
   "cell_type": "code",
   "execution_count": 14,
   "id": "c12b76bf",
   "metadata": {},
   "outputs": [],
   "source": [
    "X_train = train_set.drop('median_house_value', axis=1)  # drop already creates a copy\n",
    "\n",
    "Y_train = train_set.loc[:,'median_house_value'].copy()"
   ]
  },
  {
   "cell_type": "code",
   "execution_count": 15,
   "id": "c2c3dc9c",
   "metadata": {
    "id": "c2c3dc9c"
   },
   "outputs": [],
   "source": [
    "X_train_numerical = X_train.iloc[:,:-1]\n",
    "X_train_categorical = X_train.iloc[:, -1]"
   ]
  },
  {
   "cell_type": "code",
   "execution_count": 16,
   "id": "4bf73880",
   "metadata": {
    "id": "4bf73880"
   },
   "outputs": [],
   "source": [
    "# Handling missing values\n",
    "\n",
    "median_train_set = X_train.loc[:,'total_bedrooms'].median()\n",
    "X_train_numerical.loc[:,'total_bedrooms'].fillna(median_train_set, inplace=True)"
   ]
  },
  {
   "cell_type": "code",
   "execution_count": 17,
   "id": "ea430446",
   "metadata": {
    "id": "ea430446"
   },
   "outputs": [],
   "source": [
    "# Creating the new variables\n",
    "\n",
    "X_train_numerical['rooms_per_household'] = X_train_numerical['total_rooms'] / X_train_numerical['households']\n",
    "\n",
    "X_train_numerical['bedrooms_per_room'] = X_train_numerical['total_bedrooms'] / X_train_numerical['total_rooms']\n",
    "\n",
    "X_train_numerical['population_per_household'] = X_train_numerical['population'] / X_train_numerical['households']"
   ]
  },
  {
   "cell_type": "code",
   "execution_count": 18,
   "id": "eb7ce8b1",
   "metadata": {
    "id": "eb7ce8b1"
   },
   "outputs": [
    {
     "name": "stderr",
     "output_type": "stream",
     "text": [
      "C:\\Users\\17969\\AppData\\Local\\Temp/ipykernel_19124/2917513078.py:3: FutureWarning: Dropping of nuisance columns in DataFrame reductions (with 'numeric_only=None') is deprecated; in a future version this will raise TypeError.  Select only valid columns before calling the reduction.\n",
      "  X_train_numerical_scaled = (X_train_numerical - X_train_numerical.mean()) / X_train_numerical.std()\n"
     ]
    }
   ],
   "source": [
    "# Putting all the numerical variables on the same scale\n",
    "\n",
    "X_train_numerical_scaled = (X_train_numerical - X_train_numerical.mean()) / X_train_numerical.std()"
   ]
  },
  {
   "cell_type": "code",
   "execution_count": 19,
   "id": "43868ba9",
   "metadata": {
    "id": "43868ba9"
   },
   "outputs": [],
   "source": [
    "# Handling categorical variable \n",
    "\n",
    "from sklearn.preprocessing import OneHotEncoder\n",
    "\n",
    "dummy_encoder = OneHotEncoder()\n",
    "\n",
    "ocean_proximity_dummy = dummy_encoder.fit_transform(X_train.loc[:, 'ocean_proximity'].values.reshape(-1,1))"
   ]
  },
  {
   "cell_type": "code",
   "execution_count": 20,
   "id": "27e40459",
   "metadata": {},
   "outputs": [],
   "source": [
    "X_train_cleaned = pd.concat([X_train_numerical_scaled.reset_index(drop=True), \n",
    "                     pd.DataFrame(ocean_proximity_dummy.toarray(), columns=dummy_encoder.categories_[0])],\n",
    "                    axis=1)"
   ]
  },
  {
   "cell_type": "code",
   "execution_count": 29,
   "id": "34b5a7db",
   "metadata": {},
   "outputs": [
    {
     "data": {
      "text/html": [
       "<div>\n",
       "<style scoped>\n",
       "    .dataframe tbody tr th:only-of-type {\n",
       "        vertical-align: middle;\n",
       "    }\n",
       "\n",
       "    .dataframe tbody tr th {\n",
       "        vertical-align: top;\n",
       "    }\n",
       "\n",
       "    .dataframe thead th {\n",
       "        text-align: right;\n",
       "    }\n",
       "</style>\n",
       "<table border=\"1\" class=\"dataframe\">\n",
       "  <thead>\n",
       "    <tr style=\"text-align: right;\">\n",
       "      <th></th>\n",
       "      <th>bedrooms_per_room</th>\n",
       "      <th>households</th>\n",
       "      <th>housing_median_age</th>\n",
       "      <th>latitude</th>\n",
       "      <th>longitude</th>\n",
       "      <th>median_income</th>\n",
       "      <th>population</th>\n",
       "      <th>population_per_household</th>\n",
       "      <th>rooms_per_household</th>\n",
       "      <th>total_bedrooms</th>\n",
       "      <th>total_rooms</th>\n",
       "      <th>&lt;1H OCEAN</th>\n",
       "      <th>INLAND</th>\n",
       "      <th>ISLAND</th>\n",
       "      <th>NEAR BAY</th>\n",
       "      <th>NEAR OCEAN</th>\n",
       "    </tr>\n",
       "  </thead>\n",
       "  <tbody>\n",
       "    <tr>\n",
       "      <th>0</th>\n",
       "      <td>-0.211778</td>\n",
       "      <td>0.322896</td>\n",
       "      <td>0.348480</td>\n",
       "      <td>-1.372770</td>\n",
       "      <td>1.272548</td>\n",
       "      <td>-0.326186</td>\n",
       "      <td>0.768253</td>\n",
       "      <td>0.051375</td>\n",
       "      <td>-0.174911</td>\n",
       "      <td>0.211221</td>\n",
       "      <td>0.222563</td>\n",
       "      <td>0.0</td>\n",
       "      <td>0.0</td>\n",
       "      <td>0.0</td>\n",
       "      <td>0.0</td>\n",
       "      <td>1.0</td>\n",
       "    </tr>\n",
       "    <tr>\n",
       "      <th>1</th>\n",
       "      <td>0.342175</td>\n",
       "      <td>0.672007</td>\n",
       "      <td>1.618069</td>\n",
       "      <td>-0.876669</td>\n",
       "      <td>0.709141</td>\n",
       "      <td>-0.035842</td>\n",
       "      <td>-0.098898</td>\n",
       "      <td>-0.117359</td>\n",
       "      <td>-0.402823</td>\n",
       "      <td>0.593076</td>\n",
       "      <td>0.340283</td>\n",
       "      <td>0.0</td>\n",
       "      <td>0.0</td>\n",
       "      <td>0.0</td>\n",
       "      <td>0.0</td>\n",
       "      <td>1.0</td>\n",
       "    </tr>\n",
       "    <tr>\n",
       "      <th>2</th>\n",
       "      <td>-0.661638</td>\n",
       "      <td>-0.430448</td>\n",
       "      <td>-1.952651</td>\n",
       "      <td>-0.460133</td>\n",
       "      <td>-0.447590</td>\n",
       "      <td>0.144697</td>\n",
       "      <td>-0.449804</td>\n",
       "      <td>-0.032279</td>\n",
       "      <td>0.088213</td>\n",
       "      <td>-0.495211</td>\n",
       "      <td>-0.342587</td>\n",
       "      <td>0.0</td>\n",
       "      <td>0.0</td>\n",
       "      <td>0.0</td>\n",
       "      <td>0.0</td>\n",
       "      <td>1.0</td>\n",
       "    </tr>\n",
       "    <tr>\n",
       "      <th>3</th>\n",
       "      <td>0.783008</td>\n",
       "      <td>-0.380575</td>\n",
       "      <td>0.586528</td>\n",
       "      <td>-1.382130</td>\n",
       "      <td>1.232661</td>\n",
       "      <td>-1.017834</td>\n",
       "      <td>-0.007434</td>\n",
       "      <td>0.077505</td>\n",
       "      <td>-0.599997</td>\n",
       "      <td>-0.409293</td>\n",
       "      <td>-0.561473</td>\n",
       "      <td>0.0</td>\n",
       "      <td>0.0</td>\n",
       "      <td>0.0</td>\n",
       "      <td>0.0</td>\n",
       "      <td>1.0</td>\n",
       "    </tr>\n",
       "    <tr>\n",
       "      <th>4</th>\n",
       "      <td>-0.550347</td>\n",
       "      <td>-0.314953</td>\n",
       "      <td>1.141973</td>\n",
       "      <td>0.532068</td>\n",
       "      <td>-0.108548</td>\n",
       "      <td>-0.171483</td>\n",
       "      <td>-0.485862</td>\n",
       "      <td>-0.068830</td>\n",
       "      <td>0.348997</td>\n",
       "      <td>-0.256551</td>\n",
       "      <td>-0.119562</td>\n",
       "      <td>0.0</td>\n",
       "      <td>1.0</td>\n",
       "      <td>0.0</td>\n",
       "      <td>0.0</td>\n",
       "      <td>0.0</td>\n",
       "    </tr>\n",
       "    <tr>\n",
       "      <th>...</th>\n",
       "      <td>...</td>\n",
       "      <td>...</td>\n",
       "      <td>...</td>\n",
       "      <td>...</td>\n",
       "      <td>...</td>\n",
       "      <td>...</td>\n",
       "      <td>...</td>\n",
       "      <td>...</td>\n",
       "      <td>...</td>\n",
       "      <td>...</td>\n",
       "      <td>...</td>\n",
       "      <td>...</td>\n",
       "      <td>...</td>\n",
       "      <td>...</td>\n",
       "      <td>...</td>\n",
       "      <td>...</td>\n",
       "    </tr>\n",
       "    <tr>\n",
       "      <th>16507</th>\n",
       "      <td>-1.064398</td>\n",
       "      <td>-0.742810</td>\n",
       "      <td>0.507178</td>\n",
       "      <td>-0.871989</td>\n",
       "      <td>0.808859</td>\n",
       "      <td>1.307175</td>\n",
       "      <td>-0.675827</td>\n",
       "      <td>-0.005588</td>\n",
       "      <td>0.290611</td>\n",
       "      <td>-0.805468</td>\n",
       "      <td>-0.603319</td>\n",
       "      <td>1.0</td>\n",
       "      <td>0.0</td>\n",
       "      <td>0.0</td>\n",
       "      <td>0.0</td>\n",
       "      <td>0.0</td>\n",
       "    </tr>\n",
       "    <tr>\n",
       "      <th>16508</th>\n",
       "      <td>-0.483367</td>\n",
       "      <td>-0.133835</td>\n",
       "      <td>0.348480</td>\n",
       "      <td>-0.759665</td>\n",
       "      <td>1.073112</td>\n",
       "      <td>-0.436253</td>\n",
       "      <td>0.287186</td>\n",
       "      <td>0.069720</td>\n",
       "      <td>0.600392</td>\n",
       "      <td>0.075185</td>\n",
       "      <td>0.203249</td>\n",
       "      <td>0.0</td>\n",
       "      <td>1.0</td>\n",
       "      <td>0.0</td>\n",
       "      <td>0.0</td>\n",
       "      <td>0.0</td>\n",
       "    </tr>\n",
       "    <tr>\n",
       "      <th>16509</th>\n",
       "      <td>0.999484</td>\n",
       "      <td>0.070906</td>\n",
       "      <td>0.586528</td>\n",
       "      <td>-0.754985</td>\n",
       "      <td>0.599451</td>\n",
       "      <td>-0.496958</td>\n",
       "      <td>0.289825</td>\n",
       "      <td>0.020305</td>\n",
       "      <td>-0.606741</td>\n",
       "      <td>0.072799</td>\n",
       "      <td>-0.248778</td>\n",
       "      <td>1.0</td>\n",
       "      <td>0.0</td>\n",
       "      <td>0.0</td>\n",
       "      <td>0.0</td>\n",
       "      <td>0.0</td>\n",
       "    </tr>\n",
       "    <tr>\n",
       "      <th>16510</th>\n",
       "      <td>-0.790838</td>\n",
       "      <td>0.154903</td>\n",
       "      <td>-1.079808</td>\n",
       "      <td>0.906483</td>\n",
       "      <td>-1.185504</td>\n",
       "      <td>0.965421</td>\n",
       "      <td>0.308293</td>\n",
       "      <td>0.007076</td>\n",
       "      <td>0.402163</td>\n",
       "      <td>0.139623</td>\n",
       "      <td>0.429033</td>\n",
       "      <td>1.0</td>\n",
       "      <td>0.0</td>\n",
       "      <td>0.0</td>\n",
       "      <td>0.0</td>\n",
       "      <td>0.0</td>\n",
       "    </tr>\n",
       "    <tr>\n",
       "      <th>16511</th>\n",
       "      <td>1.695152</td>\n",
       "      <td>1.947705</td>\n",
       "      <td>1.856117</td>\n",
       "      <td>0.995407</td>\n",
       "      <td>-1.414855</td>\n",
       "      <td>-0.685427</td>\n",
       "      <td>1.048802</td>\n",
       "      <td>-0.085352</td>\n",
       "      <td>-0.851420</td>\n",
       "      <td>1.853198</td>\n",
       "      <td>0.728392</td>\n",
       "      <td>0.0</td>\n",
       "      <td>0.0</td>\n",
       "      <td>0.0</td>\n",
       "      <td>1.0</td>\n",
       "      <td>0.0</td>\n",
       "    </tr>\n",
       "  </tbody>\n",
       "</table>\n",
       "<p>16512 rows × 16 columns</p>\n",
       "</div>"
      ],
      "text/plain": [
       "       bedrooms_per_room  households  housing_median_age  latitude  longitude  \\\n",
       "0              -0.211778    0.322896            0.348480 -1.372770   1.272548   \n",
       "1               0.342175    0.672007            1.618069 -0.876669   0.709141   \n",
       "2              -0.661638   -0.430448           -1.952651 -0.460133  -0.447590   \n",
       "3               0.783008   -0.380575            0.586528 -1.382130   1.232661   \n",
       "4              -0.550347   -0.314953            1.141973  0.532068  -0.108548   \n",
       "...                  ...         ...                 ...       ...        ...   \n",
       "16507          -1.064398   -0.742810            0.507178 -0.871989   0.808859   \n",
       "16508          -0.483367   -0.133835            0.348480 -0.759665   1.073112   \n",
       "16509           0.999484    0.070906            0.586528 -0.754985   0.599451   \n",
       "16510          -0.790838    0.154903           -1.079808  0.906483  -1.185504   \n",
       "16511           1.695152    1.947705            1.856117  0.995407  -1.414855   \n",
       "\n",
       "       median_income  population  population_per_household  \\\n",
       "0          -0.326186    0.768253                  0.051375   \n",
       "1          -0.035842   -0.098898                 -0.117359   \n",
       "2           0.144697   -0.449804                 -0.032279   \n",
       "3          -1.017834   -0.007434                  0.077505   \n",
       "4          -0.171483   -0.485862                 -0.068830   \n",
       "...              ...         ...                       ...   \n",
       "16507       1.307175   -0.675827                 -0.005588   \n",
       "16508      -0.436253    0.287186                  0.069720   \n",
       "16509      -0.496958    0.289825                  0.020305   \n",
       "16510       0.965421    0.308293                  0.007076   \n",
       "16511      -0.685427    1.048802                 -0.085352   \n",
       "\n",
       "       rooms_per_household  total_bedrooms  total_rooms  <1H OCEAN  INLAND  \\\n",
       "0                -0.174911        0.211221     0.222563        0.0     0.0   \n",
       "1                -0.402823        0.593076     0.340283        0.0     0.0   \n",
       "2                 0.088213       -0.495211    -0.342587        0.0     0.0   \n",
       "3                -0.599997       -0.409293    -0.561473        0.0     0.0   \n",
       "4                 0.348997       -0.256551    -0.119562        0.0     1.0   \n",
       "...                    ...             ...          ...        ...     ...   \n",
       "16507             0.290611       -0.805468    -0.603319        1.0     0.0   \n",
       "16508             0.600392        0.075185     0.203249        0.0     1.0   \n",
       "16509            -0.606741        0.072799    -0.248778        1.0     0.0   \n",
       "16510             0.402163        0.139623     0.429033        1.0     0.0   \n",
       "16511            -0.851420        1.853198     0.728392        0.0     0.0   \n",
       "\n",
       "       ISLAND  NEAR BAY  NEAR OCEAN  \n",
       "0         0.0       0.0         1.0  \n",
       "1         0.0       0.0         1.0  \n",
       "2         0.0       0.0         1.0  \n",
       "3         0.0       0.0         1.0  \n",
       "4         0.0       0.0         0.0  \n",
       "...       ...       ...         ...  \n",
       "16507     0.0       0.0         0.0  \n",
       "16508     0.0       0.0         0.0  \n",
       "16509     0.0       0.0         0.0  \n",
       "16510     0.0       0.0         0.0  \n",
       "16511     0.0       1.0         0.0  \n",
       "\n",
       "[16512 rows x 16 columns]"
      ]
     },
     "execution_count": 29,
     "metadata": {},
     "output_type": "execute_result"
    }
   ],
   "source": [
    "X_train = X_train_cleaned.drop(\"ocean_proximity\",axis=1)\n",
    "X_train"
   ]
  },
  {
   "cell_type": "code",
   "execution_count": 40,
   "id": "b983b7c5",
   "metadata": {},
   "outputs": [],
   "source": [
    "some_in_sample_data = X_train.iloc[:5, :]\n",
    "some_in_sample_target_data = Y_train.iloc[:5]"
   ]
  },
  {
   "cell_type": "code",
   "execution_count": 70,
   "id": "f651648f",
   "metadata": {},
   "outputs": [
    {
     "data": {
      "text/plain": [
       "GridSearchCV(estimator=SVR(),\n",
       "             param_grid={'C': [1, 15], 'kernel': ('linear', 'rbf')})"
      ]
     },
     "execution_count": 70,
     "metadata": {},
     "output_type": "execute_result"
    }
   ],
   "source": [
    "from sklearn.svm import SVR\n",
    "from sklearn.model_selection import GridSearchCV\n",
    "parameters = {'kernel':('linear', 'rbf'), 'C':[1, 15]}\n",
    "svr = SVR()\n",
    "clf = GridSearchCV(svr, parameters)\n",
    "clf.fit(X_train, Y_train)\n",
    "GridSearchCV(estimator=SVR(),\n",
    "             param_grid={'C': [1, 15], 'kernel': ('linear', 'rbf')})\n"
   ]
  },
  {
   "cell_type": "code",
   "execution_count": 71,
   "id": "360f68f7",
   "metadata": {},
   "outputs": [
    {
     "data": {
      "text/plain": [
       "{'C': 15, 'kernel': 'linear'}"
      ]
     },
     "execution_count": 71,
     "metadata": {},
     "output_type": "execute_result"
    }
   ],
   "source": [
    "clf.best_params_"
   ]
  },
  {
   "cell_type": "code",
   "execution_count": 72,
   "id": "89bc81ef",
   "metadata": {},
   "outputs": [
    {
     "data": {
      "text/plain": [
       "SVR(C=15, kernel='linear')"
      ]
     },
     "execution_count": 72,
     "metadata": {},
     "output_type": "execute_result"
    }
   ],
   "source": [
    "clf.best_estimator_"
   ]
  },
  {
   "cell_type": "code",
   "execution_count": 73,
   "id": "8e5f6539",
   "metadata": {},
   "outputs": [
    {
     "name": "stdout",
     "output_type": "stream",
     "text": [
      "Predictions: [175503.03606983 218434.42415436 197840.90657375 135666.71225762\n",
      " 154278.39175441]\n",
      "Targets: [103000.0, 382100.0, 172600.0, 93400.0, 96500.0]\n"
     ]
    }
   ],
   "source": [
    "print(\"Predictions: {}\".format(clf.predict(some_in_sample_data)))\n",
    "\n",
    "print(\"Targets: {}\".format(list(some_in_sample_target_data)))"
   ]
  },
  {
   "cell_type": "code",
   "execution_count": 74,
   "id": "19f41042",
   "metadata": {},
   "outputs": [
    {
     "data": {
      "text/plain": [
       "77834.15285782477"
      ]
     },
     "execution_count": 74,
     "metadata": {},
     "output_type": "execute_result"
    }
   ],
   "source": [
    "from sklearn.metrics import mean_squared_error\n",
    "\n",
    "Y_hat_train = clf.predict(X_train)\n",
    "np.sqrt(mean_squared_error(Y_train, Y_hat_train))"
   ]
  },
  {
   "cell_type": "code",
   "execution_count": 88,
   "id": "4f8f1310",
   "metadata": {},
   "outputs": [
    {
     "data": {
      "text/plain": [
       "{'mean_fit_time': array([4.25151296, 5.82705011, 4.03058262, 5.74824619]),\n",
       " 'std_fit_time': array([0.04811101, 0.02721954, 0.03353663, 0.06553589]),\n",
       " 'mean_score_time': array([0.64130168, 2.4931356 , 0.65633821, 2.46918063]),\n",
       " 'std_score_time': array([0.01040601, 0.02195982, 0.01372328, 0.01506033]),\n",
       " 'param_kernel': masked_array(data=['linear', 'rbf', 'linear', 'rbf'],\n",
       "              mask=[False, False, False, False],\n",
       "        fill_value='?',\n",
       "             dtype=object),\n",
       " 'param_C': masked_array(data=[1, 1, 15, 15],\n",
       "              mask=[False, False, False, False],\n",
       "        fill_value='?',\n",
       "             dtype=object),\n",
       " 'params': [{'kernel': 'linear', 'C': 1},\n",
       "  {'kernel': 'rbf', 'C': 1},\n",
       "  {'kernel': 'linear', 'C': 15},\n",
       "  {'kernel': 'rbf', 'C': 15}],\n",
       " 'split0_test_score': array([ 0.04798163, -0.05961412,  0.51162149,  0.00997005]),\n",
       " 'split1_test_score': array([ 0.05517295, -0.05421907,  0.5234206 ,  0.01396942]),\n",
       " 'split2_test_score': array([ 0.05695367, -0.04969352,  0.51718519,  0.01755459]),\n",
       " 'split3_test_score': array([ 0.07076262, -0.03620517,  0.52789157,  0.0326888 ]),\n",
       " 'split4_test_score': array([ 0.05655367, -0.05255217,  0.5196083 ,  0.01630768]),\n",
       " 'mean_test_score': array([ 0.05748491, -0.05045681,  0.51994543,  0.01809811]),\n",
       " 'std_test_score': array([0.0073906 , 0.00782424, 0.00551794, 0.00773952]),\n",
       " 'rank_test_score': array([2, 4, 1, 3])}"
      ]
     },
     "execution_count": 88,
     "metadata": {},
     "output_type": "execute_result"
    }
   ],
   "source": [
    "clf.cv_results_"
   ]
  },
  {
   "cell_type": "markdown",
   "id": "545683bd",
   "metadata": {
    "id": "545683bd"
   },
   "source": [
    "<hr style=\"border: 20px solid black\">"
   ]
  },
  {
   "cell_type": "markdown",
   "id": "0b91daf4",
   "metadata": {
    "id": "0b91daf4"
   },
   "source": [
    "<h1>Describe the Case Study Problem and Solution As If You Were Talking to a Hiring Manager</h1>\n",
    "<br>\n",
    "<font size=\"+1\">\n",
    "    <ul>\n",
    "        <li>As a suggestion:</li>\n",
    "        <br>\n",
    "    <ul>\n",
    "        <li>emphasize insights and takeaways,</li>\n",
    "        <br>\n",
    "        <li>what worked,</li>\n",
    "        <br>\n",
    "        <li>what went wrong, </li>\n",
    "        <br>\n",
    "        <li>why did things go wrong, or your best guess,</li>\n",
    "        <br>\n",
    "        <li>what to do next,</li>\n",
    "        <br>\n",
    "        <li>what are next steps you might wish to investigate?</li>\n",
    "        <br>\n",
    "    </ul>\n",
    "    </ul>\n",
    "</font>"
   ]
  },
  {
   "cell_type": "code",
   "execution_count": null,
   "id": "ad60ad8f",
   "metadata": {
    "id": "ad60ad8f"
   },
   "outputs": [],
   "source": [
    "# when I change the hyperparameter setting, the accuracy and the msr chanege as well. "
   ]
  },
  {
   "cell_type": "code",
   "execution_count": null,
   "id": "3b2e39dd",
   "metadata": {
    "id": "3b2e39dd"
   },
   "outputs": [],
   "source": [
    "# We can tune hyperparamters with grid search to get optimization of the parameters and estimators."
   ]
  },
  {
   "cell_type": "code",
   "execution_count": null,
   "id": "a7246db4",
   "metadata": {
    "id": "a7246db4"
   },
   "outputs": [],
   "source": [
    "# Basically everything work fine. I fix several problems with data cleaning to drop the NAN."
   ]
  },
  {
   "cell_type": "code",
   "execution_count": null,
   "id": "578df481",
   "metadata": {
    "id": "578df481"
   },
   "outputs": [],
   "source": [
    "# I wonder how to set the proper hyperparameters corresponding to different datasets \n",
    "# and how does the variration of hyperparameters lead to variration of optimal parameter values."
   ]
  },
  {
   "cell_type": "code",
   "execution_count": null,
   "id": "c5bf09d1",
   "metadata": {
    "id": "c5bf09d1"
   },
   "outputs": [],
   "source": [
    "# Also I would like to investigate the meaning of hyperparamters and algorityhm behind the SVR."
   ]
  },
  {
   "cell_type": "markdown",
   "id": "97202391",
   "metadata": {
    "id": "97202391"
   },
   "source": [
    "<hr style=\"border: 20px solid black\">"
   ]
  },
  {
   "cell_type": "markdown",
   "id": "085743d1",
   "metadata": {
    "id": "085743d1"
   },
   "source": [
    "<h1 style=\"color:blue\">EXTRA CREDIT: Try replacing <i>GridSearchCV</i> with <i>RandomizedSearchCV</i>. Does this make a difference?</h1>\n",
    "<br>\n",
    "<font size=\"+1\">\n",
    "    <ul>\n",
    "        <li style=\"color:red\">**Warning**: the code may take close to 45 minutes to run, or more depending on your hardware.</li>\n",
    "        <br>\n",
    "        <li style=\"color:red\">Reduce the number of hyperparameters if needed.</li>\n",
    "        <br>\n",
    "    </ul>\n",
    "</font>"
   ]
  },
  {
   "cell_type": "code",
   "execution_count": 83,
   "id": "eba50187",
   "metadata": {
    "id": "eba50187"
   },
   "outputs": [
    {
     "name": "stderr",
     "output_type": "stream",
     "text": [
      "D:\\Anaconda\\lib\\site-packages\\sklearn\\model_selection\\_search.py:285: UserWarning: The total space of parameters 4 is smaller than n_iter=10. Running 4 iterations. For exhaustive searches, use GridSearchCV.\n",
      "  warnings.warn(\n"
     ]
    },
    {
     "data": {
      "text/plain": [
       "RandomizedSearchCV(estimator=RandomizedSearchCV(estimator=SVR(),\n",
       "                                                param_distributions={'C': [1,\n",
       "                                                                           15],\n",
       "                                                                     'kernel': ('linear',\n",
       "                                                                                'rbf')}),\n",
       "                   param_distributions={'C': [1, 15],\n",
       "                                        'kernel': ('linear', 'rbf')},\n",
       "                   random_state=4)"
      ]
     },
     "execution_count": 83,
     "metadata": {},
     "output_type": "execute_result"
    }
   ],
   "source": [
    "from sklearn.svm import SVR\n",
    "from sklearn.model_selection import RandomizedSearchCV\n",
    "parameters = {'kernel':('linear', 'rbf'), 'C':[1, 15]}\n",
    "svr = SVR()\n",
    "clf = RandomizedSearchCV(svr, parameters)\n",
    "clf.fit(X_train, Y_train)\n",
    "RandomizedSearchCV(clf,parameters,random_state=4)"
   ]
  },
  {
   "cell_type": "code",
   "execution_count": 84,
   "id": "0c5942ff",
   "metadata": {
    "id": "0c5942ff"
   },
   "outputs": [
    {
     "data": {
      "text/plain": [
       "{'kernel': 'linear', 'C': 15}"
      ]
     },
     "execution_count": 84,
     "metadata": {},
     "output_type": "execute_result"
    }
   ],
   "source": [
    "clf.best_params_"
   ]
  },
  {
   "cell_type": "code",
   "execution_count": 85,
   "id": "6b54ad1d",
   "metadata": {},
   "outputs": [
    {
     "data": {
      "text/plain": [
       "SVR(C=15, kernel='linear')"
      ]
     },
     "execution_count": 85,
     "metadata": {},
     "output_type": "execute_result"
    }
   ],
   "source": [
    "clf.best_estimator_"
   ]
  },
  {
   "cell_type": "code",
   "execution_count": 86,
   "id": "1bbbd93b",
   "metadata": {},
   "outputs": [
    {
     "name": "stdout",
     "output_type": "stream",
     "text": [
      "Predictions: [175503.03606983 218434.42415436 197840.90657375 135666.71225762\n",
      " 154278.39175441]\n",
      "Targets: [103000.0, 382100.0, 172600.0, 93400.0, 96500.0]\n"
     ]
    }
   ],
   "source": [
    "print(\"Predictions: {}\".format(clf.predict(some_in_sample_data)))\n",
    "\n",
    "print(\"Targets: {}\".format(list(some_in_sample_target_data)))"
   ]
  },
  {
   "cell_type": "code",
   "execution_count": 87,
   "id": "ffe6c810",
   "metadata": {},
   "outputs": [
    {
     "data": {
      "text/plain": [
       "77834.15285782477"
      ]
     },
     "execution_count": 87,
     "metadata": {},
     "output_type": "execute_result"
    }
   ],
   "source": [
    "from sklearn.metrics import mean_squared_error\n",
    "\n",
    "Y_hat_train = clf.predict(X_train)\n",
    "np.sqrt(mean_squared_error(Y_train, Y_hat_train))"
   ]
  },
  {
   "cell_type": "code",
   "execution_count": null,
   "id": "dcce53b5",
   "metadata": {
    "id": "dcce53b5"
   },
   "outputs": [],
   "source": [
    "# random search(with RandomizedSearchCV) is typically benefical compared to grid search(with GridSearchCV) to optimize 3 or more hyperparameters"
   ]
  },
  {
   "cell_type": "code",
   "execution_count": null,
   "id": "2c41171e",
   "metadata": {
    "id": "2c41171e"
   },
   "outputs": [],
   "source": [
    "# The key difference from grid search is in random search, not all of the values are tested and values tested are selected at random."
   ]
  },
  {
   "cell_type": "code",
   "execution_count": 89,
   "id": "c492a925",
   "metadata": {
    "id": "c492a925"
   },
   "outputs": [
    {
     "data": {
      "text/plain": [
       "{'mean_fit_time': array([4.25151296, 5.82705011, 4.03058262, 5.74824619]),\n",
       " 'std_fit_time': array([0.04811101, 0.02721954, 0.03353663, 0.06553589]),\n",
       " 'mean_score_time': array([0.64130168, 2.4931356 , 0.65633821, 2.46918063]),\n",
       " 'std_score_time': array([0.01040601, 0.02195982, 0.01372328, 0.01506033]),\n",
       " 'param_kernel': masked_array(data=['linear', 'rbf', 'linear', 'rbf'],\n",
       "              mask=[False, False, False, False],\n",
       "        fill_value='?',\n",
       "             dtype=object),\n",
       " 'param_C': masked_array(data=[1, 1, 15, 15],\n",
       "              mask=[False, False, False, False],\n",
       "        fill_value='?',\n",
       "             dtype=object),\n",
       " 'params': [{'kernel': 'linear', 'C': 1},\n",
       "  {'kernel': 'rbf', 'C': 1},\n",
       "  {'kernel': 'linear', 'C': 15},\n",
       "  {'kernel': 'rbf', 'C': 15}],\n",
       " 'split0_test_score': array([ 0.04798163, -0.05961412,  0.51162149,  0.00997005]),\n",
       " 'split1_test_score': array([ 0.05517295, -0.05421907,  0.5234206 ,  0.01396942]),\n",
       " 'split2_test_score': array([ 0.05695367, -0.04969352,  0.51718519,  0.01755459]),\n",
       " 'split3_test_score': array([ 0.07076262, -0.03620517,  0.52789157,  0.0326888 ]),\n",
       " 'split4_test_score': array([ 0.05655367, -0.05255217,  0.5196083 ,  0.01630768]),\n",
       " 'mean_test_score': array([ 0.05748491, -0.05045681,  0.51994543,  0.01809811]),\n",
       " 'std_test_score': array([0.0073906 , 0.00782424, 0.00551794, 0.00773952]),\n",
       " 'rank_test_score': array([2, 4, 1, 3])}"
      ]
     },
     "execution_count": 89,
     "metadata": {},
     "output_type": "execute_result"
    }
   ],
   "source": [
    "clf.cv_results_"
   ]
  },
  {
   "cell_type": "code",
   "execution_count": null,
   "id": "ef1f84ca",
   "metadata": {
    "id": "ef1f84ca"
   },
   "outputs": [],
   "source": [
    "# The result with RandomizedSearchCV is pretty much the same with GridSearchCV"
   ]
  },
  {
   "cell_type": "code",
   "execution_count": 96,
   "id": "a1fe9fa8",
   "metadata": {
    "id": "a1fe9fa8"
   },
   "outputs": [
    {
     "name": "stdout",
     "output_type": "stream",
     "text": [
      "Feature: 0, Score: 19237901.97267\n",
      "Feature: 1, Score: 105531856.74587\n",
      "Feature: 2, Score: 250693842.87056\n",
      "Feature: 3, Score: 481478177.23214\n",
      "Feature: 4, Score: 509381532.62460\n",
      "Feature: 5, Score: 8401375304.32696\n",
      "Feature: 6, Score: 378724193.49902\n",
      "Feature: 7, Score: 5867416.12148\n",
      "Feature: 8, Score: 33791596.60353\n",
      "Feature: 9, Score: 60271076.53384\n",
      "Feature: 10, Score: 59611769.02213\n",
      "Feature: 11, Score: 180920106.55225\n",
      "Feature: 12, Score: 852816337.52965\n",
      "Feature: 13, Score: 5751.42917\n",
      "Feature: 14, Score: 41203589.29230\n",
      "Feature: 15, Score: 65198247.44728\n"
     ]
    },
    {
     "data": {
      "image/png": "[encoded data removed]",
      "text/plain": [
       "<Figure size 432x288 with 1 Axes>"
      ]
     },
     "metadata": {},
     "output_type": "display_data"
    }
   ],
   "source": [
    "from sklearn.inspection import permutation_importance\n",
    "from matplotlib import pyplot\n",
    "results = permutation_importance(clf,X_train,Y_train,scoring=\"neg_mean_squared_error\")\n",
    "importance = results.importances_mean\n",
    "for i,v in enumerate(importance):\n",
    "    print('Feature: %0d, Score: %.5f' % (i,v))\n",
    "# plot feature importance\n",
    "pyplot.bar([x for x in range(len(importance))], importance)\n",
    "pyplot.show()"
   ]
  },
  {
   "cell_type": "code",
   "execution_count": null,
   "id": "699a04b0",
   "metadata": {
    "id": "699a04b0"
   },
   "outputs": [],
   "source": []
  },
  {
   "cell_type": "code",
   "execution_count": null,
   "id": "9c8bffbe",
   "metadata": {
    "id": "9c8bffbe"
   },
   "outputs": [],
   "source": []
  },
  {
   "cell_type": "markdown",
   "id": "6d6d1261",
   "metadata": {
    "id": "6d6d1261"
   },
   "source": [
    "<hr style=\"border: 20px solid black\">"
   ]
  },
  {
   "cell_type": "markdown",
   "id": "92846120",
   "metadata": {
    "id": "92846120"
   },
   "source": [
    "<h1 style=\"color:blue\">EXTRA CREDIT: Add a step before you fit your model to select only the most important predictor variables.</h1>\n",
    "<br>\n",
    "<font size=\"+1\">\n",
    "    <ul>\n",
    "        <li>This question is meant to be open ended. </li>\n",
    "        <br>\n",
    "        <li>You decide, and justify, how you are choosing which variables are important.</li>\n",
    "        <br>\n",
    "    </ul>\n",
    "</font>"
   ]
  },
  {
   "cell_type": "code",
   "execution_count": null,
   "id": "eb7010b8",
   "metadata": {
    "id": "eb7010b8"
   },
   "outputs": [],
   "source": [
    "# According to the feature importance plot, the most important predictor varaible is feature 5"
   ]
  },
  {
   "cell_type": "code",
   "execution_count": 97,
   "id": "e779ca84",
   "metadata": {
    "id": "e779ca84"
   },
   "outputs": [
    {
     "data": {
      "text/plain": [
       "Index(['bedrooms_per_room', 'households', 'housing_median_age', 'latitude',\n",
       "       'longitude', 'median_income', 'population', 'population_per_household',\n",
       "       'rooms_per_household', 'total_bedrooms', 'total_rooms', '<1H OCEAN',\n",
       "       'INLAND', 'ISLAND', 'NEAR BAY', 'NEAR OCEAN'],\n",
       "      dtype='object')"
      ]
     },
     "execution_count": 97,
     "metadata": {},
     "output_type": "execute_result"
    }
   ],
   "source": [
    "# The most important variables are feature 3,4,5,6,12\n",
    "X_train.columns"
   ]
  },
  {
   "cell_type": "code",
   "execution_count": 105,
   "id": "edf77837",
   "metadata": {
    "id": "edf77837"
   },
   "outputs": [],
   "source": [
    "X_train.drop(columns=['bedrooms_per_room', 'households', 'population', 'population_per_household',\n",
    "       'rooms_per_household', 'total_bedrooms', 'total_rooms',\n",
    "       'INLAND', 'ISLAND', 'NEAR BAY', 'NEAR OCEAN'],inplace=True)"
   ]
  },
  {
   "cell_type": "code",
   "execution_count": 106,
   "id": "4179cd88",
   "metadata": {
    "id": "4179cd88"
   },
   "outputs": [
    {
     "data": {
      "text/plain": [
       "GridSearchCV(estimator=SVR(),\n",
       "             param_grid={'C': [1, 15], 'kernel': ('linear', 'rbf')})"
      ]
     },
     "execution_count": 106,
     "metadata": {},
     "output_type": "execute_result"
    }
   ],
   "source": [
    "from sklearn.svm import SVR\n",
    "from sklearn.model_selection import GridSearchCV\n",
    "parameters = {'kernel':('linear', 'rbf'), 'C':[1, 15]}\n",
    "svr = SVR()\n",
    "clf = GridSearchCV(svr, parameters)\n",
    "clf.fit(X_train, Y_train)\n",
    "GridSearchCV(estimator=SVR(),\n",
    "             param_grid={'C': [1, 15], 'kernel': ('linear', 'rbf')})"
   ]
  },
  {
   "cell_type": "code",
   "execution_count": 107,
   "id": "22352800",
   "metadata": {
    "id": "22352800"
   },
   "outputs": [
    {
     "data": {
      "text/plain": [
       "{'C': 15, 'kernel': 'linear'}"
      ]
     },
     "execution_count": 107,
     "metadata": {},
     "output_type": "execute_result"
    }
   ],
   "source": [
    "clf.best_params_"
   ]
  },
  {
   "cell_type": "code",
   "execution_count": 108,
   "id": "c4f74f5a",
   "metadata": {
    "id": "c4f74f5a"
   },
   "outputs": [
    {
     "data": {
      "text/plain": [
       "SVR(C=15, kernel='linear')"
      ]
     },
     "execution_count": 108,
     "metadata": {},
     "output_type": "execute_result"
    }
   ],
   "source": [
    "clf.best_estimator_"
   ]
  },
  {
   "cell_type": "code",
   "execution_count": 109,
   "id": "97d18204",
   "metadata": {
    "id": "97d18204"
   },
   "outputs": [
    {
     "data": {
      "text/plain": [
       "83271.76352903615"
      ]
     },
     "execution_count": 109,
     "metadata": {},
     "output_type": "execute_result"
    }
   ],
   "source": [
    "from sklearn.metrics import mean_squared_error\n",
    "\n",
    "Y_hat_train = clf.predict(X_train)\n",
    "np.sqrt(mean_squared_error(Y_train, Y_hat_train))"
   ]
  },
  {
   "cell_type": "code",
   "execution_count": 110,
   "id": "61e08d23",
   "metadata": {
    "id": "61e08d23"
   },
   "outputs": [
    {
     "data": {
      "text/plain": [
       "{'mean_fit_time': array([4.37979522, 5.9874012 , 4.17690649, 6.01080503]),\n",
       " 'std_fit_time': array([0.02460593, 0.02781068, 0.05110975, 0.02660406]),\n",
       " 'mean_score_time': array([0.62110853, 2.30067892, 0.62123809, 2.31779294]),\n",
       " 'std_score_time': array([0.00895903, 0.01589329, 0.00532142, 0.02447116]),\n",
       " 'param_C': masked_array(data=[1, 1, 15, 15],\n",
       "              mask=[False, False, False, False],\n",
       "        fill_value='?',\n",
       "             dtype=object),\n",
       " 'param_kernel': masked_array(data=['linear', 'rbf', 'linear', 'rbf'],\n",
       "              mask=[False, False, False, False],\n",
       "        fill_value='?',\n",
       "             dtype=object),\n",
       " 'params': [{'C': 1, 'kernel': 'linear'},\n",
       "  {'C': 1, 'kernel': 'rbf'},\n",
       "  {'C': 15, 'kernel': 'linear'},\n",
       "  {'C': 15, 'kernel': 'rbf'}],\n",
       " 'split0_test_score': array([ 0.02211723, -0.05882509,  0.45095753,  0.01498512]),\n",
       " 'split1_test_score': array([ 0.02919035, -0.05321977,  0.46272649,  0.02316404]),\n",
       " 'split2_test_score': array([ 0.03294953, -0.04907341,  0.45696161,  0.0244806 ]),\n",
       " 'split3_test_score': array([ 0.04532875, -0.03565604,  0.46334377,  0.0396798 ]),\n",
       " 'split4_test_score': array([ 0.03112794, -0.05169343,  0.4619006 ,  0.02248217]),\n",
       " 'mean_test_score': array([ 0.03214276, -0.04969355,  0.459178  ,  0.02495834]),\n",
       " 'std_test_score': array([0.00754691, 0.00771044, 0.00468714, 0.00807175]),\n",
       " 'rank_test_score': array([2, 4, 1, 3])}"
      ]
     },
     "execution_count": 110,
     "metadata": {},
     "output_type": "execute_result"
    }
   ],
   "source": [
    "clf.cv_results_"
   ]
  },
  {
   "cell_type": "code",
   "execution_count": 111,
   "id": "d247e226",
   "metadata": {},
   "outputs": [
    {
     "name": "stdout",
     "output_type": "stream",
     "text": [
      "Feature: 0, Score: 269880737.37739\n",
      "Feature: 1, Score: 839150839.79213\n",
      "Feature: 2, Score: 784978958.83879\n",
      "Feature: 3, Score: 9174562377.82753\n",
      "Feature: 4, Score: 301931984.51151\n"
     ]
    },
    {
     "data": {
      "image/png": "[encoded data removed]",
      "text/plain": [
       "<Figure size 432x288 with 1 Axes>"
      ]
     },
     "metadata": {},
     "output_type": "display_data"
    }
   ],
   "source": [
    "from sklearn.inspection import permutation_importance\n",
    "from matplotlib import pyplot\n",
    "results = permutation_importance(clf,X_train,Y_train,scoring=\"neg_mean_squared_error\")\n",
    "importance = results.importances_mean\n",
    "for i,v in enumerate(importance):\n",
    "    print('Feature: %0d, Score: %.5f' % (i,v))\n",
    "# plot feature importance\n",
    "pyplot.bar([x for x in range(len(importance))], importance)\n",
    "pyplot.show()"
   ]
  },
  {
   "cell_type": "code",
   "execution_count": null,
   "id": "a9a0c65b",
   "metadata": {},
   "outputs": [],
   "source": []
  }
 ],
 "metadata": {
  "colab": {
   "provenance": []
  },
  "hide_input": false,
  "kernelspec": {
   "display_name": "Python 3 (ipykernel)",
   "language": "python",
   "name": "python3"
  },
  "language_info": {
   "codemirror_mode": {
    "name": "ipython",
    "version": 3
   },
   "file_extension": ".py",
   "mimetype": "text/x-python",
   "name": "python",
   "nbconvert_exporter": "python",
   "pygments_lexer": "ipython3",
   "version": "3.9.7"
  },
  "toc": {
   "base_numbering": 1,
   "nav_menu": {},
   "number_sections": true,
   "sideBar": true,
   "skip_h1_title": false,
   "title_cell": "Table of Contents",
   "title_sidebar": "Contents",
   "toc_cell": true,
   "toc_position": {
    "height": "calc(100% - 180px)",
    "left": "10px",
    "top": "150px",
    "width": "165px"
   },
   "toc_section_display": true,
   "toc_window_display": true
  }
 },
 "nbformat": 4,
 "nbformat_minor": 5
}
